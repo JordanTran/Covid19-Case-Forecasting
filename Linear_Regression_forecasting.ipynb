{
 "cells": [
  {
   "cell_type": "markdown",
   "source": "# Linear Regression Model\n\nWe decided to use linear regression to forecast our covid-19 data since it is easy to implement and interpret.",
   "metadata": {
    "tags": [],
    "cell_id": "00000-8fcf7270-91b3-487b-ae40-36fd624c7ce5",
    "deepnote_cell_type": "markdown"
   }
  },
  {
   "cell_type": "code",
   "source": "! pip install statsmodels",
   "metadata": {
    "tags": [],
    "cell_id": "00001-6b52a8c7-9b8f-4e6f-8153-146f9b61751c",
    "deepnote_to_be_reexecuted": false,
    "source_hash": "5a818892",
    "execution_start": 1638732831553,
    "execution_millis": 38689,
    "deepnote_cell_type": "code"
   },
   "outputs": [
    {
     "name": "stdout",
     "text": "Collecting statsmodels\n  Downloading statsmodels-0.13.1-cp37-cp37m-manylinux_2_17_x86_64.manylinux2014_x86_64.whl (9.8 MB)\n\u001b[K     |████████████████████████████████| 9.8 MB 124 kB/s \n\u001b[?25hRequirement already satisfied: scipy>=1.3 in /shared-libs/python3.7/py/lib/python3.7/site-packages (from statsmodels) (1.7.2)\nCollecting patsy>=0.5.2\n  Downloading patsy-0.5.2-py2.py3-none-any.whl (233 kB)\n\u001b[K     |████████████████████████████████| 233 kB 48.8 MB/s \n\u001b[?25hRequirement already satisfied: numpy>=1.17 in /shared-libs/python3.7/py/lib/python3.7/site-packages (from statsmodels) (1.19.5)\nRequirement already satisfied: pandas>=0.25 in /shared-libs/python3.7/py/lib/python3.7/site-packages (from statsmodels) (1.2.5)\nRequirement already satisfied: six in /shared-libs/python3.7/py-core/lib/python3.7/site-packages (from patsy>=0.5.2->statsmodels) (1.16.0)\nRequirement already satisfied: python-dateutil>=2.7.3 in /shared-libs/python3.7/py-core/lib/python3.7/site-packages (from pandas>=0.25->statsmodels) (2.8.2)\nRequirement already satisfied: pytz>=2017.3 in /shared-libs/python3.7/py/lib/python3.7/site-packages (from pandas>=0.25->statsmodels) (2021.3)\nInstalling collected packages: patsy, statsmodels\nSuccessfully installed patsy-0.5.2 statsmodels-0.13.1\n\u001b[33mWARNING: You are using pip version 20.1.1; however, version 21.3.1 is available.\nYou should consider upgrading via the '/root/venv/bin/python -m pip install --upgrade pip' command.\u001b[0m\n",
     "output_type": "stream"
    }
   ],
   "execution_count": null
  },
  {
   "cell_type": "code",
   "metadata": {
    "tags": [],
    "cell_id": "00000-181e136d-5c2f-4301-a17f-1174dde0d756",
    "deepnote_to_be_reexecuted": false,
    "source_hash": "61c2d181",
    "execution_start": 1638732877255,
    "execution_millis": 6667,
    "deepnote_cell_type": "code"
   },
   "source": "# import all the packages at the top of the notebook\nimport sklearn\nimport pandas as pd\nfrom sklearn.linear_model import LinearRegression\nfrom sklearn.model_selection import TimeSeriesSplit\nfrom sklearn.model_selection import cross_validate\nfrom sklearn.metrics import mean_squared_error, r2_score\nimport math\nimport matplotlib.pyplot as plt\nfrom matplotlib.pyplot import figure\nimport numpy as np\nfrom sklearn.preprocessing import StandardScaler\nimport statsmodels\nfrom statsmodels.api import OLS\nfrom sklearn.model_selection import cross_val_score",
   "outputs": [],
   "execution_count": null
  },
  {
   "cell_type": "markdown",
   "source": "# Fit Linear Regression on Complete Data\nWe are starting by going through the imputed full dataframe to include all of our features to see how well our model performs.",
   "metadata": {
    "tags": [],
    "cell_id": "00002-de972452-6400-463a-8008-6dac8b0f8957",
    "deepnote_cell_type": "markdown"
   }
  },
  {
   "cell_type": "code",
   "source": "pd.read_csv('imputed_clean_good_full_df_all_features.csv').sort_values('time_value')",
   "metadata": {
    "tags": [],
    "cell_id": "00006-9e260a12-45fd-4936-9f70-b90b229b142f",
    "deepnote_to_be_reexecuted": false,
    "source_hash": "4a49c121",
    "execution_start": 1638732886756,
    "execution_millis": 869,
    "deepnote_cell_type": "code"
   },
   "outputs": [
    {
     "output_type": "execute_result",
     "execution_count": 3,
     "data": {
      "application/vnd.deepnote.dataframe.v2+json": {
       "row_count": 5321,
       "column_count": 22,
       "columns": [
        {
         "name": "Unnamed: 0",
         "dtype": "int64",
         "stats": {
          "unique_count": 5321,
          "nan_count": 0,
          "min": "0",
          "max": "5522",
          "histogram": [
           {
            "bin_start": 0,
            "bin_end": 552.2,
            "count": 541
           },
           {
            "bin_start": 552.2,
            "bin_end": 1104.4,
            "count": 528
           },
           {
            "bin_start": 1104.4,
            "bin_end": 1656.6000000000001,
            "count": 525
           },
           {
            "bin_start": 1656.6000000000001,
            "bin_end": 2208.8,
            "count": 547
           },
           {
            "bin_start": 2208.8,
            "bin_end": 2761,
            "count": 543
           },
           {
            "bin_start": 2761,
            "bin_end": 3313.2000000000003,
            "count": 540
           },
           {
            "bin_start": 3313.2000000000003,
            "bin_end": 3865.4000000000005,
            "count": 550
           },
           {
            "bin_start": 3865.4000000000005,
            "bin_end": 4417.6,
            "count": 528
           },
           {
            "bin_start": 4417.6,
            "bin_end": 4969.8,
            "count": 505
           },
           {
            "bin_start": 4969.8,
            "bin_end": 5522,
            "count": 514
           }
          ]
         }
        },
        {
         "name": "geo_value",
         "dtype": "int64",
         "stats": {
          "unique_count": 14,
          "nan_count": 0,
          "min": "1",
          "max": "14",
          "histogram": [
           {
            "bin_start": 1,
            "bin_end": 2.3,
            "count": 655
           },
           {
            "bin_start": 2.3,
            "bin_end": 3.6,
            "count": 385
           },
           {
            "bin_start": 3.6,
            "bin_end": 4.9,
            "count": 299
           },
           {
            "bin_start": 4.9,
            "bin_end": 6.2,
            "count": 723
           },
           {
            "bin_start": 6.2,
            "bin_end": 7.5,
            "count": 319
           },
           {
            "bin_start": 7.5,
            "bin_end": 8.8,
            "count": 416
           },
           {
            "bin_start": 8.8,
            "bin_end": 10.1,
            "count": 843
           },
           {
            "bin_start": 10.1,
            "bin_end": 11.4,
            "count": 423
           },
           {
            "bin_start": 11.4,
            "bin_end": 12.700000000000001,
            "count": 417
           },
           {
            "bin_start": 12.700000000000001,
            "bin_end": 14,
            "count": 841
           }
          ]
         }
        },
        {
         "name": "time_value",
         "dtype": "object",
         "stats": {
          "unique_count": 423,
          "nan_count": 0,
          "categories": [
           {
            "name": "2020-06-26",
            "count": 14
           },
           {
            "name": "2020-06-27",
            "count": 14
           },
           {
            "name": "421 others",
            "count": 5293
           }
          ]
         }
        },
        {
         "name": "covid_cases",
         "dtype": "float64",
         "stats": {
          "unique_count": 4666,
          "nan_count": 0,
          "min": "0.0",
          "max": "1105979.0",
          "histogram": [
           {
            "bin_start": 0,
            "bin_end": 110597.9,
            "count": 4525
           },
           {
            "bin_start": 110597.9,
            "bin_end": 221195.8,
            "count": 197
           },
           {
            "bin_start": 221195.8,
            "bin_end": 331793.69999999995,
            "count": 442
           },
           {
            "bin_start": 331793.69999999995,
            "bin_end": 442391.6,
            "count": 23
           },
           {
            "bin_start": 442391.6,
            "bin_end": 552989.5,
            "count": 10
           },
           {
            "bin_start": 552989.5,
            "bin_end": 663587.3999999999,
            "count": 7
           },
           {
            "bin_start": 663587.3999999999,
            "bin_end": 774185.2999999999,
            "count": 12
           },
           {
            "bin_start": 774185.2999999999,
            "bin_end": 884783.2,
            "count": 7
           },
           {
            "bin_start": 884783.2,
            "bin_end": 995381.1,
            "count": 12
           },
           {
            "bin_start": 995381.1,
            "bin_end": 1105979,
            "count": 86
           }
          ]
         }
        },
        {
         "name": "confirmed_covid_visit",
         "dtype": "float64",
         "stats": {
          "unique_count": 5304,
          "nan_count": 0,
          "min": "0.00192",
          "max": "5.211112",
          "histogram": [
           {
            "bin_start": 0.00192,
            "bin_end": 0.5228392000000001,
            "count": 3213
           },
           {
            "bin_start": 0.5228392000000001,
            "bin_end": 1.0437584,
            "count": 1004
           },
           {
            "bin_start": 1.0437584,
            "bin_end": 1.5646776,
            "count": 397
           },
           {
            "bin_start": 1.5646776,
            "bin_end": 2.0855968000000003,
            "count": 323
           },
           {
            "bin_start": 2.0855968000000003,
            "bin_end": 2.606516,
            "count": 201
           },
           {
            "bin_start": 2.606516,
            "bin_end": 3.1274352000000003,
            "count": 88
           },
           {
            "bin_start": 3.1274352000000003,
            "bin_end": 3.6483544000000006,
            "count": 45
           },
           {
            "bin_start": 3.6483544000000006,
            "bin_end": 4.1692736,
            "count": 32
           },
           {
            "bin_start": 4.1692736,
            "bin_end": 4.6901928,
            "count": 12
           },
           {
            "bin_start": 4.6901928,
            "bin_end": 5.211112,
            "count": 6
           }
          ]
         }
        },
        {
         "name": "doctor_visits",
         "dtype": "float64",
         "stats": {
          "unique_count": 5215,
          "nan_count": 0,
          "min": "0.0",
          "max": "47.18352",
          "histogram": [
           {
            "bin_start": 0,
            "bin_end": 4.718352,
            "count": 2569
           },
           {
            "bin_start": 4.718352,
            "bin_end": 9.436704,
            "count": 1704
           },
           {
            "bin_start": 9.436704,
            "bin_end": 14.155056000000002,
            "count": 531
           },
           {
            "bin_start": 14.155056000000002,
            "bin_end": 18.873408,
            "count": 268
           },
           {
            "bin_start": 18.873408,
            "bin_end": 23.59176,
            "count": 145
           },
           {
            "bin_start": 23.59176,
            "bin_end": 28.310112000000004,
            "count": 57
           },
           {
            "bin_start": 28.310112000000004,
            "bin_end": 33.028464,
            "count": 23
           },
           {
            "bin_start": 33.028464,
            "bin_end": 37.746816,
            "count": 16
           },
           {
            "bin_start": 37.746816,
            "bin_end": 42.465168000000006,
            "count": 5
           },
           {
            "bin_start": 42.465168000000006,
            "bin_end": 47.18352,
            "count": 3
           }
          ]
         }
        },
        {
         "name": "hospital_admissions",
         "dtype": "float64",
         "stats": {
          "unique_count": 5312,
          "nan_count": 0,
          "min": "0.077083",
          "max": "31.666872",
          "histogram": [
           {
            "bin_start": 0.077083,
            "bin_end": 3.2360619,
            "count": 2754
           },
           {
            "bin_start": 3.2360619,
            "bin_end": 6.3950408,
            "count": 1260
           },
           {
            "bin_start": 6.3950408,
            "bin_end": 9.5540197,
            "count": 580
           },
           {
            "bin_start": 9.5540197,
            "bin_end": 12.7129986,
            "count": 311
           },
           {
            "bin_start": 12.7129986,
            "bin_end": 15.871977500000002,
            "count": 148
           },
           {
            "bin_start": 15.871977500000002,
            "bin_end": 19.030956399999997,
            "count": 100
           },
           {
            "bin_start": 19.030956399999997,
            "bin_end": 22.1899353,
            "count": 89
           },
           {
            "bin_start": 22.1899353,
            "bin_end": 25.3489142,
            "count": 57
           },
           {
            "bin_start": 25.3489142,
            "bin_end": 28.5078931,
            "count": 16
           },
           {
            "bin_start": 28.5078931,
            "bin_end": 31.666872,
            "count": 6
           }
          ]
         }
        },
        {
         "name": "google_anosmia_volume",
         "dtype": "float64",
         "stats": {
          "unique_count": 114,
          "nan_count": 0,
          "min": "0.04",
          "max": "2.86",
          "histogram": [
           {
            "bin_start": 0.04,
            "bin_end": 0.32199999999999995,
            "count": 4545
           },
           {
            "bin_start": 0.32199999999999995,
            "bin_end": 0.604,
            "count": 573
           },
           {
            "bin_start": 0.604,
            "bin_end": 0.8859999999999999,
            "count": 143
           },
           {
            "bin_start": 0.8859999999999999,
            "bin_end": 1.168,
            "count": 48
           },
           {
            "bin_start": 1.168,
            "bin_end": 1.45,
            "count": 4
           },
           {
            "bin_start": 1.45,
            "bin_end": 1.7319999999999998,
            "count": 2
           },
           {
            "bin_start": 1.7319999999999998,
            "bin_end": 2.014,
            "count": 4
           },
           {
            "bin_start": 2.014,
            "bin_end": 2.296,
            "count": 1
           },
           {
            "bin_start": 2.296,
            "bin_end": 2.578,
            "count": 0
           },
           {
            "bin_start": 2.578,
            "bin_end": 2.86,
            "count": 1
           }
          ]
         }
        },
        {
         "name": "google_ageusia_volume",
         "dtype": "float64",
         "stats": {
          "unique_count": 100,
          "nan_count": 0,
          "min": "0.03",
          "max": "1.1",
          "histogram": [
           {
            "bin_start": 0.03,
            "bin_end": 0.137,
            "count": 3183
           },
           {
            "bin_start": 0.137,
            "bin_end": 0.24400000000000002,
            "count": 1283
           },
           {
            "bin_start": 0.24400000000000002,
            "bin_end": 0.3510000000000001,
            "count": 385
           },
           {
            "bin_start": 0.3510000000000001,
            "bin_end": 0.4580000000000001,
            "count": 189
           },
           {
            "bin_start": 0.4580000000000001,
            "bin_end": 0.5650000000000001,
            "count": 118
           },
           {
            "bin_start": 0.5650000000000001,
            "bin_end": 0.6720000000000002,
            "count": 85
           },
           {
            "bin_start": 0.6720000000000002,
            "bin_end": 0.7790000000000001,
            "count": 34
           },
           {
            "bin_start": 0.7790000000000001,
            "bin_end": 0.8860000000000001,
            "count": 12
           },
           {
            "bin_start": 0.8860000000000001,
            "bin_end": 0.9930000000000001,
            "count": 24
           },
           {
            "bin_start": 0.9930000000000001,
            "bin_end": 1.1,
            "count": 8
           }
          ]
         }
        },
        {
         "name": "covid_deaths",
         "dtype": "float64",
         "stats": {
          "unique_count": 1990,
          "nan_count": 0,
          "min": "0.0",
          "max": "23635.0",
          "histogram": [
           {
            "bin_start": 0,
            "bin_end": 2363.5,
            "count": 4653
           },
           {
            "bin_start": 2363.5,
            "bin_end": 4727,
            "count": 390
           },
           {
            "bin_start": 4727,
            "bin_end": 7090.5,
            "count": 111
           },
           {
            "bin_start": 7090.5,
            "bin_end": 9454,
            "count": 54
           },
           {
            "bin_start": 9454,
            "bin_end": 11817.5,
            "count": 12
           },
           {
            "bin_start": 11817.5,
            "bin_end": 14181,
            "count": 12
           },
           {
            "bin_start": 14181,
            "bin_end": 16544.5,
            "count": 10
           },
           {
            "bin_start": 16544.5,
            "bin_end": 18908,
            "count": 14
           },
           {
            "bin_start": 18908,
            "bin_end": 21271.5,
            "count": 14
           },
           {
            "bin_start": 21271.5,
            "bin_end": 23635,
            "count": 51
           }
          ]
         }
        },
        {
         "name": "home_time",
         "dtype": "float64",
         "stats": {
          "unique_count": 5296,
          "nan_count": 0,
          "min": "280.80172413793105",
          "max": "1225.7644151565073",
          "histogram": [
           {
            "bin_start": 280.80172413793105,
            "bin_end": 375.29799323978864,
            "count": 20
           },
           {
            "bin_start": 375.29799323978864,
            "bin_end": 469.7942623416463,
            "count": 1
           },
           {
            "bin_start": 469.7942623416463,
            "bin_end": 564.2905314435039,
            "count": 25
           },
           {
            "bin_start": 564.2905314435039,
            "bin_end": 658.7868005453615,
            "count": 190
           },
           {
            "bin_start": 658.7868005453615,
            "bin_end": 753.2830696472191,
            "count": 1191
           },
           {
            "bin_start": 753.2830696472191,
            "bin_end": 847.7793387490768,
            "count": 2221
           },
           {
            "bin_start": 847.7793387490768,
            "bin_end": 942.2756078509344,
            "count": 1128
           },
           {
            "bin_start": 942.2756078509344,
            "bin_end": 1036.771876952792,
            "count": 343
           },
           {
            "bin_start": 1036.771876952792,
            "bin_end": 1131.2681460546496,
            "count": 155
           },
           {
            "bin_start": 1131.2681460546496,
            "bin_end": 1225.7644151565073,
            "count": 47
           }
          ]
         }
        },
        {
         "name": "geo_value_t_minus_1",
         "dtype": "int64",
         "stats": {
          "unique_count": 14,
          "nan_count": 0,
          "min": "1",
          "max": "14",
          "histogram": [
           {
            "bin_start": 1,
            "bin_end": 2.3,
            "count": 655
           },
           {
            "bin_start": 2.3,
            "bin_end": 3.6,
            "count": 385
           },
           {
            "bin_start": 3.6,
            "bin_end": 4.9,
            "count": 299
           },
           {
            "bin_start": 4.9,
            "bin_end": 6.2,
            "count": 723
           },
           {
            "bin_start": 6.2,
            "bin_end": 7.5,
            "count": 319
           },
           {
            "bin_start": 7.5,
            "bin_end": 8.8,
            "count": 416
           },
           {
            "bin_start": 8.8,
            "bin_end": 10.1,
            "count": 843
           },
           {
            "bin_start": 10.1,
            "bin_end": 11.4,
            "count": 423
           },
           {
            "bin_start": 11.4,
            "bin_end": 12.700000000000001,
            "count": 417
           },
           {
            "bin_start": 12.700000000000001,
            "bin_end": 14,
            "count": 841
           }
          ]
         }
        },
        {
         "name": "time_value_t_minus_1",
         "dtype": "object",
         "stats": {
          "unique_count": 423,
          "nan_count": 0,
          "categories": [
           {
            "name": "2020-06-25",
            "count": 14
           },
           {
            "name": "2020-06-26",
            "count": 14
           },
           {
            "name": "421 others",
            "count": 5293
           }
          ]
         }
        },
        {
         "name": "covid_cases_t_minus_1",
         "dtype": "float64",
         "stats": {
          "unique_count": 4657,
          "nan_count": 0,
          "min": "0.0",
          "max": "1105681.0",
          "histogram": [
           {
            "bin_start": 0,
            "bin_end": 110568.1,
            "count": 4530
           },
           {
            "bin_start": 110568.1,
            "bin_end": 221136.2,
            "count": 197
           },
           {
            "bin_start": 221136.2,
            "bin_end": 331704.30000000005,
            "count": 438
           },
           {
            "bin_start": 331704.30000000005,
            "bin_end": 442272.4,
            "count": 23
           },
           {
            "bin_start": 442272.4,
            "bin_end": 552840.5,
            "count": 10
           },
           {
            "bin_start": 552840.5,
            "bin_end": 663408.6000000001,
            "count": 7
           },
           {
            "bin_start": 663408.6000000001,
            "bin_end": 773976.7000000001,
            "count": 12
           },
           {
            "bin_start": 773976.7000000001,
            "bin_end": 884544.8,
            "count": 7
           },
           {
            "bin_start": 884544.8,
            "bin_end": 995112.9,
            "count": 12
           },
           {
            "bin_start": 995112.9,
            "bin_end": 1105681,
            "count": 85
           }
          ]
         }
        },
        {
         "name": "confirmed_covid_vist_t_minus_1",
         "dtype": "float64",
         "stats": {
          "unique_count": 5304,
          "nan_count": 0,
          "min": "0.00192",
          "max": "5.211112",
          "histogram": [
           {
            "bin_start": 0.00192,
            "bin_end": 0.5228392000000001,
            "count": 3214
           },
           {
            "bin_start": 0.5228392000000001,
            "bin_end": 1.0437584,
            "count": 1003
           },
           {
            "bin_start": 1.0437584,
            "bin_end": 1.5646776,
            "count": 397
           },
           {
            "bin_start": 1.5646776,
            "bin_end": 2.0855968000000003,
            "count": 323
           },
           {
            "bin_start": 2.0855968000000003,
            "bin_end": 2.606516,
            "count": 201
           },
           {
            "bin_start": 2.606516,
            "bin_end": 3.1274352000000003,
            "count": 88
           },
           {
            "bin_start": 3.1274352000000003,
            "bin_end": 3.6483544000000006,
            "count": 45
           },
           {
            "bin_start": 3.6483544000000006,
            "bin_end": 4.1692736,
            "count": 32
           },
           {
            "bin_start": 4.1692736,
            "bin_end": 4.6901928,
            "count": 12
           },
           {
            "bin_start": 4.6901928,
            "bin_end": 5.211112,
            "count": 6
           }
          ]
         }
        },
        {
         "name": "doctor_visits_t_minus_1",
         "dtype": "float64",
         "stats": {
          "unique_count": 5211,
          "nan_count": 0,
          "min": "0.0",
          "max": "47.18352",
          "histogram": [
           {
            "bin_start": 0,
            "bin_end": 4.718352,
            "count": 2567
           },
           {
            "bin_start": 4.718352,
            "bin_end": 9.436704,
            "count": 1706
           },
           {
            "bin_start": 9.436704,
            "bin_end": 14.155056000000002,
            "count": 531
           },
           {
            "bin_start": 14.155056000000002,
            "bin_end": 18.873408,
            "count": 268
           },
           {
            "bin_start": 18.873408,
            "bin_end": 23.59176,
            "count": 145
           },
           {
            "bin_start": 23.59176,
            "bin_end": 28.310112000000004,
            "count": 57
           },
           {
            "bin_start": 28.310112000000004,
            "bin_end": 33.028464,
            "count": 23
           },
           {
            "bin_start": 33.028464,
            "bin_end": 37.746816,
            "count": 16
           },
           {
            "bin_start": 37.746816,
            "bin_end": 42.465168000000006,
            "count": 5
           },
           {
            "bin_start": 42.465168000000006,
            "bin_end": 47.18352,
            "count": 3
           }
          ]
         }
        },
        {
         "name": "hospital_admissions_t_minus_1",
         "dtype": "float64",
         "stats": {
          "unique_count": 5314,
          "nan_count": 0,
          "min": "0.077083",
          "max": "31.666872",
          "histogram": [
           {
            "bin_start": 0.077083,
            "bin_end": 3.2360619,
            "count": 2756
           },
           {
            "bin_start": 3.2360619,
            "bin_end": 6.3950408,
            "count": 1258
           },
           {
            "bin_start": 6.3950408,
            "bin_end": 9.5540197,
            "count": 581
           },
           {
            "bin_start": 9.5540197,
            "bin_end": 12.7129986,
            "count": 310
           },
           {
            "bin_start": 12.7129986,
            "bin_end": 15.871977500000002,
            "count": 148
           },
           {
            "bin_start": 15.871977500000002,
            "bin_end": 19.030956399999997,
            "count": 100
           },
           {
            "bin_start": 19.030956399999997,
            "bin_end": 22.1899353,
            "count": 89
           },
           {
            "bin_start": 22.1899353,
            "bin_end": 25.3489142,
            "count": 57
           },
           {
            "bin_start": 25.3489142,
            "bin_end": 28.5078931,
            "count": 16
           },
           {
            "bin_start": 28.5078931,
            "bin_end": 31.666872,
            "count": 6
           }
          ]
         }
        },
        {
         "name": "google_anosmia_volume_t_minus_1",
         "dtype": "float64",
         "stats": {
          "unique_count": 114,
          "nan_count": 0,
          "min": "0.04",
          "max": "2.86",
          "histogram": [
           {
            "bin_start": 0.04,
            "bin_end": 0.32199999999999995,
            "count": 4546
           },
           {
            "bin_start": 0.32199999999999995,
            "bin_end": 0.604,
            "count": 573
           },
           {
            "bin_start": 0.604,
            "bin_end": 0.8859999999999999,
            "count": 143
           },
           {
            "bin_start": 0.8859999999999999,
            "bin_end": 1.168,
            "count": 47
           },
           {
            "bin_start": 1.168,
            "bin_end": 1.45,
            "count": 4
           },
           {
            "bin_start": 1.45,
            "bin_end": 1.7319999999999998,
            "count": 2
           },
           {
            "bin_start": 1.7319999999999998,
            "bin_end": 2.014,
            "count": 4
           },
           {
            "bin_start": 2.014,
            "bin_end": 2.296,
            "count": 1
           },
           {
            "bin_start": 2.296,
            "bin_end": 2.578,
            "count": 0
           },
           {
            "bin_start": 2.578,
            "bin_end": 2.86,
            "count": 1
           }
          ]
         }
        },
        {
         "name": "google_ageusia_volume_t_minus_1",
         "dtype": "float64"
        },
        {
         "name": "covid_deaths_t_minus",
         "dtype": "float64"
        },
        {
         "name": "home_time_t_minus_1",
         "dtype": "float64"
        },
        {
         "name": "covid_cases_t_plus_one",
         "dtype": "float64"
        },
        {
         "name": "_deepnote_index_column",
         "dtype": "int64"
        }
       ],
       "rows_top": [
        {
         "Unnamed: 0": 0,
         "geo_value": 5,
         "time_value": "2020-02-21",
         "covid_cases": 0,
         "confirmed_covid_visit": 0.011169,
         "doctor_visits": 0,
         "hospital_admissions": 0.113524,
         "google_anosmia_volume": 0.06,
         "google_ageusia_volume": 0.06,
         "covid_deaths": 0,
         "home_time": 587.3067307692307,
         "geo_value_t_minus_1": 5,
         "time_value_t_minus_1": "2020-02-20",
         "covid_cases_t_minus_1": 0,
         "confirmed_covid_vist_t_minus_1": 0.012182,
         "doctor_visits_t_minus_1": 0,
         "hospital_admissions_t_minus_1": 0.110992,
         "google_anosmia_volume_t_minus_1": 0.06,
         "google_ageusia_volume_t_minus_1": 0.06,
         "covid_deaths_t_minus": 0,
         "home_time_t_minus_1": 609.137236084453,
         "covid_cases_t_plus_one": 0,
         "_deepnote_index_column": 0
        },
        {
         "Unnamed: 0": 2346,
         "geo_value": 12,
         "time_value": "2020-02-21",
         "covid_cases": 0,
         "confirmed_covid_visit": 0.011176,
         "doctor_visits": 0.012824,
         "hospital_admissions": 0.090121,
         "google_anosmia_volume": 0.06,
         "google_ageusia_volume": 0.04,
         "covid_deaths": 0,
         "home_time": 602.1111111111111,
         "geo_value_t_minus_1": 12,
         "time_value_t_minus_1": "2020-02-20",
         "covid_cases_t_minus_1": 0,
         "confirmed_covid_vist_t_minus_1": 0.012328,
         "doctor_visits_t_minus_1": 0,
         "hospital_admissions_t_minus_1": 0.090382,
         "google_anosmia_volume_t_minus_1": 0.06,
         "google_ageusia_volume_t_minus_1": 0.04,
         "covid_deaths_t_minus": 0,
         "home_time_t_minus_1": 618.2231968810917,
         "covid_cases_t_plus_one": 0,
         "_deepnote_index_column": 2273
        },
        {
         "Unnamed: 0": 1490,
         "geo_value": 14,
         "time_value": "2020-02-21",
         "covid_cases": 0,
         "confirmed_covid_visit": 0.002221,
         "doctor_visits": 0.102249,
         "hospital_admissions": 0.104829,
         "google_anosmia_volume": 0.07,
         "google_ageusia_volume": 0.03,
         "covid_deaths": 0,
         "home_time": 583.6458560948962,
         "geo_value_t_minus_1": 14,
         "time_value_t_minus_1": "2020-02-20",
         "covid_cases_t_minus_1": 0,
         "confirmed_covid_vist_t_minus_1": 0.002446,
         "doctor_visits_t_minus_1": 0.102826,
         "hospital_admissions_t_minus_1": 0.111187,
         "google_anosmia_volume_t_minus_1": 0.06,
         "google_ageusia_volume_t_minus_1": 0.03,
         "covid_deaths_t_minus": 0,
         "home_time_t_minus_1": 600.7087105838276,
         "covid_cases_t_plus_one": 0,
         "_deepnote_index_column": 1427
        },
        {
         "Unnamed: 0": 4041,
         "geo_value": 1,
         "time_value": "2020-02-21",
         "covid_cases": 0,
         "confirmed_covid_visit": 0.017125,
         "doctor_visits": 0,
         "hospital_admissions": 0.149643,
         "google_anosmia_volume": 0.1,
         "google_ageusia_volume": 0.1,
         "covid_deaths": 0,
         "home_time": 533.6103448275862,
         "geo_value_t_minus_1": 1,
         "time_value_t_minus_1": "2020-02-20",
         "covid_cases_t_minus_1": 0,
         "confirmed_covid_vist_t_minus_1": 0.020132,
         "doctor_visits_t_minus_1": 0,
         "hospital_admissions_t_minus_1": 0.151167,
         "google_anosmia_volume_t_minus_1": 0.07,
         "google_ageusia_volume_t_minus_1": 0.1,
         "covid_deaths_t_minus": 0,
         "home_time_t_minus_1": 524.3775862068966,
         "covid_cases_t_plus_one": 0,
         "_deepnote_index_column": 3947
        },
        {
         "Unnamed: 0": 1918,
         "geo_value": 10,
         "time_value": "2020-02-21",
         "covid_cases": 0,
         "confirmed_covid_visit": 0.003301,
         "doctor_visits": 0.098592,
         "hospital_admissions": 0.093063,
         "google_anosmia_volume": 0.07,
         "google_ageusia_volume": 0.05,
         "covid_deaths": 0,
         "home_time": 637.3091707852828,
         "geo_value_t_minus_1": 10,
         "time_value_t_minus_1": "2020-02-20",
         "covid_cases_t_minus_1": 0,
         "confirmed_covid_vist_t_minus_1": 0.003528,
         "doctor_visits_t_minus_1": 0.098592,
         "hospital_admissions_t_minus_1": 0.091819,
         "google_anosmia_volume_t_minus_1": 0.09,
         "google_ageusia_volume_t_minus_1": 0.08,
         "covid_deaths_t_minus": 0,
         "home_time_t_minus_1": 651.8142857142857,
         "covid_cases_t_plus_one": 0,
         "_deepnote_index_column": 1850
        },
        {
         "Unnamed: 0": 3616,
         "geo_value": 11,
         "time_value": "2020-02-21",
         "covid_cases": 0,
         "confirmed_covid_visit": 0.002523,
         "doctor_visits": 0,
         "hospital_admissions": 0.08527,
         "google_anosmia_volume": 0.07,
         "google_ageusia_volume": 0.04,
         "covid_deaths": 0,
         "home_time": 594.35618729097,
         "geo_value_t_minus_1": 11,
         "time_value_t_minus_1": "2020-02-20",
         "covid_cases_t_minus_1": 0,
         "confirmed_covid_vist_t_minus_1": 0.002757,
         "doctor_visits_t_minus_1": 0,
         "hospital_admissions_t_minus_1": 0.087202,
         "google_anosmia_volume_t_minus_1": 0.07,
         "google_ageusia_volume_t_minus_1": 0.04,
         "covid_deaths_t_minus": 0,
         "home_time_t_minus_1": 614.866220735786,
         "covid_cases_t_plus_one": 0,
         "_deepnote_index_column": 3524
        },
        {
         "Unnamed: 0": 2769,
         "geo_value": 8,
         "time_value": "2020-02-21",
         "covid_cases": 1,
         "confirmed_covid_visit": 0.008133,
         "doctor_visits": 0.064963,
         "hospital_admissions": 0.138081,
         "google_anosmia_volume": 0.06,
         "google_ageusia_volume": 0.1,
         "covid_deaths": 0,
         "home_time": 607.3501646542261,
         "geo_value_t_minus_1": 8,
         "time_value_t_minus_1": "2020-02-20",
         "covid_cases_t_minus_1": 0,
         "confirmed_covid_vist_t_minus_1": 0.00877,
         "doctor_visits_t_minus_1": 0.066701,
         "hospital_admissions_t_minus_1": 0.142097,
         "google_anosmia_volume_t_minus_1": 0.07,
         "google_ageusia_volume_t_minus_1": 0.1,
         "covid_deaths_t_minus": 0,
         "home_time_t_minus_1": 627.2403951701427,
         "covid_cases_t_plus_one": 1,
         "_deepnote_index_column": 2690
        },
        {
         "Unnamed: 0": 4763,
         "geo_value": 9,
         "time_value": "2020-02-21",
         "covid_cases": 1,
         "confirmed_covid_visit": 0.007871,
         "doctor_visits": 0.104633,
         "hospital_admissions": 0.118592,
         "google_anosmia_volume": 0.08,
         "google_ageusia_volume": 0.05,
         "covid_deaths": 0,
         "home_time": 647.9850746268656,
         "geo_value_t_minus_1": 9,
         "time_value_t_minus_1": "2020-02-20",
         "covid_cases_t_minus_1": 0,
         "confirmed_covid_vist_t_minus_1": 0.008506,
         "doctor_visits_t_minus_1": 0.10965,
         "hospital_admissions_t_minus_1": 0.126737,
         "google_anosmia_volume_t_minus_1": 0.05,
         "google_ageusia_volume_t_minus_1": 0.05,
         "covid_deaths_t_minus": 0,
         "home_time_t_minus_1": 651.923578751165,
         "covid_cases_t_plus_one": 1,
         "_deepnote_index_column": 4602
        },
        {
         "Unnamed: 0": 2347,
         "geo_value": 12,
         "time_value": "2020-02-22",
         "covid_cases": 0,
         "confirmed_covid_visit": 0.010104,
         "doctor_visits": 0.010977,
         "hospital_admissions": 0.090805,
         "google_anosmia_volume": 0.07,
         "google_ageusia_volume": 0.04,
         "covid_deaths": 0,
         "home_time": 688.4122807017544,
         "geo_value_t_minus_1": 12,
         "time_value_t_minus_1": "2020-02-21",
         "covid_cases_t_minus_1": 0,
         "confirmed_covid_vist_t_minus_1": 0.011176,
         "doctor_visits_t_minus_1": 0.012824,
         "hospital_admissions_t_minus_1": 0.090121,
         "google_anosmia_volume_t_minus_1": 0.06,
         "google_ageusia_volume_t_minus_1": 0.04,
         "covid_deaths_t_minus": 0,
         "home_time_t_minus_1": 602.1111111111111,
         "covid_cases_t_plus_one": 0,
         "_deepnote_index_column": 2274
        },
        {
         "Unnamed: 0": 1919,
         "geo_value": 10,
         "time_value": "2020-02-22",
         "covid_cases": 0,
         "confirmed_covid_visit": 0.003134,
         "doctor_visits": 0.098592,
         "hospital_admissions": 0.094482,
         "google_anosmia_volume": 0.04,
         "google_ageusia_volume": 0.05,
         "covid_deaths": 0,
         "home_time": 740.2763736263736,
         "geo_value_t_minus_1": 10,
         "time_value_t_minus_1": "2020-02-21",
         "covid_cases_t_minus_1": 0,
         "confirmed_covid_vist_t_minus_1": 0.003301,
         "doctor_visits_t_minus_1": 0.098592,
         "hospital_admissions_t_minus_1": 0.093063,
         "google_anosmia_volume_t_minus_1": 0.07,
         "google_ageusia_volume_t_minus_1": 0.05,
         "covid_deaths_t_minus": 0,
         "home_time_t_minus_1": 637.3091707852828,
         "covid_cases_t_plus_one": 0,
         "_deepnote_index_column": 1851
        },
        {
         "Unnamed: 0": 4764,
         "geo_value": 9,
         "time_value": "2020-02-22",
         "covid_cases": 1,
         "confirmed_covid_visit": 0.007477,
         "doctor_visits": 0.109745,
         "hospital_admissions": 0.110275,
         "google_anosmia_volume": 0.08,
         "google_ageusia_volume": 0.05,
         "covid_deaths": 0,
         "home_time": 726.857276119403,
         "geo_value_t_minus_1": 9,
         "time_value_t_minus_1": "2020-02-21",
         "covid_cases_t_minus_1": 1,
         "confirmed_covid_vist_t_minus_1": 0.007871,
         "doctor_visits_t_minus_1": 0.104633,
         "hospital_admissions_t_minus_1": 0.118592,
         "google_anosmia_volume_t_minus_1": 0.08,
         "google_ageusia_volume_t_minus_1": 0.05,
         "covid_deaths_t_minus": 0,
         "home_time_t_minus_1": 647.9850746268656,
         "covid_cases_t_plus_one": 1,
         "_deepnote_index_column": 4603
        },
        {
         "Unnamed: 0": 2770,
         "geo_value": 8,
         "time_value": "2020-02-22",
         "covid_cases": 1,
         "confirmed_covid_visit": 0.007731,
         "doctor_visits": 0.166148,
         "hospital_admissions": 0.135826,
         "google_anosmia_volume": 0.06,
         "google_ageusia_volume": 0.09,
         "covid_deaths": 0,
         "home_time": 679.993413830955,
         "geo_value_t_minus_1": 8,
         "time_value_t_minus_1": "2020-02-21",
         "covid_cases_t_minus_1": 1,
         "confirmed_covid_vist_t_minus_1": 0.008133,
         "doctor_visits_t_minus_1": 0.064963,
         "hospital_admissions_t_minus_1": 0.138081,
         "google_anosmia_volume_t_minus_1": 0.06,
         "google_ageusia_volume_t_minus_1": 0.1,
         "covid_deaths_t_minus": 0,
         "home_time_t_minus_1": 607.3501646542261,
         "covid_cases_t_plus_one": 1,
         "_deepnote_index_column": 2691
        },
        {
         "Unnamed: 0": 4042,
         "geo_value": 1,
         "time_value": "2020-02-22",
         "covid_cases": 0,
         "confirmed_covid_visit": 0.015054,
         "doctor_visits": 0,
         "hospital_admissions": 0.147476,
         "google_anosmia_volume": 0.1,
         "google_ageusia_volume": 0.1,
         "covid_deaths": 0,
         "home_time": 612.2362068965517,
         "geo_value_t_minus_1": 1,
         "time_value_t_minus_1": "2020-02-21",
         "covid_cases_t_minus_1": 0,
         "confirmed_covid_vist_t_minus_1": 0.017125,
         "doctor_visits_t_minus_1": 0,
         "hospital_admissions_t_minus_1": 0.149643,
         "google_anosmia_volume_t_minus_1": 0.1,
         "google_ageusia_volume_t_minus_1": 0.1,
         "covid_deaths_t_minus": 0,
         "home_time_t_minus_1": 533.6103448275862,
         "covid_cases_t_plus_one": 0,
         "_deepnote_index_column": 3948
        },
        {
         "Unnamed: 0": 3617,
         "geo_value": 11,
         "time_value": "2020-02-22",
         "covid_cases": 0,
         "confirmed_covid_visit": 0.002402,
         "doctor_visits": 0,
         "hospital_admissions": 0.087335,
         "google_anosmia_volume": 0.06,
         "google_ageusia_volume": 0.03,
         "covid_deaths": 0,
         "home_time": 687.829988851728,
         "geo_value_t_minus_1": 11,
         "time_value_t_minus_1": "2020-02-21",
         "covid_cases_t_minus_1": 0,
         "confirmed_covid_vist_t_minus_1": 0.002523,
         "doctor_visits_t_minus_1": 0,
         "hospital_admissions_t_minus_1": 0.08527,
         "google_anosmia_volume_t_minus_1": 0.07,
         "google_ageusia_volume_t_minus_1": 0.04,
         "covid_deaths_t_minus": 0,
         "home_time_t_minus_1": 594.35618729097,
         "covid_cases_t_plus_one": 0,
         "_deepnote_index_column": 3525
        },
        {
         "Unnamed: 0": 1491,
         "geo_value": 14,
         "time_value": "2020-02-22",
         "covid_cases": 0,
         "confirmed_covid_visit": 0.002038,
         "doctor_visits": 0.102206,
         "hospital_admissions": 0.102305,
         "google_anosmia_volume": 0.04,
         "google_ageusia_volume": 0.04,
         "covid_deaths": 0,
         "home_time": 674.5885107711521,
         "geo_value_t_minus_1": 14,
         "time_value_t_minus_1": "2020-02-21",
         "covid_cases_t_minus_1": 0,
         "confirmed_covid_vist_t_minus_1": 0.002221,
         "doctor_visits_t_minus_1": 0.102249,
         "hospital_admissions_t_minus_1": 0.104829,
         "google_anosmia_volume_t_minus_1": 0.07,
         "google_ageusia_volume_t_minus_1": 0.03,
         "covid_deaths_t_minus": 0,
         "home_time_t_minus_1": 583.6458560948962,
         "covid_cases_t_plus_one": 0,
         "_deepnote_index_column": 1428
        },
        {
         "Unnamed: 0": 1,
         "geo_value": 5,
         "time_value": "2020-02-22",
         "covid_cases": 0,
         "confirmed_covid_visit": 0.010473,
         "doctor_visits": 0,
         "hospital_admissions": 0.116683,
         "google_anosmia_volume": 0.08,
         "google_ageusia_volume": 0.06,
         "covid_deaths": 0,
         "home_time": 679.5859750240154,
         "geo_value_t_minus_1": 5,
         "time_value_t_minus_1": "2020-02-21",
         "covid_cases_t_minus_1": 0,
         "confirmed_covid_vist_t_minus_1": 0.011169,
         "doctor_visits_t_minus_1": 0,
         "hospital_admissions_t_minus_1": 0.113524,
         "google_anosmia_volume_t_minus_1": 0.06,
         "google_ageusia_volume_t_minus_1": 0.06,
         "covid_deaths_t_minus": 0,
         "home_time_t_minus_1": 587.3067307692307,
         "covid_cases_t_plus_one": 0,
         "_deepnote_index_column": 1
        },
        {
         "Unnamed: 0": 4043,
         "geo_value": 1,
         "time_value": "2020-02-23",
         "covid_cases": 0,
         "confirmed_covid_visit": 0.017277,
         "doctor_visits": 0,
         "hospital_admissions": 0.146912,
         "google_anosmia_volume": 0.13,
         "google_ageusia_volume": 0.09,
         "covid_deaths": 0,
         "home_time": 670.1448275862069,
         "geo_value_t_minus_1": 1,
         "time_value_t_minus_1": "2020-02-22",
         "covid_cases_t_minus_1": 0,
         "confirmed_covid_vist_t_minus_1": 0.015054,
         "doctor_visits_t_minus_1": 0,
         "hospital_admissions_t_minus_1": 0.147476,
         "google_anosmia_volume_t_minus_1": 0.1,
         "google_ageusia_volume_t_minus_1": 0.1,
         "covid_deaths_t_minus": 0,
         "home_time_t_minus_1": 612.2362068965517,
         "covid_cases_t_plus_one": 0,
         "_deepnote_index_column": 3949
        },
        {
         "Unnamed: 0": 1920,
         "geo_value": 10,
         "time_value": "2020-02-23",
         "covid_cases": 0,
         "confirmed_covid_visit": 0.00369,
         "doctor_visits": 0.098592,
         "hospital_admissions": 0.09059,
         "google_anosmia_volume": 0.09,
         "google_ageusia_volume": 0.08,
         "covid_deaths": 0,
         "home_time": 819.4439560439561,
         "geo_value_t_minus_1": 10,
         "time_value_t_minus_1": "2020-02-22",
         "covid_cases_t_minus_1": 0,
         "confirmed_covid_vist_t_minus_1": 0.003134,
         "doctor_visits_t_minus_1": 0.098592,
         "hospital_admissions_t_minus_1": 0.094482,
         "google_anosmia_volume_t_minus_1": 0.04,
         "google_ageusia_volume_t_minus_1": 0.05,
         "covid_deaths_t_minus": 0,
         "home_time_t_minus_1": 740.2763736263736,
         "covid_cases_t_plus_one": 0,
         "_deepnote_index_column": 1852
        },
        {
         "Unnamed: 0": 3618,
         "geo_value": 11,
         "time_value": "2020-02-23",
         "covid_cases": 0,
         "confirmed_covid_visit": 0.002848,
         "doctor_visits": 0,
         "hospital_admissions": 0.089784,
         "google_anosmia_volume": 0.09,
         "google_ageusia_volume": 0.07,
         "covid_deaths": 0,
         "home_time": 755.5685618729098,
         "geo_value_t_minus_1": 11,
         "time_value_t_minus_1": "2020-02-22",
         "covid_cases_t_minus_1": 0,
         "confirmed_covid_vist_t_minus_1": 0.002402,
         "doctor_visits_t_minus_1": 0,
         "hospital_admissions_t_minus_1": 0.087335,
         "google_anosmia_volume_t_minus_1": 0.06,
         "google_ageusia_volume_t_minus_1": 0.03,
         "covid_deaths_t_minus": 0,
         "home_time_t_minus_1": 687.829988851728,
         "covid_cases_t_plus_one": 0,
         "_deepnote_index_column": 3526
        },
        {
         "Unnamed: 0": 3194,
         "geo_value": 13,
         "time_value": "2020-02-23",
         "covid_cases": 0,
         "confirmed_covid_visit": 0.01017,
         "doctor_visits": 0,
         "hospital_admissions": 0.126195,
         "google_anosmia_volume": 0.05,
         "google_ageusia_volume": 0.07,
         "covid_deaths": 0,
         "home_time": 737.5686813186813,
         "geo_value_t_minus_1": 13,
         "time_value_t_minus_1": "2020-02-22",
         "covid_cases_t_minus_1": 0,
         "confirmed_covid_vist_t_minus_1": 0.009334,
         "doctor_visits_t_minus_1": 0,
         "hospital_admissions_t_minus_1": 0.120868,
         "google_anosmia_volume_t_minus_1": 0.08,
         "google_ageusia_volume_t_minus_1": 0.07,
         "covid_deaths_t_minus": 0,
         "home_time_t_minus_1": 663.2417582417582,
         "covid_cases_t_plus_one": 0,
         "_deepnote_index_column": 3106
        },
        {
         "Unnamed: 0": 1492,
         "geo_value": 14,
         "time_value": "2020-02-23",
         "covid_cases": 0,
         "confirmed_covid_visit": 0.002194,
         "doctor_visits": 0.102206,
         "hospital_admissions": 0.132695,
         "google_anosmia_volume": 0.04,
         "google_ageusia_volume": 0.04,
         "covid_deaths": 0,
         "home_time": 747.6928961748633,
         "geo_value_t_minus_1": 14,
         "time_value_t_minus_1": "2020-02-22",
         "covid_cases_t_minus_1": 0,
         "confirmed_covid_vist_t_minus_1": 0.002038,
         "doctor_visits_t_minus_1": 0.102206,
         "hospital_admissions_t_minus_1": 0.102305,
         "google_anosmia_volume_t_minus_1": 0.04,
         "google_ageusia_volume_t_minus_1": 0.04,
         "covid_deaths_t_minus": 0,
         "home_time_t_minus_1": 674.5885107711521,
         "covid_cases_t_plus_one": 0,
         "_deepnote_index_column": 1429
        },
        {
         "Unnamed: 0": 2771,
         "geo_value": 8,
         "time_value": "2020-02-23",
         "covid_cases": 1,
         "confirmed_covid_visit": 0.008941,
         "doctor_visits": 0.243877,
         "hospital_admissions": 0.135849,
         "google_anosmia_volume": 0.08,
         "google_ageusia_volume": 0.07,
         "covid_deaths": 0,
         "home_time": 770.0054884742042,
         "geo_value_t_minus_1": 8,
         "time_value_t_minus_1": "2020-02-22",
         "covid_cases_t_minus_1": 1,
         "confirmed_covid_vist_t_minus_1": 0.007731,
         "doctor_visits_t_minus_1": 0.166148,
         "hospital_admissions_t_minus_1": 0.135826,
         "google_anosmia_volume_t_minus_1": 0.06,
         "google_ageusia_volume_t_minus_1": 0.09,
         "covid_deaths_t_minus": 0,
         "home_time_t_minus_1": 679.993413830955,
         "covid_cases_t_plus_one": 1,
         "_deepnote_index_column": 2692
        }
       ],
       "rows_bottom": [
        {
         "Unnamed: 0": 3612,
         "geo_value": 13,
         "time_value": "2021-04-17",
         "covid_cases": 270627,
         "confirmed_covid_visit": 0.6271322,
         "doctor_visits": 3.14036,
         "hospital_admissions": 3.476029,
         "google_anosmia_volume": 0.17,
         "google_ageusia_volume": 0.1,
         "covid_deaths": 4545,
         "home_time": 675.9220183,
         "geo_value_t_minus_1": 13,
         "time_value_t_minus_1": "2021-04-16",
         "covid_cases_t_minus_1": 270538,
         "confirmed_covid_vist_t_minus_1": 0.6516828,
         "doctor_visits_t_minus_1": 3.214551,
         "hospital_admissions_t_minus_1": 3.267194,
         "google_anosmia_volume_t_minus_1": 0.12,
         "google_ageusia_volume_t_minus_1": 0.08,
         "covid_deaths_t_minus": 4540,
         "home_time_t_minus_1": 675.9220183,
         "covid_cases_t_plus_one": 270674,
         "_deepnote_index_column": 3522
        },
        {
         "Unnamed: 0": 3187,
         "geo_value": 8,
         "time_value": "2021-04-17",
         "covid_cases": 98388,
         "confirmed_covid_visit": 0.3933595,
         "doctor_visits": 3.464602,
         "hospital_admissions": 0.635434,
         "google_anosmia_volume": 0.13,
         "google_ageusia_volume": 0.14,
         "covid_deaths": 1579,
         "home_time": 681.1844127,
         "geo_value_t_minus_1": 8,
         "time_value_t_minus_1": "2021-04-16",
         "covid_cases_t_minus_1": 98261,
         "confirmed_covid_vist_t_minus_1": 0.4090995,
         "doctor_visits_t_minus_1": 3.768157,
         "hospital_admissions_t_minus_1": 0.395593,
         "google_anosmia_volume_t_minus_1": 0.12,
         "google_ageusia_volume_t_minus_1": 0.06,
         "covid_deaths_t_minus": 1579,
         "home_time_t_minus_1": 681.1844127,
         "covid_cases_t_plus_one": 98487,
         "_deepnote_index_column": 3104
        },
        {
         "Unnamed: 0": 4435,
         "geo_value": 1,
         "time_value": "2021-04-17",
         "covid_cases": 34387,
         "confirmed_covid_visit": 0.2220924,
         "doctor_visits": 4.736284,
         "hospital_admissions": 0.635759,
         "google_anosmia_volume": 0.09,
         "google_ageusia_volume": 0.07,
         "covid_deaths": 541,
         "home_time": 731.1968366,
         "geo_value_t_minus_1": 1,
         "time_value_t_minus_1": "2021-04-16",
         "covid_cases_t_minus_1": 34368,
         "confirmed_covid_vist_t_minus_1": 0.2071441,
         "doctor_visits_t_minus_1": 4.960098,
         "hospital_admissions_t_minus_1": 0.673097,
         "google_anosmia_volume_t_minus_1": 0.09,
         "google_ageusia_volume_t_minus_1": 0.07,
         "covid_deaths_t_minus": 535,
         "home_time_t_minus_1": 731.1968366,
         "covid_cases_t_plus_one": 34412,
         "_deepnote_index_column": 4317
        },
        {
         "Unnamed: 0": 417,
         "geo_value": 5,
         "time_value": "2021-04-17",
         "covid_cases": 81367,
         "confirmed_covid_visit": 0.1527214,
         "doctor_visits": 3.874062,
         "hospital_admissions": 1.96448,
         "google_anosmia_volume": 0.13,
         "google_ageusia_volume": 0.07,
         "covid_deaths": 1256,
         "home_time": 712.5905588,
         "geo_value_t_minus_1": 5,
         "time_value_t_minus_1": "2021-04-16",
         "covid_cases_t_minus_1": 81260,
         "confirmed_covid_vist_t_minus_1": 0.1667985,
         "doctor_visits_t_minus_1": 4.33732,
         "hospital_admissions_t_minus_1": 1.739502,
         "google_anosmia_volume_t_minus_1": 0.08,
         "google_ageusia_volume_t_minus_1": 0.07,
         "covid_deaths_t_minus": 1254,
         "home_time_t_minus_1": 712.5905588,
         "covid_cases_t_plus_one": 81446,
         "_deepnote_index_column": 413
        },
        {
         "Unnamed: 0": 2765,
         "geo_value": 12,
         "time_value": "2021-04-17",
         "covid_cases": 270231,
         "confirmed_covid_visit": 0.4192895,
         "doctor_visits": 2.4795,
         "hospital_admissions": 0.922593,
         "google_anosmia_volume": 0.16,
         "google_ageusia_volume": 0.09,
         "covid_deaths": 4387,
         "home_time": 656.3015564,
         "geo_value_t_minus_1": 12,
         "time_value_t_minus_1": "2021-04-16",
         "covid_cases_t_minus_1": 270131,
         "confirmed_covid_vist_t_minus_1": 0.4542503,
         "doctor_visits_t_minus_1": 2.401653,
         "hospital_admissions_t_minus_1": 1.129473,
         "google_anosmia_volume_t_minus_1": 0.18,
         "google_ageusia_volume_t_minus_1": 0.1,
         "covid_deaths_t_minus": 4385,
         "home_time_t_minus_1": 656.3015564,
         "covid_cases_t_plus_one": 270307,
         "_deepnote_index_column": 2688
        },
        {
         "Unnamed: 0": 1911,
         "geo_value": 14,
         "time_value": "2021-04-17",
         "covid_cases": 1105681,
         "confirmed_covid_visit": 0.4478218,
         "doctor_visits": 5.019166,
         "hospital_admissions": 1.077912,
         "google_anosmia_volume": 0.13,
         "google_ageusia_volume": 0.09,
         "covid_deaths": 23610,
         "home_time": 721.4320601,
         "geo_value_t_minus_1": 14,
         "time_value_t_minus_1": "2021-04-16",
         "covid_cases_t_minus_1": 1105288,
         "confirmed_covid_vist_t_minus_1": 0.4667738,
         "doctor_visits_t_minus_1": 5.343032,
         "hospital_admissions_t_minus_1": 1.256383,
         "google_anosmia_volume_t_minus_1": 0.11,
         "google_ageusia_volume_t_minus_1": 0.07,
         "covid_deaths_t_minus": 23583,
         "home_time_t_minus_1": 721.4320601,
         "covid_cases_t_plus_one": 1105979,
         "_deepnote_index_column": 1848
        },
        {
         "Unnamed: 0": 2339,
         "geo_value": 10,
         "time_value": "2021-04-17",
         "covid_cases": 235527,
         "confirmed_covid_visit": 0.400532,
         "doctor_visits": 3.960434,
         "hospital_admissions": 1.082365,
         "google_anosmia_volume": 0.12,
         "google_ageusia_volume": 0.06,
         "covid_deaths": 4891,
         "home_time": 756.9648545,
         "geo_value_t_minus_1": 10,
         "time_value_t_minus_1": "2021-04-16",
         "covid_cases_t_minus_1": 235432,
         "confirmed_covid_vist_t_minus_1": 0.4081092,
         "doctor_visits_t_minus_1": 4.268413,
         "hospital_admissions_t_minus_1": 1.013973,
         "google_anosmia_volume_t_minus_1": 0.14,
         "google_ageusia_volume_t_minus_1": 0.09,
         "covid_deaths_t_minus": 4886,
         "home_time_t_minus_1": 756.9648545,
         "covid_cases_t_plus_one": 235590,
         "_deepnote_index_column": 2271
        },
        {
         "Unnamed: 0": 4760,
         "geo_value": 2,
         "time_value": "2021-04-17",
         "covid_cases": 38510,
         "confirmed_covid_visit": 0.2783368,
         "doctor_visits": 5.094946,
         "hospital_admissions": 2.334812,
         "google_anosmia_volume": 0.1,
         "google_ageusia_volume": 0.14,
         "covid_deaths": 370,
         "home_time": 780.9349241,
         "geo_value_t_minus_1": 2,
         "time_value_t_minus_1": "2021-04-16",
         "covid_cases_t_minus_1": 38471,
         "confirmed_covid_vist_t_minus_1": 0.3067241,
         "doctor_visits_t_minus_1": 5.764324,
         "hospital_admissions_t_minus_1": 2.836673,
         "google_anosmia_volume_t_minus_1": 0.1,
         "google_ageusia_volume_t_minus_1": 0.14,
         "covid_deaths_t_minus": 370,
         "home_time_t_minus_1": 780.9349241,
         "covid_cases_t_plus_one": 38540,
         "_deepnote_index_column": 4601
        },
        {
         "Unnamed: 0": 814,
         "geo_value": 3,
         "time_value": "2021-04-17",
         "covid_cases": 63722,
         "confirmed_covid_visit": 0.3316012,
         "doctor_visits": 2.044085,
         "hospital_admissions": 1.678071,
         "google_anosmia_volume": 0.14,
         "google_ageusia_volume": 0.1,
         "covid_deaths": 783,
         "home_time": 725.2141732,
         "geo_value_t_minus_1": 3,
         "time_value_t_minus_1": "2021-04-16",
         "covid_cases_t_minus_1": 63648,
         "confirmed_covid_vist_t_minus_1": 0.3722287,
         "doctor_visits_t_minus_1": 1.890996,
         "hospital_admissions_t_minus_1": 1.565844,
         "google_anosmia_volume_t_minus_1": 0.14,
         "google_ageusia_volume_t_minus_1": 0.09,
         "covid_deaths_t_minus": 783,
         "home_time_t_minus_1": 725.2141732,
         "covid_cases_t_plus_one": 63776,
         "_deepnote_index_column": 798
        },
        {
         "Unnamed: 0": 5521,
         "geo_value": 4,
         "time_value": "2021-04-17",
         "covid_cases": 75195,
         "confirmed_covid_visit": 0.1127277,
         "doctor_visits": 1.673901,
         "hospital_admissions": 1.725588,
         "google_anosmia_volume": 0.11,
         "google_ageusia_volume": 0.1,
         "covid_deaths": 1009,
         "home_time": 653.0841121,
         "geo_value_t_minus_1": 4,
         "time_value_t_minus_1": "2021-04-16",
         "covid_cases_t_minus_1": 75176,
         "confirmed_covid_vist_t_minus_1": 0.1200384,
         "doctor_visits_t_minus_1": 1.573583,
         "hospital_admissions_t_minus_1": 1.991363,
         "google_anosmia_volume_t_minus_1": 0.18,
         "google_ageusia_volume_t_minus_1": 0.1,
         "covid_deaths_t_minus": 1007,
         "home_time_t_minus_1": 653.0841121,
         "covid_cases_t_plus_one": 75220,
         "_deepnote_index_column": 5319
        },
        {
         "Unnamed: 0": 1486,
         "geo_value": 6,
         "time_value": "2021-04-17",
         "covid_cases": 89781,
         "confirmed_covid_visit": 0.3942922,
         "doctor_visits": 2.644986,
         "hospital_admissions": 2.568942,
         "google_anosmia_volume": 0.28,
         "google_ageusia_volume": 0.1,
         "covid_deaths": 1307,
         "home_time": 633.1266667,
         "geo_value_t_minus_1": 6,
         "time_value_t_minus_1": "2021-04-16",
         "covid_cases_t_minus_1": 89751,
         "confirmed_covid_vist_t_minus_1": 0.4413627,
         "doctor_visits_t_minus_1": 2.821628,
         "hospital_admissions_t_minus_1": 3.229215,
         "google_anosmia_volume_t_minus_1": 0.18,
         "google_ageusia_volume_t_minus_1": 0.1,
         "covid_deaths_t_minus": 1302,
         "home_time_t_minus_1": 633.1266667,
         "covid_cases_t_plus_one": 89810,
         "_deepnote_index_column": 1425
        },
        {
         "Unnamed: 0": 4436,
         "geo_value": 1,
         "time_value": "2021-04-18",
         "covid_cases": 34412,
         "confirmed_covid_visit": 0.2095279,
         "doctor_visits": 4.508649,
         "hospital_admissions": 0.652238,
         "google_anosmia_volume": 0.09,
         "google_ageusia_volume": 0.09,
         "covid_deaths": 543,
         "home_time": 731.1968366,
         "geo_value_t_minus_1": 1,
         "time_value_t_minus_1": "2021-04-17",
         "covid_cases_t_minus_1": 34387,
         "confirmed_covid_vist_t_minus_1": 0.2220924,
         "doctor_visits_t_minus_1": 4.736284,
         "hospital_admissions_t_minus_1": 0.635759,
         "google_anosmia_volume_t_minus_1": 0.09,
         "google_ageusia_volume_t_minus_1": 0.07,
         "covid_deaths_t_minus": 541,
         "home_time_t_minus_1": 731.1968366,
         "covid_cases_t_plus_one": 34433,
         "_deepnote_index_column": 4318
        },
        {
         "Unnamed: 0": 418,
         "geo_value": 5,
         "time_value": "2021-04-18",
         "covid_cases": 81446,
         "confirmed_covid_visit": 0.1633983,
         "doctor_visits": 3.328793,
         "hospital_admissions": 2.226393,
         "google_anosmia_volume": 0.16,
         "google_ageusia_volume": 0.1,
         "covid_deaths": 1256,
         "home_time": 712.5905588,
         "geo_value_t_minus_1": 5,
         "time_value_t_minus_1": "2021-04-17",
         "covid_cases_t_minus_1": 81367,
         "confirmed_covid_vist_t_minus_1": 0.1527214,
         "doctor_visits_t_minus_1": 3.874062,
         "hospital_admissions_t_minus_1": 1.96448,
         "google_anosmia_volume_t_minus_1": 0.13,
         "google_ageusia_volume_t_minus_1": 0.07,
         "covid_deaths_t_minus": 1256,
         "home_time_t_minus_1": 712.5905588,
         "covid_cases_t_plus_one": 81519,
         "_deepnote_index_column": 414
        },
        {
         "Unnamed: 0": 4038,
         "geo_value": 11,
         "time_value": "2021-04-18",
         "covid_cases": 254670,
         "confirmed_covid_visit": 0.3644106,
         "doctor_visits": 2.845004,
         "hospital_admissions": 0.972583,
         "google_anosmia_volume": 0.14,
         "google_ageusia_volume": 0.07,
         "covid_deaths": 3674,
         "home_time": 696.0597432,
         "geo_value_t_minus_1": 11,
         "time_value_t_minus_1": "2021-04-17",
         "covid_cases_t_minus_1": 254516,
         "confirmed_covid_vist_t_minus_1": 0.3341201,
         "doctor_visits_t_minus_1": 2.759384,
         "hospital_admissions_t_minus_1": 0.78769,
         "google_anosmia_volume_t_minus_1": 0.11,
         "google_ageusia_volume_t_minus_1": 0.06,
         "covid_deaths_t_minus": 3674,
         "home_time_t_minus_1": 696.0597432,
         "covid_cases_t_plus_one": 254817,
         "_deepnote_index_column": 3946
        },
        {
         "Unnamed: 0": 815,
         "geo_value": 3,
         "time_value": "2021-04-18",
         "covid_cases": 63776,
         "confirmed_covid_visit": 0.3185512,
         "doctor_visits": 2.642331,
         "hospital_admissions": 1.710163,
         "google_anosmia_volume": 0.17,
         "google_ageusia_volume": 0.1,
         "covid_deaths": 783,
         "home_time": 725.2141732,
         "geo_value_t_minus_1": 3,
         "time_value_t_minus_1": "2021-04-17",
         "covid_cases_t_minus_1": 63722,
         "confirmed_covid_vist_t_minus_1": 0.3316012,
         "doctor_visits_t_minus_1": 2.044085,
         "hospital_admissions_t_minus_1": 1.678071,
         "google_anosmia_volume_t_minus_1": 0.14,
         "google_ageusia_volume_t_minus_1": 0.1,
         "covid_deaths_t_minus": 783,
         "home_time_t_minus_1": 725.2141732,
         "covid_cases_t_plus_one": 63824,
         "_deepnote_index_column": 799
        },
        {
         "Unnamed: 0": 2766,
         "geo_value": 12,
         "time_value": "2021-04-18",
         "covid_cases": 270307,
         "confirmed_covid_visit": 0.420605,
         "doctor_visits": 2.486988,
         "hospital_admissions": 0.76965,
         "google_anosmia_volume": 0.17,
         "google_ageusia_volume": 0.08,
         "covid_deaths": 4387,
         "home_time": 656.3015564,
         "geo_value_t_minus_1": 12,
         "time_value_t_minus_1": "2021-04-17",
         "covid_cases_t_minus_1": 270231,
         "confirmed_covid_vist_t_minus_1": 0.4192895,
         "doctor_visits_t_minus_1": 2.4795,
         "hospital_admissions_t_minus_1": 0.922593,
         "google_anosmia_volume_t_minus_1": 0.16,
         "google_ageusia_volume_t_minus_1": 0.09,
         "covid_deaths_t_minus": 4387,
         "home_time_t_minus_1": 656.3015564,
         "covid_cases_t_plus_one": 270376,
         "_deepnote_index_column": 2689
        },
        {
         "Unnamed: 0": 5184,
         "geo_value": 9,
         "time_value": "2021-04-18",
         "covid_cases": 109097,
         "confirmed_covid_visit": 0.2716951,
         "doctor_visits": 6.093182,
         "hospital_admissions": 1.419962,
         "google_anosmia_volume": 0.13,
         "google_ageusia_volume": 0.11,
         "covid_deaths": 2013,
         "home_time": 761.8797763,
         "geo_value_t_minus_1": 9,
         "time_value_t_minus_1": "2021-04-17",
         "covid_cases_t_minus_1": 108997,
         "confirmed_covid_vist_t_minus_1": 0.2917733,
         "doctor_visits_t_minus_1": 6.677487,
         "hospital_admissions_t_minus_1": 1.338122,
         "google_anosmia_volume_t_minus_1": 0.13,
         "google_ageusia_volume_t_minus_1": 0.07,
         "covid_deaths_t_minus": 2013,
         "home_time_t_minus_1": 761.8797763,
         "covid_cases_t_plus_one": 109188,
         "_deepnote_index_column": 5021
        },
        {
         "Unnamed: 0": 3613,
         "geo_value": 13,
         "time_value": "2021-04-18",
         "covid_cases": 270674,
         "confirmed_covid_visit": 0.624819,
         "doctor_visits": 3.045847,
         "hospital_admissions": 3.693518,
         "google_anosmia_volume": 0.15,
         "google_ageusia_volume": 0.11,
         "covid_deaths": 4546,
         "home_time": 675.9220183,
         "geo_value_t_minus_1": 13,
         "time_value_t_minus_1": "2021-04-17",
         "covid_cases_t_minus_1": 270627,
         "confirmed_covid_vist_t_minus_1": 0.6271322,
         "doctor_visits_t_minus_1": 3.14036,
         "hospital_admissions_t_minus_1": 3.476029,
         "google_anosmia_volume_t_minus_1": 0.17,
         "google_ageusia_volume_t_minus_1": 0.1,
         "covid_deaths_t_minus": 4545,
         "home_time_t_minus_1": 675.9220183,
         "covid_cases_t_plus_one": 270726,
         "_deepnote_index_column": 3523
        },
        {
         "Unnamed: 0": 1912,
         "geo_value": 14,
         "time_value": "2021-04-18",
         "covid_cases": 1105979,
         "confirmed_covid_visit": 0.3963143,
         "doctor_visits": 4.824419,
         "hospital_admissions": 1.098291,
         "google_anosmia_volume": 0.11,
         "google_ageusia_volume": 0.07,
         "covid_deaths": 23635,
         "home_time": 721.4320601,
         "geo_value_t_minus_1": 14,
         "time_value_t_minus_1": "2021-04-17",
         "covid_cases_t_minus_1": 1105681,
         "confirmed_covid_vist_t_minus_1": 0.4478218,
         "doctor_visits_t_minus_1": 5.019166,
         "hospital_admissions_t_minus_1": 1.077912,
         "google_anosmia_volume_t_minus_1": 0.13,
         "google_ageusia_volume_t_minus_1": 0.09,
         "covid_deaths_t_minus": 23610,
         "home_time_t_minus_1": 721.4320601,
         "covid_cases_t_plus_one": 1106233,
         "_deepnote_index_column": 1849
        },
        {
         "Unnamed: 0": 3188,
         "geo_value": 8,
         "time_value": "2021-04-18",
         "covid_cases": 98487,
         "confirmed_covid_visit": 0.3908619,
         "doctor_visits": 3.305628,
         "hospital_admissions": 0.852671,
         "google_anosmia_volume": 0.11,
         "google_ageusia_volume": 0.15,
         "covid_deaths": 1579,
         "home_time": 681.1844127,
         "geo_value_t_minus_1": 8,
         "time_value_t_minus_1": "2021-04-17",
         "covid_cases_t_minus_1": 98388,
         "confirmed_covid_vist_t_minus_1": 0.3933595,
         "doctor_visits_t_minus_1": 3.464602,
         "hospital_admissions_t_minus_1": 0.635434,
         "google_anosmia_volume_t_minus_1": 0.13,
         "google_ageusia_volume_t_minus_1": 0.14,
         "covid_deaths_t_minus": 1579,
         "home_time_t_minus_1": 681.1844127,
         "covid_cases_t_plus_one": 98598,
         "_deepnote_index_column": 3105
        },
        {
         "Unnamed: 0": 2340,
         "geo_value": 10,
         "time_value": "2021-04-18",
         "covid_cases": 235590,
         "confirmed_covid_visit": 0.4344942,
         "doctor_visits": 3.969369,
         "hospital_admissions": 1.179754,
         "google_anosmia_volume": 0.11,
         "google_ageusia_volume": 0.06,
         "covid_deaths": 4896,
         "home_time": 756.9648545,
         "geo_value_t_minus_1": 10,
         "time_value_t_minus_1": "2021-04-17",
         "covid_cases_t_minus_1": 235527,
         "confirmed_covid_vist_t_minus_1": 0.400532,
         "doctor_visits_t_minus_1": 3.960434,
         "hospital_admissions_t_minus_1": 1.082365,
         "google_anosmia_volume_t_minus_1": 0.12,
         "google_ageusia_volume_t_minus_1": 0.06,
         "covid_deaths_t_minus": 4891,
         "home_time_t_minus_1": 756.9648545,
         "covid_cases_t_plus_one": 235659,
         "_deepnote_index_column": 2272
        },
        {
         "Unnamed: 0": 1487,
         "geo_value": 6,
         "time_value": "2021-04-18",
         "covid_cases": 89810,
         "confirmed_covid_visit": 0.5804764,
         "doctor_visits": 2.517366,
         "hospital_admissions": 1.873157,
         "google_anosmia_volume": 0.28,
         "google_ageusia_volume": 0.16,
         "covid_deaths": 1307,
         "home_time": 633.1266667,
         "geo_value_t_minus_1": 6,
         "time_value_t_minus_1": "2021-04-17",
         "covid_cases_t_minus_1": 89781,
         "confirmed_covid_vist_t_minus_1": 0.3942922,
         "doctor_visits_t_minus_1": 2.644986,
         "hospital_admissions_t_minus_1": 2.568942,
         "google_anosmia_volume_t_minus_1": 0.28,
         "google_ageusia_volume_t_minus_1": 0.1,
         "covid_deaths_t_minus": 1307,
         "home_time_t_minus_1": 633.1266667,
         "covid_cases_t_plus_one": 89828,
         "_deepnote_index_column": 1426
        },
        {
         "Unnamed: 0": 5522,
         "geo_value": 4,
         "time_value": "2021-04-18",
         "covid_cases": 75220,
         "confirmed_covid_visit": 0.2071007,
         "doctor_visits": 1.772886,
         "hospital_admissions": 1.451723,
         "google_anosmia_volume": 0.11,
         "google_ageusia_volume": 0.1,
         "covid_deaths": 1009,
         "home_time": 653.0841121,
         "geo_value_t_minus_1": 4,
         "time_value_t_minus_1": "2021-04-17",
         "covid_cases_t_minus_1": 75195,
         "confirmed_covid_vist_t_minus_1": 0.1127277,
         "doctor_visits_t_minus_1": 1.673901,
         "hospital_admissions_t_minus_1": 1.725588,
         "google_anosmia_volume_t_minus_1": 0.11,
         "google_ageusia_volume_t_minus_1": 0.1,
         "covid_deaths_t_minus": 1009,
         "home_time_t_minus_1": 653.0841121,
         "covid_cases_t_plus_one": 75240,
         "_deepnote_index_column": 5320
        }
       ]
      },
      "text/plain": "      Unnamed: 0  geo_value  time_value  covid_cases  confirmed_covid_visit  \\\n0              0          5  2020-02-21          0.0               0.011169   \n2273        2346         12  2020-02-21          0.0               0.011176   \n1427        1490         14  2020-02-21          0.0               0.002221   \n3947        4041          1  2020-02-21          0.0               0.017125   \n1850        1918         10  2020-02-21          0.0               0.003301   \n...          ...        ...         ...          ...                    ...   \n1849        1912         14  2021-04-18    1105979.0               0.396314   \n3105        3188          8  2021-04-18      98487.0               0.390862   \n2272        2340         10  2021-04-18     235590.0               0.434494   \n1426        1487          6  2021-04-18      89810.0               0.580476   \n5320        5522          4  2021-04-18      75220.0               0.207101   \n\n      doctor_visits  hospital_admissions  google_anosmia_volume  \\\n0          0.000000             0.113524                   0.06   \n2273       0.012824             0.090121                   0.06   \n1427       0.102249             0.104829                   0.07   \n3947       0.000000             0.149643                   0.10   \n1850       0.098592             0.093063                   0.07   \n...             ...                  ...                    ...   \n1849       4.824419             1.098291                   0.11   \n3105       3.305628             0.852671                   0.11   \n2272       3.969369             1.179754                   0.11   \n1426       2.517366             1.873157                   0.28   \n5320       1.772886             1.451723                   0.11   \n\n      google_ageusia_volume  covid_deaths  ...  time_value_t_minus_1  \\\n0                      0.06           0.0  ...            2020-02-20   \n2273                   0.04           0.0  ...            2020-02-20   \n1427                   0.03           0.0  ...            2020-02-20   \n3947                   0.10           0.0  ...            2020-02-20   \n1850                   0.05           0.0  ...            2020-02-20   \n...                     ...           ...  ...                   ...   \n1849                   0.07       23635.0  ...            2021-04-17   \n3105                   0.15        1579.0  ...            2021-04-17   \n2272                   0.06        4896.0  ...            2021-04-17   \n1426                   0.16        1307.0  ...            2021-04-17   \n5320                   0.10        1009.0  ...            2021-04-17   \n\n      covid_cases_t_minus_1 confirmed_covid_vist_t_minus_1  \\\n0                       0.0                       0.012182   \n2273                    0.0                       0.012328   \n1427                    0.0                       0.002446   \n3947                    0.0                       0.020132   \n1850                    0.0                       0.003528   \n...                     ...                            ...   \n1849              1105681.0                       0.447822   \n3105                98388.0                       0.393359   \n2272               235527.0                       0.400532   \n1426                89781.0                       0.394292   \n5320                75195.0                       0.112728   \n\n      doctor_visits_t_minus_1  hospital_admissions_t_minus_1  \\\n0                    0.000000                       0.110992   \n2273                 0.000000                       0.090382   \n1427                 0.102826                       0.111187   \n3947                 0.000000                       0.151167   \n1850                 0.098592                       0.091819   \n...                       ...                            ...   \n1849                 5.019166                       1.077912   \n3105                 3.464602                       0.635434   \n2272                 3.960434                       1.082365   \n1426                 2.644986                       2.568942   \n5320                 1.673901                       1.725588   \n\n      google_anosmia_volume_t_minus_1  google_ageusia_volume_t_minus_1  \\\n0                                0.06                             0.06   \n2273                             0.06                             0.04   \n1427                             0.06                             0.03   \n3947                             0.07                             0.10   \n1850                             0.09                             0.08   \n...                               ...                              ...   \n1849                             0.13                             0.09   \n3105                             0.13                             0.14   \n2272                             0.12                             0.06   \n1426                             0.28                             0.10   \n5320                             0.11                             0.10   \n\n      covid_deaths_t_minus  home_time_t_minus_1  covid_cases_t_plus_one  \n0                      0.0           609.137236                     0.0  \n2273                   0.0           618.223197                     0.0  \n1427                   0.0           600.708711                     0.0  \n3947                   0.0           524.377586                     0.0  \n1850                   0.0           651.814286                     0.0  \n...                    ...                  ...                     ...  \n1849               23610.0           721.432060               1106233.0  \n3105                1579.0           681.184413                 98598.0  \n2272                4891.0           756.964855                235659.0  \n1426                1307.0           633.126667                 89828.0  \n5320                1009.0           653.084112                 75240.0  \n\n[5321 rows x 22 columns]",
      "text/html": "<div>\n<style scoped>\n    .dataframe tbody tr th:only-of-type {\n        vertical-align: middle;\n    }\n\n    .dataframe tbody tr th {\n        vertical-align: top;\n    }\n\n    .dataframe thead th {\n        text-align: right;\n    }\n</style>\n<table border=\"1\" class=\"dataframe\">\n  <thead>\n    <tr style=\"text-align: right;\">\n      <th></th>\n      <th>Unnamed: 0</th>\n      <th>geo_value</th>\n      <th>time_value</th>\n      <th>covid_cases</th>\n      <th>confirmed_covid_visit</th>\n      <th>doctor_visits</th>\n      <th>hospital_admissions</th>\n      <th>google_anosmia_volume</th>\n      <th>google_ageusia_volume</th>\n      <th>covid_deaths</th>\n      <th>...</th>\n      <th>time_value_t_minus_1</th>\n      <th>covid_cases_t_minus_1</th>\n      <th>confirmed_covid_vist_t_minus_1</th>\n      <th>doctor_visits_t_minus_1</th>\n      <th>hospital_admissions_t_minus_1</th>\n      <th>google_anosmia_volume_t_minus_1</th>\n      <th>google_ageusia_volume_t_minus_1</th>\n      <th>covid_deaths_t_minus</th>\n      <th>home_time_t_minus_1</th>\n      <th>covid_cases_t_plus_one</th>\n    </tr>\n  </thead>\n  <tbody>\n    <tr>\n      <th>0</th>\n      <td>0</td>\n      <td>5</td>\n      <td>2020-02-21</td>\n      <td>0.0</td>\n      <td>0.011169</td>\n      <td>0.000000</td>\n      <td>0.113524</td>\n      <td>0.06</td>\n      <td>0.06</td>\n      <td>0.0</td>\n      <td>...</td>\n      <td>2020-02-20</td>\n      <td>0.0</td>\n      <td>0.012182</td>\n      <td>0.000000</td>\n      <td>0.110992</td>\n      <td>0.06</td>\n      <td>0.06</td>\n      <td>0.0</td>\n      <td>609.137236</td>\n      <td>0.0</td>\n    </tr>\n    <tr>\n      <th>2273</th>\n      <td>2346</td>\n      <td>12</td>\n      <td>2020-02-21</td>\n      <td>0.0</td>\n      <td>0.011176</td>\n      <td>0.012824</td>\n      <td>0.090121</td>\n      <td>0.06</td>\n      <td>0.04</td>\n      <td>0.0</td>\n      <td>...</td>\n      <td>2020-02-20</td>\n      <td>0.0</td>\n      <td>0.012328</td>\n      <td>0.000000</td>\n      <td>0.090382</td>\n      <td>0.06</td>\n      <td>0.04</td>\n      <td>0.0</td>\n      <td>618.223197</td>\n      <td>0.0</td>\n    </tr>\n    <tr>\n      <th>1427</th>\n      <td>1490</td>\n      <td>14</td>\n      <td>2020-02-21</td>\n      <td>0.0</td>\n      <td>0.002221</td>\n      <td>0.102249</td>\n      <td>0.104829</td>\n      <td>0.07</td>\n      <td>0.03</td>\n      <td>0.0</td>\n      <td>...</td>\n      <td>2020-02-20</td>\n      <td>0.0</td>\n      <td>0.002446</td>\n      <td>0.102826</td>\n      <td>0.111187</td>\n      <td>0.06</td>\n      <td>0.03</td>\n      <td>0.0</td>\n      <td>600.708711</td>\n      <td>0.0</td>\n    </tr>\n    <tr>\n      <th>3947</th>\n      <td>4041</td>\n      <td>1</td>\n      <td>2020-02-21</td>\n      <td>0.0</td>\n      <td>0.017125</td>\n      <td>0.000000</td>\n      <td>0.149643</td>\n      <td>0.10</td>\n      <td>0.10</td>\n      <td>0.0</td>\n      <td>...</td>\n      <td>2020-02-20</td>\n      <td>0.0</td>\n      <td>0.020132</td>\n      <td>0.000000</td>\n      <td>0.151167</td>\n      <td>0.07</td>\n      <td>0.10</td>\n      <td>0.0</td>\n      <td>524.377586</td>\n      <td>0.0</td>\n    </tr>\n    <tr>\n      <th>1850</th>\n      <td>1918</td>\n      <td>10</td>\n      <td>2020-02-21</td>\n      <td>0.0</td>\n      <td>0.003301</td>\n      <td>0.098592</td>\n      <td>0.093063</td>\n      <td>0.07</td>\n      <td>0.05</td>\n      <td>0.0</td>\n      <td>...</td>\n      <td>2020-02-20</td>\n      <td>0.0</td>\n      <td>0.003528</td>\n      <td>0.098592</td>\n      <td>0.091819</td>\n      <td>0.09</td>\n      <td>0.08</td>\n      <td>0.0</td>\n      <td>651.814286</td>\n      <td>0.0</td>\n    </tr>\n    <tr>\n      <th>...</th>\n      <td>...</td>\n      <td>...</td>\n      <td>...</td>\n      <td>...</td>\n      <td>...</td>\n      <td>...</td>\n      <td>...</td>\n      <td>...</td>\n      <td>...</td>\n      <td>...</td>\n      <td>...</td>\n      <td>...</td>\n      <td>...</td>\n      <td>...</td>\n      <td>...</td>\n      <td>...</td>\n      <td>...</td>\n      <td>...</td>\n      <td>...</td>\n      <td>...</td>\n      <td>...</td>\n    </tr>\n    <tr>\n      <th>1849</th>\n      <td>1912</td>\n      <td>14</td>\n      <td>2021-04-18</td>\n      <td>1105979.0</td>\n      <td>0.396314</td>\n      <td>4.824419</td>\n      <td>1.098291</td>\n      <td>0.11</td>\n      <td>0.07</td>\n      <td>23635.0</td>\n      <td>...</td>\n      <td>2021-04-17</td>\n      <td>1105681.0</td>\n      <td>0.447822</td>\n      <td>5.019166</td>\n      <td>1.077912</td>\n      <td>0.13</td>\n      <td>0.09</td>\n      <td>23610.0</td>\n      <td>721.432060</td>\n      <td>1106233.0</td>\n    </tr>\n    <tr>\n      <th>3105</th>\n      <td>3188</td>\n      <td>8</td>\n      <td>2021-04-18</td>\n      <td>98487.0</td>\n      <td>0.390862</td>\n      <td>3.305628</td>\n      <td>0.852671</td>\n      <td>0.11</td>\n      <td>0.15</td>\n      <td>1579.0</td>\n      <td>...</td>\n      <td>2021-04-17</td>\n      <td>98388.0</td>\n      <td>0.393359</td>\n      <td>3.464602</td>\n      <td>0.635434</td>\n      <td>0.13</td>\n      <td>0.14</td>\n      <td>1579.0</td>\n      <td>681.184413</td>\n      <td>98598.0</td>\n    </tr>\n    <tr>\n      <th>2272</th>\n      <td>2340</td>\n      <td>10</td>\n      <td>2021-04-18</td>\n      <td>235590.0</td>\n      <td>0.434494</td>\n      <td>3.969369</td>\n      <td>1.179754</td>\n      <td>0.11</td>\n      <td>0.06</td>\n      <td>4896.0</td>\n      <td>...</td>\n      <td>2021-04-17</td>\n      <td>235527.0</td>\n      <td>0.400532</td>\n      <td>3.960434</td>\n      <td>1.082365</td>\n      <td>0.12</td>\n      <td>0.06</td>\n      <td>4891.0</td>\n      <td>756.964855</td>\n      <td>235659.0</td>\n    </tr>\n    <tr>\n      <th>1426</th>\n      <td>1487</td>\n      <td>6</td>\n      <td>2021-04-18</td>\n      <td>89810.0</td>\n      <td>0.580476</td>\n      <td>2.517366</td>\n      <td>1.873157</td>\n      <td>0.28</td>\n      <td>0.16</td>\n      <td>1307.0</td>\n      <td>...</td>\n      <td>2021-04-17</td>\n      <td>89781.0</td>\n      <td>0.394292</td>\n      <td>2.644986</td>\n      <td>2.568942</td>\n      <td>0.28</td>\n      <td>0.10</td>\n      <td>1307.0</td>\n      <td>633.126667</td>\n      <td>89828.0</td>\n    </tr>\n    <tr>\n      <th>5320</th>\n      <td>5522</td>\n      <td>4</td>\n      <td>2021-04-18</td>\n      <td>75220.0</td>\n      <td>0.207101</td>\n      <td>1.772886</td>\n      <td>1.451723</td>\n      <td>0.11</td>\n      <td>0.10</td>\n      <td>1009.0</td>\n      <td>...</td>\n      <td>2021-04-17</td>\n      <td>75195.0</td>\n      <td>0.112728</td>\n      <td>1.673901</td>\n      <td>1.725588</td>\n      <td>0.11</td>\n      <td>0.10</td>\n      <td>1009.0</td>\n      <td>653.084112</td>\n      <td>75240.0</td>\n    </tr>\n  </tbody>\n</table>\n<p>5321 rows × 22 columns</p>\n</div>"
     },
     "metadata": {}
    }
   ],
   "execution_count": null
  },
  {
   "cell_type": "code",
   "source": "# initialize a scaler\nscaler1 = StandardScaler()\n\n# read in the data\nfull_imputed_unsorted = pd.read_csv('imputed_clean_good_full_df_all_features.csv')\nfull_imputed_unsorted['geo_value'] = full_imputed_unsorted['geo_value'].astype('float')\nfiu_cols = full_imputed_unsorted.columns\n#use_this['geo_value_t_minus_1'] = use_this['geo_value_t_minus_1'].astype('float')\nfull_imputed = pd.DataFrame(np.array(full_imputed_unsorted.sort_values('time_value')))\nfull_imputed.columns = fiu_cols\nfull_imputed = full_imputed.drop(columns = ['Unnamed: 0','time_value','time_value_t_minus_1'])\nkeep_cols_full_imputed = full_imputed.columns\n\n# fit the cleanedish data to the \nscaled1 = scaler1.fit(full_imputed)\nfull_df_scaled = scaled1.transform(full_imputed)\nfull_df_scaled",
   "metadata": {
    "tags": [],
    "cell_id": "00001-4f030ab4-765e-4804-8f1c-17079b7744a3",
    "deepnote_to_be_reexecuted": false,
    "source_hash": "914c83ba",
    "execution_start": 1638732889021,
    "execution_millis": 453,
    "deepnote_output_heights": [
     251.4375
    ],
    "deepnote_cell_type": "code"
   },
   "outputs": [
    {
     "output_type": "execute_result",
     "execution_count": 4,
     "data": {
      "text/plain": "array([[-0.70903045, -0.48801062, -0.88565298, ..., -0.43267497,\n        -1.90514839, -0.48933603],\n       [ 1.02945004, -0.48801062, -0.88564388, ..., -0.43267497,\n        -1.82029542, -0.48933603],\n       [ 1.52615875, -0.48801062, -0.89728451, ..., -0.43267497,\n        -1.98386164, -0.48933603],\n       ...,\n       [ 0.53274133,  0.96461909, -0.33537149, ...,  1.2042224 ,\n        -0.52459946,  0.95803009],\n       [-0.46067609,  0.06575089, -0.14560886, ...,  0.00474577,\n        -1.68111324,  0.06236794],\n       [-0.9573848 , -0.02420992, -0.63096087, ..., -0.0949875 ,\n        -1.49473244, -0.02722838]])"
     },
     "metadata": {}
    }
   ],
   "execution_count": null
  },
  {
   "cell_type": "markdown",
   "source": "For splitting the training and testing data, we decided to do a 90% : 10% split. For splitting on time, we will be taking the first 90% to be the training and the last 10% as the testing. Since 4789 is 90% of the entire dataset, we can manually split the data using slicers. \n\nBelow, to visualize the Backward subset selection, we will store the mses we recieve from cross validation in a list called ```models_mse```",
   "metadata": {
    "tags": [],
    "cell_id": "00003-387bea8c-48d0-4818-8316-0be3e28e85dc",
    "deepnote_cell_type": "markdown"
   }
  },
  {
   "cell_type": "code",
   "source": "models_mse = []",
   "metadata": {
    "tags": [],
    "cell_id": "00007-408aeee8-d50f-4813-802f-59475efc7563",
    "deepnote_to_be_reexecuted": false,
    "source_hash": "bc340644",
    "execution_start": 1638732892410,
    "execution_millis": 74301347,
    "deepnote_cell_type": "code"
   },
   "outputs": [],
   "execution_count": null
  },
  {
   "cell_type": "code",
   "source": "# First model : Includes all features we want to look at\n\ntrain1 = pd.DataFrame(full_df_scaled[:4789,:])\ntrain1.columns = keep_cols_full_imputed\ntest1 = pd.DataFrame(full_df_scaled[4789:,:])\ntest1.columns = keep_cols_full_imputed\nxtrain1 = train1.iloc[:,:18]\nytrain1 = train1.iloc[:,18]\nxtest1 = test1.iloc[:,:18]\nytest1 = test1.iloc[:,18]",
   "metadata": {
    "tags": [],
    "cell_id": "00004-b99917a1-7637-428e-b4a4-2106073bf13c",
    "deepnote_to_be_reexecuted": false,
    "source_hash": "13606c02",
    "execution_start": 1638732894192,
    "execution_millis": 25,
    "deepnote_output_heights": [
     21.1875
    ],
    "deepnote_cell_type": "code"
   },
   "outputs": [],
   "execution_count": null
  },
  {
   "cell_type": "code",
   "source": "# utilize TimeSeriesSplit and cross_val_score to obtain the MSE\ntscv = TimeSeriesSplit(n_splits=5)\nlr1 = LinearRegression()\nprint(np.mean(cross_val_score(lr1, xtrain1 , ytrain1, cv= tscv, n_jobs = -1, scoring = 'neg_mean_squared_error')))\nmodels_mse.append(np.mean(cross_val_score(lr1, xtrain1 , ytrain1, cv= tscv, n_jobs = -1, scoring = 'neg_mean_squared_error')))",
   "metadata": {
    "tags": [],
    "cell_id": "00010-9d2a2c1a-5001-400d-a116-66c29fa8d29c",
    "deepnote_to_be_reexecuted": false,
    "source_hash": "d67be57e",
    "execution_start": 1638732896120,
    "execution_millis": 6480,
    "deepnote_cell_type": "code"
   },
   "outputs": [
    {
     "name": "stdout",
     "text": "-0.00010399269854383399\n",
     "output_type": "stream"
    }
   ],
   "execution_count": null
  },
  {
   "cell_type": "markdown",
   "source": "Below, we will look at the OLS summary and see which coefficients are the most important to the model and perform some feature selection.",
   "metadata": {
    "tags": [],
    "cell_id": "00013-80999651-d403-42ac-a176-5bbd3073a741",
    "deepnote_cell_type": "markdown"
   }
  },
  {
   "cell_type": "code",
   "source": "OLS(train1.iloc[:,18], train1.iloc[:,:18]).fit().summary()",
   "metadata": {
    "tags": [],
    "cell_id": "00014-02e4501a-26a0-4241-934e-55d935eabbdf",
    "deepnote_to_be_reexecuted": false,
    "source_hash": "3411dd6c",
    "execution_start": 1638732906215,
    "execution_millis": 175,
    "deepnote_output_heights": [
     611
    ],
    "deepnote_cell_type": "code"
   },
   "outputs": [
    {
     "output_type": "execute_result",
     "execution_count": 8,
     "data": {
      "text/plain": "<class 'statsmodels.iolib.summary.Summary'>\n\"\"\"\n                                   OLS Regression Results                                  \n===========================================================================================\nDep. Variable:     covid_cases_t_plus_one   R-squared (uncentered):                   1.000\nModel:                                OLS   Adj. R-squared (uncentered):              1.000\nMethod:                     Least Squares   F-statistic:                          7.346e+06\nDate:                    Sun, 05 Dec 2021   Prob (F-statistic):                        0.00\nTime:                            19:35:06   Log-Likelihood:                          18328.\nNo. Observations:                    4789   AIC:                                 -3.662e+04\nDf Residuals:                        4772   BIC:                                 -3.651e+04\nDf Model:                              17                                                  \nCovariance Type:                nonrobust                                                  \n===================================================================================================\n                                      coef    std err          t      P>|t|      [0.025      0.975]\n---------------------------------------------------------------------------------------------------\ngeo_value                           0.0003   4.52e-05      7.005      0.000       0.000       0.000\ncovid_cases                         1.6082      0.012    137.031      0.000       1.585       1.631\nconfirmed_covid_visit            2.665e-05      0.001      0.041      0.967      -0.001       0.001\ndoctor_visits                       0.0030      0.001      5.221      0.000       0.002       0.004\nhospital_admissions                 0.0024      0.001      2.649      0.008       0.001       0.004\ngoogle_anosmia_volume              -0.0002      0.000     -0.877      0.381      -0.001       0.000\ngoogle_ageusia_volume               0.0002      0.000      0.826      0.409      -0.000       0.001\ncovid_deaths                        0.0401      0.012      3.233      0.001       0.016       0.064\nhome_time                          -0.0002      0.000     -1.256      0.209      -0.000       0.000\ngeo_value_t_minus_1                 0.0003   4.52e-05      7.005      0.000       0.000       0.000\ncovid_cases_t_minus_1              -0.6068      0.012    -51.507      0.000      -0.630      -0.584\nconfirmed_covid_vist_t_minus_1     -0.0008      0.001     -1.259      0.208      -0.002       0.000\ndoctor_visits_t_minus_1            -0.0019      0.001     -3.229      0.001      -0.003      -0.001\nhospital_admissions_t_minus_1      -0.0024      0.001     -2.681      0.007      -0.004      -0.001\ngoogle_anosmia_volume_t_minus_1 -3.077e-05      0.000     -0.170      0.865      -0.000       0.000\ngoogle_ageusia_volume_t_minus_1     0.0010      0.000      3.318      0.001       0.000       0.002\ncovid_deaths_t_minus               -0.0417      0.012     -3.390      0.001      -0.066      -0.018\nhome_time_t_minus_1                 0.0004      0.000      2.824      0.005       0.000       0.001\n==============================================================================\nOmnibus:                     4737.573   Durbin-Watson:                   1.883\nProb(Omnibus):                  0.000   Jarque-Bera (JB):         17100648.792\nSkew:                           3.464   Prob(JB):                         0.00\nKurtosis:                     295.663   Cond. No.                     6.08e+15\n==============================================================================\n\nNotes:\n[1] R² is computed without centering (uncentered) since the model does not contain a constant.\n[2] Standard Errors assume that the covariance matrix of the errors is correctly specified.\n[3] The smallest eigenvalue is 1.1e-27. This might indicate that there are\nstrong multicollinearity problems or that the design matrix is singular.\n\"\"\"",
      "text/html": "<table class=\"simpletable\">\n<caption>OLS Regression Results</caption>\n<tr>\n  <th>Dep. Variable:</th>    <td>covid_cases_t_plus_one</td> <th>  R-squared (uncentered):</th>       <td>   1.000</td> \n</tr>\n<tr>\n  <th>Model:</th>                      <td>OLS</td>          <th>  Adj. R-squared (uncentered):</th>  <td>   1.000</td> \n</tr>\n<tr>\n  <th>Method:</th>                <td>Least Squares</td>     <th>  F-statistic:       </th>           <td>7.346e+06</td>\n</tr>\n<tr>\n  <th>Date:</th>                <td>Sun, 05 Dec 2021</td>    <th>  Prob (F-statistic):</th>            <td>  0.00</td>  \n</tr>\n<tr>\n  <th>Time:</th>                    <td>19:35:06</td>        <th>  Log-Likelihood:    </th>           <td>  18328.</td> \n</tr>\n<tr>\n  <th>No. Observations:</th>         <td>  4789</td>         <th>  AIC:               </th>          <td>-3.662e+04</td>\n</tr>\n<tr>\n  <th>Df Residuals:</th>             <td>  4772</td>         <th>  BIC:               </th>          <td>-3.651e+04</td>\n</tr>\n<tr>\n  <th>Df Model:</th>                 <td>    17</td>         <th>                     </th>               <td> </td>    \n</tr>\n<tr>\n  <th>Covariance Type:</th>         <td>nonrobust</td>       <th>                     </th>               <td> </td>    \n</tr>\n</table>\n<table class=\"simpletable\">\n<tr>\n                 <td></td>                    <th>coef</th>     <th>std err</th>      <th>t</th>      <th>P>|t|</th>  <th>[0.025</th>    <th>0.975]</th>  \n</tr>\n<tr>\n  <th>geo_value</th>                       <td>    0.0003</td> <td> 4.52e-05</td> <td>    7.005</td> <td> 0.000</td> <td>    0.000</td> <td>    0.000</td>\n</tr>\n<tr>\n  <th>covid_cases</th>                     <td>    1.6082</td> <td>    0.012</td> <td>  137.031</td> <td> 0.000</td> <td>    1.585</td> <td>    1.631</td>\n</tr>\n<tr>\n  <th>confirmed_covid_visit</th>           <td> 2.665e-05</td> <td>    0.001</td> <td>    0.041</td> <td> 0.967</td> <td>   -0.001</td> <td>    0.001</td>\n</tr>\n<tr>\n  <th>doctor_visits</th>                   <td>    0.0030</td> <td>    0.001</td> <td>    5.221</td> <td> 0.000</td> <td>    0.002</td> <td>    0.004</td>\n</tr>\n<tr>\n  <th>hospital_admissions</th>             <td>    0.0024</td> <td>    0.001</td> <td>    2.649</td> <td> 0.008</td> <td>    0.001</td> <td>    0.004</td>\n</tr>\n<tr>\n  <th>google_anosmia_volume</th>           <td>   -0.0002</td> <td>    0.000</td> <td>   -0.877</td> <td> 0.381</td> <td>   -0.001</td> <td>    0.000</td>\n</tr>\n<tr>\n  <th>google_ageusia_volume</th>           <td>    0.0002</td> <td>    0.000</td> <td>    0.826</td> <td> 0.409</td> <td>   -0.000</td> <td>    0.001</td>\n</tr>\n<tr>\n  <th>covid_deaths</th>                    <td>    0.0401</td> <td>    0.012</td> <td>    3.233</td> <td> 0.001</td> <td>    0.016</td> <td>    0.064</td>\n</tr>\n<tr>\n  <th>home_time</th>                       <td>   -0.0002</td> <td>    0.000</td> <td>   -1.256</td> <td> 0.209</td> <td>   -0.000</td> <td>    0.000</td>\n</tr>\n<tr>\n  <th>geo_value_t_minus_1</th>             <td>    0.0003</td> <td> 4.52e-05</td> <td>    7.005</td> <td> 0.000</td> <td>    0.000</td> <td>    0.000</td>\n</tr>\n<tr>\n  <th>covid_cases_t_minus_1</th>           <td>   -0.6068</td> <td>    0.012</td> <td>  -51.507</td> <td> 0.000</td> <td>   -0.630</td> <td>   -0.584</td>\n</tr>\n<tr>\n  <th>confirmed_covid_vist_t_minus_1</th>  <td>   -0.0008</td> <td>    0.001</td> <td>   -1.259</td> <td> 0.208</td> <td>   -0.002</td> <td>    0.000</td>\n</tr>\n<tr>\n  <th>doctor_visits_t_minus_1</th>         <td>   -0.0019</td> <td>    0.001</td> <td>   -3.229</td> <td> 0.001</td> <td>   -0.003</td> <td>   -0.001</td>\n</tr>\n<tr>\n  <th>hospital_admissions_t_minus_1</th>   <td>   -0.0024</td> <td>    0.001</td> <td>   -2.681</td> <td> 0.007</td> <td>   -0.004</td> <td>   -0.001</td>\n</tr>\n<tr>\n  <th>google_anosmia_volume_t_minus_1</th> <td>-3.077e-05</td> <td>    0.000</td> <td>   -0.170</td> <td> 0.865</td> <td>   -0.000</td> <td>    0.000</td>\n</tr>\n<tr>\n  <th>google_ageusia_volume_t_minus_1</th> <td>    0.0010</td> <td>    0.000</td> <td>    3.318</td> <td> 0.001</td> <td>    0.000</td> <td>    0.002</td>\n</tr>\n<tr>\n  <th>covid_deaths_t_minus</th>            <td>   -0.0417</td> <td>    0.012</td> <td>   -3.390</td> <td> 0.001</td> <td>   -0.066</td> <td>   -0.018</td>\n</tr>\n<tr>\n  <th>home_time_t_minus_1</th>             <td>    0.0004</td> <td>    0.000</td> <td>    2.824</td> <td> 0.005</td> <td>    0.000</td> <td>    0.001</td>\n</tr>\n</table>\n<table class=\"simpletable\">\n<tr>\n  <th>Omnibus:</th>       <td>4737.573</td> <th>  Durbin-Watson:     </th>   <td>   1.883</td>  \n</tr>\n<tr>\n  <th>Prob(Omnibus):</th>  <td> 0.000</td>  <th>  Jarque-Bera (JB):  </th> <td>17100648.792</td>\n</tr>\n<tr>\n  <th>Skew:</th>           <td> 3.464</td>  <th>  Prob(JB):          </th>   <td>    0.00</td>  \n</tr>\n<tr>\n  <th>Kurtosis:</th>       <td>295.663</td> <th>  Cond. No.          </th>   <td>6.08e+15</td>  \n</tr>\n</table><br/><br/>Notes:<br/>[1] R² is computed without centering (uncentered) since the model does not contain a constant.<br/>[2] Standard Errors assume that the covariance matrix of the errors is correctly specified.<br/>[3] The smallest eigenvalue is 1.1e-27. This might indicate that there are<br/>strong multicollinearity problems or that the design matrix is singular."
     },
     "metadata": {}
    }
   ],
   "execution_count": null
  },
  {
   "cell_type": "markdown",
   "source": "Based on the summary from above, we will get rid of the ```google_anosmia_volume_t_minus_1``` attribute since it has the highest p-value.",
   "metadata": {
    "tags": [],
    "cell_id": "00012-e7adf963-9aa8-495d-8c85-ec3787a49f22",
    "deepnote_cell_type": "markdown"
   },
   "outputs": [],
   "execution_count": null
  },
  {
   "cell_type": "markdown",
   "source": "#### Getting rid of 'google_anosmia_volume_t_minus_1'",
   "metadata": {
    "tags": [],
    "cell_id": "00012-44808026-f3d3-4767-a66a-2d62ea8f4b2a",
    "deepnote_cell_type": "markdown"
   }
  },
  {
   "cell_type": "code",
   "source": "# fit the cleanedish data to the \nscaler2 = StandardScaler()\n\nuse_df_1 = full_imputed.drop(columns = ['google_anosmia_volume_t_minus_1'])\nscaled_df1 = scaler2.fit(use_df_1)\nfull_df_scaled_1 = scaled_df1.transform(use_df_1)\ntrain2 = pd.DataFrame(full_df_scaled_1[:4789,:])\ntrain2.columns = use_df_1.columns\ntest2 = pd.DataFrame(full_df_scaled_1[4789:,:])\ntest2.columns = use_df_1.columns\nxtrain2 = train2.iloc[:,:17]\nytrain2 = train2.iloc[:,17]\nxtest2 = test2.iloc[:,:17]\nytest2 = test2.iloc[:,17]",
   "metadata": {
    "tags": [],
    "cell_id": "00013-f74d3ccb-3ec9-42ea-88a9-fdc59b61311e",
    "deepnote_to_be_reexecuted": false,
    "source_hash": "9c6287e8",
    "execution_start": 1638732912332,
    "execution_millis": 114,
    "deepnote_cell_type": "code"
   },
   "outputs": [],
   "execution_count": null
  },
  {
   "cell_type": "code",
   "source": "tscv = TimeSeriesSplit(n_splits=5)\nlr2 = LinearRegression()\nprint(np.mean(cross_val_score(lr2, xtrain2 , ytrain2, cv= tscv, n_jobs = -1, scoring = 'neg_mean_squared_error')))\nmodels_mse.append(np.mean(cross_val_score(lr2, xtrain2 , ytrain2, cv= tscv, n_jobs = -1, scoring = 'neg_mean_squared_error')))",
   "metadata": {
    "tags": [],
    "cell_id": "00014-fe502792-2832-4b04-a45b-35161d3c05c6",
    "deepnote_to_be_reexecuted": false,
    "source_hash": "1ae9f19e",
    "execution_start": 1638732915326,
    "execution_millis": 689,
    "deepnote_output_heights": [
     21.1875
    ],
    "deepnote_cell_type": "code"
   },
   "outputs": [
    {
     "name": "stdout",
     "text": "-0.00010400535422689448\n",
     "output_type": "stream"
    }
   ],
   "execution_count": null
  },
  {
   "cell_type": "code",
   "source": "OLS(train2.iloc[:,17], train2.iloc[:,:17]).fit().summary()",
   "metadata": {
    "tags": [],
    "cell_id": "00015-75156785-dc41-44c9-9214-795db8473850",
    "deepnote_to_be_reexecuted": false,
    "source_hash": "d374c149",
    "execution_start": 1638732917437,
    "execution_millis": 372,
    "deepnote_output_heights": [
     611
    ],
    "deepnote_cell_type": "code"
   },
   "outputs": [
    {
     "output_type": "execute_result",
     "execution_count": 11,
     "data": {
      "text/plain": "<class 'statsmodels.iolib.summary.Summary'>\n\"\"\"\n                                   OLS Regression Results                                  \n===========================================================================================\nDep. Variable:     covid_cases_t_plus_one   R-squared (uncentered):                   1.000\nModel:                                OLS   Adj. R-squared (uncentered):              1.000\nMethod:                     Least Squares   F-statistic:                          7.807e+06\nDate:                    Sun, 05 Dec 2021   Prob (F-statistic):                        0.00\nTime:                            19:35:17   Log-Likelihood:                          18328.\nNo. Observations:                    4789   AIC:                                 -3.662e+04\nDf Residuals:                        4773   BIC:                                 -3.652e+04\nDf Model:                              16                                                  \nCovariance Type:                nonrobust                                                  \n===================================================================================================\n                                      coef    std err          t      P>|t|      [0.025      0.975]\n---------------------------------------------------------------------------------------------------\ngeo_value                           0.0003   4.52e-05      7.009      0.000       0.000       0.000\ncovid_cases                         1.6082      0.012    137.084      0.000       1.585       1.631\nconfirmed_covid_visit            3.068e-05      0.001      0.047      0.962      -0.001       0.001\ndoctor_visits                       0.0030      0.001      5.228      0.000       0.002       0.004\nhospital_admissions                 0.0024      0.001      2.646      0.008       0.001       0.004\ngoogle_anosmia_volume              -0.0002      0.000     -1.153      0.249      -0.000       0.000\ngoogle_ageusia_volume               0.0002      0.000      0.869      0.385      -0.000       0.001\ncovid_deaths                        0.0401      0.012      3.232      0.001       0.016       0.064\nhome_time                          -0.0002      0.000     -1.264      0.206      -0.000       0.000\ngeo_value_t_minus_1                 0.0003   4.52e-05      7.009      0.000       0.000       0.000\ncovid_cases_t_minus_1              -0.6068      0.012    -51.531      0.000      -0.630      -0.584\nconfirmed_covid_vist_t_minus_1     -0.0008      0.001     -1.262      0.207      -0.002       0.000\ndoctor_visits_t_minus_1            -0.0019      0.001     -3.234      0.001      -0.003      -0.001\nhospital_admissions_t_minus_1      -0.0024      0.001     -2.677      0.007      -0.004      -0.001\ngoogle_ageusia_volume_t_minus_1     0.0009      0.000      3.690      0.000       0.000       0.001\ncovid_deaths_t_minus               -0.0417      0.012     -3.388      0.001      -0.066      -0.018\nhome_time_t_minus_1                 0.0004      0.000      2.819      0.005       0.000       0.001\n==============================================================================\nOmnibus:                     4737.798   Durbin-Watson:                   1.883\nProb(Omnibus):                  0.000   Jarque-Bera (JB):         17099062.874\nSkew:                           3.464   Prob(JB):                         0.00\nKurtosis:                     295.649   Cond. No.                     5.85e+15\n==============================================================================\n\nNotes:\n[1] R² is computed without centering (uncentered) since the model does not contain a constant.\n[2] Standard Errors assume that the covariance matrix of the errors is correctly specified.\n[3] The smallest eigenvalue is 1.09e-27. This might indicate that there are\nstrong multicollinearity problems or that the design matrix is singular.\n\"\"\"",
      "text/html": "<table class=\"simpletable\">\n<caption>OLS Regression Results</caption>\n<tr>\n  <th>Dep. Variable:</th>    <td>covid_cases_t_plus_one</td> <th>  R-squared (uncentered):</th>       <td>   1.000</td> \n</tr>\n<tr>\n  <th>Model:</th>                      <td>OLS</td>          <th>  Adj. R-squared (uncentered):</th>  <td>   1.000</td> \n</tr>\n<tr>\n  <th>Method:</th>                <td>Least Squares</td>     <th>  F-statistic:       </th>           <td>7.807e+06</td>\n</tr>\n<tr>\n  <th>Date:</th>                <td>Sun, 05 Dec 2021</td>    <th>  Prob (F-statistic):</th>            <td>  0.00</td>  \n</tr>\n<tr>\n  <th>Time:</th>                    <td>19:35:17</td>        <th>  Log-Likelihood:    </th>           <td>  18328.</td> \n</tr>\n<tr>\n  <th>No. Observations:</th>         <td>  4789</td>         <th>  AIC:               </th>          <td>-3.662e+04</td>\n</tr>\n<tr>\n  <th>Df Residuals:</th>             <td>  4773</td>         <th>  BIC:               </th>          <td>-3.652e+04</td>\n</tr>\n<tr>\n  <th>Df Model:</th>                 <td>    16</td>         <th>                     </th>               <td> </td>    \n</tr>\n<tr>\n  <th>Covariance Type:</th>         <td>nonrobust</td>       <th>                     </th>               <td> </td>    \n</tr>\n</table>\n<table class=\"simpletable\">\n<tr>\n                 <td></td>                    <th>coef</th>     <th>std err</th>      <th>t</th>      <th>P>|t|</th>  <th>[0.025</th>    <th>0.975]</th>  \n</tr>\n<tr>\n  <th>geo_value</th>                       <td>    0.0003</td> <td> 4.52e-05</td> <td>    7.009</td> <td> 0.000</td> <td>    0.000</td> <td>    0.000</td>\n</tr>\n<tr>\n  <th>covid_cases</th>                     <td>    1.6082</td> <td>    0.012</td> <td>  137.084</td> <td> 0.000</td> <td>    1.585</td> <td>    1.631</td>\n</tr>\n<tr>\n  <th>confirmed_covid_visit</th>           <td> 3.068e-05</td> <td>    0.001</td> <td>    0.047</td> <td> 0.962</td> <td>   -0.001</td> <td>    0.001</td>\n</tr>\n<tr>\n  <th>doctor_visits</th>                   <td>    0.0030</td> <td>    0.001</td> <td>    5.228</td> <td> 0.000</td> <td>    0.002</td> <td>    0.004</td>\n</tr>\n<tr>\n  <th>hospital_admissions</th>             <td>    0.0024</td> <td>    0.001</td> <td>    2.646</td> <td> 0.008</td> <td>    0.001</td> <td>    0.004</td>\n</tr>\n<tr>\n  <th>google_anosmia_volume</th>           <td>   -0.0002</td> <td>    0.000</td> <td>   -1.153</td> <td> 0.249</td> <td>   -0.000</td> <td>    0.000</td>\n</tr>\n<tr>\n  <th>google_ageusia_volume</th>           <td>    0.0002</td> <td>    0.000</td> <td>    0.869</td> <td> 0.385</td> <td>   -0.000</td> <td>    0.001</td>\n</tr>\n<tr>\n  <th>covid_deaths</th>                    <td>    0.0401</td> <td>    0.012</td> <td>    3.232</td> <td> 0.001</td> <td>    0.016</td> <td>    0.064</td>\n</tr>\n<tr>\n  <th>home_time</th>                       <td>   -0.0002</td> <td>    0.000</td> <td>   -1.264</td> <td> 0.206</td> <td>   -0.000</td> <td>    0.000</td>\n</tr>\n<tr>\n  <th>geo_value_t_minus_1</th>             <td>    0.0003</td> <td> 4.52e-05</td> <td>    7.009</td> <td> 0.000</td> <td>    0.000</td> <td>    0.000</td>\n</tr>\n<tr>\n  <th>covid_cases_t_minus_1</th>           <td>   -0.6068</td> <td>    0.012</td> <td>  -51.531</td> <td> 0.000</td> <td>   -0.630</td> <td>   -0.584</td>\n</tr>\n<tr>\n  <th>confirmed_covid_vist_t_minus_1</th>  <td>   -0.0008</td> <td>    0.001</td> <td>   -1.262</td> <td> 0.207</td> <td>   -0.002</td> <td>    0.000</td>\n</tr>\n<tr>\n  <th>doctor_visits_t_minus_1</th>         <td>   -0.0019</td> <td>    0.001</td> <td>   -3.234</td> <td> 0.001</td> <td>   -0.003</td> <td>   -0.001</td>\n</tr>\n<tr>\n  <th>hospital_admissions_t_minus_1</th>   <td>   -0.0024</td> <td>    0.001</td> <td>   -2.677</td> <td> 0.007</td> <td>   -0.004</td> <td>   -0.001</td>\n</tr>\n<tr>\n  <th>google_ageusia_volume_t_minus_1</th> <td>    0.0009</td> <td>    0.000</td> <td>    3.690</td> <td> 0.000</td> <td>    0.000</td> <td>    0.001</td>\n</tr>\n<tr>\n  <th>covid_deaths_t_minus</th>            <td>   -0.0417</td> <td>    0.012</td> <td>   -3.388</td> <td> 0.001</td> <td>   -0.066</td> <td>   -0.018</td>\n</tr>\n<tr>\n  <th>home_time_t_minus_1</th>             <td>    0.0004</td> <td>    0.000</td> <td>    2.819</td> <td> 0.005</td> <td>    0.000</td> <td>    0.001</td>\n</tr>\n</table>\n<table class=\"simpletable\">\n<tr>\n  <th>Omnibus:</th>       <td>4737.798</td> <th>  Durbin-Watson:     </th>   <td>   1.883</td>  \n</tr>\n<tr>\n  <th>Prob(Omnibus):</th>  <td> 0.000</td>  <th>  Jarque-Bera (JB):  </th> <td>17099062.874</td>\n</tr>\n<tr>\n  <th>Skew:</th>           <td> 3.464</td>  <th>  Prob(JB):          </th>   <td>    0.00</td>  \n</tr>\n<tr>\n  <th>Kurtosis:</th>       <td>295.649</td> <th>  Cond. No.          </th>   <td>5.85e+15</td>  \n</tr>\n</table><br/><br/>Notes:<br/>[1] R² is computed without centering (uncentered) since the model does not contain a constant.<br/>[2] Standard Errors assume that the covariance matrix of the errors is correctly specified.<br/>[3] The smallest eigenvalue is 1.09e-27. This might indicate that there are<br/>strong multicollinearity problems or that the design matrix is singular."
     },
     "metadata": {}
    }
   ],
   "execution_count": null
  },
  {
   "cell_type": "markdown",
   "source": "#### Getting rid of the 'confirmed covid_vist' column",
   "metadata": {
    "tags": [],
    "cell_id": "00016-d0cf39e6-8e9b-4f78-99c2-a2afc6c5e43f",
    "deepnote_cell_type": "markdown"
   },
   "outputs": [],
   "execution_count": null
  },
  {
   "cell_type": "code",
   "source": "scaler3 = StandardScaler()\n\nuse_df_2 = use_df_1.drop(columns = ['confirmed_covid_visit'])\nscaled_df2 = scaler3.fit(use_df_2)\nfull_df_scaled_2 = scaled_df2.transform(use_df_2)\ntrain3 = pd.DataFrame(full_df_scaled_2[:4789,:])\ntrain3.columns = use_df_2.columns\ntest3 = pd.DataFrame(full_df_scaled_2[4789:,:])\ntest3.columns = use_df_2.columns\nxtrain3 = train3.iloc[:,:16]\nytrain3 = train3.iloc[:,16]\nxtest3 = test3.iloc[:,:16]\nytest3 = test3.iloc[:,16]",
   "metadata": {
    "tags": [],
    "cell_id": "00017-ee182886-303b-4fd0-a275-22bed3dff4a0",
    "deepnote_to_be_reexecuted": false,
    "source_hash": "b96b28db",
    "execution_start": 1638732922447,
    "execution_millis": 81,
    "deepnote_cell_type": "code"
   },
   "outputs": [],
   "execution_count": null
  },
  {
   "cell_type": "code",
   "source": "tscv = TimeSeriesSplit(n_splits=5)\nlr3 = LinearRegression()\nprint(np.mean(cross_val_score(lr3, xtrain3 , ytrain3, cv= tscv, n_jobs = -1, scoring = 'neg_mean_squared_error')))\nmodels_mse.append(np.mean(cross_val_score(lr3, xtrain3 , ytrain3, cv= tscv, n_jobs = -1, scoring = 'neg_mean_squared_error')))",
   "metadata": {
    "tags": [],
    "cell_id": "00018-264a6e3c-ee1c-45d8-b31e-a0c2bbe8b41d",
    "deepnote_to_be_reexecuted": false,
    "source_hash": "a76b6633",
    "execution_start": 1638732925803,
    "execution_millis": 787,
    "deepnote_cell_type": "code"
   },
   "outputs": [
    {
     "name": "stdout",
     "text": "-0.00010378636366765595\n",
     "output_type": "stream"
    }
   ],
   "execution_count": null
  },
  {
   "cell_type": "code",
   "source": "OLS(train3.iloc[:,16], train3.iloc[:,:16]).fit().summary()",
   "metadata": {
    "tags": [],
    "cell_id": "00019-117851b0-dbde-4b9d-8435-8ce8846fe203",
    "deepnote_to_be_reexecuted": false,
    "source_hash": "ac3a4b5",
    "execution_start": 1638732928542,
    "execution_millis": 368,
    "deepnote_output_heights": [
     611
    ],
    "deepnote_cell_type": "code"
   },
   "outputs": [
    {
     "output_type": "execute_result",
     "execution_count": 14,
     "data": {
      "text/plain": "<class 'statsmodels.iolib.summary.Summary'>\n\"\"\"\n                                   OLS Regression Results                                  \n===========================================================================================\nDep. Variable:     covid_cases_t_plus_one   R-squared (uncentered):                   1.000\nModel:                                OLS   Adj. R-squared (uncentered):              1.000\nMethod:                     Least Squares   F-statistic:                          8.329e+06\nDate:                    Sun, 05 Dec 2021   Prob (F-statistic):                        0.00\nTime:                            19:35:28   Log-Likelihood:                          18328.\nNo. Observations:                    4789   AIC:                                 -3.663e+04\nDf Residuals:                        4774   BIC:                                 -3.653e+04\nDf Model:                              15                                                  \nCovariance Type:                nonrobust                                                  \n===================================================================================================\n                                      coef    std err          t      P>|t|      [0.025      0.975]\n---------------------------------------------------------------------------------------------------\ngeo_value                           0.0003   4.52e-05      7.012      0.000       0.000       0.000\ncovid_cases                         1.6082      0.012    137.099      0.000       1.585       1.631\ndoctor_visits                       0.0030      0.001      5.334      0.000       0.002       0.004\nhospital_admissions                 0.0024      0.001      2.646      0.008       0.001       0.004\ngoogle_anosmia_volume              -0.0002      0.000     -1.154      0.249      -0.000       0.000\ngoogle_ageusia_volume               0.0002      0.000      0.871      0.384      -0.000       0.001\ncovid_deaths                        0.0401      0.012      3.232      0.001       0.016       0.064\nhome_time                          -0.0002      0.000     -1.275      0.202      -0.000       0.000\ngeo_value_t_minus_1                 0.0003   4.52e-05      7.012      0.000       0.000       0.000\ncovid_cases_t_minus_1              -0.6068      0.012    -51.536      0.000      -0.630      -0.584\nconfirmed_covid_vist_t_minus_1     -0.0008      0.000     -4.572      0.000      -0.001      -0.000\ndoctor_visits_t_minus_1            -0.0019      0.001     -3.285      0.001      -0.003      -0.001\nhospital_admissions_t_minus_1      -0.0024      0.001     -2.677      0.007      -0.004      -0.001\ngoogle_ageusia_volume_t_minus_1     0.0009      0.000      3.701      0.000       0.000       0.001\ncovid_deaths_t_minus               -0.0417      0.012     -3.388      0.001      -0.066      -0.018\nhome_time_t_minus_1                 0.0004      0.000      2.839      0.005       0.000       0.001\n==============================================================================\nOmnibus:                     4737.307   Durbin-Watson:                   1.883\nProb(Omnibus):                  0.000   Jarque-Bera (JB):         17099518.408\nSkew:                           3.463   Prob(JB):                         0.00\nKurtosis:                     295.653   Cond. No.                     5.49e+15\n==============================================================================\n\nNotes:\n[1] R² is computed without centering (uncentered) since the model does not contain a constant.\n[2] Standard Errors assume that the covariance matrix of the errors is correctly specified.\n[3] The smallest eigenvalue is 1.1e-27. This might indicate that there are\nstrong multicollinearity problems or that the design matrix is singular.\n\"\"\"",
      "text/html": "<table class=\"simpletable\">\n<caption>OLS Regression Results</caption>\n<tr>\n  <th>Dep. Variable:</th>    <td>covid_cases_t_plus_one</td> <th>  R-squared (uncentered):</th>       <td>   1.000</td> \n</tr>\n<tr>\n  <th>Model:</th>                      <td>OLS</td>          <th>  Adj. R-squared (uncentered):</th>  <td>   1.000</td> \n</tr>\n<tr>\n  <th>Method:</th>                <td>Least Squares</td>     <th>  F-statistic:       </th>           <td>8.329e+06</td>\n</tr>\n<tr>\n  <th>Date:</th>                <td>Sun, 05 Dec 2021</td>    <th>  Prob (F-statistic):</th>            <td>  0.00</td>  \n</tr>\n<tr>\n  <th>Time:</th>                    <td>19:35:28</td>        <th>  Log-Likelihood:    </th>           <td>  18328.</td> \n</tr>\n<tr>\n  <th>No. Observations:</th>         <td>  4789</td>         <th>  AIC:               </th>          <td>-3.663e+04</td>\n</tr>\n<tr>\n  <th>Df Residuals:</th>             <td>  4774</td>         <th>  BIC:               </th>          <td>-3.653e+04</td>\n</tr>\n<tr>\n  <th>Df Model:</th>                 <td>    15</td>         <th>                     </th>               <td> </td>    \n</tr>\n<tr>\n  <th>Covariance Type:</th>         <td>nonrobust</td>       <th>                     </th>               <td> </td>    \n</tr>\n</table>\n<table class=\"simpletable\">\n<tr>\n                 <td></td>                    <th>coef</th>     <th>std err</th>      <th>t</th>      <th>P>|t|</th>  <th>[0.025</th>    <th>0.975]</th>  \n</tr>\n<tr>\n  <th>geo_value</th>                       <td>    0.0003</td> <td> 4.52e-05</td> <td>    7.012</td> <td> 0.000</td> <td>    0.000</td> <td>    0.000</td>\n</tr>\n<tr>\n  <th>covid_cases</th>                     <td>    1.6082</td> <td>    0.012</td> <td>  137.099</td> <td> 0.000</td> <td>    1.585</td> <td>    1.631</td>\n</tr>\n<tr>\n  <th>doctor_visits</th>                   <td>    0.0030</td> <td>    0.001</td> <td>    5.334</td> <td> 0.000</td> <td>    0.002</td> <td>    0.004</td>\n</tr>\n<tr>\n  <th>hospital_admissions</th>             <td>    0.0024</td> <td>    0.001</td> <td>    2.646</td> <td> 0.008</td> <td>    0.001</td> <td>    0.004</td>\n</tr>\n<tr>\n  <th>google_anosmia_volume</th>           <td>   -0.0002</td> <td>    0.000</td> <td>   -1.154</td> <td> 0.249</td> <td>   -0.000</td> <td>    0.000</td>\n</tr>\n<tr>\n  <th>google_ageusia_volume</th>           <td>    0.0002</td> <td>    0.000</td> <td>    0.871</td> <td> 0.384</td> <td>   -0.000</td> <td>    0.001</td>\n</tr>\n<tr>\n  <th>covid_deaths</th>                    <td>    0.0401</td> <td>    0.012</td> <td>    3.232</td> <td> 0.001</td> <td>    0.016</td> <td>    0.064</td>\n</tr>\n<tr>\n  <th>home_time</th>                       <td>   -0.0002</td> <td>    0.000</td> <td>   -1.275</td> <td> 0.202</td> <td>   -0.000</td> <td>    0.000</td>\n</tr>\n<tr>\n  <th>geo_value_t_minus_1</th>             <td>    0.0003</td> <td> 4.52e-05</td> <td>    7.012</td> <td> 0.000</td> <td>    0.000</td> <td>    0.000</td>\n</tr>\n<tr>\n  <th>covid_cases_t_minus_1</th>           <td>   -0.6068</td> <td>    0.012</td> <td>  -51.536</td> <td> 0.000</td> <td>   -0.630</td> <td>   -0.584</td>\n</tr>\n<tr>\n  <th>confirmed_covid_vist_t_minus_1</th>  <td>   -0.0008</td> <td>    0.000</td> <td>   -4.572</td> <td> 0.000</td> <td>   -0.001</td> <td>   -0.000</td>\n</tr>\n<tr>\n  <th>doctor_visits_t_minus_1</th>         <td>   -0.0019</td> <td>    0.001</td> <td>   -3.285</td> <td> 0.001</td> <td>   -0.003</td> <td>   -0.001</td>\n</tr>\n<tr>\n  <th>hospital_admissions_t_minus_1</th>   <td>   -0.0024</td> <td>    0.001</td> <td>   -2.677</td> <td> 0.007</td> <td>   -0.004</td> <td>   -0.001</td>\n</tr>\n<tr>\n  <th>google_ageusia_volume_t_minus_1</th> <td>    0.0009</td> <td>    0.000</td> <td>    3.701</td> <td> 0.000</td> <td>    0.000</td> <td>    0.001</td>\n</tr>\n<tr>\n  <th>covid_deaths_t_minus</th>            <td>   -0.0417</td> <td>    0.012</td> <td>   -3.388</td> <td> 0.001</td> <td>   -0.066</td> <td>   -0.018</td>\n</tr>\n<tr>\n  <th>home_time_t_minus_1</th>             <td>    0.0004</td> <td>    0.000</td> <td>    2.839</td> <td> 0.005</td> <td>    0.000</td> <td>    0.001</td>\n</tr>\n</table>\n<table class=\"simpletable\">\n<tr>\n  <th>Omnibus:</th>       <td>4737.307</td> <th>  Durbin-Watson:     </th>   <td>   1.883</td>  \n</tr>\n<tr>\n  <th>Prob(Omnibus):</th>  <td> 0.000</td>  <th>  Jarque-Bera (JB):  </th> <td>17099518.408</td>\n</tr>\n<tr>\n  <th>Skew:</th>           <td> 3.463</td>  <th>  Prob(JB):          </th>   <td>    0.00</td>  \n</tr>\n<tr>\n  <th>Kurtosis:</th>       <td>295.653</td> <th>  Cond. No.          </th>   <td>5.49e+15</td>  \n</tr>\n</table><br/><br/>Notes:<br/>[1] R² is computed without centering (uncentered) since the model does not contain a constant.<br/>[2] Standard Errors assume that the covariance matrix of the errors is correctly specified.<br/>[3] The smallest eigenvalue is 1.1e-27. This might indicate that there are<br/>strong multicollinearity problems or that the design matrix is singular."
     },
     "metadata": {}
    }
   ],
   "execution_count": null
  },
  {
   "cell_type": "markdown",
   "source": "#### Get rid of 'google_ageusia_volume'",
   "metadata": {
    "tags": [],
    "cell_id": "00020-b4e22350-c6f8-4a62-92b1-e12ca1fae46d",
    "deepnote_cell_type": "markdown"
   },
   "outputs": [],
   "execution_count": null
  },
  {
   "cell_type": "code",
   "source": "scaler4 = StandardScaler()\n\nuse_df_3 = use_df_2.drop(columns = ['google_ageusia_volume'])\nscaled_df3 = scaler4.fit(use_df_3)\nfull_df_scaled_3 = scaled_df3.transform(use_df_3)\ntrain4 = pd.DataFrame(full_df_scaled_3[:4789,:])\ntrain4.columns = use_df_3.columns\ntest4 = pd.DataFrame(full_df_scaled_3[4789:,:])\ntest4.columns = use_df_3.columns\nxtrain4 = train4.iloc[:,:15]\nytrain4 = train4.iloc[:,15]\nxtest4 = test4.iloc[:,:15]\nytest4 = test4.iloc[:,15]",
   "metadata": {
    "tags": [],
    "cell_id": "00021-df808adc-48b5-4531-b1a8-997abc65ce75",
    "deepnote_to_be_reexecuted": false,
    "source_hash": "9d8d634f",
    "execution_start": 1638732932454,
    "execution_millis": 129,
    "deepnote_cell_type": "code"
   },
   "outputs": [],
   "execution_count": null
  },
  {
   "cell_type": "code",
   "source": "tscv = TimeSeriesSplit(n_splits=5)\nlr4 = LinearRegression()\nprint(np.mean(cross_val_score(lr4, xtrain4 , ytrain4, cv= tscv, n_jobs = -1, scoring = 'neg_mean_squared_error')))\nmodels_mse.append(np.mean(cross_val_score(lr4, xtrain4 , ytrain4, cv= tscv, n_jobs = -1, scoring = 'neg_mean_squared_error')))",
   "metadata": {
    "tags": [],
    "cell_id": "00022-b26f25d7-fda4-41ba-87c4-bc9226cd1a6c",
    "deepnote_to_be_reexecuted": false,
    "source_hash": "ac75d0e2",
    "execution_start": 1638732934457,
    "execution_millis": 813,
    "deepnote_cell_type": "code"
   },
   "outputs": [
    {
     "name": "stdout",
     "text": "-0.00010419954455082995\n",
     "output_type": "stream"
    }
   ],
   "execution_count": null
  },
  {
   "cell_type": "code",
   "source": "OLS(train4.iloc[:,15], train4.iloc[:,:15]).fit().summary()",
   "metadata": {
    "tags": [],
    "cell_id": "00023-9e71f578-f6dc-4aea-b370-a101e3a37ada",
    "deepnote_to_be_reexecuted": false,
    "source_hash": "d770b86e",
    "execution_start": 1638732936581,
    "execution_millis": 303,
    "deepnote_output_heights": [
     611
    ],
    "deepnote_cell_type": "code"
   },
   "outputs": [
    {
     "output_type": "execute_result",
     "execution_count": 17,
     "data": {
      "text/plain": "<class 'statsmodels.iolib.summary.Summary'>\n\"\"\"\n                                   OLS Regression Results                                  \n===========================================================================================\nDep. Variable:     covid_cases_t_plus_one   R-squared (uncentered):                   1.000\nModel:                                OLS   Adj. R-squared (uncentered):              1.000\nMethod:                     Least Squares   F-statistic:                          8.924e+06\nDate:                    Sun, 05 Dec 2021   Prob (F-statistic):                        0.00\nTime:                            19:35:36   Log-Likelihood:                          18327.\nNo. Observations:                    4789   AIC:                                 -3.663e+04\nDf Residuals:                        4775   BIC:                                 -3.654e+04\nDf Model:                              14                                                  \nCovariance Type:                nonrobust                                                  \n===================================================================================================\n                                      coef    std err          t      P>|t|      [0.025      0.975]\n---------------------------------------------------------------------------------------------------\ngeo_value                           0.0003   4.51e-05      7.050      0.000       0.000       0.000\ncovid_cases                         1.6091      0.012    137.734      0.000       1.586       1.632\ndoctor_visits                       0.0030      0.001      5.440      0.000       0.002       0.004\nhospital_admissions                 0.0024      0.001      2.702      0.007       0.001       0.004\ngoogle_anosmia_volume              -0.0001      0.000     -0.843      0.399      -0.000       0.000\ncovid_deaths                        0.0398      0.012      3.208      0.001       0.015       0.064\nhome_time                          -0.0002      0.000     -1.227      0.220      -0.000       0.000\ngeo_value_t_minus_1                 0.0003   4.51e-05      7.050      0.000       0.000       0.000\ncovid_cases_t_minus_1              -0.6077      0.012    -51.833      0.000      -0.631      -0.585\nconfirmed_covid_vist_t_minus_1     -0.0008      0.000     -4.489      0.000      -0.001      -0.000\ndoctor_visits_t_minus_1            -0.0019      0.001     -3.365      0.001      -0.003      -0.001\nhospital_admissions_t_minus_1      -0.0024      0.001     -2.725      0.006      -0.004      -0.001\ngoogle_ageusia_volume_t_minus_1     0.0011      0.000      5.915      0.000       0.001       0.001\ncovid_deaths_t_minus               -0.0413      0.012     -3.364      0.001      -0.065      -0.017\nhome_time_t_minus_1                 0.0004      0.000      2.739      0.006       0.000       0.001\n==============================================================================\nOmnibus:                     4743.484   Durbin-Watson:                   1.884\nProb(Omnibus):                  0.000   Jarque-Bera (JB):         17128202.714\nSkew:                           3.472   Prob(JB):                         0.00\nKurtosis:                     295.898   Cond. No.                     5.17e+15\n==============================================================================\n\nNotes:\n[1] R² is computed without centering (uncentered) since the model does not contain a constant.\n[2] Standard Errors assume that the covariance matrix of the errors is correctly specified.\n[3] The smallest eigenvalue is 1.09e-27. This might indicate that there are\nstrong multicollinearity problems or that the design matrix is singular.\n\"\"\"",
      "text/html": "<table class=\"simpletable\">\n<caption>OLS Regression Results</caption>\n<tr>\n  <th>Dep. Variable:</th>    <td>covid_cases_t_plus_one</td> <th>  R-squared (uncentered):</th>       <td>   1.000</td> \n</tr>\n<tr>\n  <th>Model:</th>                      <td>OLS</td>          <th>  Adj. R-squared (uncentered):</th>  <td>   1.000</td> \n</tr>\n<tr>\n  <th>Method:</th>                <td>Least Squares</td>     <th>  F-statistic:       </th>           <td>8.924e+06</td>\n</tr>\n<tr>\n  <th>Date:</th>                <td>Sun, 05 Dec 2021</td>    <th>  Prob (F-statistic):</th>            <td>  0.00</td>  \n</tr>\n<tr>\n  <th>Time:</th>                    <td>19:35:36</td>        <th>  Log-Likelihood:    </th>           <td>  18327.</td> \n</tr>\n<tr>\n  <th>No. Observations:</th>         <td>  4789</td>         <th>  AIC:               </th>          <td>-3.663e+04</td>\n</tr>\n<tr>\n  <th>Df Residuals:</th>             <td>  4775</td>         <th>  BIC:               </th>          <td>-3.654e+04</td>\n</tr>\n<tr>\n  <th>Df Model:</th>                 <td>    14</td>         <th>                     </th>               <td> </td>    \n</tr>\n<tr>\n  <th>Covariance Type:</th>         <td>nonrobust</td>       <th>                     </th>               <td> </td>    \n</tr>\n</table>\n<table class=\"simpletable\">\n<tr>\n                 <td></td>                    <th>coef</th>     <th>std err</th>      <th>t</th>      <th>P>|t|</th>  <th>[0.025</th>    <th>0.975]</th>  \n</tr>\n<tr>\n  <th>geo_value</th>                       <td>    0.0003</td> <td> 4.51e-05</td> <td>    7.050</td> <td> 0.000</td> <td>    0.000</td> <td>    0.000</td>\n</tr>\n<tr>\n  <th>covid_cases</th>                     <td>    1.6091</td> <td>    0.012</td> <td>  137.734</td> <td> 0.000</td> <td>    1.586</td> <td>    1.632</td>\n</tr>\n<tr>\n  <th>doctor_visits</th>                   <td>    0.0030</td> <td>    0.001</td> <td>    5.440</td> <td> 0.000</td> <td>    0.002</td> <td>    0.004</td>\n</tr>\n<tr>\n  <th>hospital_admissions</th>             <td>    0.0024</td> <td>    0.001</td> <td>    2.702</td> <td> 0.007</td> <td>    0.001</td> <td>    0.004</td>\n</tr>\n<tr>\n  <th>google_anosmia_volume</th>           <td>   -0.0001</td> <td>    0.000</td> <td>   -0.843</td> <td> 0.399</td> <td>   -0.000</td> <td>    0.000</td>\n</tr>\n<tr>\n  <th>covid_deaths</th>                    <td>    0.0398</td> <td>    0.012</td> <td>    3.208</td> <td> 0.001</td> <td>    0.015</td> <td>    0.064</td>\n</tr>\n<tr>\n  <th>home_time</th>                       <td>   -0.0002</td> <td>    0.000</td> <td>   -1.227</td> <td> 0.220</td> <td>   -0.000</td> <td>    0.000</td>\n</tr>\n<tr>\n  <th>geo_value_t_minus_1</th>             <td>    0.0003</td> <td> 4.51e-05</td> <td>    7.050</td> <td> 0.000</td> <td>    0.000</td> <td>    0.000</td>\n</tr>\n<tr>\n  <th>covid_cases_t_minus_1</th>           <td>   -0.6077</td> <td>    0.012</td> <td>  -51.833</td> <td> 0.000</td> <td>   -0.631</td> <td>   -0.585</td>\n</tr>\n<tr>\n  <th>confirmed_covid_vist_t_minus_1</th>  <td>   -0.0008</td> <td>    0.000</td> <td>   -4.489</td> <td> 0.000</td> <td>   -0.001</td> <td>   -0.000</td>\n</tr>\n<tr>\n  <th>doctor_visits_t_minus_1</th>         <td>   -0.0019</td> <td>    0.001</td> <td>   -3.365</td> <td> 0.001</td> <td>   -0.003</td> <td>   -0.001</td>\n</tr>\n<tr>\n  <th>hospital_admissions_t_minus_1</th>   <td>   -0.0024</td> <td>    0.001</td> <td>   -2.725</td> <td> 0.006</td> <td>   -0.004</td> <td>   -0.001</td>\n</tr>\n<tr>\n  <th>google_ageusia_volume_t_minus_1</th> <td>    0.0011</td> <td>    0.000</td> <td>    5.915</td> <td> 0.000</td> <td>    0.001</td> <td>    0.001</td>\n</tr>\n<tr>\n  <th>covid_deaths_t_minus</th>            <td>   -0.0413</td> <td>    0.012</td> <td>   -3.364</td> <td> 0.001</td> <td>   -0.065</td> <td>   -0.017</td>\n</tr>\n<tr>\n  <th>home_time_t_minus_1</th>             <td>    0.0004</td> <td>    0.000</td> <td>    2.739</td> <td> 0.006</td> <td>    0.000</td> <td>    0.001</td>\n</tr>\n</table>\n<table class=\"simpletable\">\n<tr>\n  <th>Omnibus:</th>       <td>4743.484</td> <th>  Durbin-Watson:     </th>   <td>   1.884</td>  \n</tr>\n<tr>\n  <th>Prob(Omnibus):</th>  <td> 0.000</td>  <th>  Jarque-Bera (JB):  </th> <td>17128202.714</td>\n</tr>\n<tr>\n  <th>Skew:</th>           <td> 3.472</td>  <th>  Prob(JB):          </th>   <td>    0.00</td>  \n</tr>\n<tr>\n  <th>Kurtosis:</th>       <td>295.898</td> <th>  Cond. No.          </th>   <td>5.17e+15</td>  \n</tr>\n</table><br/><br/>Notes:<br/>[1] R² is computed without centering (uncentered) since the model does not contain a constant.<br/>[2] Standard Errors assume that the covariance matrix of the errors is correctly specified.<br/>[3] The smallest eigenvalue is 1.09e-27. This might indicate that there are<br/>strong multicollinearity problems or that the design matrix is singular."
     },
     "metadata": {}
    }
   ],
   "execution_count": null
  },
  {
   "cell_type": "markdown",
   "source": "#### Get rid of 'google_anosmia_volume'",
   "metadata": {
    "tags": [],
    "cell_id": "00024-3336251d-c535-40a1-b049-498840ca9c95",
    "deepnote_cell_type": "markdown"
   }
  },
  {
   "cell_type": "code",
   "source": "scaler5 = StandardScaler()\n\nuse_df_4 = use_df_3.drop(columns = ['google_anosmia_volume'])\nscaled_df4 = scaler5.fit(use_df_4)\nfull_df_scaled_4 = scaled_df4.transform(use_df_4)\ntrain5 = pd.DataFrame(full_df_scaled_4[:4789,:])\ntrain5.columns = use_df_4.columns\ntest5 = pd.DataFrame(full_df_scaled_4[4789:,:])\ntest5.columns = use_df_4.columns\nxtrain5 = train5.iloc[:,:14]\nytrain5 = train5.iloc[:,14]\nxtest5 = test5.iloc[:,:14]\nytest5 = test5.iloc[:,14]",
   "metadata": {
    "tags": [],
    "cell_id": "00025-c76486f0-604f-4bb9-9deb-3aeb550dd482",
    "deepnote_to_be_reexecuted": false,
    "source_hash": "53869650",
    "execution_start": 1638732940491,
    "execution_millis": 121,
    "deepnote_cell_type": "code"
   },
   "outputs": [],
   "execution_count": null
  },
  {
   "cell_type": "code",
   "source": "tscv = TimeSeriesSplit(n_splits=5)\nlr5 = LinearRegression()\nprint(np.mean(cross_val_score(lr5, xtrain5 , ytrain5, cv= tscv, n_jobs = -1, scoring = 'neg_mean_squared_error')))\nmodels_mse.append(np.mean(cross_val_score(lr5, xtrain5 , ytrain5, cv= tscv, n_jobs = -1, scoring = 'neg_mean_squared_error')))",
   "metadata": {
    "tags": [],
    "cell_id": "00026-bdb2524c-8bac-4fdd-a89e-8f4b39cb1ed8",
    "deepnote_to_be_reexecuted": false,
    "source_hash": "9cba30d6",
    "execution_start": 1638732946116,
    "execution_millis": 622,
    "deepnote_cell_type": "code"
   },
   "outputs": [
    {
     "name": "stdout",
     "text": "-0.00010412363689504959\n",
     "output_type": "stream"
    }
   ],
   "execution_count": null
  },
  {
   "cell_type": "code",
   "source": "OLS(train5.iloc[:,14], train5.iloc[:,:14]).fit().summary()",
   "metadata": {
    "tags": [],
    "cell_id": "00027-6140c4c5-280e-412f-923f-4c9846e44a6e",
    "deepnote_to_be_reexecuted": false,
    "source_hash": "514f6cf8",
    "execution_start": 1638732949966,
    "execution_millis": 192,
    "deepnote_output_heights": [
     611
    ],
    "deepnote_cell_type": "code"
   },
   "outputs": [
    {
     "output_type": "execute_result",
     "execution_count": 20,
     "data": {
      "text/plain": "<class 'statsmodels.iolib.summary.Summary'>\n\"\"\"\n                                   OLS Regression Results                                  \n===========================================================================================\nDep. Variable:     covid_cases_t_plus_one   R-squared (uncentered):                   1.000\nModel:                                OLS   Adj. R-squared (uncentered):              1.000\nMethod:                     Least Squares   F-statistic:                          9.107e+06\nDate:                    Sun, 05 Dec 2021   Prob (F-statistic):                        0.00\nTime:                            19:35:50   Log-Likelihood:                          18198.\nNo. Observations:                    4789   AIC:                                 -3.637e+04\nDf Residuals:                        4776   BIC:                                 -3.629e+04\nDf Model:                              13                                                  \nCovariance Type:                nonrobust                                                  \n===================================================================================================\n                                      coef    std err          t      P>|t|      [0.025      0.975]\n---------------------------------------------------------------------------------------------------\ngeo_value                       -4.027e+09    1.3e+10     -0.310      0.757   -2.95e+10    2.14e+10\ncovid_cases                         1.6091      0.012    134.068      0.000       1.586       1.633\ndoctor_visits                       0.0030      0.001      5.294      0.000       0.002       0.004\nhospital_admissions                 0.0024      0.001      2.595      0.009       0.001       0.004\ncovid_deaths                        0.0396      0.013      3.110      0.002       0.015       0.065\nhome_time                          -0.0002      0.000     -1.345      0.179      -0.001    9.37e-05\ngeo_value_t_minus_1              4.027e+09    1.3e+10      0.310      0.757   -2.14e+10    2.95e+10\ncovid_cases_t_minus_1              -0.6077      0.012    -50.452      0.000      -0.631      -0.584\nconfirmed_covid_vist_t_minus_1     -0.0008      0.000     -4.332      0.000      -0.001      -0.000\ndoctor_visits_t_minus_1            -0.0019      0.001     -3.270      0.001      -0.003      -0.001\nhospital_admissions_t_minus_1      -0.0024      0.001     -2.612      0.009      -0.004      -0.001\ngoogle_ageusia_volume_t_minus_1     0.0010      0.000      6.925      0.000       0.001       0.001\ncovid_deaths_t_minus               -0.0412      0.013     -3.260      0.001      -0.066      -0.016\nhome_time_t_minus_1                 0.0004      0.000      2.731      0.006       0.000       0.001\n==============================================================================\nOmnibus:                     3948.920   Durbin-Watson:                   1.900\nProb(Omnibus):                  0.000   Jarque-Bera (JB):         13360194.281\nSkew:                           2.393   Prob(JB):                         0.00\nKurtosis:                     261.711   Cond. No.                     5.57e+14\n==============================================================================\n\nNotes:\n[1] R² is computed without centering (uncentered) since the model does not contain a constant.\n[2] Standard Errors assume that the covariance matrix of the errors is correctly specified.\n[3] The smallest eigenvalue is 8.71e-26. This might indicate that there are\nstrong multicollinearity problems or that the design matrix is singular.\n\"\"\"",
      "text/html": "<table class=\"simpletable\">\n<caption>OLS Regression Results</caption>\n<tr>\n  <th>Dep. Variable:</th>    <td>covid_cases_t_plus_one</td> <th>  R-squared (uncentered):</th>       <td>   1.000</td> \n</tr>\n<tr>\n  <th>Model:</th>                      <td>OLS</td>          <th>  Adj. R-squared (uncentered):</th>  <td>   1.000</td> \n</tr>\n<tr>\n  <th>Method:</th>                <td>Least Squares</td>     <th>  F-statistic:       </th>           <td>9.107e+06</td>\n</tr>\n<tr>\n  <th>Date:</th>                <td>Sun, 05 Dec 2021</td>    <th>  Prob (F-statistic):</th>            <td>  0.00</td>  \n</tr>\n<tr>\n  <th>Time:</th>                    <td>19:35:50</td>        <th>  Log-Likelihood:    </th>           <td>  18198.</td> \n</tr>\n<tr>\n  <th>No. Observations:</th>         <td>  4789</td>         <th>  AIC:               </th>          <td>-3.637e+04</td>\n</tr>\n<tr>\n  <th>Df Residuals:</th>             <td>  4776</td>         <th>  BIC:               </th>          <td>-3.629e+04</td>\n</tr>\n<tr>\n  <th>Df Model:</th>                 <td>    13</td>         <th>                     </th>               <td> </td>    \n</tr>\n<tr>\n  <th>Covariance Type:</th>         <td>nonrobust</td>       <th>                     </th>               <td> </td>    \n</tr>\n</table>\n<table class=\"simpletable\">\n<tr>\n                 <td></td>                    <th>coef</th>     <th>std err</th>      <th>t</th>      <th>P>|t|</th>  <th>[0.025</th>    <th>0.975]</th>  \n</tr>\n<tr>\n  <th>geo_value</th>                       <td>-4.027e+09</td> <td>  1.3e+10</td> <td>   -0.310</td> <td> 0.757</td> <td>-2.95e+10</td> <td> 2.14e+10</td>\n</tr>\n<tr>\n  <th>covid_cases</th>                     <td>    1.6091</td> <td>    0.012</td> <td>  134.068</td> <td> 0.000</td> <td>    1.586</td> <td>    1.633</td>\n</tr>\n<tr>\n  <th>doctor_visits</th>                   <td>    0.0030</td> <td>    0.001</td> <td>    5.294</td> <td> 0.000</td> <td>    0.002</td> <td>    0.004</td>\n</tr>\n<tr>\n  <th>hospital_admissions</th>             <td>    0.0024</td> <td>    0.001</td> <td>    2.595</td> <td> 0.009</td> <td>    0.001</td> <td>    0.004</td>\n</tr>\n<tr>\n  <th>covid_deaths</th>                    <td>    0.0396</td> <td>    0.013</td> <td>    3.110</td> <td> 0.002</td> <td>    0.015</td> <td>    0.065</td>\n</tr>\n<tr>\n  <th>home_time</th>                       <td>   -0.0002</td> <td>    0.000</td> <td>   -1.345</td> <td> 0.179</td> <td>   -0.001</td> <td> 9.37e-05</td>\n</tr>\n<tr>\n  <th>geo_value_t_minus_1</th>             <td> 4.027e+09</td> <td>  1.3e+10</td> <td>    0.310</td> <td> 0.757</td> <td>-2.14e+10</td> <td> 2.95e+10</td>\n</tr>\n<tr>\n  <th>covid_cases_t_minus_1</th>           <td>   -0.6077</td> <td>    0.012</td> <td>  -50.452</td> <td> 0.000</td> <td>   -0.631</td> <td>   -0.584</td>\n</tr>\n<tr>\n  <th>confirmed_covid_vist_t_minus_1</th>  <td>   -0.0008</td> <td>    0.000</td> <td>   -4.332</td> <td> 0.000</td> <td>   -0.001</td> <td>   -0.000</td>\n</tr>\n<tr>\n  <th>doctor_visits_t_minus_1</th>         <td>   -0.0019</td> <td>    0.001</td> <td>   -3.270</td> <td> 0.001</td> <td>   -0.003</td> <td>   -0.001</td>\n</tr>\n<tr>\n  <th>hospital_admissions_t_minus_1</th>   <td>   -0.0024</td> <td>    0.001</td> <td>   -2.612</td> <td> 0.009</td> <td>   -0.004</td> <td>   -0.001</td>\n</tr>\n<tr>\n  <th>google_ageusia_volume_t_minus_1</th> <td>    0.0010</td> <td>    0.000</td> <td>    6.925</td> <td> 0.000</td> <td>    0.001</td> <td>    0.001</td>\n</tr>\n<tr>\n  <th>covid_deaths_t_minus</th>            <td>   -0.0412</td> <td>    0.013</td> <td>   -3.260</td> <td> 0.001</td> <td>   -0.066</td> <td>   -0.016</td>\n</tr>\n<tr>\n  <th>home_time_t_minus_1</th>             <td>    0.0004</td> <td>    0.000</td> <td>    2.731</td> <td> 0.006</td> <td>    0.000</td> <td>    0.001</td>\n</tr>\n</table>\n<table class=\"simpletable\">\n<tr>\n  <th>Omnibus:</th>       <td>3948.920</td> <th>  Durbin-Watson:     </th>   <td>   1.900</td>  \n</tr>\n<tr>\n  <th>Prob(Omnibus):</th>  <td> 0.000</td>  <th>  Jarque-Bera (JB):  </th> <td>13360194.281</td>\n</tr>\n<tr>\n  <th>Skew:</th>           <td> 2.393</td>  <th>  Prob(JB):          </th>   <td>    0.00</td>  \n</tr>\n<tr>\n  <th>Kurtosis:</th>       <td>261.711</td> <th>  Cond. No.          </th>   <td>5.57e+14</td>  \n</tr>\n</table><br/><br/>Notes:<br/>[1] R² is computed without centering (uncentered) since the model does not contain a constant.<br/>[2] Standard Errors assume that the covariance matrix of the errors is correctly specified.<br/>[3] The smallest eigenvalue is 8.71e-26. This might indicate that there are<br/>strong multicollinearity problems or that the design matrix is singular."
     },
     "metadata": {}
    }
   ],
   "execution_count": null
  },
  {
   "cell_type": "markdown",
   "source": "After doing the Backward subset selection 5 times, we noticed a minimum occurring, so decided to plot out the MSES to see where it is.",
   "metadata": {
    "tags": [],
    "cell_id": "00029-083342fd-2678-45f3-b7a4-3a659499d0ae",
    "deepnote_cell_type": "markdown"
   },
   "outputs": [],
   "execution_count": null
  },
  {
   "cell_type": "code",
   "source": "figure(figsize=(10, 8), dpi=80)\nplt.scatter(range(1,6),models_mse)\nplt.plot(range(1,6),models_mse)\nplt.axvline(x=3,linestyle = '--')\nplt.ylabel('RMSE')\nplt.xlabel('Model Number')\nplt.title('Line Graph of RMSE for each Model Number')\nplt.grid()\nprint(models_mse)",
   "metadata": {
    "tags": [],
    "cell_id": "00028-b19a9c28-a21a-43c0-a69f-f31c47270300",
    "deepnote_to_be_reexecuted": false,
    "source_hash": "7c638b91",
    "execution_start": 1638736796310,
    "execution_millis": 1478,
    "deepnote_output_heights": [
     null,
     550
    ],
    "deepnote_cell_type": "code"
   },
   "outputs": [
    {
     "name": "stdout",
     "text": "[-0.00010399269854383399, -0.00010400535422689448, -0.00010378636366765595, -0.00010419954455082995, -0.00010412363689504959]\n",
     "output_type": "stream"
    },
    {
     "data": {
      "text/plain": "<Figure size 800x640 with 1 Axes>",
      "image/png": "[encoded data removed]"
     },
     "metadata": {
      "needs_background": "light",
      "image/png": {
       "width": 727,
       "height": 548
      }
     },
     "output_type": "display_data"
    }
   ],
   "execution_count": null
  },
  {
   "cell_type": "markdown",
   "source": "Based on the manual backwards subset selection, we found that the lowest magnitude for rmse was the 3rd model we trained. ",
   "metadata": {
    "tags": [],
    "cell_id": "00029-a195b6f3-78f3-410a-965c-1c4f535dfa6a",
    "deepnote_cell_type": "markdown"
   }
  },
  {
   "cell_type": "markdown",
   "source": "# Fit on Optimized Linear Regression Model\nNow we will go about training and testing our best model",
   "metadata": {
    "tags": [],
    "cell_id": "00013-e554d890-bd66-4c75-a0be-a9a26d79dab7",
    "deepnote_cell_type": "markdown"
   }
  },
  {
   "cell_type": "code",
   "source": "full_df_scaled_2.shape",
   "metadata": {
    "tags": [],
    "cell_id": "00031-b445b79f-1aa4-432a-8aee-fa6e6aa93eec",
    "deepnote_to_be_reexecuted": false,
    "source_hash": "99982acc",
    "execution_start": 1638732962673,
    "execution_millis": 50,
    "deepnote_output_heights": [
     21.1875
    ],
    "deepnote_cell_type": "code"
   },
   "outputs": [
    {
     "output_type": "execute_result",
     "execution_count": 22,
     "data": {
      "text/plain": "(5321, 17)"
     },
     "metadata": {}
    }
   ],
   "execution_count": null
  },
  {
   "cell_type": "code",
   "source": "# fit and predict to get RMSE for train and test\nlr3.fit(xtrain3, ytrain3)\ntrain_predictions = lr3.predict(xtrain3)\ntest_predictions = lr3.predict(xtest3)\n\n# must inverse transform to get the true values again\nfull_scaled_df_forecast_train = np.append(xtrain3, train_predictions.reshape(len(train_predictions),1), axis = 1)\nfull_scaled_df_forecast_test = np.append(xtest3, test_predictions.reshape(len(test_predictions),1), axis = 1)\nfull_df_forecast_train = scaler3.inverse_transform(full_scaled_df_forecast_train)\nfull_df_forecast_test = scaler3.inverse_transform(full_scaled_df_forecast_test)\ntest_df_transformed = scaler3.inverse_transform(full_df_scaled_2[len(full_df_scaled_2) - len(test_predictions):,:])\ntrain_df_transformed = scaler3.inverse_transform(full_df_scaled_2[:len(full_df_scaled_2) - len(test_predictions),:])\n\n# print out the training and testing rmse\nprint('Train RMSE: ',np.sqrt(mean_squared_error(train_df_transformed[:,16], full_df_forecast_train[:,16])))\nprint('Test RMSE: ',np.sqrt(mean_squared_error(test_df_transformed[:,16], full_df_forecast_test[:,16])))\n\n\nprint('Train $R^{2}$:',lr3.score(xtrain3,ytrain3))\nprint('Test $R^{2}$:',lr3.score(xtest3,ytest3))",
   "metadata": {
    "tags": [],
    "cell_id": "00014-a4ff3aed-b2ef-42ff-9cd9-92ee897522df",
    "deepnote_to_be_reexecuted": false,
    "source_hash": "cca2ae6c",
    "execution_start": 1638732972217,
    "execution_millis": 290,
    "deepnote_output_heights": [
     null,
     21.1875
    ],
    "deepnote_cell_type": "code"
   },
   "outputs": [
    {
     "name": "stdout",
     "text": "Train RMSE:  857.6800823455156\nTest RMSE:  356.292264790975\nTrain $R^{2}$: 0.9999613577220372\nTest $R^{2}$: 0.9999982766904577\n",
     "output_type": "stream"
    }
   ],
   "execution_count": null
  },
  {
   "cell_type": "markdown",
   "source": "# Plotting for a random county\nBased on the data, we will randomly choose a county by looking at the geocodes and plotting with respect to that county.",
   "metadata": {
    "tags": [],
    "cell_id": "00018-b12d57bb-2daf-4b2b-be52-500e8fb3fc87",
    "deepnote_cell_type": "markdown"
   },
   "outputs": [],
   "execution_count": null
  },
  {
   "cell_type": "code",
   "source": "(unique, counts) = np.unique(full_imputed.geo_value, return_counts=True)\nfrequencies = np.asarray((unique, counts)).T\n\nprint(frequencies)",
   "metadata": {
    "tags": [],
    "cell_id": "00019-e54f0cde-74f7-41d9-8229-71a1655df99b",
    "deepnote_to_be_reexecuted": false,
    "source_hash": "76f95a11",
    "execution_start": 1638733106041,
    "execution_millis": 11,
    "deepnote_output_heights": [
     40.375
    ],
    "deepnote_cell_type": "code"
   },
   "outputs": [
    {
     "name": "stdout",
     "text": "[[1.0 372]\n [2.0 283]\n [3.0 385]\n [4.0 299]\n [5.0 415]\n [6.0 308]\n [7.0 319]\n [8.0 416]\n [9.0 420]\n [10.0 423]\n [11.0 423]\n [12.0 417]\n [13.0 418]\n [14.0 423]]\n",
     "output_type": "stream"
    }
   ],
   "execution_count": null
  },
  {
   "cell_type": "markdown",
   "source": "In order to get the correct indices that correspond to the geo_value 10, we went through the indices that held the records for geo_value 10 and stored those in lists. Since we know the training data occurs within the first 4789 rows, we check if the index referring to an observation for geo_value 10 is less than or greater than that value. The condition determines whether or not it is a training or testing subset. Then for the predicted values, we have to make sure they are the same relative to their training/testing counterpart. So for the testing predictions, we have to subtract whatever the testing index is by 4789 since the predictions list is already the length of the testing dataset.",
   "metadata": {
    "tags": [],
    "cell_id": "00037-942f46f7-430a-414b-b1ac-8680c3f9d4ce",
    "deepnote_cell_type": "markdown"
   },
   "outputs": [],
   "execution_count": null
  },
  {
   "cell_type": "code",
   "source": "new_use_full_imputed = full_imputed.drop(columns = ['google_anosmia_volume_t_minus_1','confirmed_covid_visit'])\n\ngeo_10 = full_imputed[full_imputed['geo_value'] == 10]\ngeo_10_inds = geo_10.index.values\n\n# iterate through the geo_10_inds to find the ones that are within the training and testing data\ngeo_10_train_inds = []\ngeo_10_test_inds = []\ngeo_10_test_inds_ypred = []\n\nfor i in geo_10_inds:\n    if i < 4789:\n        geo_10_train_inds.append(i)\n    else:\n        geo_10_test_inds.append(i)\n        geo_10_test_inds_ypred.append(i-4789)",
   "metadata": {
    "tags": [],
    "cell_id": "00020-2749e121-7064-4895-8d13-dc1b2ca59312",
    "deepnote_to_be_reexecuted": false,
    "source_hash": "8a509881",
    "execution_start": 1638733209638,
    "execution_millis": 7,
    "deepnote_output_heights": [
     611
    ],
    "deepnote_cell_type": "code"
   },
   "outputs": [],
   "execution_count": null
  },
  {
   "cell_type": "code",
   "source": "geo_10.covid_cases.max",
   "metadata": {
    "tags": [],
    "cell_id": "00035-ca0c2f1b-283d-4b3e-b784-c5efa310b354",
    "deepnote_to_be_reexecuted": false,
    "source_hash": "d4ae83c8",
    "execution_start": 1638733211845,
    "execution_millis": 34,
    "deepnote_output_heights": [
     232.25
    ],
    "deepnote_cell_type": "code"
   },
   "outputs": [
    {
     "output_type": "execute_result",
     "execution_count": 27,
     "data": {
      "text/plain": "<bound method NDFrame._add_numeric_operations.<locals>.max of 4            0.0\n9            0.0\n17           0.0\n29           0.0\n36           0.0\n          ...   \n5255    235230.0\n5269    235326.0\n5286    235432.0\n5304    235527.0\n5318    235590.0\nName: covid_cases, Length: 423, dtype: object>"
     },
     "metadata": {}
    }
   ],
   "execution_count": null
  },
  {
   "cell_type": "markdown",
   "source": "We use the county associated with the geo_value 10 since it has the highest number of observations. Looking at the max number of cases for geo_value 10, we are able to see that it is associated with the FIPS 06059 which refers to Orange County.",
   "metadata": {
    "tags": [],
    "cell_id": "00021-fb8449e5-9deb-49cf-a64b-8d4ded3baf62",
    "deepnote_cell_type": "markdown"
   }
  },
  {
   "cell_type": "code",
   "source": "geo_10_train = use_df_2.iloc[geo_10_train_inds,16]\ngeo_10_test = use_df_2.iloc[geo_10_test_inds,16]\ngeo_10_preds = test_predictions[geo_10_test_inds_ypred]\nprint(len(geo_10_train))\nprint(len(geo_10_test))\nprint(len(geo_10_preds))",
   "metadata": {
    "tags": [],
    "cell_id": "00038-cddd87f1-074c-4c61-b51b-33fb428a1216",
    "deepnote_to_be_reexecuted": false,
    "source_hash": "3439e6fe",
    "execution_start": 1638733239873,
    "execution_millis": 230,
    "deepnote_cell_type": "code"
   },
   "outputs": [
    {
     "name": "stdout",
     "text": "381\n42\n42\n",
     "output_type": "stream"
    }
   ],
   "execution_count": null
  },
  {
   "cell_type": "markdown",
   "source": "Now that we have our geo_10 train/test and test predictions data, we can plot it out.",
   "metadata": {
    "tags": [],
    "cell_id": "00042-14b1075a-9b37-4b08-a3d1-7f32525ccb34",
    "deepnote_cell_type": "markdown"
   },
   "outputs": [],
   "execution_count": null
  },
  {
   "cell_type": "markdown",
   "source": "First we will plot the training data against the training predictions",
   "metadata": {
    "tags": [],
    "cell_id": "00043-8789ee8b-a2b3-4038-bd2b-1fd9a48946a0",
    "deepnote_to_be_reexecuted": false,
    "source_hash": "a61d8a01",
    "execution_start": 1638733959722,
    "execution_millis": 7,
    "deepnote_cell_type": "markdown"
   },
   "outputs": [],
   "execution_count": 40
  },
  {
   "cell_type": "code",
   "source": "figure(figsize=(10, 8), dpi=80)\nplt.plot(range(len(geo_10_train)),train_df_transformed[geo_10_train_inds,16], label = 'Training')\nplt.plot(range(len(geo_10_train)),full_df_forecast_train[geo_10_train_inds,16], label = 'Predicted', linestyle = '--')\nplt.xlabel('Time (Days)')\nplt.ylabel('Number of Covid Cases')\nplt.title('Number of Covid Cases by Day: Training Data')\nplt.grid()\nplt.legend()",
   "metadata": {
    "tags": [],
    "cell_id": "00040-c6720c71-7e18-4ac0-ac1c-944fa1c7b67b",
    "deepnote_to_be_reexecuted": false,
    "source_hash": "aaf05cd6",
    "execution_start": 1638742023298,
    "execution_millis": 1058,
    "deepnote_output_heights": [
     21.1875,
     550
    ],
    "deepnote_cell_type": "code"
   },
   "outputs": [
    {
     "output_type": "execute_result",
     "execution_count": 55,
     "data": {
      "text/plain": "<matplotlib.legend.Legend at 0x7f43ed206b50>"
     },
     "metadata": {}
    },
    {
     "data": {
      "text/plain": "<Figure size 800x640 with 1 Axes>",
      "image/png": "[encoded data removed]"
     },
     "metadata": {
      "needs_background": "light",
      "image/png": {
       "width": 700,
       "height": 548
      }
     },
     "output_type": "display_data"
    }
   ],
   "execution_count": null
  },
  {
   "cell_type": "markdown",
   "source": "Since there are very little differences we can see in the plot, we will plot the residuals to supplement this plot.",
   "metadata": {
    "tags": [],
    "cell_id": "00045-ed254172-acf0-4220-bbec-498f5c3ce630",
    "deepnote_cell_type": "markdown"
   },
   "outputs": [],
   "execution_count": null
  },
  {
   "cell_type": "code",
   "source": "figure(figsize=(10, 8), dpi=80)\ntrain_resids = np.array(train_df_transformed[geo_10_train_inds,16]) - np.array(full_df_forecast_train[geo_10_train_inds,16])\nplt.plot(range(len(train_resids)),train_resids)\nplt.xlabel('Time (Days)')\nplt.ylabel('Residual Number of Covid Cases')\nplt.title('Residual Number of Covid Cases by Day: Training Data')\nplt.grid()\nprint(np.mean(train_resids))",
   "metadata": {
    "tags": [],
    "cell_id": "00041-b42aa1b5-0bf7-4bf6-8f29-a392eae561dd",
    "deepnote_to_be_reexecuted": false,
    "source_hash": "4bb6143b",
    "execution_start": 1638742033904,
    "execution_millis": 1218,
    "deepnote_output_heights": [
     null,
     550
    ],
    "deepnote_cell_type": "code"
   },
   "outputs": [
    {
     "name": "stdout",
     "text": "-77.04261312761494\n",
     "output_type": "stream"
    },
    {
     "data": {
      "text/plain": "<Figure size 800x640 with 1 Axes>",
      "image/png": "[encoded data removed]"
     },
     "metadata": {
      "needs_background": "light",
      "image/png": {
       "width": 695,
       "height": 548
      }
     },
     "output_type": "display_data"
    }
   ],
   "execution_count": null
  },
  {
   "cell_type": "markdown",
   "source": "In addition to the residual plot, we printed out the mean residual of the training/training predictions which ended up being approximately -77.",
   "metadata": {
    "tags": [],
    "cell_id": "00047-3add3fb1-ffc6-4217-a4e8-d14793407d8c",
    "deepnote_cell_type": "markdown"
   },
   "outputs": [],
   "execution_count": null
  },
  {
   "cell_type": "markdown",
   "source": "Now we will do the same thing but with the Testing and Testing Predictions",
   "metadata": {
    "tags": [],
    "cell_id": "00048-b1ac8738-cc02-4541-b96c-74e690e95519",
    "deepnote_cell_type": "markdown"
   },
   "outputs": [],
   "execution_count": null
  },
  {
   "cell_type": "code",
   "source": "figure(figsize=(10, 8), dpi=80)\nplt.plot(range(len(geo_10_train),len(geo_10_train)+len(geo_10_test)),test_df_transformed[geo_10_test_inds_ypred,16], label = 'Testing')\nplt.plot(range(len(geo_10_train),len(geo_10_train)+len(geo_10_test)),full_df_forecast_test[geo_10_test_inds_ypred,16], label = 'Predicted', linestyle = '--')\nplt.xlabel('Time (Days)')\nplt.ylabel('Number of Covid Cases')\nplt.title('Number of Covid Cases by Day: Testing Data')\nplt.grid()\nplt.legend()",
   "metadata": {
    "tags": [],
    "cell_id": "00037-92b95b7d-669f-46f3-aae8-db299dfd7cb1",
    "deepnote_to_be_reexecuted": false,
    "source_hash": "71f5569",
    "execution_start": 1638742042726,
    "execution_millis": 1360,
    "deepnote_output_heights": [
     21.1875,
     550
    ],
    "deepnote_cell_type": "code"
   },
   "outputs": [
    {
     "output_type": "execute_result",
     "execution_count": 57,
     "data": {
      "text/plain": "<matplotlib.legend.Legend at 0x7f43ecb5fcd0>"
     },
     "metadata": {}
    },
    {
     "data": {
      "text/plain": "<Figure size 800x640 with 1 Axes>",
      "image/png": "[encoded data removed]"
     },
     "metadata": {
      "needs_background": "light",
      "image/png": {
       "width": 700,
       "height": 548
      }
     },
     "output_type": "display_data"
    }
   ],
   "execution_count": null
  },
  {
   "cell_type": "markdown",
   "source": "Unlike with the training data, the testing data shows more difference in the predictions. It looks like the model underestimates the number of forecasted covid cases.",
   "metadata": {
    "tags": [],
    "cell_id": "00050-d7ff6bc5-136b-4afd-a4d2-4ceb283a6274",
    "deepnote_cell_type": "markdown"
   },
   "outputs": [],
   "execution_count": null
  },
  {
   "cell_type": "markdown",
   "source": "Now we will plot and print out the residuals and the mean of them.",
   "metadata": {
    "tags": [],
    "cell_id": "00051-cfeb6890-9a5d-47e4-9d5d-58e2c5217825",
    "deepnote_cell_type": "markdown"
   },
   "outputs": [],
   "execution_count": null
  },
  {
   "cell_type": "code",
   "source": "figure(figsize=(10, 8), dpi=80)\ntest_resids = np.array(test_df_transformed[geo_10_test_inds_ypred,16]) - np.array(full_df_forecast_test[geo_10_test_inds_ypred,16])\nplt.plot(range(len(geo_10_train),len(geo_10_train)+len(geo_10_test)),test_resids)\nplt.xlabel('Time (Days)')\nplt.ylabel('Residual Number of Covid Cases')\nplt.title('Residual Number of Covid Cases by Day: Testing Data')\nplt.grid()\nprint(np.mean(test_resids))",
   "metadata": {
    "tags": [],
    "cell_id": "00020-965ecf05-da91-4593-ad12-fe07ff70d58a",
    "deepnote_to_be_reexecuted": false,
    "source_hash": "4808051c",
    "execution_start": 1638742049550,
    "execution_millis": 1015,
    "deepnote_output_heights": [
     null,
     550
    ],
    "deepnote_cell_type": "code"
   },
   "outputs": [
    {
     "name": "stdout",
     "text": "-261.42364056057636\n",
     "output_type": "stream"
    },
    {
     "data": {
      "text/plain": "<Figure size 800x640 with 1 Axes>",
      "image/png": "[encoded data removed]"
     },
     "metadata": {
      "needs_background": "light",
      "image/png": {
       "width": 688,
       "height": 548
      }
     },
     "output_type": "display_data"
    }
   ],
   "execution_count": null
  },
  {
   "cell_type": "markdown",
   "source": "We see that the majority of the residuals lie below 0 since the model underestimates the number of forecasted covid cases. In addition, the mean residual is much higher for the testing data than it is for the training.",
   "metadata": {
    "tags": [],
    "cell_id": "00053-199be078-47e2-4ada-8bb4-e21c92fcdd91",
    "deepnote_cell_type": "markdown"
   }
  },
  {
   "cell_type": "markdown",
   "source": "Now, we will plot the training/testing and their respective predictions on the same plot.",
   "metadata": {
    "tags": [],
    "cell_id": "00054-b46aca04-2d50-4c43-afce-20c27f663434",
    "deepnote_cell_type": "markdown"
   }
  },
  {
   "cell_type": "code",
   "source": "figure(figsize=(10, 8), dpi=80)\nplt.plot(range(len(geo_10_train)),train_df_transformed[geo_10_train_inds,16], label = 'Training')\nplt.plot(range(len(geo_10_train)),full_df_forecast_train[geo_10_train_inds,16], label = 'Predicted (training)', linestyle = '--')\nplt.plot(range(len(geo_10_train),len(geo_10_train)+len(geo_10_test)),test_df_transformed[geo_10_test_inds_ypred,16], label = 'Testing')\nplt.plot(range(len(geo_10_train),len(geo_10_train)+len(geo_10_test)),full_df_forecast_test[geo_10_test_inds_ypred,16], label = 'Predicted (testing)', linestyle = '--')\nplt.axvline(x=len(geo_10_train),linestyle = '--', label = 'Train-Test Split')\nplt.xlabel('Time (Days)')\nplt.ylabel('Number of Covid Cases')\nplt.title('Number of Covid Cases by Day')\nplt.grid()\nplt.legend()",
   "metadata": {
    "tags": [],
    "cell_id": "00044-626d4a87-8054-4ac3-857a-276c45142521",
    "deepnote_to_be_reexecuted": false,
    "source_hash": "5c198cd1",
    "execution_start": 1638742058924,
    "execution_millis": 1491,
    "deepnote_output_heights": [
     21.1875,
     550
    ],
    "deepnote_cell_type": "code"
   },
   "outputs": [
    {
     "output_type": "execute_result",
     "execution_count": 59,
     "data": {
      "text/plain": "<matplotlib.legend.Legend at 0x7f43ecbdcdd0>"
     },
     "metadata": {}
    },
    {
     "data": {
      "text/plain": "<Figure size 800x640 with 1 Axes>",
      "image/png": "[encoded data removed]"
     },
     "metadata": {
      "needs_background": "light",
      "image/png": {
       "width": 700,
       "height": 548
      }
     },
     "output_type": "display_data"
    }
   ],
   "execution_count": null
  },
  {
   "cell_type": "code",
   "source": "figure(figsize=(7, 5), dpi=80)\nplt.plot(range(len(geo_10_train)),train_df_transformed[geo_10_train_inds,16], label = 'Training')\nplt.plot(range(len(geo_10_train)),full_df_forecast_train[geo_10_train_inds,16], label = 'Predicted (training)', linestyle = '--')\nplt.plot(range(len(geo_10_train),len(geo_10_train)+len(geo_10_test)),test_df_transformed[geo_10_test_inds_ypred,16], label = 'Testing')\nplt.plot(range(len(geo_10_train),len(geo_10_train)+len(geo_10_test)),full_df_forecast_test[geo_10_test_inds_ypred,16], label = 'Predicted (testing)', linestyle = '--')\nplt.axvline(x=len(geo_10_train),linestyle = '--', label = 'Train-Test Split')\nplt.xlabel('Time (Days)')\nplt.ylabel('Number of Covid Cases')\nplt.title('Number of Covid Cases by Day')\nplt.grid()\nplt.legend()",
   "metadata": {
    "tags": [],
    "cell_id": "00056-42c8543d-7b50-493a-bb8b-54d1e9fd0054",
    "deepnote_to_be_reexecuted": false,
    "source_hash": "55dd4977",
    "execution_start": 1638742069226,
    "execution_millis": 1018,
    "deepnote_output_heights": [
     21.1875,
     368
    ],
    "deepnote_cell_type": "code"
   },
   "outputs": [
    {
     "output_type": "execute_result",
     "execution_count": 60,
     "data": {
      "text/plain": "<matplotlib.legend.Legend at 0x7f43f441d0d0>"
     },
     "metadata": {}
    },
    {
     "data": {
      "text/plain": "<Figure size 560x400 with 1 Axes>",
      "image/png": "[encoded data removed]"
     },
     "metadata": {
      "needs_background": "light",
      "image/png": {
       "width": 514,
       "height": 366
      }
     },
     "output_type": "display_data"
    }
   ],
   "execution_count": null
  },
  {
   "cell_type": "code",
   "source": "",
   "metadata": {
    "tags": [],
    "cell_id": "00057-5fcf2e27-c01e-4470-822b-b3405f6a69c5",
    "deepnote_cell_type": "code"
   },
   "outputs": [],
   "execution_count": null
  },
  {
   "cell_type": "markdown",
   "source": "<a style='text-decoration:none;line-height:16px;display:flex;color:#5B5B62;padding:10px;justify-content:end;' href='https://deepnote.com?utm_source=created-in-deepnote-cell&projectId=23c8e36e-a74e-49fc-afb9-820cfed248b5' target=\"_blank\">\n<img alt='Created in deepnote.com' style='display:inline;max-height:16px;margin:0px;margin-right:7.5px;' src='data:image/svg+xml;base64,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' > </img>\nCreated in <span style='font-weight:600;margin-left:4px;'>Deepnote</span></a>",
   "metadata": {
    "tags": [],
    "created_in_deepnote_cell": true,
    "deepnote_cell_type": "markdown"
   }
  }
 ],
 "nbformat": 4,
 "nbformat_minor": 2,
 "metadata": {
  "orig_nbformat": 2,
  "deepnote": {
   "is_reactive": false
  },
  "deepnote_notebook_id": "4677356a-541c-462f-8dfa-3e795954d2b8",
  "deepnote_execution_queue": []
 }
}