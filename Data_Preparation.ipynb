{
 "cells": [
  {
   "cell_type": "code",
   "metadata": {
    "colab": {
     "base_uri": "https://localhost:8080/"
    },
    "id": "IoQ8Ot95-w0X",
    "outputId": "f587e0a4-0525-4df5-f488-7381a16b0a63",
    "cell_id": "00000-9c0e7dde-1fdf-4779-833e-4f4e9fe27b5e",
    "deepnote_to_be_reexecuted": false,
    "source_hash": "d9e82597",
    "execution_start": 1638732708507,
    "execution_millis": 56863,
    "deepnote_cell_type": "code"
   },
   "source": "# Installing covidcast\n!pip install covidcast\nfrom datetime import date\nimport covidcast\nimport warnings\nimport numpy as np\nimport pandas as pd\nwarnings.filterwarnings('ignore')",
   "outputs": [
    {
     "name": "stdout",
     "text": "Collecting covidcast\n  Downloading covidcast-0.1.5-py3-none-any.whl (12.3 MB)\n\u001b[K     |████████████████████████████████| 12.3 MB 5.0 MB/s \n\u001b[?25hCollecting geopandas\n  Downloading geopandas-0.10.2-py2.py3-none-any.whl (1.0 MB)\n\u001b[K     |████████████████████████████████| 1.0 MB 33.5 MB/s \n\u001b[?25hCollecting descartes\n  Downloading descartes-1.1.0-py3-none-any.whl (5.8 kB)\nCollecting epiweeks\n  Downloading epiweeks-2.1.3-py3-none-any.whl (5.9 kB)\nRequirement already satisfied: tqdm in /shared-libs/python3.7/py/lib/python3.7/site-packages (from covidcast) (4.62.3)\nCollecting delphi-epidata>=0.0.11\n  Downloading delphi_epidata-0.3.2-py3-none-any.whl (6.8 kB)\nCollecting imageio-ffmpeg\n  Downloading imageio_ffmpeg-0.4.5-py3-none-manylinux2010_x86_64.whl (26.9 MB)\n\u001b[K     |████████████████████████████████| 26.9 MB 7.8 MB/s \n\u001b[?25hRequirement already satisfied: matplotlib in /shared-libs/python3.7/py/lib/python3.7/site-packages (from covidcast) (3.4.3)\nRequirement already satisfied: requests in /shared-libs/python3.7/py/lib/python3.7/site-packages (from covidcast) (2.26.0)\nCollecting imageio\n  Downloading imageio-2.13.1-py3-none-any.whl (3.3 MB)\n\u001b[K     |████████████████████████████████| 3.3 MB 23.8 MB/s \n\u001b[?25hRequirement already satisfied: numpy in /shared-libs/python3.7/py/lib/python3.7/site-packages (from covidcast) (1.19.5)\nRequirement already satisfied: pandas in /shared-libs/python3.7/py/lib/python3.7/site-packages (from covidcast) (1.2.5)\nCollecting shapely>=1.6\n  Downloading Shapely-1.8.0-cp37-cp37m-manylinux_2_5_x86_64.manylinux1_x86_64.whl (1.1 MB)\n\u001b[K     |████████████████████████████████| 1.1 MB 56.1 MB/s \n\u001b[?25hCollecting pyproj>=2.2.0\n  Downloading pyproj-3.2.1-cp37-cp37m-manylinux2010_x86_64.whl (6.3 MB)\n\u001b[K     |████████████████████████████████| 6.3 MB 10.1 MB/s \n\u001b[?25hRequirement already satisfied: fiona>=1.8 in /shared-libs/python3.7/py/lib/python3.7/site-packages (from geopandas->covidcast) (1.8.20)\nRequirement already satisfied: aiohttp in /shared-libs/python3.7/py-core/lib/python3.7/site-packages (from delphi-epidata>=0.0.11->covidcast) (3.8.0)\nRequirement already satisfied: tenacity in /shared-libs/python3.7/py/lib/python3.7/site-packages (from delphi-epidata>=0.0.11->covidcast) (8.0.1)\nRequirement already satisfied: kiwisolver>=1.0.1 in /shared-libs/python3.7/py/lib/python3.7/site-packages (from matplotlib->covidcast) (1.3.2)\nRequirement already satisfied: pyparsing>=2.2.1 in /shared-libs/python3.7/py-core/lib/python3.7/site-packages (from matplotlib->covidcast) (2.4.7)\nRequirement already satisfied: cycler>=0.10 in /shared-libs/python3.7/py/lib/python3.7/site-packages (from matplotlib->covidcast) (0.11.0)\nRequirement already satisfied: python-dateutil>=2.7 in /shared-libs/python3.7/py-core/lib/python3.7/site-packages (from matplotlib->covidcast) (2.8.2)\nRequirement already satisfied: pillow>=6.2.0 in /shared-libs/python3.7/py/lib/python3.7/site-packages (from matplotlib->covidcast) (8.4.0)\nRequirement already satisfied: idna<4,>=2.5; python_version >= \"3\" in /shared-libs/python3.7/py-core/lib/python3.7/site-packages (from requests->covidcast) (3.3)\nRequirement already satisfied: charset-normalizer~=2.0.0; python_version >= \"3\" in /shared-libs/python3.7/py-core/lib/python3.7/site-packages (from requests->covidcast) (2.0.7)\nRequirement already satisfied: urllib3<1.27,>=1.21.1 in /shared-libs/python3.7/py/lib/python3.7/site-packages (from requests->covidcast) (1.26.7)\nRequirement already satisfied: certifi>=2017.4.17 in /shared-libs/python3.7/py/lib/python3.7/site-packages (from requests->covidcast) (2021.10.8)\nRequirement already satisfied: pytz>=2017.3 in /shared-libs/python3.7/py/lib/python3.7/site-packages (from pandas->covidcast) (2021.3)\nRequirement already satisfied: click-plugins>=1.0 in /shared-libs/python3.7/py/lib/python3.7/site-packages (from fiona>=1.8->geopandas->covidcast) (1.1.1)\nRequirement already satisfied: setuptools in /root/venv/lib/python3.7/site-packages (from fiona>=1.8->geopandas->covidcast) (47.1.0)\nRequirement already satisfied: click>=4.0 in /shared-libs/python3.7/py/lib/python3.7/site-packages (from fiona>=1.8->geopandas->covidcast) (8.0.3)\nRequirement already satisfied: attrs>=17 in /shared-libs/python3.7/py-core/lib/python3.7/site-packages (from fiona>=1.8->geopandas->covidcast) (21.2.0)\nRequirement already satisfied: six>=1.7 in /shared-libs/python3.7/py-core/lib/python3.7/site-packages (from fiona>=1.8->geopandas->covidcast) (1.16.0)\nRequirement already satisfied: munch in /shared-libs/python3.7/py/lib/python3.7/site-packages (from fiona>=1.8->geopandas->covidcast) (2.5.0)\nRequirement already satisfied: cligj>=0.5 in /shared-libs/python3.7/py/lib/python3.7/site-packages (from fiona>=1.8->geopandas->covidcast) (0.7.2)\nRequirement already satisfied: yarl<2.0,>=1.0 in /shared-libs/python3.7/py-core/lib/python3.7/site-packages (from aiohttp->delphi-epidata>=0.0.11->covidcast) (1.7.2)\nRequirement already satisfied: multidict<7.0,>=4.5 in /shared-libs/python3.7/py-core/lib/python3.7/site-packages (from aiohttp->delphi-epidata>=0.0.11->covidcast) (5.2.0)\nRequirement already satisfied: async-timeout<5.0,>=4.0.0a3 in /shared-libs/python3.7/py-core/lib/python3.7/site-packages (from aiohttp->delphi-epidata>=0.0.11->covidcast) (4.0.1)\nRequirement already satisfied: asynctest==0.13.0; python_version < \"3.8\" in /shared-libs/python3.7/py-core/lib/python3.7/site-packages (from aiohttp->delphi-epidata>=0.0.11->covidcast) (0.13.0)\nRequirement already satisfied: aiosignal>=1.1.2 in /shared-libs/python3.7/py-core/lib/python3.7/site-packages (from aiohttp->delphi-epidata>=0.0.11->covidcast) (1.2.0)\nRequirement already satisfied: frozenlist>=1.1.1 in /shared-libs/python3.7/py-core/lib/python3.7/site-packages (from aiohttp->delphi-epidata>=0.0.11->covidcast) (1.2.0)\nRequirement already satisfied: typing-extensions>=3.7.4; python_version < \"3.8\" in /shared-libs/python3.7/py-core/lib/python3.7/site-packages (from aiohttp->delphi-epidata>=0.0.11->covidcast) (3.10.0.2)\nRequirement already satisfied: importlib-metadata; python_version < \"3.8\" in /shared-libs/python3.7/py-core/lib/python3.7/site-packages (from click>=4.0->fiona>=1.8->geopandas->covidcast) (4.8.2)\nRequirement already satisfied: zipp>=0.5 in /shared-libs/python3.7/py-core/lib/python3.7/site-packages (from importlib-metadata; python_version < \"3.8\"->click>=4.0->fiona>=1.8->geopandas->covidcast) (3.6.0)\nInstalling collected packages: shapely, pyproj, geopandas, descartes, epiweeks, delphi-epidata, imageio-ffmpeg, imageio, covidcast\nSuccessfully installed covidcast-0.1.5 delphi-epidata-0.3.2 descartes-1.1.0 epiweeks-2.1.3 geopandas-0.10.2 imageio-2.13.1 imageio-ffmpeg-0.4.5 pyproj-3.2.1 shapely-1.8.0\n\u001b[33mWARNING: You are using pip version 20.1.1; however, version 21.3.1 is available.\nYou should consider upgrading via the '/root/venv/bin/python -m pip install --upgrade pip' command.\u001b[0m\n",
     "output_type": "stream"
    }
   ],
   "execution_count": null
  },
  {
   "cell_type": "markdown",
   "source": "# Retrieving Data from CovidCast Api",
   "metadata": {
    "tags": [],
    "cell_id": "00001-1596122a-8db3-4db7-9834-c5d0a98c7d00",
    "deepnote_cell_type": "markdown"
   }
  },
  {
   "cell_type": "code",
   "metadata": {
    "id": "TjQeY8BJ_spr",
    "cell_id": "00001-825cb70c-9a37-4a7a-8b4d-500f0c78e046",
    "deepnote_to_be_reexecuted": false,
    "source_hash": "89b1cdd1",
    "execution_start": 1638651439967,
    "execution_millis": 34094,
    "deepnote_cell_type": "code"
   },
   "source": "data1 = covidcast.signal(\"fb-survey\", \"raw_wcli\",\n                        date(2020, 2, 1), date(2021, 11, 1),\n                        \"county\", [\"06001\", \"06003\", \"06005\", \"06007\", \"06009\", \"06011\", \"06013\", \"06015\", \"06017\", \"06019\", \"06021\", \"06023\", \"06025\", \"06027\", \"06029\", \"06031\", \"06033\", \"06035\", \"06037\", \"06039\", \"06041\", \"06043\", \"06045\", \"06047\", \"06049\", \"06051\", \"06053\", \"06055\", \"06057\", \"06059\", \"06061\", \"06063\", \"06065\", \"06067\", \"06069\", \"06071\", \"06073\", \"06075\", \"06077\", \"06079\", \"06081\", \"06083\", \"06085\", \"06087\", \"06089\", \"06091\", \"06093\", \"06095\", \"06097\", \"06099\", \"06101\", \"06103\", \"06105\", \"06107\", \"06109\", \"06111\", \"06113\", \"06115\"])",
   "outputs": [],
   "execution_count": null
  },
  {
   "cell_type": "code",
   "metadata": {
    "colab": {
     "base_uri": "https://localhost:8080/",
     "height": 423
    },
    "id": "HcEZHA8YBubr",
    "outputId": "974ceebb-cd42-4b00-bc89-c19ec2c85a77",
    "cell_id": "00002-53fa6692-9c33-4430-b2c8-9378615fa3e5",
    "deepnote_output_heights": [
     382.1875
    ],
    "deepnote_to_be_reexecuted": false,
    "source_hash": "fdadfa9a",
    "execution_start": 1638651474062,
    "execution_millis": 0,
    "deepnote_cell_type": "code"
   },
   "source": "#percentage of people self-reporting COVID-like symptoms\nsurvey_covid_symptoms = data1[['geo_value','time_value','value','sample_size']].rename({'value':'percentage_covid_like_symptoms'},axis=1)",
   "outputs": [],
   "execution_count": null
  },
  {
   "cell_type": "code",
   "metadata": {
    "id": "xxS7YN-eZyuY",
    "cell_id": "00003-2aa2e3c4-c389-4574-b512-8c171f4bc83e",
    "deepnote_to_be_reexecuted": false,
    "source_hash": "f1c51257",
    "execution_start": 1638651474063,
    "execution_millis": 47858,
    "deepnote_cell_type": "code"
   },
   "source": "data2 = covidcast.signal(\"google-symptoms\", \"ageusia_raw_search\",\n                        date(2020, 2, 1), date(2021, 11, 1),\n                        \"county\", [\"06001\", \"06003\", \"06005\", \"06007\", \"06009\", \"06011\", \"06013\", \"06015\", \"06017\", \"06019\", \"06021\", \"06023\", \"06025\", \"06027\", \"06029\", \"06031\", \"06033\", \"06035\", \"06037\", \"06039\", \"06041\", \"06043\", \"06045\", \"06047\", \"06049\", \"06051\", \"06053\", \"06055\", \"06057\", \"06059\", \"06061\", \"06063\", \"06065\", \"06067\", \"06069\", \"06071\", \"06073\", \"06075\", \"06077\", \"06079\", \"06081\", \"06083\", \"06085\", \"06087\", \"06089\", \"06091\", \"06093\", \"06095\", \"06097\", \"06099\", \"06101\", \"06103\", \"06105\", \"06107\", \"06109\", \"06111\", \"06113\", \"06115\"])",
   "outputs": [],
   "execution_count": null
  },
  {
   "cell_type": "code",
   "metadata": {
    "colab": {
     "base_uri": "https://localhost:8080/",
     "height": 423
    },
    "id": "VcFBwagLZ013",
    "outputId": "72d58e27-de27-42e9-9648-1021a7dbd667",
    "cell_id": "00004-e2991306-5f05-4bc3-a4c5-2acee767e5dc",
    "deepnote_output_heights": [
     382.1875
    ],
    "deepnote_to_be_reexecuted": false,
    "source_hash": "b5a735",
    "execution_start": 1638651521934,
    "execution_millis": 3,
    "deepnote_cell_type": "code"
   },
   "source": "#Google search volume for ageusia related searches, in arbitrary units that are normalized for overall search users\ngoogle_ageusia = data2[['geo_value','time_value','value']].rename({'value':'google_ageusia_volume'},axis=1)",
   "outputs": [],
   "execution_count": null
  },
  {
   "cell_type": "code",
   "metadata": {
    "id": "yul5MjGZhVAC",
    "cell_id": "00005-ac87939b-c010-4756-bfdb-3b4e14c0df10",
    "deepnote_to_be_reexecuted": false,
    "source_hash": "d7a4ee2a",
    "execution_start": 1638651521941,
    "execution_millis": 50480,
    "deepnote_cell_type": "code"
   },
   "source": "data3 = covidcast.signal(\"google-symptoms\", \"anosmia_raw_search\",\n                        date(2020, 2, 1), date(2021, 11, 1),\n                        \"county\", [\"06001\", \"06003\", \"06005\", \"06007\", \"06009\", \"06011\", \"06013\", \"06015\", \"06017\", \"06019\", \"06021\", \"06023\", \"06025\", \"06027\", \"06029\", \"06031\", \"06033\", \"06035\", \"06037\", \"06039\", \"06041\", \"06043\", \"06045\", \"06047\", \"06049\", \"06051\", \"06053\", \"06055\", \"06057\", \"06059\", \"06061\", \"06063\", \"06065\", \"06067\", \"06069\", \"06071\", \"06073\", \"06075\", \"06077\", \"06079\", \"06081\", \"06083\", \"06085\", \"06087\", \"06089\", \"06091\", \"06093\", \"06095\", \"06097\", \"06099\", \"06101\", \"06103\", \"06105\", \"06107\", \"06109\", \"06111\", \"06113\", \"06115\"])",
   "outputs": [],
   "execution_count": null
  },
  {
   "cell_type": "code",
   "metadata": {
    "colab": {
     "base_uri": "https://localhost:8080/",
     "height": 423
    },
    "id": "VZchVbX7ha9p",
    "outputId": "3acf3752-7c08-43e9-ae73-67f44bf17b4f",
    "cell_id": "00006-535eec8c-182b-4b00-aaa3-dfc273e0c007",
    "deepnote_to_be_reexecuted": false,
    "source_hash": "ca366d31",
    "deepnote_output_heights": [
     382.1875
    ],
    "execution_start": 1638651572446,
    "execution_millis": 1,
    "deepnote_cell_type": "code"
   },
   "source": "#Google search volume for anosmia-related searches, in arbitrary units that are normalized for overall search users\ngoogle_anosmia = data3[['geo_value','time_value','value']].rename({'value':'google_anosmia_volume'},axis=1)",
   "outputs": [],
   "execution_count": null
  },
  {
   "cell_type": "code",
   "metadata": {
    "id": "Gb3UbDC-Z6bn",
    "cell_id": "00007-746703e3-2676-4b9a-abd8-385b527ed065",
    "deepnote_to_be_reexecuted": false,
    "source_hash": "a2ceff56",
    "execution_start": 1638651572459,
    "execution_millis": 59562,
    "deepnote_cell_type": "code"
   },
   "source": "data4 = covidcast.signal(\"indicator-combination-cases-deaths\", \"confirmed_incidence_num\",\n                        date(2020, 2, 1), date(2021, 11, 1),\n                        \"county\", [\"06001\", \"06003\", \"06005\", \"06007\", \"06009\", \"06011\", \"06013\", \"06015\", \"06017\", \"06019\", \"06021\", \"06023\", \"06025\", \"06027\", \"06029\", \"06031\", \"06033\", \"06035\", \"06037\", \"06039\", \"06041\", \"06043\", \"06045\", \"06047\", \"06049\", \"06051\", \"06053\", \"06055\", \"06057\", \"06059\", \"06061\", \"06063\", \"06065\", \"06067\", \"06069\", \"06071\", \"06073\", \"06075\", \"06077\", \"06079\", \"06081\", \"06083\", \"06085\", \"06087\", \"06089\", \"06091\", \"06093\", \"06095\", \"06097\", \"06099\", \"06101\", \"06103\", \"06105\", \"06107\", \"06109\", \"06111\", \"06113\", \"06115\"])",
   "outputs": [],
   "execution_count": null
  },
  {
   "cell_type": "code",
   "metadata": {
    "colab": {
     "base_uri": "https://localhost:8080/",
     "height": 423
    },
    "id": "VcxoJvHfbiV-",
    "outputId": "6fa2f109-da57-4216-9517-38b697c9c8c1",
    "cell_id": "00008-7d9f96cf-e6b4-4523-b636-c3eb8bd393ec",
    "deepnote_to_be_reexecuted": false,
    "source_hash": "1b0d0837",
    "deepnote_output_heights": [
     232.34375
    ],
    "execution_start": 1638651632040,
    "execution_millis": 929,
    "deepnote_cell_type": "code"
   },
   "source": "covid_cases1 = data4[['geo_value','time_value','value']].rename({'value':'covid_cases'},axis=1)\ncovid_cases2 = covid_cases1.sort_values(['geo_value','time_value'])\ntotal_covid_cases = np.array([])\ngeos = covid_cases2.geo_value.unique()\nfor county in geos: \n    x = covid_cases2.query('geo_value ==  @county')['covid_cases'].cumsum().to_numpy()\n    total_covid_cases = np.append(total_covid_cases, x)\ncovid_cases2['total_covid_cases'] = total_covid_cases\ncovid_cases = covid_cases2",
   "outputs": [],
   "execution_count": null
  },
  {
   "cell_type": "code",
   "metadata": {
    "id": "I8qfxC7qclet",
    "cell_id": "00009-c92936bd-85f7-43be-a59e-bb36f42bcb50",
    "deepnote_to_be_reexecuted": false,
    "source_hash": "2d95f115",
    "execution_start": 1638651632989,
    "execution_millis": 89018,
    "deepnote_cell_type": "code"
   },
   "source": "data5 = covidcast.signal(\"hospital-admissions\", \"smoothed_adj_covid19_from_claims\",\n                        date(2020, 2, 1), date(2021, 11, 1),\n                        \"county\", [\"06001\", \"06003\", \"06005\", \"06007\", \"06009\", \"06011\", \"06013\", \"06015\", \"06017\", \"06019\", \"06021\", \"06023\", \"06025\", \"06027\", \"06029\", \"06031\", \"06033\", \"06035\", \"06037\", \"06039\", \"06041\", \"06043\", \"06045\", \"06047\", \"06049\", \"06051\", \"06053\", \"06055\", \"06057\", \"06059\", \"06061\", \"06063\", \"06065\", \"06067\", \"06069\", \"06071\", \"06073\", \"06075\", \"06077\", \"06079\", \"06081\", \"06083\", \"06085\", \"06087\", \"06089\", \"06091\", \"06093\", \"06095\", \"06097\", \"06099\", \"06101\", \"06103\", \"06105\", \"06107\", \"06109\", \"06111\", \"06113\", \"06115\"])",
   "outputs": [],
   "execution_count": null
  },
  {
   "cell_type": "code",
   "metadata": {
    "colab": {
     "base_uri": "https://localhost:8080/",
     "height": 423
    },
    "id": "WKLdEiDtc0zV",
    "outputId": "85ba620f-7e53-43c1-ca25-1343b913e7e2",
    "cell_id": "00010-86efa6b8-dcf1-4be0-992c-ec4b26b3a8be",
    "deepnote_to_be_reexecuted": false,
    "source_hash": "8cdd357b",
    "execution_start": 1638651722050,
    "execution_millis": 0,
    "deepnote_output_heights": [
     382.1875
    ],
    "deepnote_cell_type": "code"
   },
   "source": "#Estimated percentage of new hospital admissions with COVID-associated diagnoses, based on counts of claims from health system partners,\n# smoothed in time using a Gaussian linear smoother, and adjusted to reduce day-of-week effects.\nhospital_admissions = data5[['geo_value','time_value','value']].rename({'value':'hospital_admissions'},axis=1)",
   "outputs": [],
   "execution_count": null
  },
  {
   "cell_type": "code",
   "metadata": {
    "id": "kvsxO3lJdqkF",
    "cell_id": "00011-41734430-b586-45e1-888d-5ff32f998b0d",
    "deepnote_to_be_reexecuted": false,
    "source_hash": "1b91090b",
    "execution_start": 1638651722051,
    "execution_millis": 178316,
    "deepnote_cell_type": "code"
   },
   "source": "data6 = covidcast.signal(\"doctor-visits\", \"smoothed_adj_cli\",\n                        date(2020, 2, 1), date(2021, 11, 1),\n                        \"county\", [\"06001\", \"06003\", \"06005\", \"06007\", \"06009\", \"06011\", \"06013\", \"06015\", \"06017\", \"06019\", \"06021\", \"06023\", \"06025\", \"06027\", \"06029\", \"06031\", \"06033\", \"06035\", \"06037\", \"06039\", \"06041\", \"06043\", \"06045\", \"06047\", \"06049\", \"06051\", \"06053\", \"06055\", \"06057\", \"06059\", \"06061\", \"06063\", \"06065\", \"06067\", \"06069\", \"06071\", \"06073\", \"06075\", \"06077\", \"06079\", \"06081\", \"06083\", \"06085\", \"06087\", \"06089\", \"06091\", \"06093\", \"06095\", \"06097\", \"06099\", \"06101\", \"06103\", \"06105\", \"06107\", \"06109\", \"06111\", \"06113\", \"06115\"])",
   "outputs": [],
   "execution_count": null
  },
  {
   "cell_type": "code",
   "metadata": {
    "colab": {
     "base_uri": "https://localhost:8080/",
     "height": 423
    },
    "id": "oWpidgW2eQSl",
    "outputId": "7eea1473-2a86-401f-cca7-08909d805c9b",
    "cell_id": "00012-b558dd84-2676-4fec-91d9-22b84ffaea02",
    "deepnote_to_be_reexecuted": false,
    "source_hash": "173620aa",
    "execution_start": 1638651900410,
    "execution_millis": 1,
    "deepnote_output_heights": [
     382.1875
    ],
    "deepnote_cell_type": "code"
   },
   "source": "#Estimated percentage of outpatient doctor visits that are primarily about COVID-related symptoms,\n# based on data from health system partners, smoothed in time using a Gaussian linear smoother, and adjusted to reduce day-of-week effects\ndoctor_visits = data6[['geo_value','time_value','value']].rename({'value':'doctor_visits'},axis=1)",
   "outputs": [],
   "execution_count": null
  },
  {
   "cell_type": "code",
   "metadata": {
    "id": "VgArX-yYeWJd",
    "cell_id": "00013-91347ebc-d5b8-4a6a-b3bd-66e536d978f7",
    "deepnote_to_be_reexecuted": false,
    "source_hash": "7c8f7932",
    "execution_start": 1638651900411,
    "execution_millis": 48625,
    "deepnote_cell_type": "code"
   },
   "source": "data7 = covidcast.signal(\"quidel-covid-ag\", \"covid_ag_raw_pct_positive\",\n                        date(2020, 2, 1), date(2021, 11, 1),\n                        \"county\", [\"06001\", \"06003\", \"06005\", \"06007\", \"06009\", \"06011\", \"06013\", \"06015\", \"06017\", \"06019\", \"06021\", \"06023\", \"06025\", \"06027\", \"06029\", \"06031\", \"06033\", \"06035\", \"06037\", \"06039\", \"06041\", \"06043\", \"06045\", \"06047\", \"06049\", \"06051\", \"06053\", \"06055\", \"06057\", \"06059\", \"06061\", \"06063\", \"06065\", \"06067\", \"06069\", \"06071\", \"06073\", \"06075\", \"06077\", \"06079\", \"06081\", \"06083\", \"06085\", \"06087\", \"06089\", \"06091\", \"06093\", \"06095\", \"06097\", \"06099\", \"06101\", \"06103\", \"06105\", \"06107\", \"06109\", \"06111\", \"06113\", \"06115\"])",
   "outputs": [],
   "execution_count": null
  },
  {
   "cell_type": "code",
   "metadata": {
    "colab": {
     "base_uri": "https://localhost:8080/",
     "height": 423
    },
    "id": "4AD-6rvFkSUZ",
    "outputId": "503ad802-30e0-44d5-faa7-f16526ac4d74",
    "cell_id": "00014-5a5dfddd-bd8d-4ba1-8e78-ae37feedcb63",
    "deepnote_to_be_reexecuted": false,
    "source_hash": "fa671f61",
    "execution_start": 1638651949048,
    "execution_millis": 1,
    "deepnote_output_heights": [
     382.1875
    ],
    "deepnote_cell_type": "code"
   },
   "source": "#we compute the percentage of antigen tests performed that were positive for COVID-19\npositive_antigen = data7[['geo_value','time_value','value','sample_size']].rename({'value':'positive_antigen'},axis=1)",
   "outputs": [],
   "execution_count": null
  },
  {
   "cell_type": "code",
   "metadata": {
    "id": "u-qvKm1TmAjn",
    "cell_id": "00015-f0c28856-1cc7-4884-b0da-9bf51ec17b05",
    "deepnote_to_be_reexecuted": false,
    "source_hash": "e4b97c4c",
    "execution_start": 1638651949097,
    "execution_millis": 131416,
    "deepnote_cell_type": "code"
   },
   "source": "data8 = covidcast.signal(\"safegraph-daily\", \"median_home_dwell_time\",\n                        date(2020, 2, 1), date(2021, 11, 1),\n                        \"county\", [\"06001\", \"06003\", \"06005\", \"06007\", \"06009\", \"06011\", \"06013\", \"06015\", \"06017\", \"06019\", \"06021\", \"06023\", \"06025\", \"06027\", \"06029\", \"06031\", \"06033\", \"06035\", \"06037\", \"06039\", \"06041\", \"06043\", \"06045\", \"06047\", \"06049\", \"06051\", \"06053\", \"06055\", \"06057\", \"06059\", \"06061\", \"06063\", \"06065\", \"06067\", \"06069\", \"06071\", \"06073\", \"06075\", \"06077\", \"06079\", \"06081\", \"06083\", \"06085\", \"06087\", \"06089\", \"06091\", \"06093\", \"06095\", \"06097\", \"06099\", \"06101\", \"06103\", \"06105\", \"06107\", \"06109\", \"06111\", \"06113\", \"06115\"])",
   "outputs": [],
   "execution_count": null
  },
  {
   "cell_type": "code",
   "metadata": {
    "colab": {
     "base_uri": "https://localhost:8080/",
     "height": 423
    },
    "id": "ORHTV-jMmIQX",
    "outputId": "e879ff8e-a666-46ed-ffc4-1b8960834c2c",
    "cell_id": "00016-e74d483e-fed1-4fd3-87c0-9cc3fa8f5e58",
    "deepnote_to_be_reexecuted": false,
    "source_hash": "2ab1d42c",
    "execution_start": 1638652080558,
    "execution_millis": 0,
    "deepnote_output_heights": [
     382.1875
    ],
    "deepnote_cell_type": "code"
   },
   "source": "#The median time spent at home for all devices at this location for this time period, in minutes.\nhome_time = data8[['geo_value','time_value','value','sample_size']].rename({'value':'home_time'},axis=1)",
   "outputs": [],
   "execution_count": null
  },
  {
   "cell_type": "code",
   "metadata": {
    "id": "BoBWQvucqD4E",
    "cell_id": "00017-fa2a10cb-7a21-4949-845f-b6c5af02b033",
    "deepnote_to_be_reexecuted": false,
    "source_hash": "6cc4b9e3",
    "execution_start": 1638652080559,
    "execution_millis": 527504,
    "deepnote_cell_type": "code"
   },
   "source": "data9 = covidcast.signal(\"chng-covid\", \"smoothed_adj_outpatient_covid\",\n                        date(2020, 2, 1), date(2021, 11, 1),\n                        \"county\", [\"06001\", \"06003\", \"06005\", \"06007\", \"06009\", \"06011\", \"06013\", \"06015\", \"06017\", \"06019\", \"06021\", \"06023\", \"06025\", \"06027\", \"06029\", \"06031\", \"06033\", \"06035\", \"06037\", \"06039\", \"06041\", \"06043\", \"06045\", \"06047\", \"06049\", \"06051\", \"06053\", \"06055\", \"06057\", \"06059\", \"06061\", \"06063\", \"06065\", \"06067\", \"06069\", \"06071\", \"06073\", \"06075\", \"06077\", \"06079\", \"06081\", \"06083\", \"06085\", \"06087\", \"06089\", \"06091\", \"06093\", \"06095\", \"06097\", \"06099\", \"06101\", \"06103\", \"06105\", \"06107\", \"06109\", \"06111\", \"06113\", \"06115\"])",
   "outputs": [],
   "execution_count": null
  },
  {
   "cell_type": "code",
   "metadata": {
    "colab": {
     "base_uri": "https://localhost:8080/",
     "height": 423
    },
    "id": "fvZ_9zHJqdu7",
    "outputId": "3acb3ef5-923f-43eb-d04d-838d9efab085",
    "cell_id": "00018-6a8eec6d-0e6b-40e7-82e7-e315252b71f5",
    "deepnote_to_be_reexecuted": false,
    "source_hash": "d5fd2e8",
    "execution_start": 1638652608082,
    "execution_millis": 88,
    "deepnote_output_heights": [
     382.1875
    ],
    "deepnote_cell_type": "code"
   },
   "source": "#Estimated percentage of outpatient doctor visits with confirmed COVID-19\nconfirmed_covid_visit = data9[['geo_value','time_value','value']].rename({'value':'confirmed_covid_visit'},axis=1)",
   "outputs": [],
   "execution_count": null
  },
  {
   "cell_type": "code",
   "metadata": {
    "id": "l3fWVdCfxez5",
    "cell_id": "00019-9bb4d635-1bce-404c-8f81-a263bd876870",
    "deepnote_to_be_reexecuted": false,
    "source_hash": "3b332eaf",
    "execution_start": 1638652608233,
    "execution_millis": 362021,
    "deepnote_cell_type": "code"
   },
   "source": "data10 = covidcast.signal(\"jhu-csse\", \"deaths_incidence_num\",\n                        date(2020, 2, 20), date(2021, 11, 20),\n                        \"county\", [\"06001\", \"06003\", \"06005\", \"06007\", \"06009\", \"06011\", \"06013\", \"06015\", \"06017\", \"06019\", \"06021\", \"06023\", \"06025\", \"06027\", \"06029\", \"06031\", \"06033\", \"06035\", \"06037\", \"06039\", \"06041\", \"06043\", \"06045\", \"06047\", \"06049\", \"06051\", \"06053\", \"06055\", \"06057\", \"06059\", \"06061\", \"06063\", \"06065\", \"06067\", \"06069\", \"06071\", \"06073\", \"06075\", \"06077\", \"06079\", \"06081\", \"06083\", \"06085\", \"06087\", \"06089\", \"06091\", \"06093\", \"06095\", \"06097\", \"06099\", \"06101\", \"06103\", \"06105\", \"06107\", \"06109\", \"06111\", \"06113\", \"06115\"])",
   "outputs": [],
   "execution_count": null
  },
  {
   "cell_type": "code",
   "metadata": {
    "colab": {
     "base_uri": "https://localhost:8080/",
     "height": 423
    },
    "id": "7pdrXSWWxjKx",
    "outputId": "34a419a6-0526-4189-d1c3-6747ad61b75c",
    "cell_id": "00020-76deb108-af35-4e8d-8e19-8eb27423b625",
    "deepnote_to_be_reexecuted": false,
    "source_hash": "337d7b80",
    "execution_start": 1638652970254,
    "execution_millis": 2652,
    "deepnote_output_heights": [
     382.1875
    ],
    "deepnote_cell_type": "code"
   },
   "source": "covid_deaths1 = data10[['geo_value','time_value','value']].rename({'value':'covid_deaths'},axis=1)\ncovid_deaths2 = covid_deaths1.sort_values(['geo_value','time_value'])\ntotal_covid_deaths = np.array([])\ngeos = covid_deaths2.geo_value.unique()\nfor county in geos: \n    x = covid_deaths2.query('geo_value ==  @county')['covid_deaths'].cumsum().to_numpy()\n    total_covid_deaths = np.append(total_covid_deaths, x)\ncovid_deaths2['total_covid_deaths'] = total_covid_deaths\ncovid_deaths = covid_deaths2\n",
   "outputs": [],
   "execution_count": null
  },
  {
   "cell_type": "markdown",
   "source": "DataFrames:\n\nFEATURES\n\n***covid_deaths*** : Johns Hopkins University's Center for Systems Science and Engineering (JHU-CSSE) reports confirmed COVID-19 cases and deaths. **2020-02-01 -> 2021-11-01. 37120 rows**\n\n***confirmed_covid_visit*** : Estimated percentage of outpatient doctor visits with confirmed COVID-19. **2020-02-01 -> 2021-10-02. 34729 rows**\n\n***doctor_visits*** : Estimated percentage of outpatient doctor visits that are primarily about COVID-related symptoms, based on data from health system partners, smoothed in time using a Gaussian linear smoother, and adjusted to reduce day-of-week effects. **2020-02-01 -> 2021-11-01. 28569 rows**\n\n***hospital_admissions*** : Estimated percentage of new hospital admissions with COVID-associated diagnoses, based on counts of claims from health system partners, smoothed in time using a Gaussian linear smoother, and adjusted to reduce day-of-week effects. **2020-02-01 -> 2021-11-01. 12972 rows**\n\n***google_anosmia*** : Google search volume for anosmia-related searches, in arbitrary units that are normalized for overall search users. **2020-02-13\t-> 2021-11-01. 8484 rows**\n\n***google_ageusia*** : Google search volume for ageusia related searches, in arbitrary units that are normalized for overall search users. **2020-02-13\t-> 2021-11-01. 7108 rows**\n\nSAMPLE SIZES:\n\n***survey_covid_symptoms*** : percentage of people self-reporting COVID-like symptoms **2020-04-06 -> 2021-11-01. 6470 rows**\n\n***positive_antigen*** : we compute the percentage of antigen tests performed that were positive for COVID-19. **2020-06-09\t-> 2021-11-01. 2913 rows**\n\n***home_time*** : The median time spent at home for all devices at this location for this time period, in minutes. **2020-02-01 -> 2021-04-16. 25578 rows**\n\n\nRESPONSE VARIABLE\n\n***covid_cases*** : Response Variable, Total Covid Cases. **2020-02-20 -> 2021-11-01. 36018 rows** \n\n\n\n",
   "metadata": {
    "id": "fL99lGKStSqy",
    "cell_id": "00021-eb3d9642-0e83-4b90-9683-985bfdf3d0b4",
    "deepnote_cell_type": "markdown"
   }
  },
  {
   "cell_type": "markdown",
   "source": "# Merging Data",
   "metadata": {
    "tags": [],
    "cell_id": "00026-25ddb0c3-76ec-47d9-b339-ee8348056d48",
    "deepnote_cell_type": "markdown"
   }
  },
  {
   "cell_type": "code",
   "metadata": {
    "id": "2Oatbl3Xw06O",
    "cell_id": "00022-04048283-d430-4774-88d0-6e398e51b77b",
    "deepnote_to_be_reexecuted": false,
    "source_hash": "4bffddd3",
    "execution_start": 1638652972940,
    "execution_millis": 607,
    "deepnote_cell_type": "code"
   },
   "source": "data_join1 = covid_cases.merge(confirmed_covid_visit.sort_values(['geo_value','time_value']),on= ['geo_value','time_value'], how = 'left')",
   "outputs": [],
   "execution_count": null
  },
  {
   "cell_type": "code",
   "metadata": {
    "id": "Zb0532ARuJpa",
    "cell_id": "00024-adccf887-ec6b-4f21-9e56-e23a8d0d3a47",
    "deepnote_to_be_reexecuted": false,
    "source_hash": "79737029",
    "execution_start": 1638652973601,
    "execution_millis": 311,
    "deepnote_cell_type": "code"
   },
   "source": "data_join2 = data_join1.merge(doctor_visits.sort_values(['geo_value','time_value']),on= ['geo_value','time_value'], how = 'left')",
   "outputs": [],
   "execution_count": null
  },
  {
   "cell_type": "code",
   "metadata": {
    "id": "PMwsEOPfuf2T",
    "cell_id": "00026-a5019131-9f3e-4074-80c9-b5651afd8fe6",
    "deepnote_to_be_reexecuted": false,
    "source_hash": "4aba0fef",
    "execution_start": 1638652973925,
    "execution_millis": 300,
    "deepnote_cell_type": "code"
   },
   "source": "data_join3 = data_join2.merge(hospital_admissions.sort_values(['geo_value','time_value']),on= ['geo_value','time_value'], how = 'left')",
   "outputs": [],
   "execution_count": null
  },
  {
   "cell_type": "code",
   "metadata": {
    "id": "cS5GXPm9vC5d",
    "cell_id": "00028-b638b9f3-33dd-48c6-b717-be1874a61999",
    "deepnote_to_be_reexecuted": false,
    "source_hash": "335bc1de",
    "execution_start": 1638652974285,
    "execution_millis": 300,
    "deepnote_cell_type": "code"
   },
   "source": "data_join4 = data_join3.merge(google_anosmia.sort_values(['geo_value','time_value']),on = ['geo_value','time_value'], how = 'left')",
   "outputs": [],
   "execution_count": null
  },
  {
   "cell_type": "code",
   "metadata": {
    "id": "jdKtifrmvPde",
    "cell_id": "00030-986adaa9-44e4-4f9f-a56f-978e8cf989e8",
    "deepnote_to_be_reexecuted": false,
    "source_hash": "98777af2",
    "execution_start": 1638652974609,
    "execution_millis": 322,
    "deepnote_cell_type": "code"
   },
   "source": "data_join5 = data_join4.merge(google_ageusia.sort_values(['geo_value','time_value']),on = ['geo_value','time_value'], how = 'left')",
   "outputs": [],
   "execution_count": null
  },
  {
   "cell_type": "code",
   "metadata": {
    "id": "nkxlYSt9vyPo",
    "cell_id": "00032-0aba11d3-8c02-4a3e-a7c3-344c29aeb069",
    "deepnote_to_be_reexecuted": false,
    "source_hash": "a693f83",
    "execution_start": 1638652974931,
    "execution_millis": 424,
    "deepnote_cell_type": "code"
   },
   "source": "data_join6 = data_join5.merge(covid_deaths.sort_values(['geo_value','time_value']),on = ['geo_value','time_value'], how = 'left')",
   "outputs": [],
   "execution_count": null
  },
  {
   "cell_type": "code",
   "metadata": {
    "tags": [],
    "cell_id": "00041-f15010f8-1736-4e31-8feb-3ad32f1b67da",
    "deepnote_to_be_reexecuted": false,
    "source_hash": "5c64854f",
    "execution_start": 1638652975375,
    "execution_millis": 413,
    "deepnote_cell_type": "code"
   },
   "source": "data_join7 = data_join6.merge(home_time.drop(columns= ['sample_size']).sort_values(['geo_value','time_value']),on = ['geo_value','time_value'], how = 'left')",
   "outputs": [],
   "execution_count": null
  },
  {
   "cell_type": "code",
   "metadata": {
    "tags": [],
    "cell_id": "00042-aa230478-d0bc-4425-baba-7ef5ad134221",
    "deepnote_to_be_reexecuted": false,
    "source_hash": "b672b3c2",
    "execution_start": 1638652975814,
    "execution_millis": 167,
    "deepnote_output_heights": [
     251.4375
    ],
    "deepnote_cell_type": "code"
   },
   "source": "data_join7.count()",
   "outputs": [
    {
     "output_type": "execute_result",
     "execution_count": 29,
     "data": {
      "text/plain": "geo_value                36018\ntime_value               36018\ncovid_cases              36018\ntotal_covid_cases        36018\nconfirmed_covid_visit    35361\ndoctor_visits            27791\nhospital_admissions      12736\ngoogle_anosmia_volume     8429\ngoogle_ageusia_volume     7069\ncovid_deaths             36018\ntotal_covid_deaths       36018\nhome_time                24476\ndtype: int64"
     },
     "metadata": {}
    }
   ],
   "execution_count": null
  },
  {
   "cell_type": "code",
   "metadata": {
    "tags": [],
    "cell_id": "00043-eeaadc6c-f8c8-449c-a7d9-e1059a5f7861",
    "deepnote_to_be_reexecuted": false,
    "source_hash": "af595e8b",
    "execution_start": 1638652976023,
    "execution_millis": 51,
    "deepnote_output_heights": [
     251.4375
    ],
    "deepnote_cell_type": "code"
   },
   "source": "data_join7.isna().sum()",
   "outputs": [
    {
     "output_type": "execute_result",
     "execution_count": 30,
     "data": {
      "text/plain": "geo_value                    0\ntime_value                   0\ncovid_cases                  0\ntotal_covid_cases            0\nconfirmed_covid_visit      657\ndoctor_visits             8227\nhospital_admissions      23282\ngoogle_anosmia_volume    27589\ngoogle_ageusia_volume    28949\ncovid_deaths                 0\ntotal_covid_deaths           0\nhome_time                11542\ndtype: int64"
     },
     "metadata": {}
    }
   ],
   "execution_count": null
  },
  {
   "cell_type": "code",
   "metadata": {
    "tags": [],
    "cell_id": "00038-47641a66-eac7-4bb2-b5b2-3ce0773cf30c",
    "deepnote_to_be_reexecuted": false,
    "source_hash": "942dac0a",
    "execution_start": 1638652976101,
    "execution_millis": 7501,
    "deepnote_cell_type": "code"
   },
   "source": "sorted_data_joins = data_join7.sort_values(['geo_value','time_value'],axis=0)\nsorted_data_join = sorted_data_joins.drop(columns = ['covid_cases']).rename({'total_covid_cases':'covid_cases'},axis=1)\nsorted_data_join = sorted_data_join.drop(columns = ['covid_deaths']).rename({'total_covid_deaths':'covid_deaths'},axis=1)\nsorted_data_join.to_csv('uncleaned_full_df.csv')",
   "outputs": [],
   "execution_count": null
  },
  {
   "cell_type": "markdown",
   "source": "# Imputing Missing Data and Formatting",
   "metadata": {
    "tags": [],
    "cell_id": "00042-04beeae3-6812-4f5b-9ee3-69022c3de4c6",
    "deepnote_cell_type": "markdown"
   }
  },
  {
   "cell_type": "code",
   "metadata": {
    "tags": [],
    "cell_id": "00046-b247b383-4117-4c18-b214-4096ba97898c",
    "deepnote_to_be_reexecuted": false,
    "source_hash": "f3b014fe",
    "execution_start": 1638732765384,
    "execution_millis": 330,
    "deepnote_cell_type": "code"
   },
   "source": "#sorted_data_join = pd.read_csv('uncleaned_full_df.csv', index_col=0)\nsorted_data_join = pd.read_csv('uncleaned_full_df.csv', index_col=0)\nsorted_data_join['time_value'] = pd.to_datetime(sorted_data_join['time_value'])\nsorted_data_join = sorted_data_join.drop(columns = ['google_anosmia_volume','google_ageusia_volume'])",
   "outputs": [],
   "execution_count": null
  },
  {
   "cell_type": "code",
   "metadata": {
    "tags": [],
    "cell_id": "00041-5c454f4e-7adf-410d-bf48-5cb783a177b7",
    "deepnote_to_be_reexecuted": false,
    "source_hash": "673b9636",
    "execution_start": 1638732787137,
    "execution_millis": 241,
    "deepnote_output_heights": [
     192
    ],
    "deepnote_cell_type": "code"
   },
   "source": "# ffill, limit 3 \nimpute_df = sorted_data_join.copy()\nimpute_df['confirmed_covid_visit'] = impute_df['confirmed_covid_visit'].fillna(method='ffill',axis = None, limit = 3, downcast=None)\nimpute_df['doctor_visits'] = impute_df['doctor_visits'].fillna(method='ffill',axis = None, limit = 3, downcast=None)\nimpute_df['hospital_admissions'] = impute_df['hospital_admissions'].fillna(method='ffill',axis = None, limit = 3, downcast=None)\n#impute_df['google_anosmia_volume'] = impute_df['google_anosmia_volume'].fillna(method='ffill',axis = None, limit = 3, downcast=None)\n#impute_df['google_ageusia_volume'] = impute_df['google_ageusia_volume'].fillna(method='ffill',axis = None, limit = 3, downcast=None)\nimpute_df['home_time'] = impute_df['home_time'].fillna(method='ffill',axis = None, limit = 3, downcast=None)\nimpute_df.isna().sum()\nimpute_df = impute_df.dropna()\nprint(impute_df.shape)\n",
   "outputs": [
    {
     "name": "stdout",
     "text": "(8974, 8)\n",
     "output_type": "stream"
    }
   ],
   "execution_count": null
  },
  {
   "cell_type": "code",
   "metadata": {
    "tags": [],
    "cell_id": "00042-6659f1da-6ed9-46e7-97e1-3fe3453078aa",
    "deepnote_to_be_reexecuted": false,
    "source_hash": "b5e035a1",
    "execution_start": 1638657122041,
    "execution_millis": 387673,
    "deepnote_cell_type": "code"
   },
   "source": "# Imputed data!! \nsorted_impute_join = impute_df.reset_index(drop=True)\nt_plus_1_impute = sorted_impute_join.iloc[2:,[0,1,2]].reset_index(drop=True)\nt_minus_1_impute = sorted_impute_join.iloc[0:8972,:].reset_index(drop=True)\nt_nothing_impute = sorted_impute_join.iloc[1:8973,:].reset_index(drop=True)\n\nt_minus_1_labels = {'geo_value':'geo_value_t_minus_1','time_value':'time_value_t_minus_1',\n 'covid_cases' : 'covid_cases_t_minus_1',\n 'confirmed_covid_visit': 'confirmed_covid_vist_t_minus_1',\n 'doctor_visits': 'doctor_visits_t_minus_1',\n 'hospital_admissions':'hospital_admissions_t_minus_1',\n 'google_anosmia_volume' : 'google_anosmia_volume_t_minus_1',\n 'google_ageusia_volume':'google_ageusia_volume_t_minus_1',\n 'covid_deaths':'covid_deaths_t_minus','home_time':'home_time_t_minus_1'}\nt_minus_1_fixed_impute = t_minus_1_impute.rename(t_minus_1_labels,axis=1)\nt_plus_1_label = {'covid_cases':'covid_cases_t_plus_one','geo_value':'geo_value_t_plus_1',\n'time_value':'time_value_t_plus_1'}\nt_plus_1_fixed_impute = t_plus_1_impute.rename(t_plus_1_label,axis=1)\n\nfull_df_impute =  t_nothing_impute.join([t_minus_1_fixed_impute,t_plus_1_fixed_impute])\n\nimport numpy as np\nimport datetime\nfrom datetime import timedelta\n\nimputed_good_data = np.array([])\nfor index in np.arange(full_df_impute.shape[0]):\n    if full_df_impute.iloc[index,:]['geo_value'] == full_df_impute.iloc[index,:]['geo_value_t_minus_1'] == full_df_impute.iloc[index,:]['geo_value_t_plus_1']:\n        if full_df_impute.iloc[index,:]['time_value'] == full_df_impute.iloc[index,:]['time_value_t_minus_1'] + datetime.timedelta(days=1):\n            if full_df_impute.iloc[index,:]['time_value']+ datetime.timedelta(days=1) == full_df_impute.iloc[index,:]['time_value_t_plus_1']:\n                imputed_good_data= np.append(imputed_good_data , index)\n\nimputed_good_full_df = full_df_impute.iloc[imputed_good_data,:]\n\nimputed_clean_good_full_df = imputed_good_full_df.drop(columns = ['geo_value_t_plus_1','time_value_t_plus_1'])\n#bins = [pd.Timestamp('2020-01-01 00:00:00'),\n  #pd.Timestamp('2020-06-10 00:00:00'),\n  #pd.Timestamp('2020-07-30 00:00:00'),\n  #pd.Timestamp('2020-10-01 00:00:00'),\n  #pd.Timestamp('2021-01-10 00:00:00'),\n  #pd.Timestamp('2021-03-15 00:00:00'),\n  #pd.Timestamp('2021-06-20 00:00:00'),\n  #pd.Timestamp('2021-09-01 00:00:00'),\n  #pd.Timestamp('2021-12-01 00:00:00')]\nbins = [pd.Timestamp('2020-01-01 00:00:00'),\n  pd.Timestamp('2020-06-18 00:00:00'),\n  pd.Timestamp('2020-10-01 00:00:00'),\n  pd.Timestamp('2021-04-01 00:00:00'),\n  pd.Timestamp('2021-06-20 00:00:00'),\n  pd.Timestamp('2021-12-01 00:00:00')]\n#labels = ['2020-01-01' , '2020-06-10', '2020-07-30' ,'2020-10-01' ,'2021-01-10 ','2021-03-15','2021-06-20', '2021-09-01', '2021-12-01']\nlabels = ['2020-01-01' , '2020-06-18', '2020-10-01' ,'2021-04-01' ,'2021-06-20','2021-12-01']\n#imputed_clean_good_full_df['time_value'] = pd.cut(imputed_clean_good_full_df['time_value'], bins , labels)\n#imputed_clean_good_full_df['time_value_t_minus_1'] = pd.cut(imputed_clean_good_full_df['time_value_t_minus_1'], bins , labels) \nind = (imputed_clean_good_full_df['geo_value'] != '06113') & (imputed_clean_good_full_df['geo_value'] !='06015') & (imputed_clean_good_full_df['geo_value'] !='06021') &  (imputed_clean_good_full_df['geo_value'] !='06087') & (imputed_clean_good_full_df['geo_value'] !='06039') & (imputed_clean_good_full_df['geo_value'] !='06061') & (imputed_clean_good_full_df['geo_value'] !='06077') & (imputed_clean_good_full_df['geo_value'] != '06069') & (imputed_clean_good_full_df['geo_value'] != '06007') & (imputed_clean_good_full_df['geo_value'] != '06031') & (imputed_clean_good_full_df['geo_value'] != '06017')\nimputed_clean_good_full_df = imputed_clean_good_full_df[ind]\nordered_geos = imputed_clean_good_full_df.groupby('geo_value').max().sort_values(by = 'covid_cases').reset_index()['geo_value'].to_numpy()\nordered_geos_labels = dict(zip(ordered_geos, np.arange(1,25)))\n#imputed_clean_good_full_df['geo_value'] = imputed_clean_good_full_df['geo_value'].replace(ordered_geos_labels)\n#imputed_clean_good_full_df['geo_value_t_minus_1'] = imputed_clean_good_full_df['geo_value_t_minus_1'].replace(ordered_geos_labels)\nprint(imputed_clean_good_full_df.shape)",
   "outputs": [
    {
     "name": "stdout",
     "text": "(8772, 17)\n",
     "output_type": "stream"
    }
   ],
   "execution_count": null
  },
  {
   "cell_type": "code",
   "source": "#imputed_clean_good_full_df.to_csv('imputed_clean_good_full_df_HomeTimeDropped_GoogleDropped.csv')",
   "metadata": {
    "tags": [],
    "cell_id": "00038-fa859f1d-7d23-4500-a4c0-6f079efdc474",
    "deepnote_to_be_reexecuted": false,
    "source_hash": "70b20014",
    "execution_start": 1638653145644,
    "execution_millis": 1,
    "deepnote_cell_type": "code"
   },
   "outputs": [],
   "execution_count": null
  },
  {
   "cell_type": "code",
   "source": "# 3 Timesteps\nsorted_impute_join = impute_df.reset_index(drop=True)\nt_plus_1_impute = sorted_impute_join.iloc[3:,[0,1,2]].reset_index(drop=True)\nt_minus_1_impute = sorted_impute_join.iloc[1:8970,:].reset_index(drop=True)\nt_minus_2_impute = sorted_impute_join.iloc[0:8969,:].reset_index(drop=True)\nt_nothing_impute = sorted_impute_join.iloc[2:8971,:].reset_index(drop=True)\n\nt_minus_1_labels = {'geo_value':'geo_value_t_minus_1','time_value':'time_value_t_minus_1',\n 'covid_cases' : 'covid_cases_t_minus_1',\n 'confirmed_covid_visit': 'confirmed_covid_vist_t_minus_1',\n 'doctor_visits': 'doctor_visits_t_minus_1',\n 'hospital_admissions':'hospital_admissions_t_minus_1',\n 'google_anosmia_volume' : 'google_anosmia_volume_t_minus_1',\n 'google_ageusia_volume':'google_ageusia_volume_t_minus_1',\n 'covid_deaths':'covid_deaths_t_minus_1','home_time':'home_time_t_minus_1'}\nt_minus_2_labels = {'geo_value':'geo_value_t_minus_2','time_value':'time_value_t_minus_2',\n 'covid_cases' : 'covid_cases_t_minus_2',\n 'confirmed_covid_visit': 'confirmed_covid_vist_t_minus_2',\n 'doctor_visits': 'doctor_visits_t_minus_2',\n 'hospital_admissions':'hospital_admissions_t_minus_2',\n 'google_anosmia_volume' : 'google_anosmia_volume_t_minus_2',\n 'google_ageusia_volume':'google_ageusia_volume_t_minus_2',\n 'covid_deaths':'covid_deaths_t_minus_2','home_time':'home_time_t_minus_2'}\nt_minus_1_fixed_impute = t_minus_1_impute.rename(t_minus_1_labels,axis=1)\nt_minus_2_fixed_impute = t_minus_2_impute.rename(t_minus_2_labels,axis=1)\nt_plus_1_label = {'covid_cases':'covid_cases_t_plus_one','geo_value':'geo_value_t_plus_1',\n'time_value':'time_value_t_plus_1'}\n\nt_plus_1_fixed_impute = t_plus_1_impute.rename(t_plus_1_label,axis=1)\n\nfull_df_impute =  t_minus_2_fixed_impute.join([t_minus_1_fixed_impute, t_nothing_impute,t_plus_1_fixed_impute])\n\nimport numpy as np\nimport datetime\nfrom datetime import timedelta\n\nimputed_good_data = np.array([])\nfor index in np.arange(full_df_impute.shape[0]):\n    if full_df_impute.iloc[index,:]['geo_value'] == full_df_impute.iloc[index,:]['geo_value_t_minus_1'] == full_df_impute.iloc[index,:]['geo_value_t_plus_1'] == full_df_impute.iloc[index,:]['geo_value_t_minus_2']:\n        if full_df_impute.iloc[index,:]['time_value_t_minus_1'] == full_df_impute.iloc[index,:]['time_value_t_minus_2'] + datetime.timedelta(days=1):\n            if full_df_impute.iloc[index,:]['time_value'] == full_df_impute.iloc[index,:]['time_value_t_minus_1'] + datetime.timedelta(days=1):\n                if full_df_impute.iloc[index,:]['time_value']+ datetime.timedelta(days=1) == full_df_impute.iloc[index,:]['time_value_t_plus_1']:\n                    imputed_good_data= np.append(imputed_good_data , index)\n\nimputed_good_full_df = full_df_impute.iloc[imputed_good_data,:]\n\nimputed_clean_good_full_df = imputed_good_full_df.drop(columns = ['geo_value_t_plus_1','time_value_t_plus_1'])\nind = (imputed_clean_good_full_df['geo_value'] != 6031) &(imputed_clean_good_full_df['geo_value'] != 6017) &(imputed_clean_good_full_df['geo_value'] != 6087) & (imputed_clean_good_full_df['geo_value'] != 6007) & (imputed_clean_good_full_df['geo_value'] != 6057)\n#ind = (imputed_clean_good_full_df['geo_value'] != '06113') & (imputed_clean_good_full_df['geo_value'] !='06015') & (imputed_clean_good_full_df['geo_value'] !='06021') &  (imputed_clean_good_full_df['geo_value'] !='06087') & (imputed_clean_good_full_df['geo_value'] !='06039') & (imputed_clean_good_full_df['geo_value'] !='06061') & (imputed_clean_good_full_df['geo_value'] !='06077') & (imputed_clean_good_full_df['geo_value'] != '06069') & (imputed_clean_good_full_df['geo_value'] != '06007') & (imputed_clean_good_full_df['geo_value'] != '06031') & (imputed_clean_good_full_df['geo_value'] != '06017')\nimputed_clean_good_full_df = imputed_clean_good_full_df[ind]\nordered_geos = imputed_clean_good_full_df.groupby('geo_value').max().sort_values(by = 'covid_cases').reset_index()['geo_value'].to_numpy()\nordered_geos_labels = dict(zip(ordered_geos, np.arange(1,26)))\nimputed_clean_good_full_df['geo_value'] = imputed_clean_good_full_df['geo_value'].replace(ordered_geos_labels)\nimputed_clean_good_full_df['geo_value_t_minus_1'] = imputed_clean_good_full_df['geo_value_t_minus_1'].replace(ordered_geos_labels)\n#imputed_clean_good_full_df['geo_value_t_minus_2'] = imputed_clean_good_full_df['geo_value_t_minus_2'].replace(ordered_geos_labels)\nprint(imputed_clean_good_full_df.shape)",
   "metadata": {
    "tags": [],
    "cell_id": "00038-3199832f-9415-451e-9119-660ed055a2dd",
    "deepnote_to_be_reexecuted": false,
    "source_hash": "ca8a2878",
    "execution_start": 1638743254159,
    "execution_millis": 39631,
    "deepnote_cell_type": "code"
   },
   "outputs": [
    {
     "name": "stdout",
     "text": "(8610, 25)\n",
     "output_type": "stream"
    }
   ],
   "execution_count": null
  },
  {
   "cell_type": "code",
   "source": "imputed_clean_good_full_df.groupby('geo_value').max().sort_values(by = ['covid_cases'])",
   "metadata": {
    "tags": [],
    "cell_id": "00040-ae6feedb-4074-4abf-b48b-75264a015856",
    "deepnote_to_be_reexecuted": false,
    "source_hash": "1d15b149",
    "execution_start": 1638749347029,
    "execution_millis": 397,
    "deepnote_cell_type": "code"
   },
   "outputs": [
    {
     "output_type": "execute_result",
     "execution_count": 16,
     "data": {
      "application/vnd.deepnote.dataframe.v2+json": {
       "row_count": 25,
       "column_count": 24,
       "columns": [
        {
         "name": "geo_value_t_minus_2",
         "dtype": "float64",
         "stats": {
          "unique_count": 25,
          "nan_count": 0,
          "min": "6001.0",
          "max": "6111.0",
          "histogram": [
           {
            "bin_start": 6001,
            "bin_end": 6012,
            "count": 1
           },
           {
            "bin_start": 6012,
            "bin_end": 6023,
            "count": 2
           },
           {
            "bin_start": 6023,
            "bin_end": 6034,
            "count": 1
           },
           {
            "bin_start": 6034,
            "bin_end": 6045,
            "count": 2
           },
           {
            "bin_start": 6045,
            "bin_end": 6056,
            "count": 2
           },
           {
            "bin_start": 6056,
            "bin_end": 6067,
            "count": 3
           },
           {
            "bin_start": 6067,
            "bin_end": 6078,
            "count": 5
           },
           {
            "bin_start": 6078,
            "bin_end": 6089,
            "count": 4
           },
           {
            "bin_start": 6089,
            "bin_end": 6100,
            "count": 3
           },
           {
            "bin_start": 6100,
            "bin_end": 6111,
            "count": 2
           }
          ]
         }
        },
        {
         "name": "time_value_t_minus_2",
         "dtype": "datetime64[ns]",
         "stats": {
          "unique_count": 4,
          "nan_count": 0,
          "min": "2021-01-08 00:00:00",
          "max": "2021-04-16 00:00:00",
          "histogram": [
           {
            "bin_start": 1610064000000000000,
            "bin_end": 1610910720000000000,
            "count": 1
           },
           {
            "bin_start": 1610910720000000000,
            "bin_end": 1611757440000000000,
            "count": 0
           },
           {
            "bin_start": 1611757440000000000,
            "bin_end": 1612604160000000000,
            "count": 0
           },
           {
            "bin_start": 1612604160000000000,
            "bin_end": 1613450880000000000,
            "count": 0
           },
           {
            "bin_start": 1613450880000000000,
            "bin_end": 1614297600000000000,
            "count": 0
           },
           {
            "bin_start": 1614297600000000000,
            "bin_end": 1615144320000000000,
            "count": 0
           },
           {
            "bin_start": 1615144320000000000,
            "bin_end": 1615991040000000000,
            "count": 0
           },
           {
            "bin_start": 1615991040000000000,
            "bin_end": 1616837760000000000,
            "count": 1
           },
           {
            "bin_start": 1616837760000000000,
            "bin_end": 1617684480000000000,
            "count": 1
           },
           {
            "bin_start": 1617684480000000000,
            "bin_end": 1618531200000000000,
            "count": 22
           }
          ]
         }
        },
        {
         "name": "covid_cases_t_minus_2",
         "dtype": "float64",
         "stats": {
          "unique_count": 25,
          "nan_count": 0,
          "min": "13283.0",
          "max": "1105288.0",
          "histogram": [
           {
            "bin_start": 13283,
            "bin_end": 122483.5,
            "count": 20
           },
           {
            "bin_start": 122483.5,
            "bin_end": 231684,
            "count": 0
           },
           {
            "bin_start": 231684,
            "bin_end": 340884.5,
            "count": 4
           },
           {
            "bin_start": 340884.5,
            "bin_end": 450085,
            "count": 0
           },
           {
            "bin_start": 450085,
            "bin_end": 559285.5,
            "count": 0
           },
           {
            "bin_start": 559285.5,
            "bin_end": 668486,
            "count": 0
           },
           {
            "bin_start": 668486,
            "bin_end": 777686.5,
            "count": 0
           },
           {
            "bin_start": 777686.5,
            "bin_end": 886887,
            "count": 0
           },
           {
            "bin_start": 886887,
            "bin_end": 996087.5,
            "count": 0
           },
           {
            "bin_start": 996087.5,
            "bin_end": 1105288,
            "count": 1
           }
          ]
         }
        },
        {
         "name": "confirmed_covid_vist_t_minus_2",
         "dtype": "float64",
         "stats": {
          "unique_count": 25,
          "nan_count": 0,
          "min": "1.114581",
          "max": "6.789749",
          "histogram": [
           {
            "bin_start": 1.114581,
            "bin_end": 1.6820978,
            "count": 6
           },
           {
            "bin_start": 1.6820978,
            "bin_end": 2.2496146,
            "count": 0
           },
           {
            "bin_start": 2.2496146,
            "bin_end": 2.8171314,
            "count": 4
           },
           {
            "bin_start": 2.8171314,
            "bin_end": 3.3846482,
            "count": 7
           },
           {
            "bin_start": 3.3846482,
            "bin_end": 3.952165,
            "count": 4
           },
           {
            "bin_start": 3.952165,
            "bin_end": 4.5196818,
            "count": 0
           },
           {
            "bin_start": 4.5196818,
            "bin_end": 5.0871986,
            "count": 1
           },
           {
            "bin_start": 5.0871986,
            "bin_end": 5.6547154,
            "count": 1
           },
           {
            "bin_start": 5.6547154,
            "bin_end": 6.2222322,
            "count": 1
           },
           {
            "bin_start": 6.2222322,
            "bin_end": 6.789749,
            "count": 1
           }
          ]
         }
        },
        {
         "name": "doctor_visits_t_minus_2",
         "dtype": "float64",
         "stats": {
          "unique_count": 25,
          "nan_count": 0,
          "min": "11.535644",
          "max": "47.18352",
          "histogram": [
           {
            "bin_start": 11.535644,
            "bin_end": 15.1004316,
            "count": 2
           },
           {
            "bin_start": 15.1004316,
            "bin_end": 18.6652192,
            "count": 3
           },
           {
            "bin_start": 18.6652192,
            "bin_end": 22.230006799999998,
            "count": 3
           },
           {
            "bin_start": 22.230006799999998,
            "bin_end": 25.7947944,
            "count": 5
           },
           {
            "bin_start": 25.7947944,
            "bin_end": 29.359582000000003,
            "count": 3
           },
           {
            "bin_start": 29.359582000000003,
            "bin_end": 32.9243696,
            "count": 2
           },
           {
            "bin_start": 32.9243696,
            "bin_end": 36.4891572,
            "count": 3
           },
           {
            "bin_start": 36.4891572,
            "bin_end": 40.053944800000004,
            "count": 0
           },
           {
            "bin_start": 40.053944800000004,
            "bin_end": 43.6187324,
            "count": 3
           },
           {
            "bin_start": 43.6187324,
            "bin_end": 47.18352,
            "count": 1
           }
          ]
         }
        },
        {
         "name": "hospital_admissions_t_minus_2",
         "dtype": "float64",
         "stats": {
          "unique_count": 25,
          "nan_count": 0,
          "min": "8.565373",
          "max": "31.666872",
          "histogram": [
           {
            "bin_start": 8.565373,
            "bin_end": 10.8755229,
            "count": 3
           },
           {
            "bin_start": 10.8755229,
            "bin_end": 13.185672799999999,
            "count": 4
           },
           {
            "bin_start": 13.185672799999999,
            "bin_end": 15.4958227,
            "count": 3
           },
           {
            "bin_start": 15.4958227,
            "bin_end": 17.8059726,
            "count": 2
           },
           {
            "bin_start": 17.8059726,
            "bin_end": 20.116122500000003,
            "count": 1
           },
           {
            "bin_start": 20.116122500000003,
            "bin_end": 22.426272400000002,
            "count": 2
           },
           {
            "bin_start": 22.426272400000002,
            "bin_end": 24.7364223,
            "count": 1
           },
           {
            "bin_start": 24.7364223,
            "bin_end": 27.0465722,
            "count": 4
           },
           {
            "bin_start": 27.0465722,
            "bin_end": 29.3567221,
            "count": 3
           },
           {
            "bin_start": 29.3567221,
            "bin_end": 31.666872,
            "count": 2
           }
          ]
         }
        },
        {
         "name": "covid_deaths_t_minus_2",
         "dtype": "float64",
         "stats": {
          "unique_count": 25,
          "nan_count": 0,
          "min": "175.0",
          "max": "23583.0",
          "histogram": [
           {
            "bin_start": 175,
            "bin_end": 2515.8,
            "count": 20
           },
           {
            "bin_start": 2515.8,
            "bin_end": 4856.6,
            "count": 3
           },
           {
            "bin_start": 4856.6,
            "bin_end": 7197.400000000001,
            "count": 1
           },
           {
            "bin_start": 7197.400000000001,
            "bin_end": 9538.2,
            "count": 0
           },
           {
            "bin_start": 9538.2,
            "bin_end": 11879,
            "count": 0
           },
           {
            "bin_start": 11879,
            "bin_end": 14219.800000000001,
            "count": 0
           },
           {
            "bin_start": 14219.800000000001,
            "bin_end": 16560.600000000002,
            "count": 0
           },
           {
            "bin_start": 16560.600000000002,
            "bin_end": 18901.4,
            "count": 0
           },
           {
            "bin_start": 18901.4,
            "bin_end": 21242.2,
            "count": 0
           },
           {
            "bin_start": 21242.2,
            "bin_end": 23583,
            "count": 1
           }
          ]
         }
        },
        {
         "name": "home_time_t_minus_2",
         "dtype": "float64",
         "stats": {
          "unique_count": 25,
          "nan_count": 0,
          "min": "812.8703703703703",
          "max": "1225.7644151565073",
          "histogram": [
           {
            "bin_start": 812.8703703703703,
            "bin_end": 854.1597748489841,
            "count": 1
           },
           {
            "bin_start": 854.1597748489841,
            "bin_end": 895.4491793275977,
            "count": 0
           },
           {
            "bin_start": 895.4491793275977,
            "bin_end": 936.7385838062114,
            "count": 2
           },
           {
            "bin_start": 936.7385838062114,
            "bin_end": 978.0279882848251,
            "count": 5
           },
           {
            "bin_start": 978.0279882848251,
            "bin_end": 1019.3173927634389,
            "count": 2
           },
           {
            "bin_start": 1019.3173927634389,
            "bin_end": 1060.6067972420524,
            "count": 0
           },
           {
            "bin_start": 1060.6067972420524,
            "bin_end": 1101.8962017206663,
            "count": 3
           },
           {
            "bin_start": 1101.8962017206663,
            "bin_end": 1143.1856061992798,
            "count": 6
           },
           {
            "bin_start": 1143.1856061992798,
            "bin_end": 1184.4750106778936,
            "count": 1
           },
           {
            "bin_start": 1184.4750106778936,
            "bin_end": 1225.7644151565073,
            "count": 5
           }
          ]
         }
        },
        {
         "name": "geo_value_t_minus_1",
         "dtype": "float64",
         "stats": {
          "unique_count": 25,
          "nan_count": 0,
          "min": "1.0",
          "max": "25.0",
          "histogram": [
           {
            "bin_start": 1,
            "bin_end": 3.4,
            "count": 3
           },
           {
            "bin_start": 3.4,
            "bin_end": 5.8,
            "count": 2
           },
           {
            "bin_start": 5.8,
            "bin_end": 8.2,
            "count": 3
           },
           {
            "bin_start": 8.2,
            "bin_end": 10.6,
            "count": 2
           },
           {
            "bin_start": 10.6,
            "bin_end": 13,
            "count": 2
           },
           {
            "bin_start": 13,
            "bin_end": 15.399999999999999,
            "count": 3
           },
           {
            "bin_start": 15.399999999999999,
            "bin_end": 17.8,
            "count": 2
           },
           {
            "bin_start": 17.8,
            "bin_end": 20.2,
            "count": 3
           },
           {
            "bin_start": 20.2,
            "bin_end": 22.599999999999998,
            "count": 2
           },
           {
            "bin_start": 22.599999999999998,
            "bin_end": 25,
            "count": 3
           }
          ]
         }
        },
        {
         "name": "time_value_t_minus_1",
         "dtype": "datetime64[ns]",
         "stats": {
          "unique_count": 4,
          "nan_count": 0,
          "min": "2021-01-09 00:00:00",
          "max": "2021-04-17 00:00:00",
          "histogram": [
           {
            "bin_start": 1610150400000000000,
            "bin_end": 1610997120000000000,
            "count": 1
           },
           {
            "bin_start": 1610997120000000000,
            "bin_end": 1611843840000000000,
            "count": 0
           },
           {
            "bin_start": 1611843840000000000,
            "bin_end": 1612690560000000000,
            "count": 0
           },
           {
            "bin_start": 1612690560000000000,
            "bin_end": 1613537280000000000,
            "count": 0
           },
           {
            "bin_start": 1613537280000000000,
            "bin_end": 1614384000000000000,
            "count": 0
           },
           {
            "bin_start": 1614384000000000000,
            "bin_end": 1615230720000000000,
            "count": 0
           },
           {
            "bin_start": 1615230720000000000,
            "bin_end": 1616077440000000000,
            "count": 0
           },
           {
            "bin_start": 1616077440000000000,
            "bin_end": 1616924160000000000,
            "count": 1
           },
           {
            "bin_start": 1616924160000000000,
            "bin_end": 1617770880000000000,
            "count": 1
           },
           {
            "bin_start": 1617770880000000000,
            "bin_end": 1618617600000000000,
            "count": 22
           }
          ]
         }
        },
        {
         "name": "covid_cases_t_minus_1",
         "dtype": "float64",
         "stats": {
          "unique_count": 25,
          "nan_count": 0,
          "min": "13287.0",
          "max": "1105681.0",
          "histogram": [
           {
            "bin_start": 13287,
            "bin_end": 122526.4,
            "count": 20
           },
           {
            "bin_start": 122526.4,
            "bin_end": 231765.8,
            "count": 0
           },
           {
            "bin_start": 231765.8,
            "bin_end": 341005.19999999995,
            "count": 4
           },
           {
            "bin_start": 341005.19999999995,
            "bin_end": 450244.6,
            "count": 0
           },
           {
            "bin_start": 450244.6,
            "bin_end": 559484,
            "count": 0
           },
           {
            "bin_start": 559484,
            "bin_end": 668723.3999999999,
            "count": 0
           },
           {
            "bin_start": 668723.3999999999,
            "bin_end": 777962.7999999999,
            "count": 0
           },
           {
            "bin_start": 777962.7999999999,
            "bin_end": 887202.2,
            "count": 0
           },
           {
            "bin_start": 887202.2,
            "bin_end": 996441.6,
            "count": 0
           },
           {
            "bin_start": 996441.6,
            "bin_end": 1105681,
            "count": 1
           }
          ]
         }
        },
        {
         "name": "confirmed_covid_vist_t_minus_1",
         "dtype": "float64",
         "stats": {
          "unique_count": 25,
          "nan_count": 0,
          "min": "1.114581",
          "max": "6.789749",
          "histogram": [
           {
            "bin_start": 1.114581,
            "bin_end": 1.6820978,
            "count": 6
           },
           {
            "bin_start": 1.6820978,
            "bin_end": 2.2496146,
            "count": 0
           },
           {
            "bin_start": 2.2496146,
            "bin_end": 2.8171314,
            "count": 4
           },
           {
            "bin_start": 2.8171314,
            "bin_end": 3.3846482,
            "count": 7
           },
           {
            "bin_start": 3.3846482,
            "bin_end": 3.952165,
            "count": 4
           },
           {
            "bin_start": 3.952165,
            "bin_end": 4.5196818,
            "count": 0
           },
           {
            "bin_start": 4.5196818,
            "bin_end": 5.0871986,
            "count": 1
           },
           {
            "bin_start": 5.0871986,
            "bin_end": 5.6547154,
            "count": 1
           },
           {
            "bin_start": 5.6547154,
            "bin_end": 6.2222322,
            "count": 1
           },
           {
            "bin_start": 6.2222322,
            "bin_end": 6.789749,
            "count": 1
           }
          ]
         }
        },
        {
         "name": "doctor_visits_t_minus_1",
         "dtype": "float64",
         "stats": {
          "unique_count": 25,
          "nan_count": 0,
          "min": "12.060947",
          "max": "47.18352",
          "histogram": [
           {
            "bin_start": 12.060947,
            "bin_end": 15.5732043,
            "count": 2
           },
           {
            "bin_start": 15.5732043,
            "bin_end": 19.085461600000002,
            "count": 4
           },
           {
            "bin_start": 19.085461600000002,
            "bin_end": 22.597718900000004,
            "count": 2
           },
           {
            "bin_start": 22.597718900000004,
            "bin_end": 26.109976200000002,
            "count": 6
           },
           {
            "bin_start": 26.109976200000002,
            "bin_end": 29.6222335,
            "count": 2
           },
           {
            "bin_start": 29.6222335,
            "bin_end": 33.1344908,
            "count": 2
           },
           {
            "bin_start": 33.1344908,
            "bin_end": 36.6467481,
            "count": 3
           },
           {
            "bin_start": 36.6467481,
            "bin_end": 40.159005400000005,
            "count": 0
           },
           {
            "bin_start": 40.159005400000005,
            "bin_end": 43.67126270000001,
            "count": 3
           },
           {
            "bin_start": 43.67126270000001,
            "bin_end": 47.18352,
            "count": 1
           }
          ]
         }
        },
        {
         "name": "hospital_admissions_t_minus_1",
         "dtype": "float64",
         "stats": {
          "unique_count": 25,
          "nan_count": 0,
          "min": "8.565373",
          "max": "31.666872",
          "histogram": [
           {
            "bin_start": 8.565373,
            "bin_end": 10.8755229,
            "count": 4
           },
           {
            "bin_start": 10.8755229,
            "bin_end": 13.185672799999999,
            "count": 3
           },
           {
            "bin_start": 13.185672799999999,
            "bin_end": 15.4958227,
            "count": 3
           },
           {
            "bin_start": 15.4958227,
            "bin_end": 17.8059726,
            "count": 2
           },
           {
            "bin_start": 17.8059726,
            "bin_end": 20.116122500000003,
            "count": 1
           },
           {
            "bin_start": 20.116122500000003,
            "bin_end": 22.426272400000002,
            "count": 2
           },
           {
            "bin_start": 22.426272400000002,
            "bin_end": 24.7364223,
            "count": 1
           },
           {
            "bin_start": 24.7364223,
            "bin_end": 27.0465722,
            "count": 4
           },
           {
            "bin_start": 27.0465722,
            "bin_end": 29.3567221,
            "count": 3
           },
           {
            "bin_start": 29.3567221,
            "bin_end": 31.666872,
            "count": 2
           }
          ]
         }
        },
        {
         "name": "covid_deaths_t_minus_1",
         "dtype": "float64",
         "stats": {
          "unique_count": 25,
          "nan_count": 0,
          "min": "175.0",
          "max": "23610.0",
          "histogram": [
           {
            "bin_start": 175,
            "bin_end": 2518.5,
            "count": 20
           },
           {
            "bin_start": 2518.5,
            "bin_end": 4862,
            "count": 3
           },
           {
            "bin_start": 4862,
            "bin_end": 7205.5,
            "count": 1
           },
           {
            "bin_start": 7205.5,
            "bin_end": 9549,
            "count": 0
           },
           {
            "bin_start": 9549,
            "bin_end": 11892.5,
            "count": 0
           },
           {
            "bin_start": 11892.5,
            "bin_end": 14236,
            "count": 0
           },
           {
            "bin_start": 14236,
            "bin_end": 16579.5,
            "count": 0
           },
           {
            "bin_start": 16579.5,
            "bin_end": 18923,
            "count": 0
           },
           {
            "bin_start": 18923,
            "bin_end": 21266.5,
            "count": 0
           },
           {
            "bin_start": 21266.5,
            "bin_end": 23610,
            "count": 1
           }
          ]
         }
        },
        {
         "name": "home_time_t_minus_1",
         "dtype": "float64",
         "stats": {
          "unique_count": 25,
          "nan_count": 0,
          "min": "812.8703703703703",
          "max": "1225.7644151565073",
          "histogram": [
           {
            "bin_start": 812.8703703703703,
            "bin_end": 854.1597748489841,
            "count": 1
           },
           {
            "bin_start": 854.1597748489841,
            "bin_end": 895.4491793275977,
            "count": 0
           },
           {
            "bin_start": 895.4491793275977,
            "bin_end": 936.7385838062114,
            "count": 2
           },
           {
            "bin_start": 936.7385838062114,
            "bin_end": 978.0279882848251,
            "count": 5
           },
           {
            "bin_start": 978.0279882848251,
            "bin_end": 1019.3173927634389,
            "count": 3
           },
           {
            "bin_start": 1019.3173927634389,
            "bin_end": 1060.6067972420524,
            "count": 0
           },
           {
            "bin_start": 1060.6067972420524,
            "bin_end": 1101.8962017206663,
            "count": 2
           },
           {
            "bin_start": 1101.8962017206663,
            "bin_end": 1143.1856061992798,
            "count": 6
           },
           {
            "bin_start": 1143.1856061992798,
            "bin_end": 1184.4750106778936,
            "count": 1
           },
           {
            "bin_start": 1184.4750106778936,
            "bin_end": 1225.7644151565073,
            "count": 5
           }
          ]
         }
        },
        {
         "name": "time_value",
         "dtype": "datetime64[ns]",
         "stats": {
          "unique_count": 4,
          "nan_count": 0,
          "min": "2021-01-10 00:00:00",
          "max": "2021-04-18 00:00:00",
          "histogram": [
           {
            "bin_start": 1610236800000000000,
            "bin_end": 1611083520000000000,
            "count": 1
           },
           {
            "bin_start": 1611083520000000000,
            "bin_end": 1611930240000000000,
            "count": 0
           },
           {
            "bin_start": 1611930240000000000,
            "bin_end": 1612776960000000000,
            "count": 0
           },
           {
            "bin_start": 1612776960000000000,
            "bin_end": 1613623680000000000,
            "count": 0
           },
           {
            "bin_start": 1613623680000000000,
            "bin_end": 1614470400000000000,
            "count": 0
           },
           {
            "bin_start": 1614470400000000000,
            "bin_end": 1615317120000000000,
            "count": 0
           },
           {
            "bin_start": 1615317120000000000,
            "bin_end": 1616163840000000000,
            "count": 0
           },
           {
            "bin_start": 1616163840000000000,
            "bin_end": 1617010560000000000,
            "count": 1
           },
           {
            "bin_start": 1617010560000000000,
            "bin_end": 1617857280000000000,
            "count": 1
           },
           {
            "bin_start": 1617857280000000000,
            "bin_end": 1618704000000000000,
            "count": 22
           }
          ]
         }
        },
        {
         "name": "covid_cases",
         "dtype": "float64",
         "stats": {
          "unique_count": 25,
          "nan_count": 0,
          "min": "13290.0",
          "max": "1105979.0",
          "histogram": [
           {
            "bin_start": 13290,
            "bin_end": 122558.9,
            "count": 20
           },
           {
            "bin_start": 122558.9,
            "bin_end": 231827.8,
            "count": 0
           },
           {
            "bin_start": 231827.8,
            "bin_end": 341096.69999999995,
            "count": 4
           },
           {
            "bin_start": 341096.69999999995,
            "bin_end": 450365.6,
            "count": 0
           },
           {
            "bin_start": 450365.6,
            "bin_end": 559634.5,
            "count": 0
           },
           {
            "bin_start": 559634.5,
            "bin_end": 668903.3999999999,
            "count": 0
           },
           {
            "bin_start": 668903.3999999999,
            "bin_end": 778172.2999999999,
            "count": 0
           },
           {
            "bin_start": 778172.2999999999,
            "bin_end": 887441.2,
            "count": 0
           },
           {
            "bin_start": 887441.2,
            "bin_end": 996710.1,
            "count": 0
           },
           {
            "bin_start": 996710.1,
            "bin_end": 1105979,
            "count": 1
           }
          ]
         }
        },
        {
         "name": "confirmed_covid_visit",
         "dtype": "float64",
         "stats": {
          "unique_count": 25,
          "nan_count": 0,
          "min": "1.114581",
          "max": "6.789749",
          "histogram": [
           {
            "bin_start": 1.114581,
            "bin_end": 1.6820978,
            "count": 6
           },
           {
            "bin_start": 1.6820978,
            "bin_end": 2.2496146,
            "count": 0
           },
           {
            "bin_start": 2.2496146,
            "bin_end": 2.8171314,
            "count": 4
           },
           {
            "bin_start": 2.8171314,
            "bin_end": 3.3846482,
            "count": 7
           },
           {
            "bin_start": 3.3846482,
            "bin_end": 3.952165,
            "count": 4
           },
           {
            "bin_start": 3.952165,
            "bin_end": 4.5196818,
            "count": 0
           },
           {
            "bin_start": 4.5196818,
            "bin_end": 5.0871986,
            "count": 2
           },
           {
            "bin_start": 5.0871986,
            "bin_end": 5.6547154,
            "count": 1
           },
           {
            "bin_start": 5.6547154,
            "bin_end": 6.2222322,
            "count": 0
           },
           {
            "bin_start": 6.2222322,
            "bin_end": 6.789749,
            "count": 1
           }
          ]
         }
        },
        {
         "name": "doctor_visits",
         "dtype": "float64",
         "stats": {
          "unique_count": 25,
          "nan_count": 0,
          "min": "12.167203",
          "max": "47.18352",
          "histogram": [
           {
            "bin_start": 12.167203,
            "bin_end": 15.668834700000001,
            "count": 2
           },
           {
            "bin_start": 15.668834700000001,
            "bin_end": 19.170466400000002,
            "count": 5
           },
           {
            "bin_start": 19.170466400000002,
            "bin_end": 22.6720981,
            "count": 1
           },
           {
            "bin_start": 22.6720981,
            "bin_end": 26.1737298,
            "count": 6
           },
           {
            "bin_start": 26.1737298,
            "bin_end": 29.6753615,
            "count": 2
           },
           {
            "bin_start": 29.6753615,
            "bin_end": 33.1769932,
            "count": 2
           },
           {
            "bin_start": 33.1769932,
            "bin_end": 36.6786249,
            "count": 3
           },
           {
            "bin_start": 36.6786249,
            "bin_end": 40.1802566,
            "count": 0
           },
           {
            "bin_start": 40.1802566,
            "bin_end": 43.6818883,
            "count": 3
           },
           {
            "bin_start": 43.6818883,
            "bin_end": 47.18352,
            "count": 1
           }
          ]
         }
        },
        {
         "name": "hospital_admissions",
         "dtype": "float64",
         "stats": {
          "unique_count": 25,
          "nan_count": 0,
          "min": "8.565373",
          "max": "31.666872",
          "histogram": [
           {
            "bin_start": 8.565373,
            "bin_end": 10.8755229,
            "count": 4
           },
           {
            "bin_start": 10.8755229,
            "bin_end": 13.185672799999999,
            "count": 3
           },
           {
            "bin_start": 13.185672799999999,
            "bin_end": 15.4958227,
            "count": 3
           },
           {
            "bin_start": 15.4958227,
            "bin_end": 17.8059726,
            "count": 2
           },
           {
            "bin_start": 17.8059726,
            "bin_end": 20.116122500000003,
            "count": 1
           },
           {
            "bin_start": 20.116122500000003,
            "bin_end": 22.426272400000002,
            "count": 2
           },
           {
            "bin_start": 22.426272400000002,
            "bin_end": 24.7364223,
            "count": 1
           },
           {
            "bin_start": 24.7364223,
            "bin_end": 27.0465722,
            "count": 4
           },
           {
            "bin_start": 27.0465722,
            "bin_end": 29.3567221,
            "count": 3
           },
           {
            "bin_start": 29.3567221,
            "bin_end": 31.666872,
            "count": 2
           }
          ]
         }
        },
        {
         "name": "covid_deaths",
         "dtype": "float64",
         "stats": {
          "unique_count": 25,
          "nan_count": 0,
          "min": "175.0",
          "max": "23635.0",
          "histogram": [
           {
            "bin_start": 175,
            "bin_end": 2521,
            "count": 20
           },
           {
            "bin_start": 2521,
            "bin_end": 4867,
            "count": 3
           },
           {
            "bin_start": 4867,
            "bin_end": 7213,
            "count": 1
           },
           {
            "bin_start": 7213,
            "bin_end": 9559,
            "count": 0
           },
           {
            "bin_start": 9559,
            "bin_end": 11905,
            "count": 0
           },
           {
            "bin_start": 11905,
            "bin_end": 14251,
            "count": 0
           },
           {
            "bin_start": 14251,
            "bin_end": 16597,
            "count": 0
           },
           {
            "bin_start": 16597,
            "bin_end": 18943,
            "count": 0
           },
           {
            "bin_start": 18943,
            "bin_end": 21289,
            "count": 0
           },
           {
            "bin_start": 21289,
            "bin_end": 23635,
            "count": 1
           }
          ]
         }
        },
        {
         "name": "home_time",
         "dtype": "float64",
         "stats": {
          "unique_count": 25,
          "nan_count": 0,
          "min": "816.0929368",
          "max": "1225.7644151565073",
          "histogram": [
           {
            "bin_start": 816.0929368,
            "bin_end": 857.0600846356507,
            "count": 1
           },
           {
            "bin_start": 857.0600846356507,
            "bin_end": 898.0272324713014,
            "count": 0
           },
           {
            "bin_start": 898.0272324713014,
            "bin_end": 938.9943803069522,
            "count": 3
           },
           {
            "bin_start": 938.9943803069522,
            "bin_end": 979.9615281426029,
            "count": 4
           },
           {
            "bin_start": 979.9615281426029,
            "bin_end": 1020.9286759782536,
            "count": 3
           },
           {
            "bin_start": 1020.9286759782536,
            "bin_end": 1061.8958238139044,
            "count": 1
           },
           {
            "bin_start": 1061.8958238139044,
            "bin_end": 1102.8629716495552,
            "count": 1
           },
           {
            "bin_start": 1102.8629716495552,
            "bin_end": 1143.8301194852058,
            "count": 6
           },
           {
            "bin_start": 1143.8301194852058,
            "bin_end": 1184.7972673208565,
            "count": 2
           },
           {
            "bin_start": 1184.7972673208565,
            "bin_end": 1225.7644151565073,
            "count": 4
           }
          ]
         }
        },
        {
         "name": "covid_cases_t_plus_one",
         "dtype": "float64",
         "stats": {
          "unique_count": 25,
          "nan_count": 0,
          "min": "13294.0",
          "max": "1106233.0",
          "histogram": [
           {
            "bin_start": 13294,
            "bin_end": 122587.9,
            "count": 20
           },
           {
            "bin_start": 122587.9,
            "bin_end": 231881.8,
            "count": 0
           },
           {
            "bin_start": 231881.8,
            "bin_end": 341175.69999999995,
            "count": 4
           },
           {
            "bin_start": 341175.69999999995,
            "bin_end": 450469.6,
            "count": 0
           },
           {
            "bin_start": 450469.6,
            "bin_end": 559763.5,
            "count": 0
           },
           {
            "bin_start": 559763.5,
            "bin_end": 669057.3999999999,
            "count": 0
           },
           {
            "bin_start": 669057.3999999999,
            "bin_end": 778351.2999999999,
            "count": 0
           },
           {
            "bin_start": 778351.2999999999,
            "bin_end": 887645.2,
            "count": 0
           },
           {
            "bin_start": 887645.2,
            "bin_end": 996939.1,
            "count": 0
           },
           {
            "bin_start": 996939.1,
            "bin_end": 1106233,
            "count": 1
           }
          ]
         }
        },
        {
         "name": "_deepnote_index_column",
         "dtype": "float64"
        }
       ],
       "rows_top": [
        {
         "geo_value_t_minus_2": 6041,
         "time_value_t_minus_2": "2021-04-16T00:00:00.000000",
         "covid_cases_t_minus_2": 13283,
         "confirmed_covid_vist_t_minus_2": 1.271447,
         "doctor_visits_t_minus_2": 26.868624,
         "hospital_admissions_t_minus_2": 11.338696,
         "covid_deaths_t_minus_2": 234,
         "home_time_t_minus_2": 1083.9649122807018,
         "geo_value_t_minus_1": 1,
         "time_value_t_minus_1": "2021-04-17T00:00:00.000000",
         "covid_cases_t_minus_1": 13287,
         "confirmed_covid_vist_t_minus_1": 1.271447,
         "doctor_visits_t_minus_1": 26.868624,
         "hospital_admissions_t_minus_1": 10.842891,
         "covid_deaths_t_minus_1": 234,
         "home_time_t_minus_1": 1083.9649122807018,
         "time_value": "2021-04-18T00:00:00.000000",
         "covid_cases": 13290,
         "confirmed_covid_visit": 1.271447,
         "doctor_visits": 26.868624,
         "hospital_admissions": 10.512855,
         "covid_deaths": 234,
         "home_time": 1083.9649122807018,
         "covid_cases_t_plus_one": 13294,
         "_deepnote_index_column": 1
        },
        {
         "geo_value_t_minus_2": 6079,
         "time_value_t_minus_2": "2021-04-16T00:00:00.000000",
         "covid_cases_t_minus_2": 19244,
         "confirmed_covid_vist_t_minus_2": 2.820282,
         "doctor_visits_t_minus_2": 17.345415,
         "hospital_admissions_t_minus_2": 17.079238,
         "covid_deaths_t_minus_2": 248,
         "home_time_t_minus_2": 977.4968944,
         "geo_value_t_minus_1": 2,
         "time_value_t_minus_1": "2021-04-17T00:00:00.000000",
         "covid_cases_t_minus_1": 19260,
         "confirmed_covid_vist_t_minus_1": 2.820282,
         "doctor_visits_t_minus_1": 17.345415,
         "hospital_admissions_t_minus_1": 17.079238,
         "covid_deaths_t_minus_1": 249,
         "home_time_t_minus_1": 977.4968944,
         "time_value": "2021-04-18T00:00:00.000000",
         "covid_cases": 19272,
         "confirmed_covid_visit": 2.820282,
         "doctor_visits": 17.345415,
         "hospital_admissions": 17.079238,
         "covid_deaths": 249,
         "home_time": 977.4968944,
         "covid_cases_t_plus_one": 19282,
         "_deepnote_index_column": 2
        },
        {
         "geo_value_t_minus_2": 6061,
         "time_value_t_minus_2": "2021-04-16T00:00:00.000000",
         "covid_cases_t_minus_2": 20503,
         "confirmed_covid_vist_t_minus_2": 1.544865,
         "doctor_visits_t_minus_2": 16.849122,
         "hospital_admissions_t_minus_2": 14.559508,
         "covid_deaths_t_minus_2": 282,
         "home_time_t_minus_2": 1208.0094339622642,
         "geo_value_t_minus_1": 3,
         "time_value_t_minus_1": "2021-04-17T00:00:00.000000",
         "covid_cases_t_minus_1": 20532,
         "confirmed_covid_vist_t_minus_1": 1.544865,
         "doctor_visits_t_minus_1": 16.849122,
         "hospital_admissions_t_minus_1": 14.559508,
         "covid_deaths_t_minus_1": 282,
         "home_time_t_minus_1": 1208.0094339622642,
         "time_value": "2021-04-18T00:00:00.000000",
         "covid_cases": 20560,
         "confirmed_covid_visit": 1.544865,
         "doctor_visits": 16.849122,
         "hospital_admissions": 14.559508,
         "covid_deaths": 282,
         "home_time": 1208.0094339622642,
         "covid_cases_t_plus_one": 20582,
         "_deepnote_index_column": 3
        },
        {
         "geo_value_t_minus_2": 6097,
         "time_value_t_minus_2": "2021-04-16T00:00:00.000000",
         "covid_cases_t_minus_2": 28026,
         "confirmed_covid_vist_t_minus_2": 2.662892,
         "doctor_visits_t_minus_2": 13.133541,
         "hospital_admissions_t_minus_2": 8.565373,
         "covid_deaths_t_minus_2": 330,
         "home_time_t_minus_2": 938.3272727272728,
         "geo_value_t_minus_1": 4,
         "time_value_t_minus_1": "2021-04-17T00:00:00.000000",
         "covid_cases_t_minus_1": 28040,
         "confirmed_covid_vist_t_minus_1": 2.662892,
         "doctor_visits_t_minus_1": 13.133541,
         "hospital_admissions_t_minus_1": 8.565373,
         "covid_deaths_t_minus_1": 330,
         "home_time_t_minus_1": 938.3272727272728,
         "time_value": "2021-04-18T00:00:00.000000",
         "covid_cases": 28051,
         "confirmed_covid_visit": 2.662892,
         "doctor_visits": 13.133541,
         "hospital_admissions": 8.565373,
         "covid_deaths": 330,
         "home_time": 938.3272727272728,
         "covid_cases_t_plus_one": 28058,
         "_deepnote_index_column": 4
        },
        {
         "geo_value_t_minus_2": 6095,
         "time_value_t_minus_2": "2021-03-18T00:00:00.000000",
         "covid_cases_t_minus_2": 28437,
         "confirmed_covid_vist_t_minus_2": 1.195651,
         "doctor_visits_t_minus_2": 11.535644,
         "hospital_admissions_t_minus_2": 9.485383,
         "covid_deaths_t_minus_2": 175,
         "home_time_t_minus_2": 1069.390070921986,
         "geo_value_t_minus_1": 5,
         "time_value_t_minus_1": "2021-03-19T00:00:00.000000",
         "covid_cases_t_minus_1": 28463,
         "confirmed_covid_vist_t_minus_1": 1.195651,
         "doctor_visits_t_minus_1": 12.060947,
         "hospital_admissions_t_minus_1": 9.485383,
         "covid_deaths_t_minus_1": 175,
         "home_time_t_minus_1": 1001.1028368794326,
         "time_value": "2021-03-20T00:00:00.000000",
         "covid_cases": 28505,
         "confirmed_covid_visit": 1.195651,
         "doctor_visits": 12.167203,
         "hospital_admissions": 9.485383,
         "covid_deaths": 175,
         "home_time": 1001.1028368794326,
         "covid_cases_t_plus_one": 28535,
         "_deepnote_index_column": 5
        },
        {
         "geo_value_t_minus_2": 6047,
         "time_value_t_minus_2": "2021-04-16T00:00:00.000000",
         "covid_cases_t_minus_2": 28953,
         "confirmed_covid_vist_t_minus_2": 3.190064,
         "doctor_visits_t_minus_2": 33.491065,
         "hospital_admissions_t_minus_2": 17.980531,
         "covid_deaths_t_minus_2": 444,
         "home_time_t_minus_2": 964.3472222,
         "geo_value_t_minus_1": 6,
         "time_value_t_minus_1": "2021-04-17T00:00:00.000000",
         "covid_cases_t_minus_1": 28979,
         "confirmed_covid_vist_t_minus_1": 3.190064,
         "doctor_visits_t_minus_1": 33.491065,
         "hospital_admissions_t_minus_1": 17.980531,
         "covid_deaths_t_minus_1": 447,
         "home_time_t_minus_1": 964.3472222,
         "time_value": "2021-04-18T00:00:00.000000",
         "covid_cases": 28994,
         "confirmed_covid_visit": 3.190064,
         "doctor_visits": 33.491065,
         "hospital_admissions": 17.980531,
         "covid_deaths": 447,
         "home_time": 964.3472222,
         "covid_cases_t_plus_one": 29009,
         "_deepnote_index_column": 6
        },
        {
         "geo_value_t_minus_2": 6083,
         "time_value_t_minus_2": "2021-04-16T00:00:00.000000",
         "covid_cases_t_minus_2": 31614,
         "confirmed_covid_vist_t_minus_2": 6.789749,
         "doctor_visits_t_minus_2": 23.884797,
         "hospital_admissions_t_minus_2": 10.204045,
         "covid_deaths_t_minus_2": 445,
         "home_time_t_minus_2": 967.1451612903226,
         "geo_value_t_minus_1": 7,
         "time_value_t_minus_1": "2021-04-17T00:00:00.000000",
         "covid_cases_t_minus_1": 31632,
         "confirmed_covid_vist_t_minus_1": 6.789749,
         "doctor_visits_t_minus_1": 23.884797,
         "hospital_admissions_t_minus_1": 10.204045,
         "covid_deaths_t_minus_1": 445,
         "home_time_t_minus_1": 967.1451612903226,
         "time_value": "2021-04-18T00:00:00.000000",
         "covid_cases": 31650,
         "confirmed_covid_visit": 6.789749,
         "doctor_visits": 23.884797,
         "hospital_admissions": 10.204045,
         "covid_deaths": 445,
         "home_time": 967.1451612903226,
         "covid_cases_t_plus_one": 31681,
         "_deepnote_index_column": 7
        },
        {
         "geo_value_t_minus_2": 6075,
         "time_value_t_minus_2": "2021-04-16T00:00:00.000000",
         "covid_cases_t_minus_2": 34368,
         "confirmed_covid_vist_t_minus_2": 1.114581,
         "doctor_visits_t_minus_2": 40.25301,
         "hospital_admissions_t_minus_2": 11.922447,
         "covid_deaths_t_minus_2": 535,
         "home_time_t_minus_2": 1060.9202772963604,
         "geo_value_t_minus_1": 8,
         "time_value_t_minus_1": "2021-04-17T00:00:00.000000",
         "covid_cases_t_minus_1": 34387,
         "confirmed_covid_vist_t_minus_1": 1.114581,
         "doctor_visits_t_minus_1": 40.25301,
         "hospital_admissions_t_minus_1": 11.922447,
         "covid_deaths_t_minus_1": 541,
         "home_time_t_minus_1": 1060.9202772963604,
         "time_value": "2021-04-18T00:00:00.000000",
         "covid_cases": 34412,
         "confirmed_covid_visit": 1.114581,
         "doctor_visits": 40.25301,
         "hospital_admissions": 11.922447,
         "covid_deaths": 543,
         "home_time": 1060.9202772963604,
         "covid_cases_t_plus_one": 34433,
         "_deepnote_index_column": 8
        },
        {
         "geo_value_t_minus_2": 6107,
         "time_value_t_minus_2": "2021-01-08T00:00:00.000000",
         "covid_cases_t_minus_2": 36536,
         "confirmed_covid_vist_t_minus_2": 3.316422,
         "doctor_visits_t_minus_2": 41.971928,
         "hospital_admissions_t_minus_2": 28.54413,
         "covid_deaths_t_minus_2": 495,
         "home_time_t_minus_2": 812.8703703703703,
         "geo_value_t_minus_1": 9,
         "time_value_t_minus_1": "2021-01-09T00:00:00.000000",
         "covid_cases_t_minus_1": 36942,
         "confirmed_covid_vist_t_minus_1": 3.316422,
         "doctor_visits_t_minus_1": 41.971928,
         "hospital_admissions_t_minus_1": 28.54413,
         "covid_deaths_t_minus_1": 500,
         "home_time_t_minus_1": 812.8703703703703,
         "time_value": "2021-01-10T00:00:00.000000",
         "covid_cases": 37206,
         "confirmed_covid_visit": 3.316422,
         "doctor_visits": 41.971928,
         "hospital_admissions": 28.54413,
         "covid_deaths": 501,
         "home_time": 816.0929368,
         "covid_cases_t_plus_one": 37448,
         "_deepnote_index_column": 9
        },
        {
         "geo_value_t_minus_2": 6081,
         "time_value_t_minus_2": "2021-04-16T00:00:00.000000",
         "covid_cases_t_minus_2": 38471,
         "confirmed_covid_vist_t_minus_2": 1.554916,
         "doctor_visits_t_minus_2": 25.261661,
         "hospital_admissions_t_minus_2": 24.904223,
         "covid_deaths_t_minus_2": 371,
         "home_time_t_minus_2": 1223.6818181818182,
         "geo_value_t_minus_1": 10,
         "time_value_t_minus_1": "2021-04-17T00:00:00.000000",
         "covid_cases_t_minus_1": 38510,
         "confirmed_covid_vist_t_minus_1": 1.554916,
         "doctor_visits_t_minus_1": 25.261661,
         "hospital_admissions_t_minus_1": 24.904223,
         "covid_deaths_t_minus_1": 371,
         "home_time_t_minus_1": 1223.6818181818182,
         "time_value": "2021-04-18T00:00:00.000000",
         "covid_cases": 38540,
         "confirmed_covid_visit": 1.554916,
         "doctor_visits": 25.261661,
         "hospital_admissions": 24.904223,
         "covid_deaths": 371,
         "home_time": 1223.6818181818182,
         "covid_cases_t_plus_one": 38563,
         "_deepnote_index_column": 10
        },
        {
         "geo_value_t_minus_2": 6053,
         "time_value_t_minus_2": "2021-04-02T00:00:00.000000",
         "covid_cases_t_minus_2": 40203,
         "confirmed_covid_vist_t_minus_2": 5.965098,
         "doctor_visits_t_minus_2": 30.149493,
         "hospital_admissions_t_minus_2": 25.671584,
         "covid_deaths_t_minus_2": 339,
         "home_time_t_minus_2": 909.3964758,
         "geo_value_t_minus_1": 11,
         "time_value_t_minus_1": "2021-04-03T00:00:00.000000",
         "covid_cases_t_minus_1": 40211,
         "confirmed_covid_vist_t_minus_1": 5.691662,
         "doctor_visits_t_minus_1": 30.611099,
         "hospital_admissions_t_minus_1": 25.433004,
         "covid_deaths_t_minus_1": 339,
         "home_time_t_minus_1": 909.3964758,
         "time_value": "2021-04-04T00:00:00.000000",
         "covid_cases": 40221,
         "confirmed_covid_visit": 5.015567,
         "doctor_visits": 31.167177,
         "hospital_admissions": 25.433004,
         "covid_deaths": 339,
         "home_time": 909.3964758,
         "covid_cases_t_plus_one": 40234,
         "_deepnote_index_column": 11
        },
        {
         "geo_value_t_minus_2": 6099,
         "time_value_t_minus_2": "2021-04-16T00:00:00.000000",
         "covid_cases_t_minus_2": 51640,
         "confirmed_covid_vist_t_minus_2": 3.764569,
         "doctor_visits_t_minus_2": 28.919528,
         "hospital_admissions_t_minus_2": 29.765937,
         "covid_deaths_t_minus_2": 736,
         "home_time_t_minus_2": 984.2091503267974,
         "geo_value_t_minus_1": 12,
         "time_value_t_minus_1": "2021-04-17T00:00:00.000000",
         "covid_cases_t_minus_1": 51694,
         "confirmed_covid_vist_t_minus_1": 3.764569,
         "doctor_visits_t_minus_1": 28.919528,
         "hospital_admissions_t_minus_1": 29.765937,
         "covid_deaths_t_minus_1": 736,
         "home_time_t_minus_1": 984.2091503267974,
         "time_value": "2021-04-18T00:00:00.000000",
         "covid_cases": 51742,
         "confirmed_covid_visit": 3.764569,
         "doctor_visits": 28.919528,
         "hospital_admissions": 29.765937,
         "covid_deaths": 736,
         "home_time": 984.2091503267974,
         "covid_cases_t_plus_one": 51779,
         "_deepnote_index_column": 12
        },
        {
         "geo_value_t_minus_2": 6013,
         "time_value_t_minus_2": "2021-04-16T00:00:00.000000",
         "covid_cases_t_minus_2": 63648,
         "confirmed_covid_vist_t_minus_2": 2.749704,
         "doctor_visits_t_minus_2": 23.393924,
         "hospital_admissions_t_minus_2": 16.304209,
         "covid_deaths_t_minus_2": 783,
         "home_time_t_minus_2": 1184.6299212598426,
         "geo_value_t_minus_1": 13,
         "time_value_t_minus_1": "2021-04-17T00:00:00.000000",
         "covid_cases_t_minus_1": 63722,
         "confirmed_covid_vist_t_minus_1": 2.749704,
         "doctor_visits_t_minus_1": 23.393924,
         "hospital_admissions_t_minus_1": 16.304209,
         "covid_deaths_t_minus_1": 783,
         "home_time_t_minus_1": 1184.6299212598426,
         "time_value": "2021-04-18T00:00:00.000000",
         "covid_cases": 63776,
         "confirmed_covid_visit": 2.749704,
         "doctor_visits": 23.393924,
         "hospital_admissions": 16.304209,
         "covid_deaths": 783,
         "home_time": 1184.6299212598426,
         "covid_cases_t_plus_one": 63824,
         "_deepnote_index_column": 13
        },
        {
         "geo_value_t_minus_2": 6077,
         "time_value_t_minus_2": "2021-04-16T00:00:00.000000",
         "covid_cases_t_minus_2": 67444,
         "confirmed_covid_vist_t_minus_2": 3.399379,
         "doctor_visits_t_minus_2": 29.676661,
         "hospital_admissions_t_minus_2": 26.996648,
         "covid_deaths_t_minus_2": 1287,
         "home_time_t_minus_2": 976.4632911392404,
         "geo_value_t_minus_1": 14,
         "time_value_t_minus_1": "2021-04-17T00:00:00.000000",
         "covid_cases_t_minus_1": 67525,
         "confirmed_covid_vist_t_minus_1": 3.399379,
         "doctor_visits_t_minus_1": 29.676661,
         "hospital_admissions_t_minus_1": 26.996648,
         "covid_deaths_t_minus_1": 1287,
         "home_time_t_minus_1": 976.4632911392404,
         "time_value": "2021-04-18T00:00:00.000000",
         "covid_cases": 67591,
         "confirmed_covid_visit": 3.399379,
         "doctor_visits": 29.676661,
         "hospital_admissions": 26.996648,
         "covid_deaths": 1288,
         "home_time": 976.4632911392404,
         "covid_cases_t_plus_one": 67631,
         "_deepnote_index_column": 14
        },
        {
         "geo_value_t_minus_2": 6111,
         "time_value_t_minus_2": "2021-04-16T00:00:00.000000",
         "covid_cases_t_minus_2": 75176,
         "confirmed_covid_vist_t_minus_2": 3.155609,
         "doctor_visits_t_minus_2": 24.518056,
         "hospital_admissions_t_minus_2": 31.666872,
         "covid_deaths_t_minus_2": 1007,
         "home_time_t_minus_2": 1148.0819672131147,
         "geo_value_t_minus_1": 15,
         "time_value_t_minus_1": "2021-04-17T00:00:00.000000",
         "covid_cases_t_minus_1": 75195,
         "confirmed_covid_vist_t_minus_1": 3.155609,
         "doctor_visits_t_minus_1": 24.518056,
         "hospital_admissions_t_minus_1": 31.666872,
         "covid_deaths_t_minus_1": 1009,
         "home_time_t_minus_1": 1148.0819672131147,
         "time_value": "2021-04-18T00:00:00.000000",
         "covid_cases": 75220,
         "confirmed_covid_visit": 3.155609,
         "doctor_visits": 24.518056,
         "hospital_admissions": 31.666872,
         "covid_deaths": 1009,
         "home_time": 1148.0819672131147,
         "covid_cases_t_plus_one": 75240,
         "_deepnote_index_column": 15
        },
        {
         "geo_value_t_minus_2": 6001,
         "time_value_t_minus_2": "2021-04-16T00:00:00.000000",
         "covid_cases_t_minus_2": 81260,
         "confirmed_covid_vist_t_minus_2": 1.316394,
         "doctor_visits_t_minus_2": 25.733473,
         "hospital_admissions_t_minus_2": 11.715662,
         "covid_deaths_t_minus_2": 1256,
         "home_time_t_minus_2": 1135.604427333975,
         "geo_value_t_minus_1": 16,
         "time_value_t_minus_1": "2021-04-17T00:00:00.000000",
         "covid_cases_t_minus_1": 81367,
         "confirmed_covid_vist_t_minus_1": 1.316394,
         "doctor_visits_t_minus_1": 25.733473,
         "hospital_admissions_t_minus_1": 11.715662,
         "covid_deaths_t_minus_1": 1256,
         "home_time_t_minus_1": 1135.604427333975,
         "time_value": "2021-04-18T00:00:00.000000",
         "covid_cases": 81446,
         "confirmed_covid_visit": 1.316394,
         "doctor_visits": 25.733473,
         "hospital_admissions": 11.715662,
         "covid_deaths": 1256,
         "home_time": 1135.604427333975,
         "covid_cases_t_plus_one": 81519,
         "_deepnote_index_column": 16
        },
        {
         "geo_value_t_minus_2": 6029,
         "time_value_t_minus_2": "2021-04-16T00:00:00.000000",
         "covid_cases_t_minus_2": 89751,
         "confirmed_covid_vist_t_minus_2": 5.211112,
         "doctor_visits_t_minus_2": 18.746682,
         "hospital_admissions_t_minus_2": 21.744568,
         "covid_deaths_t_minus_2": 1302,
         "home_time_t_minus_2": 931.2577778,
         "geo_value_t_minus_1": 17,
         "time_value_t_minus_1": "2021-04-17T00:00:00.000000",
         "covid_cases_t_minus_1": 89781,
         "confirmed_covid_vist_t_minus_1": 5.211112,
         "doctor_visits_t_minus_1": 18.746682,
         "hospital_admissions_t_minus_1": 21.744568,
         "covid_deaths_t_minus_1": 1307,
         "home_time_t_minus_1": 931.2577778,
         "time_value": "2021-04-18T00:00:00.000000",
         "covid_cases": 89810,
         "confirmed_covid_visit": 5.211112,
         "doctor_visits": 18.746682,
         "hospital_admissions": 21.744568,
         "covid_deaths": 1307,
         "home_time": 931.2577778,
         "covid_cases_t_plus_one": 89828,
         "_deepnote_index_column": 17
        },
        {
         "geo_value_t_minus_2": 6019,
         "time_value_t_minus_2": "2021-04-16T00:00:00.000000",
         "covid_cases_t_minus_2": 93890,
         "confirmed_covid_vist_t_minus_2": 2.965693,
         "doctor_visits_t_minus_2": 25.956755,
         "hospital_admissions_t_minus_2": 28.102697,
         "covid_deaths_t_minus_2": 1617,
         "home_time_t_minus_2": 1010.9453924914676,
         "geo_value_t_minus_1": 18,
         "time_value_t_minus_1": "2021-04-17T00:00:00.000000",
         "covid_cases_t_minus_1": 93949,
         "confirmed_covid_vist_t_minus_1": 2.965693,
         "doctor_visits_t_minus_1": 25.956755,
         "hospital_admissions_t_minus_1": 28.102697,
         "covid_deaths_t_minus_1": 1620,
         "home_time_t_minus_1": 989.123076923077,
         "time_value": "2021-04-18T00:00:00.000000",
         "covid_cases": 93998,
         "confirmed_covid_visit": 2.965693,
         "doctor_visits": 25.956755,
         "hospital_admissions": 28.102697,
         "covid_deaths": 1620,
         "home_time": 989.123076923077,
         "covid_cases_t_plus_one": 94029,
         "_deepnote_index_column": 18
        },
        {
         "geo_value_t_minus_2": 6067,
         "time_value_t_minus_2": "2021-04-16T00:00:00.000000",
         "covid_cases_t_minus_2": 98261,
         "confirmed_covid_vist_t_minus_2": 2.333134,
         "doctor_visits_t_minus_2": 19.116933,
         "hospital_admissions_t_minus_2": 13.915985,
         "covid_deaths_t_minus_2": 1579,
         "home_time_t_minus_2": 1110.5751920965972,
         "geo_value_t_minus_1": 19,
         "time_value_t_minus_1": "2021-04-17T00:00:00.000000",
         "covid_cases_t_minus_1": 98388,
         "confirmed_covid_vist_t_minus_1": 2.333134,
         "doctor_visits_t_minus_1": 19.116933,
         "hospital_admissions_t_minus_1": 13.915985,
         "covid_deaths_t_minus_1": 1579,
         "home_time_t_minus_1": 1110.5751920965972,
         "time_value": "2021-04-18T00:00:00.000000",
         "covid_cases": 98487,
         "confirmed_covid_visit": 2.333134,
         "doctor_visits": 19.116933,
         "hospital_admissions": 13.915985,
         "covid_deaths": 1579,
         "home_time": 1110.5751920965972,
         "covid_cases_t_plus_one": 98598,
         "_deepnote_index_column": 19
        },
        {
         "geo_value_t_minus_2": 6085,
         "time_value_t_minus_2": "2021-04-16T00:00:00.000000",
         "covid_cases_t_minus_2": 108891,
         "confirmed_covid_vist_t_minus_2": 3.349106,
         "doctor_visits_t_minus_2": 36.344312,
         "hospital_admissions_t_minus_2": 12.118089,
         "covid_deaths_t_minus_2": 2010,
         "home_time_t_minus_2": 1220.7378731343283,
         "geo_value_t_minus_1": 20,
         "time_value_t_minus_1": "2021-04-17T00:00:00.000000",
         "covid_cases_t_minus_1": 108997,
         "confirmed_covid_vist_t_minus_1": 3.349106,
         "doctor_visits_t_minus_1": 36.344312,
         "hospital_admissions_t_minus_1": 12.118089,
         "covid_deaths_t_minus_1": 2013,
         "home_time_t_minus_1": 1220.7378731343283,
         "time_value": "2021-04-18T00:00:00.000000",
         "covid_cases": 109097,
         "confirmed_covid_visit": 3.349106,
         "doctor_visits": 36.344312,
         "hospital_admissions": 12.118089,
         "covid_deaths": 2013,
         "home_time": 1220.7378731343283,
         "covid_cases_t_plus_one": 109188,
         "_deepnote_index_column": 20
        },
        {
         "geo_value_t_minus_2": 6059,
         "time_value_t_minus_2": "2021-04-16T00:00:00.000000",
         "covid_cases_t_minus_2": 235432,
         "confirmed_covid_vist_t_minus_2": 3.80918,
         "doctor_visits_t_minus_2": 34.142713,
         "hospital_admissions_t_minus_2": 20.848918,
         "covid_deaths_t_minus_2": 4886,
         "home_time_t_minus_2": 1225.7644151565073,
         "geo_value_t_minus_1": 21,
         "time_value_t_minus_1": "2021-04-17T00:00:00.000000",
         "covid_cases_t_minus_1": 235527,
         "confirmed_covid_vist_t_minus_1": 3.80918,
         "doctor_visits_t_minus_1": 34.142713,
         "hospital_admissions_t_minus_1": 20.848918,
         "covid_deaths_t_minus_1": 4891,
         "home_time_t_minus_1": 1225.7644151565073,
         "time_value": "2021-04-18T00:00:00.000000",
         "covid_cases": 235590,
         "confirmed_covid_visit": 3.80918,
         "doctor_visits": 34.142713,
         "hospital_admissions": 20.848918,
         "covid_deaths": 4896,
         "home_time": 1225.7644151565073,
         "covid_cases_t_plus_one": 235659,
         "_deepnote_index_column": 21
        },
        {
         "geo_value_t_minus_2": 6073,
         "time_value_t_minus_2": "2021-04-16T00:00:00.000000",
         "covid_cases_t_minus_2": 254270,
         "confirmed_covid_vist_t_minus_2": 2.671636,
         "doctor_visits_t_minus_2": 16.317834,
         "hospital_admissions_t_minus_2": 13.903611,
         "covid_deaths_t_minus_2": 3662,
         "home_time_t_minus_2": 1141.494983277592,
         "geo_value_t_minus_1": 22,
         "time_value_t_minus_1": "2021-04-17T00:00:00.000000",
         "covid_cases_t_minus_1": 254516,
         "confirmed_covid_vist_t_minus_1": 2.671636,
         "doctor_visits_t_minus_1": 16.317834,
         "hospital_admissions_t_minus_1": 13.903611,
         "covid_deaths_t_minus_1": 3674,
         "home_time_t_minus_1": 1141.494983277592,
         "time_value": "2021-04-18T00:00:00.000000",
         "covid_cases": 254670,
         "confirmed_covid_visit": 2.671636,
         "doctor_visits": 16.317834,
         "hospital_admissions": 13.903611,
         "covid_deaths": 3674,
         "home_time": 1141.494983277592,
         "covid_cases_t_plus_one": 254817,
         "_deepnote_index_column": 22
        },
        {
         "geo_value_t_minus_2": 6065,
         "time_value_t_minus_2": "2021-04-16T00:00:00.000000",
         "covid_cases_t_minus_2": 270131,
         "confirmed_covid_vist_t_minus_2": 3.475641,
         "doctor_visits_t_minus_2": 21.975147,
         "hospital_admissions_t_minus_2": 27.75037,
         "covid_deaths_t_minus_2": 4385,
         "home_time_t_minus_2": 1134.359649122807,
         "geo_value_t_minus_1": 23,
         "time_value_t_minus_1": "2021-04-17T00:00:00.000000",
         "covid_cases_t_minus_1": 270231,
         "confirmed_covid_vist_t_minus_1": 3.475641,
         "doctor_visits_t_minus_1": 21.975147,
         "hospital_admissions_t_minus_1": 27.75037,
         "covid_deaths_t_minus_1": 4387,
         "home_time_t_minus_1": 1134.359649122807,
         "time_value": "2021-04-18T00:00:00.000000",
         "covid_cases": 270307,
         "confirmed_covid_visit": 3.475641,
         "doctor_visits": 21.975147,
         "hospital_admissions": 27.75037,
         "covid_deaths": 4387,
         "home_time": 1134.359649122807,
         "covid_cases_t_plus_one": 270376,
         "_deepnote_index_column": 23
        },
        {
         "geo_value_t_minus_2": 6071,
         "time_value_t_minus_2": "2021-04-16T00:00:00.000000",
         "covid_cases_t_minus_2": 270538,
         "confirmed_covid_vist_t_minus_2": 4.706216,
         "doctor_visits_t_minus_2": 42.906841,
         "hospital_admissions_t_minus_2": 24.476889,
         "covid_deaths_t_minus_2": 4540,
         "home_time_t_minus_2": 1106.3743119266055,
         "geo_value_t_minus_1": 24,
         "time_value_t_minus_1": "2021-04-17T00:00:00.000000",
         "covid_cases_t_minus_1": 270627,
         "confirmed_covid_vist_t_minus_1": 4.706216,
         "doctor_visits_t_minus_1": 42.906841,
         "hospital_admissions_t_minus_1": 24.476889,
         "covid_deaths_t_minus_1": 4545,
         "home_time_t_minus_1": 1106.3743119266055,
         "time_value": "2021-04-18T00:00:00.000000",
         "covid_cases": 270674,
         "confirmed_covid_visit": 4.706216,
         "doctor_visits": 42.906841,
         "hospital_admissions": 24.476889,
         "covid_deaths": 4546,
         "home_time": 1106.3743119266055,
         "covid_cases_t_plus_one": 270726,
         "_deepnote_index_column": 24
        },
        {
         "geo_value_t_minus_2": 6037,
         "time_value_t_minus_2": "2021-04-16T00:00:00.000000",
         "covid_cases_t_minus_2": 1105288,
         "confirmed_covid_vist_t_minus_2": 2.988946,
         "doctor_visits_t_minus_2": 47.18352,
         "hospital_admissions_t_minus_2": 25.148489,
         "covid_deaths_t_minus_2": 23583,
         "home_time_t_minus_2": 1130.2569552985308,
         "geo_value_t_minus_1": 25,
         "time_value_t_minus_1": "2021-04-17T00:00:00.000000",
         "covid_cases_t_minus_1": 1105681,
         "confirmed_covid_vist_t_minus_1": 2.988946,
         "doctor_visits_t_minus_1": 47.18352,
         "hospital_admissions_t_minus_1": 25.148489,
         "covid_deaths_t_minus_1": 23610,
         "home_time_t_minus_1": 1130.2569552985308,
         "time_value": "2021-04-18T00:00:00.000000",
         "covid_cases": 1105979,
         "confirmed_covid_visit": 2.988946,
         "doctor_visits": 47.18352,
         "hospital_admissions": 25.148489,
         "covid_deaths": 23635,
         "home_time": 1130.2569552985308,
         "covid_cases_t_plus_one": 1106233,
         "_deepnote_index_column": 25
        }
       ],
       "rows_bottom": null
      },
      "text/plain": "           geo_value_t_minus_2 time_value_t_minus_2  covid_cases_t_minus_2  \\\ngeo_value                                                                    \n1.0                     6041.0           2021-04-16                13283.0   \n2.0                     6079.0           2021-04-16                19244.0   \n3.0                     6061.0           2021-04-16                20503.0   \n4.0                     6097.0           2021-04-16                28026.0   \n5.0                     6095.0           2021-03-18                28437.0   \n6.0                     6047.0           2021-04-16                28953.0   \n7.0                     6083.0           2021-04-16                31614.0   \n8.0                     6075.0           2021-04-16                34368.0   \n9.0                     6107.0           2021-01-08                36536.0   \n10.0                    6081.0           2021-04-16                38471.0   \n11.0                    6053.0           2021-04-02                40203.0   \n12.0                    6099.0           2021-04-16                51640.0   \n13.0                    6013.0           2021-04-16                63648.0   \n14.0                    6077.0           2021-04-16                67444.0   \n15.0                    6111.0           2021-04-16                75176.0   \n16.0                    6001.0           2021-04-16                81260.0   \n17.0                    6029.0           2021-04-16                89751.0   \n18.0                    6019.0           2021-04-16                93890.0   \n19.0                    6067.0           2021-04-16                98261.0   \n20.0                    6085.0           2021-04-16               108891.0   \n21.0                    6059.0           2021-04-16               235432.0   \n22.0                    6073.0           2021-04-16               254270.0   \n23.0                    6065.0           2021-04-16               270131.0   \n24.0                    6071.0           2021-04-16               270538.0   \n25.0                    6037.0           2021-04-16              1105288.0   \n\n           confirmed_covid_vist_t_minus_2  doctor_visits_t_minus_2  \\\ngeo_value                                                            \n1.0                              1.271447                26.868624   \n2.0                              2.820282                17.345415   \n3.0                              1.544865                16.849122   \n4.0                              2.662892                13.133541   \n5.0                              1.195651                11.535644   \n6.0                              3.190064                33.491065   \n7.0                              6.789749                23.884797   \n8.0                              1.114581                40.253010   \n9.0                              3.316422                41.971928   \n10.0                             1.554916                25.261661   \n11.0                             5.965098                30.149493   \n12.0                             3.764569                28.919528   \n13.0                             2.749704                23.393924   \n14.0                             3.399379                29.676661   \n15.0                             3.155609                24.518056   \n16.0                             1.316394                25.733473   \n17.0                             5.211112                18.746682   \n18.0                             2.965693                25.956755   \n19.0                             2.333134                19.116933   \n20.0                             3.349106                36.344312   \n21.0                             3.809180                34.142713   \n22.0                             2.671636                16.317834   \n23.0                             3.475641                21.975147   \n24.0                             4.706216                42.906841   \n25.0                             2.988946                47.183520   \n\n           hospital_admissions_t_minus_2  covid_deaths_t_minus_2  \\\ngeo_value                                                          \n1.0                            11.338696                   234.0   \n2.0                            17.079238                   248.0   \n3.0                            14.559508                   282.0   \n4.0                             8.565373                   330.0   \n5.0                             9.485383                   175.0   \n6.0                            17.980531                   444.0   \n7.0                            10.204045                   445.0   \n8.0                            11.922447                   535.0   \n9.0                            28.544130                   495.0   \n10.0                           24.904223                   371.0   \n11.0                           25.671584                   339.0   \n12.0                           29.765937                   736.0   \n13.0                           16.304209                   783.0   \n14.0                           26.996648                  1287.0   \n15.0                           31.666872                  1007.0   \n16.0                           11.715662                  1256.0   \n17.0                           21.744568                  1302.0   \n18.0                           28.102697                  1617.0   \n19.0                           13.915985                  1579.0   \n20.0                           12.118089                  2010.0   \n21.0                           20.848918                  4886.0   \n22.0                           13.903611                  3662.0   \n23.0                           27.750370                  4385.0   \n24.0                           24.476889                  4540.0   \n25.0                           25.148489                 23583.0   \n\n           home_time_t_minus_2  geo_value_t_minus_1 time_value_t_minus_1  ...  \\\ngeo_value                                                                 ...   \n1.0                1083.964912                  1.0           2021-04-17  ...   \n2.0                 977.496894                  2.0           2021-04-17  ...   \n3.0                1208.009434                  3.0           2021-04-17  ...   \n4.0                 938.327273                  4.0           2021-04-17  ...   \n5.0                1069.390071                  5.0           2021-03-19  ...   \n6.0                 964.347222                  6.0           2021-04-17  ...   \n7.0                 967.145161                  7.0           2021-04-17  ...   \n8.0                1060.920277                  8.0           2021-04-17  ...   \n9.0                 812.870370                  9.0           2021-01-09  ...   \n10.0               1223.681818                 10.0           2021-04-17  ...   \n11.0                909.396476                 11.0           2021-04-03  ...   \n12.0                984.209150                 12.0           2021-04-17  ...   \n13.0               1184.629921                 13.0           2021-04-17  ...   \n14.0                976.463291                 14.0           2021-04-17  ...   \n15.0               1148.081967                 15.0           2021-04-17  ...   \n16.0               1135.604427                 16.0           2021-04-17  ...   \n17.0                931.257778                 17.0           2021-04-17  ...   \n18.0               1010.945392                 18.0           2021-04-17  ...   \n19.0               1110.575192                 19.0           2021-04-17  ...   \n20.0               1220.737873                 20.0           2021-04-17  ...   \n21.0               1225.764415                 21.0           2021-04-17  ...   \n22.0               1141.494983                 22.0           2021-04-17  ...   \n23.0               1134.359649                 23.0           2021-04-17  ...   \n24.0               1106.374312                 24.0           2021-04-17  ...   \n25.0               1130.256955                 25.0           2021-04-17  ...   \n\n           covid_deaths_t_minus_1  home_time_t_minus_1  time_value  \\\ngeo_value                                                            \n1.0                         234.0          1083.964912  2021-04-18   \n2.0                         249.0           977.496894  2021-04-18   \n3.0                         282.0          1208.009434  2021-04-18   \n4.0                         330.0           938.327273  2021-04-18   \n5.0                         175.0          1001.102837  2021-03-20   \n6.0                         447.0           964.347222  2021-04-18   \n7.0                         445.0           967.145161  2021-04-18   \n8.0                         541.0          1060.920277  2021-04-18   \n9.0                         500.0           812.870370  2021-01-10   \n10.0                        371.0          1223.681818  2021-04-18   \n11.0                        339.0           909.396476  2021-04-04   \n12.0                        736.0           984.209150  2021-04-18   \n13.0                        783.0          1184.629921  2021-04-18   \n14.0                       1287.0           976.463291  2021-04-18   \n15.0                       1009.0          1148.081967  2021-04-18   \n16.0                       1256.0          1135.604427  2021-04-18   \n17.0                       1307.0           931.257778  2021-04-18   \n18.0                       1620.0           989.123077  2021-04-18   \n19.0                       1579.0          1110.575192  2021-04-18   \n20.0                       2013.0          1220.737873  2021-04-18   \n21.0                       4891.0          1225.764415  2021-04-18   \n22.0                       3674.0          1141.494983  2021-04-18   \n23.0                       4387.0          1134.359649  2021-04-18   \n24.0                       4545.0          1106.374312  2021-04-18   \n25.0                      23610.0          1130.256955  2021-04-18   \n\n           covid_cases  confirmed_covid_visit  doctor_visits  \\\ngeo_value                                                      \n1.0            13290.0               1.271447      26.868624   \n2.0            19272.0               2.820282      17.345415   \n3.0            20560.0               1.544865      16.849122   \n4.0            28051.0               2.662892      13.133541   \n5.0            28505.0               1.195651      12.167203   \n6.0            28994.0               3.190064      33.491065   \n7.0            31650.0               6.789749      23.884797   \n8.0            34412.0               1.114581      40.253010   \n9.0            37206.0               3.316422      41.971928   \n10.0           38540.0               1.554916      25.261661   \n11.0           40221.0               5.015567      31.167177   \n12.0           51742.0               3.764569      28.919528   \n13.0           63776.0               2.749704      23.393924   \n14.0           67591.0               3.399379      29.676661   \n15.0           75220.0               3.155609      24.518056   \n16.0           81446.0               1.316394      25.733473   \n17.0           89810.0               5.211112      18.746682   \n18.0           93998.0               2.965693      25.956755   \n19.0           98487.0               2.333134      19.116933   \n20.0          109097.0               3.349106      36.344312   \n21.0          235590.0               3.809180      34.142713   \n22.0          254670.0               2.671636      16.317834   \n23.0          270307.0               3.475641      21.975147   \n24.0          270674.0               4.706216      42.906841   \n25.0         1105979.0               2.988946      47.183520   \n\n          hospital_admissions  covid_deaths    home_time  \\\ngeo_value                                                  \n1.0                 10.512855         234.0  1083.964912   \n2.0                 17.079238         249.0   977.496894   \n3.0                 14.559508         282.0  1208.009434   \n4.0                  8.565373         330.0   938.327273   \n5.0                  9.485383         175.0  1001.102837   \n6.0                 17.980531         447.0   964.347222   \n7.0                 10.204045         445.0   967.145161   \n8.0                 11.922447         543.0  1060.920277   \n9.0                 28.544130         501.0   816.092937   \n10.0                24.904223         371.0  1223.681818   \n11.0                25.433004         339.0   909.396476   \n12.0                29.765937         736.0   984.209150   \n13.0                16.304209         783.0  1184.629921   \n14.0                26.996648        1288.0   976.463291   \n15.0                31.666872        1009.0  1148.081967   \n16.0                11.715662        1256.0  1135.604427   \n17.0                21.744568        1307.0   931.257778   \n18.0                28.102697        1620.0   989.123077   \n19.0                13.915985        1579.0  1110.575192   \n20.0                12.118089        2013.0  1220.737873   \n21.0                20.848918        4896.0  1225.764415   \n22.0                13.903611        3674.0  1141.494983   \n23.0                27.750370        4387.0  1134.359649   \n24.0                24.476889        4546.0  1106.374312   \n25.0                25.148489       23635.0  1130.256955   \n\n           covid_cases_t_plus_one  \ngeo_value                          \n1.0                       13294.0  \n2.0                       19282.0  \n3.0                       20582.0  \n4.0                       28058.0  \n5.0                       28535.0  \n6.0                       29009.0  \n7.0                       31681.0  \n8.0                       34433.0  \n9.0                       37448.0  \n10.0                      38563.0  \n11.0                      40234.0  \n12.0                      51779.0  \n13.0                      63824.0  \n14.0                      67631.0  \n15.0                      75240.0  \n16.0                      81519.0  \n17.0                      89828.0  \n18.0                      94029.0  \n19.0                      98598.0  \n20.0                     109188.0  \n21.0                     235659.0  \n22.0                     254817.0  \n23.0                     270376.0  \n24.0                     270726.0  \n25.0                    1106233.0  \n\n[25 rows x 24 columns]",
      "text/html": "<div>\n<style scoped>\n    .dataframe tbody tr th:only-of-type {\n        vertical-align: middle;\n    }\n\n    .dataframe tbody tr th {\n        vertical-align: top;\n    }\n\n    .dataframe thead th {\n        text-align: right;\n    }\n</style>\n<table border=\"1\" class=\"dataframe\">\n  <thead>\n    <tr style=\"text-align: right;\">\n      <th></th>\n      <th>geo_value_t_minus_2</th>\n      <th>time_value_t_minus_2</th>\n      <th>covid_cases_t_minus_2</th>\n      <th>confirmed_covid_vist_t_minus_2</th>\n      <th>doctor_visits_t_minus_2</th>\n      <th>hospital_admissions_t_minus_2</th>\n      <th>covid_deaths_t_minus_2</th>\n      <th>home_time_t_minus_2</th>\n      <th>geo_value_t_minus_1</th>\n      <th>time_value_t_minus_1</th>\n      <th>...</th>\n      <th>covid_deaths_t_minus_1</th>\n      <th>home_time_t_minus_1</th>\n      <th>time_value</th>\n      <th>covid_cases</th>\n      <th>confirmed_covid_visit</th>\n      <th>doctor_visits</th>\n      <th>hospital_admissions</th>\n      <th>covid_deaths</th>\n      <th>home_time</th>\n      <th>covid_cases_t_plus_one</th>\n    </tr>\n    <tr>\n      <th>geo_value</th>\n      <th></th>\n      <th></th>\n      <th></th>\n      <th></th>\n      <th></th>\n      <th></th>\n      <th></th>\n      <th></th>\n      <th></th>\n      <th></th>\n      <th></th>\n      <th></th>\n      <th></th>\n      <th></th>\n      <th></th>\n      <th></th>\n      <th></th>\n      <th></th>\n      <th></th>\n      <th></th>\n      <th></th>\n    </tr>\n  </thead>\n  <tbody>\n    <tr>\n      <th>1.0</th>\n      <td>6041.0</td>\n      <td>2021-04-16</td>\n      <td>13283.0</td>\n      <td>1.271447</td>\n      <td>26.868624</td>\n      <td>11.338696</td>\n      <td>234.0</td>\n      <td>1083.964912</td>\n      <td>1.0</td>\n      <td>2021-04-17</td>\n      <td>...</td>\n      <td>234.0</td>\n      <td>1083.964912</td>\n      <td>2021-04-18</td>\n      <td>13290.0</td>\n      <td>1.271447</td>\n      <td>26.868624</td>\n      <td>10.512855</td>\n      <td>234.0</td>\n      <td>1083.964912</td>\n      <td>13294.0</td>\n    </tr>\n    <tr>\n      <th>2.0</th>\n      <td>6079.0</td>\n      <td>2021-04-16</td>\n      <td>19244.0</td>\n      <td>2.820282</td>\n      <td>17.345415</td>\n      <td>17.079238</td>\n      <td>248.0</td>\n      <td>977.496894</td>\n      <td>2.0</td>\n      <td>2021-04-17</td>\n      <td>...</td>\n      <td>249.0</td>\n      <td>977.496894</td>\n      <td>2021-04-18</td>\n      <td>19272.0</td>\n      <td>2.820282</td>\n      <td>17.345415</td>\n      <td>17.079238</td>\n      <td>249.0</td>\n      <td>977.496894</td>\n      <td>19282.0</td>\n    </tr>\n    <tr>\n      <th>3.0</th>\n      <td>6061.0</td>\n      <td>2021-04-16</td>\n      <td>20503.0</td>\n      <td>1.544865</td>\n      <td>16.849122</td>\n      <td>14.559508</td>\n      <td>282.0</td>\n      <td>1208.009434</td>\n      <td>3.0</td>\n      <td>2021-04-17</td>\n      <td>...</td>\n      <td>282.0</td>\n      <td>1208.009434</td>\n      <td>2021-04-18</td>\n      <td>20560.0</td>\n      <td>1.544865</td>\n      <td>16.849122</td>\n      <td>14.559508</td>\n      <td>282.0</td>\n      <td>1208.009434</td>\n      <td>20582.0</td>\n    </tr>\n    <tr>\n      <th>4.0</th>\n      <td>6097.0</td>\n      <td>2021-04-16</td>\n      <td>28026.0</td>\n      <td>2.662892</td>\n      <td>13.133541</td>\n      <td>8.565373</td>\n      <td>330.0</td>\n      <td>938.327273</td>\n      <td>4.0</td>\n      <td>2021-04-17</td>\n      <td>...</td>\n      <td>330.0</td>\n      <td>938.327273</td>\n      <td>2021-04-18</td>\n      <td>28051.0</td>\n      <td>2.662892</td>\n      <td>13.133541</td>\n      <td>8.565373</td>\n      <td>330.0</td>\n      <td>938.327273</td>\n      <td>28058.0</td>\n    </tr>\n    <tr>\n      <th>5.0</th>\n      <td>6095.0</td>\n      <td>2021-03-18</td>\n      <td>28437.0</td>\n      <td>1.195651</td>\n      <td>11.535644</td>\n      <td>9.485383</td>\n      <td>175.0</td>\n      <td>1069.390071</td>\n      <td>5.0</td>\n      <td>2021-03-19</td>\n      <td>...</td>\n      <td>175.0</td>\n      <td>1001.102837</td>\n      <td>2021-03-20</td>\n      <td>28505.0</td>\n      <td>1.195651</td>\n      <td>12.167203</td>\n      <td>9.485383</td>\n      <td>175.0</td>\n      <td>1001.102837</td>\n      <td>28535.0</td>\n    </tr>\n    <tr>\n      <th>6.0</th>\n      <td>6047.0</td>\n      <td>2021-04-16</td>\n      <td>28953.0</td>\n      <td>3.190064</td>\n      <td>33.491065</td>\n      <td>17.980531</td>\n      <td>444.0</td>\n      <td>964.347222</td>\n      <td>6.0</td>\n      <td>2021-04-17</td>\n      <td>...</td>\n      <td>447.0</td>\n      <td>964.347222</td>\n      <td>2021-04-18</td>\n      <td>28994.0</td>\n      <td>3.190064</td>\n      <td>33.491065</td>\n      <td>17.980531</td>\n      <td>447.0</td>\n      <td>964.347222</td>\n      <td>29009.0</td>\n    </tr>\n    <tr>\n      <th>7.0</th>\n      <td>6083.0</td>\n      <td>2021-04-16</td>\n      <td>31614.0</td>\n      <td>6.789749</td>\n      <td>23.884797</td>\n      <td>10.204045</td>\n      <td>445.0</td>\n      <td>967.145161</td>\n      <td>7.0</td>\n      <td>2021-04-17</td>\n      <td>...</td>\n      <td>445.0</td>\n      <td>967.145161</td>\n      <td>2021-04-18</td>\n      <td>31650.0</td>\n      <td>6.789749</td>\n      <td>23.884797</td>\n      <td>10.204045</td>\n      <td>445.0</td>\n      <td>967.145161</td>\n      <td>31681.0</td>\n    </tr>\n    <tr>\n      <th>8.0</th>\n      <td>6075.0</td>\n      <td>2021-04-16</td>\n      <td>34368.0</td>\n      <td>1.114581</td>\n      <td>40.253010</td>\n      <td>11.922447</td>\n      <td>535.0</td>\n      <td>1060.920277</td>\n      <td>8.0</td>\n      <td>2021-04-17</td>\n      <td>...</td>\n      <td>541.0</td>\n      <td>1060.920277</td>\n      <td>2021-04-18</td>\n      <td>34412.0</td>\n      <td>1.114581</td>\n      <td>40.253010</td>\n      <td>11.922447</td>\n      <td>543.0</td>\n      <td>1060.920277</td>\n      <td>34433.0</td>\n    </tr>\n    <tr>\n      <th>9.0</th>\n      <td>6107.0</td>\n      <td>2021-01-08</td>\n      <td>36536.0</td>\n      <td>3.316422</td>\n      <td>41.971928</td>\n      <td>28.544130</td>\n      <td>495.0</td>\n      <td>812.870370</td>\n      <td>9.0</td>\n      <td>2021-01-09</td>\n      <td>...</td>\n      <td>500.0</td>\n      <td>812.870370</td>\n      <td>2021-01-10</td>\n      <td>37206.0</td>\n      <td>3.316422</td>\n      <td>41.971928</td>\n      <td>28.544130</td>\n      <td>501.0</td>\n      <td>816.092937</td>\n      <td>37448.0</td>\n    </tr>\n    <tr>\n      <th>10.0</th>\n      <td>6081.0</td>\n      <td>2021-04-16</td>\n      <td>38471.0</td>\n      <td>1.554916</td>\n      <td>25.261661</td>\n      <td>24.904223</td>\n      <td>371.0</td>\n      <td>1223.681818</td>\n      <td>10.0</td>\n      <td>2021-04-17</td>\n      <td>...</td>\n      <td>371.0</td>\n      <td>1223.681818</td>\n      <td>2021-04-18</td>\n      <td>38540.0</td>\n      <td>1.554916</td>\n      <td>25.261661</td>\n      <td>24.904223</td>\n      <td>371.0</td>\n      <td>1223.681818</td>\n      <td>38563.0</td>\n    </tr>\n    <tr>\n      <th>11.0</th>\n      <td>6053.0</td>\n      <td>2021-04-02</td>\n      <td>40203.0</td>\n      <td>5.965098</td>\n      <td>30.149493</td>\n      <td>25.671584</td>\n      <td>339.0</td>\n      <td>909.396476</td>\n      <td>11.0</td>\n      <td>2021-04-03</td>\n      <td>...</td>\n      <td>339.0</td>\n      <td>909.396476</td>\n      <td>2021-04-04</td>\n      <td>40221.0</td>\n      <td>5.015567</td>\n      <td>31.167177</td>\n      <td>25.433004</td>\n      <td>339.0</td>\n      <td>909.396476</td>\n      <td>40234.0</td>\n    </tr>\n    <tr>\n      <th>12.0</th>\n      <td>6099.0</td>\n      <td>2021-04-16</td>\n      <td>51640.0</td>\n      <td>3.764569</td>\n      <td>28.919528</td>\n      <td>29.765937</td>\n      <td>736.0</td>\n      <td>984.209150</td>\n      <td>12.0</td>\n      <td>2021-04-17</td>\n      <td>...</td>\n      <td>736.0</td>\n      <td>984.209150</td>\n      <td>2021-04-18</td>\n      <td>51742.0</td>\n      <td>3.764569</td>\n      <td>28.919528</td>\n      <td>29.765937</td>\n      <td>736.0</td>\n      <td>984.209150</td>\n      <td>51779.0</td>\n    </tr>\n    <tr>\n      <th>13.0</th>\n      <td>6013.0</td>\n      <td>2021-04-16</td>\n      <td>63648.0</td>\n      <td>2.749704</td>\n      <td>23.393924</td>\n      <td>16.304209</td>\n      <td>783.0</td>\n      <td>1184.629921</td>\n      <td>13.0</td>\n      <td>2021-04-17</td>\n      <td>...</td>\n      <td>783.0</td>\n      <td>1184.629921</td>\n      <td>2021-04-18</td>\n      <td>63776.0</td>\n      <td>2.749704</td>\n      <td>23.393924</td>\n      <td>16.304209</td>\n      <td>783.0</td>\n      <td>1184.629921</td>\n      <td>63824.0</td>\n    </tr>\n    <tr>\n      <th>14.0</th>\n      <td>6077.0</td>\n      <td>2021-04-16</td>\n      <td>67444.0</td>\n      <td>3.399379</td>\n      <td>29.676661</td>\n      <td>26.996648</td>\n      <td>1287.0</td>\n      <td>976.463291</td>\n      <td>14.0</td>\n      <td>2021-04-17</td>\n      <td>...</td>\n      <td>1287.0</td>\n      <td>976.463291</td>\n      <td>2021-04-18</td>\n      <td>67591.0</td>\n      <td>3.399379</td>\n      <td>29.676661</td>\n      <td>26.996648</td>\n      <td>1288.0</td>\n      <td>976.463291</td>\n      <td>67631.0</td>\n    </tr>\n    <tr>\n      <th>15.0</th>\n      <td>6111.0</td>\n      <td>2021-04-16</td>\n      <td>75176.0</td>\n      <td>3.155609</td>\n      <td>24.518056</td>\n      <td>31.666872</td>\n      <td>1007.0</td>\n      <td>1148.081967</td>\n      <td>15.0</td>\n      <td>2021-04-17</td>\n      <td>...</td>\n      <td>1009.0</td>\n      <td>1148.081967</td>\n      <td>2021-04-18</td>\n      <td>75220.0</td>\n      <td>3.155609</td>\n      <td>24.518056</td>\n      <td>31.666872</td>\n      <td>1009.0</td>\n      <td>1148.081967</td>\n      <td>75240.0</td>\n    </tr>\n    <tr>\n      <th>16.0</th>\n      <td>6001.0</td>\n      <td>2021-04-16</td>\n      <td>81260.0</td>\n      <td>1.316394</td>\n      <td>25.733473</td>\n      <td>11.715662</td>\n      <td>1256.0</td>\n      <td>1135.604427</td>\n      <td>16.0</td>\n      <td>2021-04-17</td>\n      <td>...</td>\n      <td>1256.0</td>\n      <td>1135.604427</td>\n      <td>2021-04-18</td>\n      <td>81446.0</td>\n      <td>1.316394</td>\n      <td>25.733473</td>\n      <td>11.715662</td>\n      <td>1256.0</td>\n      <td>1135.604427</td>\n      <td>81519.0</td>\n    </tr>\n    <tr>\n      <th>17.0</th>\n      <td>6029.0</td>\n      <td>2021-04-16</td>\n      <td>89751.0</td>\n      <td>5.211112</td>\n      <td>18.746682</td>\n      <td>21.744568</td>\n      <td>1302.0</td>\n      <td>931.257778</td>\n      <td>17.0</td>\n      <td>2021-04-17</td>\n      <td>...</td>\n      <td>1307.0</td>\n      <td>931.257778</td>\n      <td>2021-04-18</td>\n      <td>89810.0</td>\n      <td>5.211112</td>\n      <td>18.746682</td>\n      <td>21.744568</td>\n      <td>1307.0</td>\n      <td>931.257778</td>\n      <td>89828.0</td>\n    </tr>\n    <tr>\n      <th>18.0</th>\n      <td>6019.0</td>\n      <td>2021-04-16</td>\n      <td>93890.0</td>\n      <td>2.965693</td>\n      <td>25.956755</td>\n      <td>28.102697</td>\n      <td>1617.0</td>\n      <td>1010.945392</td>\n      <td>18.0</td>\n      <td>2021-04-17</td>\n      <td>...</td>\n      <td>1620.0</td>\n      <td>989.123077</td>\n      <td>2021-04-18</td>\n      <td>93998.0</td>\n      <td>2.965693</td>\n      <td>25.956755</td>\n      <td>28.102697</td>\n      <td>1620.0</td>\n      <td>989.123077</td>\n      <td>94029.0</td>\n    </tr>\n    <tr>\n      <th>19.0</th>\n      <td>6067.0</td>\n      <td>2021-04-16</td>\n      <td>98261.0</td>\n      <td>2.333134</td>\n      <td>19.116933</td>\n      <td>13.915985</td>\n      <td>1579.0</td>\n      <td>1110.575192</td>\n      <td>19.0</td>\n      <td>2021-04-17</td>\n      <td>...</td>\n      <td>1579.0</td>\n      <td>1110.575192</td>\n      <td>2021-04-18</td>\n      <td>98487.0</td>\n      <td>2.333134</td>\n      <td>19.116933</td>\n      <td>13.915985</td>\n      <td>1579.0</td>\n      <td>1110.575192</td>\n      <td>98598.0</td>\n    </tr>\n    <tr>\n      <th>20.0</th>\n      <td>6085.0</td>\n      <td>2021-04-16</td>\n      <td>108891.0</td>\n      <td>3.349106</td>\n      <td>36.344312</td>\n      <td>12.118089</td>\n      <td>2010.0</td>\n      <td>1220.737873</td>\n      <td>20.0</td>\n      <td>2021-04-17</td>\n      <td>...</td>\n      <td>2013.0</td>\n      <td>1220.737873</td>\n      <td>2021-04-18</td>\n      <td>109097.0</td>\n      <td>3.349106</td>\n      <td>36.344312</td>\n      <td>12.118089</td>\n      <td>2013.0</td>\n      <td>1220.737873</td>\n      <td>109188.0</td>\n    </tr>\n    <tr>\n      <th>21.0</th>\n      <td>6059.0</td>\n      <td>2021-04-16</td>\n      <td>235432.0</td>\n      <td>3.809180</td>\n      <td>34.142713</td>\n      <td>20.848918</td>\n      <td>4886.0</td>\n      <td>1225.764415</td>\n      <td>21.0</td>\n      <td>2021-04-17</td>\n      <td>...</td>\n      <td>4891.0</td>\n      <td>1225.764415</td>\n      <td>2021-04-18</td>\n      <td>235590.0</td>\n      <td>3.809180</td>\n      <td>34.142713</td>\n      <td>20.848918</td>\n      <td>4896.0</td>\n      <td>1225.764415</td>\n      <td>235659.0</td>\n    </tr>\n    <tr>\n      <th>22.0</th>\n      <td>6073.0</td>\n      <td>2021-04-16</td>\n      <td>254270.0</td>\n      <td>2.671636</td>\n      <td>16.317834</td>\n      <td>13.903611</td>\n      <td>3662.0</td>\n      <td>1141.494983</td>\n      <td>22.0</td>\n      <td>2021-04-17</td>\n      <td>...</td>\n      <td>3674.0</td>\n      <td>1141.494983</td>\n      <td>2021-04-18</td>\n      <td>254670.0</td>\n      <td>2.671636</td>\n      <td>16.317834</td>\n      <td>13.903611</td>\n      <td>3674.0</td>\n      <td>1141.494983</td>\n      <td>254817.0</td>\n    </tr>\n    <tr>\n      <th>23.0</th>\n      <td>6065.0</td>\n      <td>2021-04-16</td>\n      <td>270131.0</td>\n      <td>3.475641</td>\n      <td>21.975147</td>\n      <td>27.750370</td>\n      <td>4385.0</td>\n      <td>1134.359649</td>\n      <td>23.0</td>\n      <td>2021-04-17</td>\n      <td>...</td>\n      <td>4387.0</td>\n      <td>1134.359649</td>\n      <td>2021-04-18</td>\n      <td>270307.0</td>\n      <td>3.475641</td>\n      <td>21.975147</td>\n      <td>27.750370</td>\n      <td>4387.0</td>\n      <td>1134.359649</td>\n      <td>270376.0</td>\n    </tr>\n    <tr>\n      <th>24.0</th>\n      <td>6071.0</td>\n      <td>2021-04-16</td>\n      <td>270538.0</td>\n      <td>4.706216</td>\n      <td>42.906841</td>\n      <td>24.476889</td>\n      <td>4540.0</td>\n      <td>1106.374312</td>\n      <td>24.0</td>\n      <td>2021-04-17</td>\n      <td>...</td>\n      <td>4545.0</td>\n      <td>1106.374312</td>\n      <td>2021-04-18</td>\n      <td>270674.0</td>\n      <td>4.706216</td>\n      <td>42.906841</td>\n      <td>24.476889</td>\n      <td>4546.0</td>\n      <td>1106.374312</td>\n      <td>270726.0</td>\n    </tr>\n    <tr>\n      <th>25.0</th>\n      <td>6037.0</td>\n      <td>2021-04-16</td>\n      <td>1105288.0</td>\n      <td>2.988946</td>\n      <td>47.183520</td>\n      <td>25.148489</td>\n      <td>23583.0</td>\n      <td>1130.256955</td>\n      <td>25.0</td>\n      <td>2021-04-17</td>\n      <td>...</td>\n      <td>23610.0</td>\n      <td>1130.256955</td>\n      <td>2021-04-18</td>\n      <td>1105979.0</td>\n      <td>2.988946</td>\n      <td>47.183520</td>\n      <td>25.148489</td>\n      <td>23635.0</td>\n      <td>1130.256955</td>\n      <td>1106233.0</td>\n    </tr>\n  </tbody>\n</table>\n<p>25 rows × 24 columns</p>\n</div>"
     },
     "metadata": {}
    }
   ],
   "execution_count": null
  },
  {
   "cell_type": "code",
   "source": "imputed_clean_good_full_df.to_csv('imputed_clean_good_full_df_GoogleDropped_3timesteps.csv')",
   "metadata": {
    "tags": [],
    "cell_id": "00039-5f98c119-e06c-466b-ac28-b3e2ae43efd5",
    "deepnote_to_be_reexecuted": false,
    "source_hash": "3a5f56dc",
    "execution_start": 1638733646874,
    "execution_millis": 596,
    "deepnote_cell_type": "code"
   },
   "outputs": [],
   "execution_count": null
  },
  {
   "cell_type": "code",
   "source": "sorted_impute_join = impute_df.reset_index(drop=True)\nt_plus_1_impute = sorted_impute_join.iloc[4:,[0,1,2]].reset_index(drop=True)\nt_nothing_impute = sorted_impute_join.iloc[3:8970,:].reset_index(drop=True)\nt_minus_1_impute = sorted_impute_join.iloc[2:8969,:].reset_index(drop=True)\nt_minus_2_impute = sorted_impute_join.iloc[1:8968,:].reset_index(drop=True)\nt_minus_3_impute = sorted_impute_join.iloc[0:8967,:].reset_index(drop=True)\n\n\nt_minus_1_labels = {'geo_value':'geo_value_t_minus_1','time_value':'time_value_t_minus_1',\n 'covid_cases' : 'covid_cases_t_minus_1',\n 'confirmed_covid_visit': 'confirmed_covid_vist_t_minus_1',\n 'doctor_visits': 'doctor_visits_t_minus_1',\n 'hospital_admissions':'hospital_admissions_t_minus_1',\n 'google_anosmia_volume' : 'google_anosmia_volume_t_minus_1',\n 'google_ageusia_volume':'google_ageusia_volume_t_minus_1',\n 'covid_deaths':'covid_deaths_t_minus_1','home_time':'home_time_t_minus_1'}\nt_minus_2_labels = {'geo_value':'geo_value_t_minus_2','time_value':'time_value_t_minus_2',\n 'covid_cases' : 'covid_cases_t_minus_2',\n 'confirmed_covid_visit': 'confirmed_covid_vist_t_minus_2',\n 'doctor_visits': 'doctor_visits_t_minus_2',\n 'hospital_admissions':'hospital_admissions_t_minus_2',\n 'google_anosmia_volume' : 'google_anosmia_volume_t_minus_2',\n 'google_ageusia_volume':'google_ageusia_volume_t_minus_2',\n 'covid_deaths':'covid_deaths_t_minus_2','home_time':'home_time_t_minus_2'}\nt_minus_3_labels = {'geo_value':'geo_value_t_minus_3','time_value':'time_value_t_minus_3',\n 'covid_cases' : 'covid_cases_t_minus_3',\n 'confirmed_covid_visit': 'confirmed_covid_vist_t_minus_3',\n 'doctor_visits': 'doctor_visits_t_minus_3',\n 'hospital_admissions':'hospital_admissions_t_minus_3',\n 'google_anosmia_volume' : 'google_anosmia_volume_t_minus_3',\n 'google_ageusia_volume':'google_ageusia_volume_t_minus_3',\n 'covid_deaths':'covid_deaths_t_minus_3','home_time':'home_time_t_minus_3'}\nt_minus_1_fixed_impute = t_minus_1_impute.rename(t_minus_1_labels,axis=1)\nt_minus_2_fixed_impute = t_minus_2_impute.rename(t_minus_2_labels,axis=1)\nt_minus_3_fixed_impute = t_minus_3_impute.rename(t_minus_3_labels,axis=1)\nt_plus_1_label = {'covid_cases':'covid_cases_t_plus_one','geo_value':'geo_value_t_plus_1',\n'time_value':'time_value_t_plus_1'}\n\nt_plus_1_fixed_impute = t_plus_1_impute.rename(t_plus_1_label,axis=1)\n\nfull_df_impute =  t_minus_3_fixed_impute.join([t_minus_2_fixed_impute,t_minus_1_fixed_impute, t_nothing_impute,t_plus_1_fixed_impute])\n\nimport numpy as np\nimport datetime\nfrom datetime import timedelta\n\nimputed_good_data = np.array([])\nfor index in np.arange(full_df_impute.shape[0]):\n    if full_df_impute.iloc[index,:]['geo_value'] == full_df_impute.iloc[index,:]['geo_value_t_minus_1'] == full_df_impute.iloc[index,:]['geo_value_t_plus_1'] == full_df_impute.iloc[index,:]['geo_value_t_minus_2'] == full_df_impute.iloc[index,:]['geo_value_t_minus_3']:\n        if full_df_impute.iloc[index,:]['time_value_t_minus_2'] == full_df_impute.iloc[index,:]['time_value_t_minus_3'] + datetime.timedelta(days=1):\n            if full_df_impute.iloc[index,:]['time_value_t_minus_1'] == full_df_impute.iloc[index,:]['time_value_t_minus_2'] + datetime.timedelta(days=1):\n                if full_df_impute.iloc[index,:]['time_value'] == full_df_impute.iloc[index,:]['time_value_t_minus_1'] + datetime.timedelta(days=1):\n                    if full_df_impute.iloc[index,:]['time_value']+ datetime.timedelta(days=1) == full_df_impute.iloc[index,:]['time_value_t_plus_1']:\n                        imputed_good_data= np.append(imputed_good_data , index)\n\nimputed_good_full_df = full_df_impute.iloc[imputed_good_data,:]\n\nimputed_clean_good_full_df = imputed_good_full_df.drop(columns = ['geo_value_t_plus_1','time_value_t_plus_1'])\n\nind = (imputed_clean_good_full_df['geo_value'] != '06113') & (imputed_clean_good_full_df['geo_value'] !='06015') & (imputed_clean_good_full_df['geo_value'] !='06021') &  (imputed_clean_good_full_df['geo_value'] !='06087') & (imputed_clean_good_full_df['geo_value'] !='06039') & (imputed_clean_good_full_df['geo_value'] !='06061') & (imputed_clean_good_full_df['geo_value'] !='06077') & (imputed_clean_good_full_df['geo_value'] != '06069') & (imputed_clean_good_full_df['geo_value'] != '06007') & (imputed_clean_good_full_df['geo_value'] != '06031') & (imputed_clean_good_full_df['geo_value'] != '06017')\nimputed_clean_good_full_df = imputed_clean_good_full_df[ind]\nordered_geos = imputed_clean_good_full_df.groupby('geo_value').max().sort_values(by = 'covid_cases').reset_index()['geo_value'].to_numpy()\nordered_geos_labels = dict(zip(ordered_geos, np.arange(1,25)))\nimputed_clean_good_full_df['geo_value'] = imputed_clean_good_full_df['geo_value'].replace(ordered_geos_labels)\nimputed_clean_good_full_df['geo_value_t_minus_1'] = imputed_clean_good_full_df['geo_value_t_minus_1'].replace(ordered_geos_labels)\nimputed_clean_good_full_df['geo_value_t_minus_2'] = imputed_clean_good_full_df['geo_value_t_minus_2'].replace(ordered_geos_labels)\nimputed_clean_good_full_df['geo_value_t_minus_3'] = imputed_clean_good_full_df['geo_value_t_minus_3'].replace(ordered_geos_labels)\nprint(imputed_clean_good_full_df.shape)",
   "metadata": {
    "tags": [],
    "cell_id": "00041-cc3081ac-c3b8-4ca9-b65e-a5bd4f0ca12e",
    "deepnote_to_be_reexecuted": false,
    "source_hash": "38176e14",
    "execution_start": 1638653571631,
    "execution_millis": 488888,
    "deepnote_cell_type": "code"
   },
   "outputs": [
    {
     "name": "stdout",
     "text": "(8580, 33)\n",
     "output_type": "stream"
    },
    {
     "name": "stdout",
     "text": "(8579, 33)\n",
     "output_type": "stream"
    }
   ],
   "execution_count": null
  },
  {
   "cell_type": "code",
   "source": "#imputed_clean_good_full_df.to_csv('imputed_clean_good_full_df_GoogleDropped_4timesteps.csv')",
   "metadata": {
    "tags": [],
    "cell_id": "00042-775682c2-2b96-4b05-9bac-69c370b92eb3",
    "deepnote_to_be_reexecuted": false,
    "source_hash": "afbc2519",
    "execution_start": 1638654060519,
    "execution_millis": 42,
    "deepnote_cell_type": "code"
   },
   "outputs": [],
   "execution_count": null
  },
  {
   "cell_type": "code",
   "source": "sorted_impute_join = impute_df.reset_index(drop=True)\nt_plus_1_impute = sorted_impute_join.iloc[5:,[0,1,2]].reset_index(drop=True)\nt_nothing_impute = sorted_impute_join.iloc[4:8970,:].reset_index(drop=True)\nt_minus_1_impute = sorted_impute_join.iloc[3:8969,:].reset_index(drop=True)\nt_minus_2_impute = sorted_impute_join.iloc[2:8968,:].reset_index(drop=True)\nt_minus_3_impute = sorted_impute_join.iloc[1:8967,:].reset_index(drop=True)\nt_minus_4_impute = sorted_impute_join.iloc[0:8966,:].reset_index(drop=True)\n\n\nt_minus_1_labels = {'geo_value':'geo_value_t_minus_1','time_value':'time_value_t_minus_1',\n 'covid_cases' : 'covid_cases_t_minus_1',\n 'confirmed_covid_visit': 'confirmed_covid_vist_t_minus_1',\n 'doctor_visits': 'doctor_visits_t_minus_1',\n 'hospital_admissions':'hospital_admissions_t_minus_1',\n 'google_anosmia_volume' : 'google_anosmia_volume_t_minus_1',\n 'google_ageusia_volume':'google_ageusia_volume_t_minus_1',\n 'covid_deaths':'covid_deaths_t_minus_1','home_time':'home_time_t_minus_1'}\nt_minus_2_labels = {'geo_value':'geo_value_t_minus_2','time_value':'time_value_t_minus_2',\n 'covid_cases' : 'covid_cases_t_minus_2',\n 'confirmed_covid_visit': 'confirmed_covid_vist_t_minus_2',\n 'doctor_visits': 'doctor_visits_t_minus_2',\n 'hospital_admissions':'hospital_admissions_t_minus_2',\n 'google_anosmia_volume' : 'google_anosmia_volume_t_minus_2',\n 'google_ageusia_volume':'google_ageusia_volume_t_minus_2',\n 'covid_deaths':'covid_deaths_t_minus_2','home_time':'home_time_t_minus_2'}\nt_minus_3_labels = {'geo_value':'geo_value_t_minus_3','time_value':'time_value_t_minus_3',\n 'covid_cases' : 'covid_cases_t_minus_3',\n 'confirmed_covid_visit': 'confirmed_covid_vist_t_minus_3',\n 'doctor_visits': 'doctor_visits_t_minus_3',\n 'hospital_admissions':'hospital_admissions_t_minus_3',\n 'google_anosmia_volume' : 'google_anosmia_volume_t_minus_3',\n 'google_ageusia_volume':'google_ageusia_volume_t_minus_3',\n 'covid_deaths':'covid_deaths_t_minus_3','home_time':'home_time_t_minus_3'}\nt_minus_4_labels = {'geo_value':'geo_value_t_minus_4','time_value':'time_value_t_minus_4',\n 'covid_cases' : 'covid_cases_t_minus_4',\n 'confirmed_covid_visit': 'confirmed_covid_vist_t_minus_4',\n 'doctor_visits': 'doctor_visits_t_minus_4',\n 'hospital_admissions':'hospital_admissions_t_minus_4',\n 'google_anosmia_volume' : 'google_anosmia_volume_t_minus_4',\n 'google_ageusia_volume':'google_ageusia_volume_t_minus_4',\n 'covid_deaths':'covid_deaths_t_minus_4','home_time':'home_time_t_minus_4'}\nt_minus_1_fixed_impute = t_minus_1_impute.rename(t_minus_1_labels,axis=1)\nt_minus_2_fixed_impute = t_minus_2_impute.rename(t_minus_2_labels,axis=1)\nt_minus_3_fixed_impute = t_minus_3_impute.rename(t_minus_3_labels,axis=1)\nt_minus_4_fixed_impute = t_minus_4_impute.rename(t_minus_4_labels,axis=1)\nt_plus_1_label = {'covid_cases':'covid_cases_t_plus_one','geo_value':'geo_value_t_plus_1',\n'time_value':'time_value_t_plus_1'}\n\nt_plus_1_fixed_impute = t_plus_1_impute.rename(t_plus_1_label,axis=1)\n\nfull_df_impute =  t_minus_4_fixed_impute.join([t_minus_3_fixed_impute,t_minus_2_fixed_impute,t_minus_1_fixed_impute, t_nothing_impute,t_plus_1_fixed_impute])\n\nimport numpy as np\nimport datetime\nfrom datetime import timedelta\n\nimputed_good_data = np.array([])\nfor index in np.arange(full_df_impute.shape[0]):\n    if full_df_impute.iloc[index,:]['geo_value'] == full_df_impute.iloc[index,:]['geo_value_t_minus_1'] == full_df_impute.iloc[index,:]['geo_value_t_plus_1'] == full_df_impute.iloc[index,:]['geo_value_t_minus_2'] == full_df_impute.iloc[index,:]['geo_value_t_minus_3'] == full_df_impute.iloc[index,:]['geo_value_t_minus_4']:\n        if full_df_impute.iloc[index,:]['time_value_t_minus_3'] == full_df_impute.iloc[index,:]['time_value_t_minus_4'] + datetime.timedelta(days=1):\n            if full_df_impute.iloc[index,:]['time_value_t_minus_2'] == full_df_impute.iloc[index,:]['time_value_t_minus_3'] + datetime.timedelta(days=1):\n                if full_df_impute.iloc[index,:]['time_value_t_minus_1'] == full_df_impute.iloc[index,:]['time_value_t_minus_2'] + datetime.timedelta(days=1):\n                    if full_df_impute.iloc[index,:]['time_value'] == full_df_impute.iloc[index,:]['time_value_t_minus_1'] + datetime.timedelta(days=1):\n                        if full_df_impute.iloc[index,:]['time_value']+ datetime.timedelta(days=1) == full_df_impute.iloc[index,:]['time_value_t_plus_1']:\n                            imputed_good_data= np.append(imputed_good_data , index)\n\nimputed_good_full_df = full_df_impute.iloc[imputed_good_data,:]\n\nimputed_clean_good_full_df = imputed_good_full_df.drop(columns = ['geo_value_t_plus_1','time_value_t_plus_1'])\n\nind = (imputed_clean_good_full_df['geo_value'] != '06113') & (imputed_clean_good_full_df['geo_value'] !='06015') & (imputed_clean_good_full_df['geo_value'] !='06021') &  (imputed_clean_good_full_df['geo_value'] !='06087') & (imputed_clean_good_full_df['geo_value'] !='06039') & (imputed_clean_good_full_df['geo_value'] !='06061') & (imputed_clean_good_full_df['geo_value'] !='06077') & (imputed_clean_good_full_df['geo_value'] != '06069') & (imputed_clean_good_full_df['geo_value'] != '06007') & (imputed_clean_good_full_df['geo_value'] != '06031') & (imputed_clean_good_full_df['geo_value'] != '06017')\nimputed_clean_good_full_df = imputed_clean_good_full_df[ind]\nordered_geos = imputed_clean_good_full_df.groupby('geo_value').max().sort_values(by = 'covid_cases').reset_index()['geo_value'].to_numpy()\nordered_geos_labels = dict(zip(ordered_geos, np.arange(1,25)))\nimputed_clean_good_full_df['geo_value'] = imputed_clean_good_full_df['geo_value'].replace(ordered_geos_labels)\nimputed_clean_good_full_df['geo_value_t_minus_1'] = imputed_clean_good_full_df['geo_value_t_minus_1'].replace(ordered_geos_labels)\nimputed_clean_good_full_df['geo_value_t_minus_2'] = imputed_clean_good_full_df['geo_value_t_minus_2'].replace(ordered_geos_labels)\nimputed_clean_good_full_df['geo_value_t_minus_3'] = imputed_clean_good_full_df['geo_value_t_minus_3'].replace(ordered_geos_labels)\nimputed_clean_good_full_df['geo_value_t_minus_4'] = imputed_clean_good_full_df['geo_value_t_minus_4'].replace(ordered_geos_labels)\nprint(imputed_clean_good_full_df.shape)",
   "metadata": {
    "tags": [],
    "cell_id": "00043-5b1e1618-e755-42d6-83a0-ef4cd28f3fc7",
    "deepnote_to_be_reexecuted": false,
    "source_hash": "35b799c7",
    "execution_start": 1638654060603,
    "execution_millis": 700834,
    "deepnote_cell_type": "code"
   },
   "outputs": [
    {
     "name": "stdout",
     "text": "(8490, 41)\n",
     "output_type": "stream"
    },
    {
     "name": "stdout",
     "text": "(8490, 41)\n",
     "output_type": "stream"
    }
   ],
   "execution_count": null
  },
  {
   "cell_type": "code",
   "source": "#imputed_clean_good_full_df.to_csv('imputed_clean_good_full_df_GoogleDropped_5timesteps.csv')",
   "metadata": {
    "tags": [],
    "cell_id": "00044-e589e130-d120-466e-928b-ea2a26af49d9",
    "deepnote_to_be_reexecuted": false,
    "source_hash": "89df9486",
    "execution_start": 1638654761436,
    "execution_millis": 43,
    "deepnote_cell_type": "code"
   },
   "outputs": [],
   "execution_count": null
  },
  {
   "cell_type": "code",
   "source": "sorted_impute_join = impute_df.reset_index(drop=True)\nt_plus_1_impute = sorted_impute_join.iloc[6:,[0,1,2]].reset_index(drop=True)\nt_nothing_impute = sorted_impute_join.iloc[5:8970,:].reset_index(drop=True)\nt_minus_1_impute = sorted_impute_join.iloc[4:8969,:].reset_index(drop=True)\nt_minus_2_impute = sorted_impute_join.iloc[3:8968,:].reset_index(drop=True)\nt_minus_3_impute = sorted_impute_join.iloc[2:8967,:].reset_index(drop=True)\nt_minus_4_impute = sorted_impute_join.iloc[1:8966,:].reset_index(drop=True)\nt_minus_5_impute = sorted_impute_join.iloc[0:8965,:].reset_index(drop=True)\n\n\nt_minus_1_labels = {'geo_value':'geo_value_t_minus_1','time_value':'time_value_t_minus_1',\n 'covid_cases' : 'covid_cases_t_minus_1',\n 'confirmed_covid_visit': 'confirmed_covid_vist_t_minus_1',\n 'doctor_visits': 'doctor_visits_t_minus_1',\n 'hospital_admissions':'hospital_admissions_t_minus_1',\n 'google_anosmia_volume' : 'google_anosmia_volume_t_minus_1',\n 'google_ageusia_volume':'google_ageusia_volume_t_minus_1',\n 'covid_deaths':'covid_deaths_t_minus_1','home_time':'home_time_t_minus_1'}\nt_minus_2_labels = {'geo_value':'geo_value_t_minus_2','time_value':'time_value_t_minus_2',\n 'covid_cases' : 'covid_cases_t_minus_2',\n 'confirmed_covid_visit': 'confirmed_covid_vist_t_minus_2',\n 'doctor_visits': 'doctor_visits_t_minus_2',\n 'hospital_admissions':'hospital_admissions_t_minus_2',\n 'google_anosmia_volume' : 'google_anosmia_volume_t_minus_2',\n 'google_ageusia_volume':'google_ageusia_volume_t_minus_2',\n 'covid_deaths':'covid_deaths_t_minus_2','home_time':'home_time_t_minus_2'}\nt_minus_3_labels = {'geo_value':'geo_value_t_minus_3','time_value':'time_value_t_minus_3',\n 'covid_cases' : 'covid_cases_t_minus_3',\n 'confirmed_covid_visit': 'confirmed_covid_vist_t_minus_3',\n 'doctor_visits': 'doctor_visits_t_minus_3',\n 'hospital_admissions':'hospital_admissions_t_minus_3',\n 'google_anosmia_volume' : 'google_anosmia_volume_t_minus_3',\n 'google_ageusia_volume':'google_ageusia_volume_t_minus_3',\n 'covid_deaths':'covid_deaths_t_minus_3','home_time':'home_time_t_minus_3'}\nt_minus_4_labels = {'geo_value':'geo_value_t_minus_4','time_value':'time_value_t_minus_4',\n 'covid_cases' : 'covid_cases_t_minus_4',\n 'confirmed_covid_visit': 'confirmed_covid_vist_t_minus_4',\n 'doctor_visits': 'doctor_visits_t_minus_4',\n 'hospital_admissions':'hospital_admissions_t_minus_4',\n 'google_anosmia_volume' : 'google_anosmia_volume_t_minus_4',\n 'google_ageusia_volume':'google_ageusia_volume_t_minus_4',\n 'covid_deaths':'covid_deaths_t_minus_4','home_time':'home_time_t_minus_4'}\nt_minus_5_labels = {'geo_value':'geo_value_t_minus_5','time_value':'time_value_t_minus_5',\n 'covid_cases' : 'covid_cases_t_minus_5',\n 'confirmed_covid_visit': 'confirmed_covid_vist_t_minus_5',\n 'doctor_visits': 'doctor_visits_t_minus_5',\n 'hospital_admissions':'hospital_admissions_t_minus_5',\n 'google_anosmia_volume' : 'google_anosmia_volume_t_minus_5',\n 'google_ageusia_volume':'google_ageusia_volume_t_minus_5',\n 'covid_deaths':'covid_deaths_t_minus_5','home_time':'home_time_t_minus_5'}\nt_minus_1_fixed_impute = t_minus_1_impute.rename(t_minus_1_labels,axis=1)\nt_minus_2_fixed_impute = t_minus_2_impute.rename(t_minus_2_labels,axis=1)\nt_minus_3_fixed_impute = t_minus_3_impute.rename(t_minus_3_labels,axis=1)\nt_minus_4_fixed_impute = t_minus_4_impute.rename(t_minus_4_labels,axis=1)\nt_minus_5_fixed_impute = t_minus_5_impute.rename(t_minus_5_labels,axis=1)\nt_plus_1_label = {'covid_cases':'covid_cases_t_plus_one','geo_value':'geo_value_t_plus_1',\n'time_value':'time_value_t_plus_1'}\n\nt_plus_1_fixed_impute = t_plus_1_impute.rename(t_plus_1_label,axis=1)\n\nfull_df_impute =  t_minus_5_fixed_impute.join([t_minus_4_fixed_impute, t_minus_3_fixed_impute,t_minus_2_fixed_impute,t_minus_1_fixed_impute, t_nothing_impute,t_plus_1_fixed_impute])\n\nimport numpy as np\nimport datetime\nfrom datetime import timedelta\n\nimputed_good_data = np.array([])\nfor index in np.arange(full_df_impute.shape[0]):\n    if full_df_impute.iloc[index,:]['geo_value'] == full_df_impute.iloc[index,:]['geo_value_t_minus_1'] == full_df_impute.iloc[index,:]['geo_value_t_plus_1'] == full_df_impute.iloc[index,:]['geo_value_t_minus_2'] == full_df_impute.iloc[index,:]['geo_value_t_minus_3'] == full_df_impute.iloc[index,:]['geo_value_t_minus_4'] == full_df_impute.iloc[index,:]['geo_value_t_minus_5']:\n        if full_df_impute.iloc[index,:]['time_value_t_minus_4'] == full_df_impute.iloc[index,:]['time_value_t_minus_5'] + datetime.timedelta(days=1):\n            if full_df_impute.iloc[index,:]['time_value_t_minus_3'] == full_df_impute.iloc[index,:]['time_value_t_minus_4'] + datetime.timedelta(days=1):\n                if full_df_impute.iloc[index,:]['time_value_t_minus_2'] == full_df_impute.iloc[index,:]['time_value_t_minus_3'] + datetime.timedelta(days=1):\n                    if full_df_impute.iloc[index,:]['time_value_t_minus_1'] == full_df_impute.iloc[index,:]['time_value_t_minus_2'] + datetime.timedelta(days=1):\n                        if full_df_impute.iloc[index,:]['time_value'] == full_df_impute.iloc[index,:]['time_value_t_minus_1'] + datetime.timedelta(days=1):\n                            if full_df_impute.iloc[index,:]['time_value']+ datetime.timedelta(days=1) == full_df_impute.iloc[index,:]['time_value_t_plus_1']:\n                                imputed_good_data= np.append(imputed_good_data , index)\n\nimputed_good_full_df = full_df_impute.iloc[imputed_good_data,:]\n\nimputed_clean_good_full_df = imputed_good_full_df.drop(columns = ['geo_value_t_plus_1','time_value_t_plus_1'])\n\n#ind = (imputed_clean_good_full_df['geo_value'] != 6031) &(imputed_clean_good_full_df['geo_value'] != 6017) &(imputed_clean_good_full_df['geo_value'] != 6087) & (imputed_clean_good_full_df['geo_value'] != 6007) & (imputed_clean_good_full_df['geo_value'] != 6113) & (imputed_clean_good_full_df['geo_value'] !=6015) & (imputed_clean_good_full_df['geo_value'] !=6021) &  (imputed_clean_good_full_df['geo_value'] !=6087) & (imputed_clean_good_full_df['geo_value'] !=6039) & (imputed_clean_good_full_df['geo_value'] !=6061) & (imputed_clean_good_full_df['geo_value'] !=6077) & (imputed_clean_good_full_df['geo_value'] != 6069) & (imputed_clean_good_full_df['geo_value'] != 6007) & (imputed_clean_good_full_df['geo_value'] != 6031) & (imputed_clean_good_full_df['geo_value'] != 6017)\nind = (imputed_clean_good_full_df['geo_value'] != 6031) &(imputed_clean_good_full_df['geo_value'] != 6017) &(imputed_clean_good_full_df['geo_value'] != 6087) & (imputed_clean_good_full_df['geo_value'] != 6007)\nimputed_clean_good_full_df = imputed_clean_good_full_df[ind]\nordered_geos = imputed_clean_good_full_df.groupby('geo_value').max().sort_values(by = 'covid_cases').reset_index()['geo_value'].to_numpy()\nordered_geos_labels = dict(zip(ordered_geos, np.arange(1,26)))\nimputed_clean_good_full_df['geo_value'] = imputed_clean_good_full_df['geo_value'].replace(ordered_geos_labels)\nimputed_clean_good_full_df['geo_value_t_minus_1'] = imputed_clean_good_full_df['geo_value_t_minus_1'].replace(ordered_geos_labels)\nimputed_clean_good_full_df['geo_value_t_minus_2'] = imputed_clean_good_full_df['geo_value_t_minus_2'].replace(ordered_geos_labels)\nimputed_clean_good_full_df['geo_value_t_minus_3'] = imputed_clean_good_full_df['geo_value_t_minus_3'].replace(ordered_geos_labels)\nimputed_clean_good_full_df['geo_value_t_minus_4'] = imputed_clean_good_full_df['geo_value_t_minus_4'].replace(ordered_geos_labels)\nimputed_clean_good_full_df['geo_value_t_minus_5'] = imputed_clean_good_full_df['geo_value_t_minus_5'].replace(ordered_geos_labels)\nprint(imputed_clean_good_full_df.shape)",
   "metadata": {
    "tags": [],
    "cell_id": "00045-80895fdd-2012-487e-a293-239c721ce090",
    "deepnote_to_be_reexecuted": false,
    "source_hash": "714851a9",
    "execution_start": 1638671622849,
    "execution_millis": 552170,
    "deepnote_cell_type": "code"
   },
   "outputs": [
    {
     "name": "stdout",
     "text": "(8369, 49)\n",
     "output_type": "stream"
    }
   ],
   "execution_count": null
  },
  {
   "cell_type": "code",
   "source": "imputed_clean_good_full_df.sort_values(by = ['time_value'])",
   "metadata": {
    "tags": [],
    "cell_id": "00046-a27d6d4a-11a2-4876-9adb-6983e90ee002",
    "deepnote_to_be_reexecuted": false,
    "source_hash": "684601ee",
    "execution_start": 1638672340379,
    "execution_millis": 1632,
    "deepnote_cell_type": "code"
   },
   "outputs": [
    {
     "output_type": "execute_result",
     "execution_count": 83,
     "data": {
      "application/vnd.deepnote.dataframe.v2+json": {
       "row_count": 8369,
       "column_count": 49,
       "columns": [
        {
         "name": "geo_value_t_minus_5",
         "dtype": "float64",
         "stats": {
          "unique_count": 25,
          "nan_count": 0,
          "min": "1.0",
          "max": "25.0",
          "histogram": [
           {
            "bin_start": 1,
            "bin_end": 3.4,
            "count": 987
           },
           {
            "bin_start": 3.4,
            "bin_end": 5.8,
            "count": 440
           },
           {
            "bin_start": 5.8,
            "bin_end": 8.2,
            "count": 836
           },
           {
            "bin_start": 8.2,
            "bin_end": 10.6,
            "count": 471
           },
           {
            "bin_start": 10.6,
            "bin_end": 13,
            "count": 503
           },
           {
            "bin_start": 13,
            "bin_end": 15.399999999999999,
            "count": 1091
           },
           {
            "bin_start": 15.399999999999999,
            "bin_end": 17.8,
            "count": 755
           },
           {
            "bin_start": 17.8,
            "bin_end": 20.2,
            "count": 1191
           },
           {
            "bin_start": 20.2,
            "bin_end": 22.599999999999998,
            "count": 838
           },
           {
            "bin_start": 22.599999999999998,
            "bin_end": 25,
            "count": 1257
           }
          ]
         }
        },
        {
         "name": "time_value_t_minus_5",
         "dtype": "datetime64[ns]",
         "stats": {
          "unique_count": 419,
          "nan_count": 0,
          "min": "2020-02-20 00:00:00",
          "max": "2021-04-13 00:00:00",
          "histogram": [
           {
            "bin_start": 1582156800000000000,
            "bin_end": 1585768320000000000,
            "count": 534
           },
           {
            "bin_start": 1585768320000000000,
            "bin_end": 1589379840000000000,
            "count": 627
           },
           {
            "bin_start": 1589379840000000000,
            "bin_end": 1592991360000000000,
            "count": 932
           },
           {
            "bin_start": 1592991360000000000,
            "bin_end": 1596602880000000000,
            "count": 847
           },
           {
            "bin_start": 1596602880000000000,
            "bin_end": 1600214400000000000,
            "count": 822
           },
           {
            "bin_start": 1600214400000000000,
            "bin_end": 1603825920000000000,
            "count": 910
           },
           {
            "bin_start": 1603825920000000000,
            "bin_end": 1607437440000000000,
            "count": 918
           },
           {
            "bin_start": 1607437440000000000,
            "bin_end": 1611048960000000000,
            "count": 888
           },
           {
            "bin_start": 1611048960000000000,
            "bin_end": 1614660480000000000,
            "count": 963
           },
           {
            "bin_start": 1614660480000000000,
            "bin_end": 1618272000000000000,
            "count": 928
           }
          ]
         }
        },
        {
         "name": "covid_cases_t_minus_5",
         "dtype": "float64",
         "stats": {
          "unique_count": 6772,
          "nan_count": 0,
          "min": "0.0",
          "max": "1103948.0",
          "histogram": [
           {
            "bin_start": 0,
            "bin_end": 110394.8,
            "count": 7598
           },
           {
            "bin_start": 110394.8,
            "bin_end": 220789.6,
            "count": 196
           },
           {
            "bin_start": 220789.6,
            "bin_end": 331184.4,
            "count": 423
           },
           {
            "bin_start": 331184.4,
            "bin_end": 441579.2,
            "count": 23
           },
           {
            "bin_start": 441579.2,
            "bin_end": 551974,
            "count": 10
           },
           {
            "bin_start": 551974,
            "bin_end": 662368.8,
            "count": 7
           },
           {
            "bin_start": 662368.8,
            "bin_end": 772763.6,
            "count": 12
           },
           {
            "bin_start": 772763.6,
            "bin_end": 883158.4,
            "count": 7
           },
           {
            "bin_start": 883158.4,
            "bin_end": 993553.2000000001,
            "count": 12
           },
           {
            "bin_start": 993553.2000000001,
            "bin_end": 1103948,
            "count": 81
           }
          ]
         }
        },
        {
         "name": "confirmed_covid_vist_t_minus_5",
         "dtype": "float64",
         "stats": {
          "unique_count": 8344,
          "nan_count": 0,
          "min": "0.00192",
          "max": "6.565684",
          "histogram": [
           {
            "bin_start": 0.00192,
            "bin_end": 0.6582964,
            "count": 5677
           },
           {
            "bin_start": 0.6582964,
            "bin_end": 1.3146727999999999,
            "count": 1355
           },
           {
            "bin_start": 1.3146727999999999,
            "bin_end": 1.9710491999999997,
            "count": 665
           },
           {
            "bin_start": 1.9710491999999997,
            "bin_end": 2.6274256,
            "count": 412
           },
           {
            "bin_start": 2.6274256,
            "bin_end": 3.283802,
            "count": 154
           },
           {
            "bin_start": 3.283802,
            "bin_end": 3.9401783999999997,
            "count": 71
           },
           {
            "bin_start": 3.9401783999999997,
            "bin_end": 4.5965548,
            "count": 21
           },
           {
            "bin_start": 4.5965548,
            "bin_end": 5.2529312,
            "count": 11
           },
           {
            "bin_start": 5.2529312,
            "bin_end": 5.9093076,
            "count": 1
           },
           {
            "bin_start": 5.9093076,
            "bin_end": 6.565684,
            "count": 2
           }
          ]
         }
        },
        {
         "name": "doctor_visits_t_minus_5",
         "dtype": "float64",
         "stats": {
          "unique_count": 8193,
          "nan_count": 0,
          "min": "0.0",
          "max": "47.18352",
          "histogram": [
           {
            "bin_start": 0,
            "bin_end": 4.718352,
            "count": 3988
           },
           {
            "bin_start": 4.718352,
            "bin_end": 9.436704,
            "count": 2737
           },
           {
            "bin_start": 9.436704,
            "bin_end": 14.155056000000002,
            "count": 867
           },
           {
            "bin_start": 14.155056000000002,
            "bin_end": 18.873408,
            "count": 383
           },
           {
            "bin_start": 18.873408,
            "bin_end": 23.59176,
            "count": 205
           },
           {
            "bin_start": 23.59176,
            "bin_end": 28.310112000000004,
            "count": 106
           },
           {
            "bin_start": 28.310112000000004,
            "bin_end": 33.028464,
            "count": 44
           },
           {
            "bin_start": 33.028464,
            "bin_end": 37.746816,
            "count": 26
           },
           {
            "bin_start": 37.746816,
            "bin_end": 42.465168000000006,
            "count": 10
           },
           {
            "bin_start": 42.465168000000006,
            "bin_end": 47.18352,
            "count": 3
           }
          ]
         }
        },
        {
         "name": "hospital_admissions_t_minus_5",
         "dtype": "float64",
         "stats": {
          "unique_count": 8353,
          "nan_count": 0,
          "min": "0.077083",
          "max": "31.666872",
          "histogram": [
           {
            "bin_start": 0.077083,
            "bin_end": 3.2360619,
            "count": 4577
           },
           {
            "bin_start": 3.2360619,
            "bin_end": 6.3950408,
            "count": 1743
           },
           {
            "bin_start": 6.3950408,
            "bin_end": 9.5540197,
            "count": 927
           },
           {
            "bin_start": 9.5540197,
            "bin_end": 12.7129986,
            "count": 508
           },
           {
            "bin_start": 12.7129986,
            "bin_end": 15.871977500000002,
            "count": 255
           },
           {
            "bin_start": 15.871977500000002,
            "bin_end": 19.030956399999997,
            "count": 134
           },
           {
            "bin_start": 19.030956399999997,
            "bin_end": 22.1899353,
            "count": 103
           },
           {
            "bin_start": 22.1899353,
            "bin_end": 25.3489142,
            "count": 78
           },
           {
            "bin_start": 25.3489142,
            "bin_end": 28.5078931,
            "count": 30
           },
           {
            "bin_start": 28.5078931,
            "bin_end": 31.666872,
            "count": 14
           }
          ]
         }
        },
        {
         "name": "covid_deaths_t_minus_5",
         "dtype": "float64",
         "stats": {
          "unique_count": 2011,
          "nan_count": 0,
          "min": "0.0",
          "max": "23487.0",
          "histogram": [
           {
            "bin_start": 0,
            "bin_end": 2348.7,
            "count": 7725
           },
           {
            "bin_start": 2348.7,
            "bin_end": 4697.4,
            "count": 372
           },
           {
            "bin_start": 4697.4,
            "bin_end": 7046.099999999999,
            "count": 106
           },
           {
            "bin_start": 7046.099999999999,
            "bin_end": 9394.8,
            "count": 57
           },
           {
            "bin_start": 9394.8,
            "bin_end": 11743.5,
            "count": 13
           },
           {
            "bin_start": 11743.5,
            "bin_end": 14092.199999999999,
            "count": 11
           },
           {
            "bin_start": 14092.199999999999,
            "bin_end": 16440.899999999998,
            "count": 11
           },
           {
            "bin_start": 16440.899999999998,
            "bin_end": 18789.6,
            "count": 14
           },
           {
            "bin_start": 18789.6,
            "bin_end": 21138.3,
            "count": 13
           },
           {
            "bin_start": 21138.3,
            "bin_end": 23487,
            "count": 47
           }
          ]
         }
        },
        {
         "name": "home_time_t_minus_5",
         "dtype": "float64",
         "stats": {
          "unique_count": 8364,
          "nan_count": 0,
          "min": "280.80172413793105",
          "max": "1225.7644151565073",
          "histogram": [
           {
            "bin_start": 280.80172413793105,
            "bin_end": 375.29799323978864,
            "count": 14
           },
           {
            "bin_start": 375.29799323978864,
            "bin_end": 469.7942623416463,
            "count": 0
           },
           {
            "bin_start": 469.7942623416463,
            "bin_end": 564.2905314435039,
            "count": 69
           },
           {
            "bin_start": 564.2905314435039,
            "bin_end": 658.7868005453615,
            "count": 637
           },
           {
            "bin_start": 658.7868005453615,
            "bin_end": 753.2830696472191,
            "count": 2485
           },
           {
            "bin_start": 753.2830696472191,
            "bin_end": 847.7793387490768,
            "count": 3115
           },
           {
            "bin_start": 847.7793387490768,
            "bin_end": 942.2756078509344,
            "count": 1404
           },
           {
            "bin_start": 942.2756078509344,
            "bin_end": 1036.771876952792,
            "count": 419
           },
           {
            "bin_start": 1036.771876952792,
            "bin_end": 1131.2681460546496,
            "count": 179
           },
           {
            "bin_start": 1131.2681460546496,
            "bin_end": 1225.7644151565073,
            "count": 47
           }
          ]
         }
        },
        {
         "name": "geo_value_t_minus_4",
         "dtype": "float64",
         "stats": {
          "unique_count": 25,
          "nan_count": 0,
          "min": "1.0",
          "max": "25.0",
          "histogram": [
           {
            "bin_start": 1,
            "bin_end": 3.4,
            "count": 987
           },
           {
            "bin_start": 3.4,
            "bin_end": 5.8,
            "count": 440
           },
           {
            "bin_start": 5.8,
            "bin_end": 8.2,
            "count": 836
           },
           {
            "bin_start": 8.2,
            "bin_end": 10.6,
            "count": 471
           },
           {
            "bin_start": 10.6,
            "bin_end": 13,
            "count": 503
           },
           {
            "bin_start": 13,
            "bin_end": 15.399999999999999,
            "count": 1091
           },
           {
            "bin_start": 15.399999999999999,
            "bin_end": 17.8,
            "count": 755
           },
           {
            "bin_start": 17.8,
            "bin_end": 20.2,
            "count": 1191
           },
           {
            "bin_start": 20.2,
            "bin_end": 22.599999999999998,
            "count": 838
           },
           {
            "bin_start": 22.599999999999998,
            "bin_end": 25,
            "count": 1257
           }
          ]
         }
        },
        {
         "name": "time_value_t_minus_4",
         "dtype": "datetime64[ns]",
         "stats": {
          "unique_count": 419,
          "nan_count": 0,
          "min": "2020-02-21 00:00:00",
          "max": "2021-04-14 00:00:00",
          "histogram": [
           {
            "bin_start": 1582243200000000000,
            "bin_end": 1585854720000000000,
            "count": 534
           },
           {
            "bin_start": 1585854720000000000,
            "bin_end": 1589466240000000000,
            "count": 627
           },
           {
            "bin_start": 1589466240000000000,
            "bin_end": 1593077760000000000,
            "count": 932
           },
           {
            "bin_start": 1593077760000000000,
            "bin_end": 1596689280000000000,
            "count": 847
           },
           {
            "bin_start": 1596689280000000000,
            "bin_end": 1600300800000000000,
            "count": 822
           },
           {
            "bin_start": 1600300800000000000,
            "bin_end": 1603912320000000000,
            "count": 910
           },
           {
            "bin_start": 1603912320000000000,
            "bin_end": 1607523840000000000,
            "count": 918
           },
           {
            "bin_start": 1607523840000000000,
            "bin_end": 1611135360000000000,
            "count": 888
           },
           {
            "bin_start": 1611135360000000000,
            "bin_end": 1614746880000000000,
            "count": 963
           },
           {
            "bin_start": 1614746880000000000,
            "bin_end": 1618358400000000000,
            "count": 928
           }
          ]
         }
        },
        {
         "name": "covid_cases_t_minus_4",
         "dtype": "float64",
         "stats": {
          "unique_count": 6791,
          "nan_count": 0,
          "min": "0.0",
          "max": "1104443.0",
          "histogram": [
           {
            "bin_start": 0,
            "bin_end": 110444.3,
            "count": 7593
           },
           {
            "bin_start": 110444.3,
            "bin_end": 220888.6,
            "count": 196
           },
           {
            "bin_start": 220888.6,
            "bin_end": 331332.9,
            "count": 427
           },
           {
            "bin_start": 331332.9,
            "bin_end": 441777.2,
            "count": 23
           },
           {
            "bin_start": 441777.2,
            "bin_end": 552221.5,
            "count": 10
           },
           {
            "bin_start": 552221.5,
            "bin_end": 662665.8,
            "count": 7
           },
           {
            "bin_start": 662665.8,
            "bin_end": 773110.1,
            "count": 12
           },
           {
            "bin_start": 773110.1,
            "bin_end": 883554.4,
            "count": 7
           },
           {
            "bin_start": 883554.4,
            "bin_end": 993998.7000000001,
            "count": 12
           },
           {
            "bin_start": 993998.7000000001,
            "bin_end": 1104443,
            "count": 82
           }
          ]
         }
        },
        {
         "name": "confirmed_covid_vist_t_minus_4",
         "dtype": "float64"
        },
        {
         "name": "doctor_visits_t_minus_4",
         "dtype": "float64"
        },
        {
         "name": "hospital_admissions_t_minus_4",
         "dtype": "float64"
        },
        {
         "name": "covid_deaths_t_minus_4",
         "dtype": "float64"
        },
        {
         "name": "home_time_t_minus_4",
         "dtype": "float64"
        },
        {
         "name": "geo_value_t_minus_3",
         "dtype": "float64"
        },
        {
         "name": "time_value_t_minus_3",
         "dtype": "datetime64[ns]"
        },
        {
         "name": "covid_cases_t_minus_3",
         "dtype": "float64"
        },
        {
         "name": "confirmed_covid_vist_t_minus_3",
         "dtype": "float64"
        },
        {
         "name": "doctor_visits_t_minus_3",
         "dtype": "float64"
        },
        {
         "name": "hospital_admissions_t_minus_3",
         "dtype": "float64"
        },
        {
         "name": "covid_deaths_t_minus_3",
         "dtype": "float64"
        },
        {
         "name": "home_time_t_minus_3",
         "dtype": "float64"
        },
        {
         "name": "geo_value_t_minus_2",
         "dtype": "float64"
        },
        {
         "name": "time_value_t_minus_2",
         "dtype": "datetime64[ns]"
        },
        {
         "name": "covid_cases_t_minus_2",
         "dtype": "float64"
        },
        {
         "name": "confirmed_covid_vist_t_minus_2",
         "dtype": "float64"
        },
        {
         "name": "doctor_visits_t_minus_2",
         "dtype": "float64"
        },
        {
         "name": "hospital_admissions_t_minus_2",
         "dtype": "float64"
        },
        {
         "name": "covid_deaths_t_minus_2",
         "dtype": "float64"
        },
        {
         "name": "home_time_t_minus_2",
         "dtype": "float64"
        },
        {
         "name": "geo_value_t_minus_1",
         "dtype": "float64"
        },
        {
         "name": "time_value_t_minus_1",
         "dtype": "datetime64[ns]"
        },
        {
         "name": "covid_cases_t_minus_1",
         "dtype": "float64"
        },
        {
         "name": "confirmed_covid_vist_t_minus_1",
         "dtype": "float64"
        },
        {
         "name": "doctor_visits_t_minus_1",
         "dtype": "float64"
        },
        {
         "name": "hospital_admissions_t_minus_1",
         "dtype": "float64"
        },
        {
         "name": "covid_deaths_t_minus_1",
         "dtype": "float64"
        },
        {
         "name": "home_time_t_minus_1",
         "dtype": "float64"
        },
        {
         "name": "geo_value",
         "dtype": "float64"
        },
        {
         "name": "time_value",
         "dtype": "datetime64[ns]"
        },
        {
         "name": "covid_cases",
         "dtype": "float64"
        },
        {
         "name": "confirmed_covid_visit",
         "dtype": "float64"
        },
        {
         "name": "doctor_visits",
         "dtype": "float64"
        },
        {
         "name": "hospital_admissions",
         "dtype": "float64"
        },
        {
         "name": "covid_deaths",
         "dtype": "float64"
        },
        {
         "name": "home_time",
         "dtype": "float64"
        },
        {
         "name": "covid_cases_t_plus_one",
         "dtype": "float64"
        },
        {
         "name": "_deepnote_index_column",
         "dtype": "int64"
        }
       ],
       "rows_top": [
        {
         "geo_value_t_minus_5": 16,
         "time_value_t_minus_5": "2020-02-20T00:00:00.000000",
         "covid_cases_t_minus_5": 0,
         "confirmed_covid_vist_t_minus_5": 0.012182,
         "doctor_visits_t_minus_5": 0,
         "hospital_admissions_t_minus_5": 0.110992,
         "covid_deaths_t_minus_5": 0,
         "home_time_t_minus_5": 609.137236084453,
         "geo_value_t_minus_4": 16,
         "time_value_t_minus_4": "2020-02-21T00:00:00.000000",
         "covid_cases_t_minus_4": 0,
         "confirmed_covid_vist_t_minus_4": 0.011169,
         "doctor_visits_t_minus_4": 0,
         "hospital_admissions_t_minus_4": 0.113524,
         "covid_deaths_t_minus_4": 0,
         "home_time_t_minus_4": 587.3067307692307,
         "geo_value_t_minus_3": 16,
         "time_value_t_minus_3": "2020-02-22T00:00:00.000000",
         "covid_cases_t_minus_3": 0,
         "confirmed_covid_vist_t_minus_3": 0.010473,
         "doctor_visits_t_minus_3": 0,
         "hospital_admissions_t_minus_3": 0.116683,
         "covid_deaths_t_minus_3": 0,
         "home_time_t_minus_3": 679.5859750240154,
         "geo_value_t_minus_2": 16,
         "time_value_t_minus_2": "2020-02-23T00:00:00.000000",
         "covid_cases_t_minus_2": 0,
         "confirmed_covid_vist_t_minus_2": 0.012124,
         "doctor_visits_t_minus_2": 0,
         "hospital_admissions_t_minus_2": 0.120299,
         "covid_deaths_t_minus_2": 0,
         "home_time_t_minus_2": 767.1392891450529,
         "geo_value_t_minus_1": 16,
         "time_value_t_minus_1": "2020-02-24T00:00:00.000000",
         "covid_cases_t_minus_1": 0,
         "confirmed_covid_vist_t_minus_1": 0.015453,
         "doctor_visits_t_minus_1": 0,
         "hospital_admissions_t_minus_1": 0.122005,
         "covid_deaths_t_minus_1": 0,
         "home_time_t_minus_1": 597.0153698366955,
         "geo_value": 16,
         "time_value": "2020-02-25T00:00:00.000000",
         "covid_cases": 0,
         "confirmed_covid_visit": 0.013187,
         "doctor_visits": 0,
         "hospital_admissions": 0.121372,
         "covid_deaths": 0,
         "home_time": 332.18408437200384,
         "covid_cases_t_plus_one": 0,
         "_deepnote_index_column": 0
        },
        {
         "geo_value_t_minus_5": 8,
         "time_value_t_minus_5": "2020-02-20T00:00:00.000000",
         "covid_cases_t_minus_5": 0,
         "confirmed_covid_vist_t_minus_5": 0.020132,
         "doctor_visits_t_minus_5": 0,
         "hospital_admissions_t_minus_5": 0.151167,
         "covid_deaths_t_minus_5": 0,
         "home_time_t_minus_5": 524.3775862068966,
         "geo_value_t_minus_4": 8,
         "time_value_t_minus_4": "2020-02-21T00:00:00.000000",
         "covid_cases_t_minus_4": 0,
         "confirmed_covid_vist_t_minus_4": 0.017125,
         "doctor_visits_t_minus_4": 0,
         "hospital_admissions_t_minus_4": 0.149643,
         "covid_deaths_t_minus_4": 0,
         "home_time_t_minus_4": 533.6103448275862,
         "geo_value_t_minus_3": 8,
         "time_value_t_minus_3": "2020-02-22T00:00:00.000000",
         "covid_cases_t_minus_3": 0,
         "confirmed_covid_vist_t_minus_3": 0.015054,
         "doctor_visits_t_minus_3": 0,
         "hospital_admissions_t_minus_3": 0.147476,
         "covid_deaths_t_minus_3": 0,
         "home_time_t_minus_3": 612.2362068965517,
         "geo_value_t_minus_2": 8,
         "time_value_t_minus_2": "2020-02-23T00:00:00.000000",
         "covid_cases_t_minus_2": 0,
         "confirmed_covid_vist_t_minus_2": 0.017277,
         "doctor_visits_t_minus_2": 0,
         "hospital_admissions_t_minus_2": 0.146912,
         "covid_deaths_t_minus_2": 0,
         "home_time_t_minus_2": 670.1448275862069,
         "geo_value_t_minus_1": 8,
         "time_value_t_minus_1": "2020-02-24T00:00:00.000000",
         "covid_cases_t_minus_1": 0,
         "confirmed_covid_vist_t_minus_1": 0.02122,
         "doctor_visits_t_minus_1": 0,
         "hospital_admissions_t_minus_1": 0.148026,
         "covid_deaths_t_minus_1": 0,
         "home_time_t_minus_1": 531.3264248704663,
         "geo_value": 8,
         "time_value": "2020-02-25T00:00:00.000000",
         "covid_cases": 0,
         "confirmed_covid_visit": 0.015943,
         "doctor_visits": 0,
         "hospital_admissions": 0.147597,
         "covid_deaths": 0,
         "home_time": 280.80172413793105,
         "covid_cases_t_plus_one": 0,
         "_deepnote_index_column": 5420
        },
        {
         "geo_value_t_minus_5": 22,
         "time_value_t_minus_5": "2020-02-20T00:00:00.000000",
         "covid_cases_t_minus_5": 0,
         "confirmed_covid_vist_t_minus_5": 0.002757,
         "doctor_visits_t_minus_5": 0,
         "hospital_admissions_t_minus_5": 0.087202,
         "covid_deaths_t_minus_5": 0,
         "home_time_t_minus_5": 614.866220735786,
         "geo_value_t_minus_4": 22,
         "time_value_t_minus_4": "2020-02-21T00:00:00.000000",
         "covid_cases_t_minus_4": 0,
         "confirmed_covid_vist_t_minus_4": 0.002523,
         "doctor_visits_t_minus_4": 0,
         "hospital_admissions_t_minus_4": 0.08527,
         "covid_deaths_t_minus_4": 0,
         "home_time_t_minus_4": 594.35618729097,
         "geo_value_t_minus_3": 22,
         "time_value_t_minus_3": "2020-02-22T00:00:00.000000",
         "covid_cases_t_minus_3": 0,
         "confirmed_covid_vist_t_minus_3": 0.002402,
         "doctor_visits_t_minus_3": 0,
         "hospital_admissions_t_minus_3": 0.087335,
         "covid_deaths_t_minus_3": 0,
         "home_time_t_minus_3": 687.829988851728,
         "geo_value_t_minus_2": 22,
         "time_value_t_minus_2": "2020-02-23T00:00:00.000000",
         "covid_cases_t_minus_2": 0,
         "confirmed_covid_vist_t_minus_2": 0.002848,
         "doctor_visits_t_minus_2": 0,
         "hospital_admissions_t_minus_2": 0.089784,
         "covid_deaths_t_minus_2": 0,
         "home_time_t_minus_2": 755.5685618729098,
         "geo_value_t_minus_1": 22,
         "time_value_t_minus_1": "2020-02-24T00:00:00.000000",
         "covid_cases_t_minus_1": 0,
         "confirmed_covid_vist_t_minus_1": 0.003622,
         "doctor_visits_t_minus_1": 0,
         "hospital_admissions_t_minus_1": 0.086716,
         "covid_deaths_t_minus_1": 0,
         "home_time_t_minus_1": 597.2095875139354,
         "geo_value": 22,
         "time_value": "2020-02-25T00:00:00.000000",
         "covid_cases": 0,
         "confirmed_covid_visit": 0.003081,
         "doctor_visits": 0,
         "hospital_admissions": 0.089553,
         "covid_deaths": 0,
         "home_time": 341.0590858416945,
         "covid_cases_t_plus_one": 0,
         "_deepnote_index_column": 4995
        },
        {
         "geo_value_t_minus_5": 24,
         "time_value_t_minus_5": "2020-02-20T00:00:00.000000",
         "covid_cases_t_minus_5": 0,
         "confirmed_covid_vist_t_minus_5": 0.006745,
         "doctor_visits_t_minus_5": 0,
         "hospital_admissions_t_minus_5": 0.113582,
         "covid_deaths_t_minus_5": 0,
         "home_time_t_minus_5": 606.1987179487179,
         "geo_value_t_minus_4": 24,
         "time_value_t_minus_4": "2020-02-21T00:00:00.000000",
         "covid_cases_t_minus_4": 0,
         "confirmed_covid_vist_t_minus_4": 0.00639,
         "doctor_visits_t_minus_4": 0,
         "hospital_admissions_t_minus_4": 0.117024,
         "covid_deaths_t_minus_4": 0,
         "home_time_t_minus_4": 580.7087912087912,
         "geo_value_t_minus_3": 24,
         "time_value_t_minus_3": "2020-02-22T00:00:00.000000",
         "covid_cases_t_minus_3": 0,
         "confirmed_covid_vist_t_minus_3": 0.009334,
         "doctor_visits_t_minus_3": 0,
         "hospital_admissions_t_minus_3": 0.120868,
         "covid_deaths_t_minus_3": 0,
         "home_time_t_minus_3": 663.2417582417582,
         "geo_value_t_minus_2": 24,
         "time_value_t_minus_2": "2020-02-23T00:00:00.000000",
         "covid_cases_t_minus_2": 0,
         "confirmed_covid_vist_t_minus_2": 0.01017,
         "doctor_visits_t_minus_2": 0,
         "hospital_admissions_t_minus_2": 0.126195,
         "covid_deaths_t_minus_2": 0,
         "home_time_t_minus_2": 737.5686813186813,
         "geo_value_t_minus_1": 24,
         "time_value_t_minus_1": "2020-02-24T00:00:00.000000",
         "covid_cases_t_minus_1": 0,
         "confirmed_covid_vist_t_minus_1": 0.01183,
         "doctor_visits_t_minus_1": 0,
         "hospital_admissions_t_minus_1": 0.132867,
         "covid_deaths_t_minus_1": 0,
         "home_time_t_minus_1": 580.0741758241758,
         "geo_value": 24,
         "time_value": "2020-02-25T00:00:00.000000",
         "covid_cases": 0,
         "confirmed_covid_visit": 0.009937,
         "doctor_visits": 0,
         "hospital_admissions": 0.137807,
         "covid_deaths": 0,
         "home_time": 345.15842490842493,
         "covid_cases_t_plus_one": 0,
         "_deepnote_index_column": 4570
        },
        {
         "geo_value_t_minus_5": 20,
         "time_value_t_minus_5": "2020-02-20T00:00:00.000000",
         "covid_cases_t_minus_5": 0,
         "confirmed_covid_vist_t_minus_5": 0.008506,
         "doctor_visits_t_minus_5": 0.10965,
         "hospital_admissions_t_minus_5": 0.126737,
         "covid_deaths_t_minus_5": 0,
         "home_time_t_minus_5": 651.923578751165,
         "geo_value_t_minus_4": 20,
         "time_value_t_minus_4": "2020-02-21T00:00:00.000000",
         "covid_cases_t_minus_4": 1,
         "confirmed_covid_vist_t_minus_4": 0.007871,
         "doctor_visits_t_minus_4": 0.104633,
         "hospital_admissions_t_minus_4": 0.118592,
         "covid_deaths_t_minus_4": 0,
         "home_time_t_minus_4": 647.9850746268656,
         "geo_value_t_minus_3": 20,
         "time_value_t_minus_3": "2020-02-22T00:00:00.000000",
         "covid_cases_t_minus_3": 1,
         "confirmed_covid_vist_t_minus_3": 0.007477,
         "doctor_visits_t_minus_3": 0.109745,
         "hospital_admissions_t_minus_3": 0.110275,
         "covid_deaths_t_minus_3": 0,
         "home_time_t_minus_3": 726.857276119403,
         "geo_value_t_minus_2": 20,
         "time_value_t_minus_2": "2020-02-23T00:00:00.000000",
         "covid_cases_t_minus_2": 1,
         "confirmed_covid_vist_t_minus_2": 0.00886,
         "doctor_visits_t_minus_2": 0.104128,
         "hospital_admissions_t_minus_2": 0.103095,
         "covid_deaths_t_minus_2": 0,
         "home_time_t_minus_2": 830.6930970149253,
         "geo_value_t_minus_1": 20,
         "time_value_t_minus_1": "2020-02-24T00:00:00.000000",
         "covid_cases_t_minus_1": 2,
         "confirmed_covid_vist_t_minus_1": 0.014531,
         "doctor_visits_t_minus_1": 0.098929,
         "hospital_admissions_t_minus_1": 0.097699,
         "covid_deaths_t_minus_1": 0,
         "home_time_t_minus_1": 647.1342031686859,
         "geo_value": 20,
         "time_value": "2020-02-25T00:00:00.000000",
         "covid_cases": 2,
         "confirmed_covid_visit": 0.011718,
         "doctor_visits": 0.094316,
         "hospital_admissions": 0.09595,
         "covid_deaths": 0,
         "home_time": 338.8807082945014,
         "covid_cases_t_plus_one": 4,
         "_deepnote_index_column": 7178
        },
        {
         "geo_value_t_minus_5": 19,
         "time_value_t_minus_5": "2020-02-20T00:00:00.000000",
         "covid_cases_t_minus_5": 0,
         "confirmed_covid_vist_t_minus_5": 0.00877,
         "doctor_visits_t_minus_5": 0.066701,
         "hospital_admissions_t_minus_5": 0.142097,
         "covid_deaths_t_minus_5": 0,
         "home_time_t_minus_5": 627.2403951701427,
         "geo_value_t_minus_4": 19,
         "time_value_t_minus_4": "2020-02-21T00:00:00.000000",
         "covid_cases_t_minus_4": 1,
         "confirmed_covid_vist_t_minus_4": 0.008133,
         "doctor_visits_t_minus_4": 0.064963,
         "hospital_admissions_t_minus_4": 0.138081,
         "covid_deaths_t_minus_4": 0,
         "home_time_t_minus_4": 607.3501646542261,
         "geo_value_t_minus_3": 19,
         "time_value_t_minus_3": "2020-02-22T00:00:00.000000",
         "covid_cases_t_minus_3": 1,
         "confirmed_covid_vist_t_minus_3": 0.007731,
         "doctor_visits_t_minus_3": 0.166148,
         "hospital_admissions_t_minus_3": 0.135826,
         "covid_deaths_t_minus_3": 0,
         "home_time_t_minus_3": 679.993413830955,
         "geo_value_t_minus_2": 19,
         "time_value_t_minus_2": "2020-02-23T00:00:00.000000",
         "covid_cases_t_minus_2": 1,
         "confirmed_covid_vist_t_minus_2": 0.008941,
         "doctor_visits_t_minus_2": 0.243877,
         "hospital_admissions_t_minus_2": 0.135849,
         "covid_deaths_t_minus_2": 0,
         "home_time_t_minus_2": 770.0054884742042,
         "geo_value_t_minus_1": 19,
         "time_value_t_minus_1": "2020-02-24T00:00:00.000000",
         "covid_cases_t_minus_1": 1,
         "confirmed_covid_vist_t_minus_1": 0.011207,
         "doctor_visits_t_minus_1": 0.30595,
         "hospital_admissions_t_minus_1": 0.13658,
         "covid_deaths_t_minus_1": 0,
         "home_time_t_minus_1": 618.3896816684961,
         "geo_value": 19,
         "time_value": "2020-02-25T00:00:00.000000",
         "covid_cases": 1,
         "confirmed_covid_visit": 0.0095,
         "doctor_visits": 0.249907,
         "hospital_admissions": 0.135398,
         "covid_deaths": 0,
         "home_time": 348.3874862788145,
         "covid_cases_t_plus_one": 1,
         "_deepnote_index_column": 4142
        },
        {
         "geo_value_t_minus_5": 23,
         "time_value_t_minus_5": "2020-02-20T00:00:00.000000",
         "covid_cases_t_minus_5": 0,
         "confirmed_covid_vist_t_minus_5": 0.012328,
         "doctor_visits_t_minus_5": 0,
         "hospital_admissions_t_minus_5": 0.090382,
         "covid_deaths_t_minus_5": 0,
         "home_time_t_minus_5": 618.2231968810917,
         "geo_value_t_minus_4": 23,
         "time_value_t_minus_4": "2020-02-21T00:00:00.000000",
         "covid_cases_t_minus_4": 0,
         "confirmed_covid_vist_t_minus_4": 0.011176,
         "doctor_visits_t_minus_4": 0.012824,
         "hospital_admissions_t_minus_4": 0.090121,
         "covid_deaths_t_minus_4": 0,
         "home_time_t_minus_4": 602.1111111111111,
         "geo_value_t_minus_3": 23,
         "time_value_t_minus_3": "2020-02-22T00:00:00.000000",
         "covid_cases_t_minus_3": 0,
         "confirmed_covid_vist_t_minus_3": 0.010104,
         "doctor_visits_t_minus_3": 0.010977,
         "hospital_admissions_t_minus_3": 0.090805,
         "covid_deaths_t_minus_3": 0,
         "home_time_t_minus_3": 688.4122807017544,
         "geo_value_t_minus_2": 23,
         "time_value_t_minus_2": "2020-02-23T00:00:00.000000",
         "covid_cases_t_minus_2": 0,
         "confirmed_covid_vist_t_minus_2": 0.010543,
         "doctor_visits_t_minus_2": 0.009081,
         "hospital_admissions_t_minus_2": 0.091112,
         "covid_deaths_t_minus_2": 0,
         "home_time_t_minus_2": 752.9473684210526,
         "geo_value_t_minus_1": 23,
         "time_value_t_minus_1": "2020-02-24T00:00:00.000000",
         "covid_cases_t_minus_1": 0,
         "confirmed_covid_vist_t_minus_1": 0.011901,
         "doctor_visits_t_minus_1": 0.007205,
         "hospital_admissions_t_minus_1": 0.0926,
         "covid_deaths_t_minus_1": 0,
         "home_time_t_minus_1": 606.7912195121951,
         "geo_value": 23,
         "time_value": "2020-02-25T00:00:00.000000",
         "covid_cases": 0,
         "confirmed_covid_visit": 0.009993,
         "doctor_visits": 0.005421,
         "hospital_admissions": 0.094601,
         "covid_deaths": 0,
         "home_time": 349.6910331384016,
         "covid_cases_t_plus_one": 0,
         "_deepnote_index_column": 3717
        },
        {
         "geo_value_t_minus_5": 3,
         "time_value_t_minus_5": "2020-02-20T00:00:00.000000",
         "covid_cases_t_minus_5": 0,
         "confirmed_covid_vist_t_minus_5": 0.028266,
         "doctor_visits_t_minus_5": 0.023756,
         "hospital_admissions_t_minus_5": 0.301985,
         "covid_deaths_t_minus_5": 0,
         "home_time_t_minus_5": 639.2333333333333,
         "geo_value_t_minus_4": 3,
         "time_value_t_minus_4": "2020-02-21T00:00:00.000000",
         "covid_cases_t_minus_4": 0,
         "confirmed_covid_vist_t_minus_4": 0.026243,
         "doctor_visits_t_minus_4": 0.093331,
         "hospital_admissions_t_minus_4": 0.307573,
         "covid_deaths_t_minus_4": 0,
         "home_time_t_minus_4": 612.9716981132076,
         "geo_value_t_minus_3": 3,
         "time_value_t_minus_3": "2020-02-22T00:00:00.000000",
         "covid_cases_t_minus_3": 0,
         "confirmed_covid_vist_t_minus_3": 0.025955,
         "doctor_visits_t_minus_3": 0.152957,
         "hospital_admissions_t_minus_3": 0.311943,
         "covid_deaths_t_minus_3": 0,
         "home_time_t_minus_3": 694.8388625592418,
         "geo_value_t_minus_2": 3,
         "time_value_t_minus_2": "2020-02-23T00:00:00.000000",
         "covid_cases_t_minus_2": 0,
         "confirmed_covid_vist_t_minus_2": 0.031595,
         "doctor_visits_t_minus_2": 0.228139,
         "hospital_admissions_t_minus_2": 0.315756,
         "covid_deaths_t_minus_2": 0,
         "home_time_t_minus_2": 785.3838862559242,
         "geo_value_t_minus_1": 3,
         "time_value_t_minus_1": "2020-02-24T00:00:00.000000",
         "covid_cases_t_minus_1": 0,
         "confirmed_covid_vist_t_minus_1": 0.036814,
         "doctor_visits_t_minus_1": 0.308943,
         "hospital_admissions_t_minus_1": 0.319177,
         "covid_deaths_t_minus_1": 0,
         "home_time_t_minus_1": 627.9857142857143,
         "geo_value": 3,
         "time_value": "2020-02-25T00:00:00.000000",
         "covid_cases": 0,
         "confirmed_covid_visit": 0.032192,
         "doctor_visits": 0.28603,
         "hospital_admissions": 0.317997,
         "covid_deaths": 0,
         "home_time": 340.5761904761905,
         "covid_cases_t_plus_one": 0,
         "_deepnote_index_column": 3323
        },
        {
         "geo_value_t_minus_5": 21,
         "time_value_t_minus_5": "2020-02-20T00:00:00.000000",
         "covid_cases_t_minus_5": 0,
         "confirmed_covid_vist_t_minus_5": 0.003528,
         "doctor_visits_t_minus_5": 0.098592,
         "hospital_admissions_t_minus_5": 0.091819,
         "covid_deaths_t_minus_5": 0,
         "home_time_t_minus_5": 651.8142857142857,
         "geo_value_t_minus_4": 21,
         "time_value_t_minus_4": "2020-02-21T00:00:00.000000",
         "covid_cases_t_minus_4": 0,
         "confirmed_covid_vist_t_minus_4": 0.003301,
         "doctor_visits_t_minus_4": 0.098592,
         "hospital_admissions_t_minus_4": 0.093063,
         "covid_deaths_t_minus_4": 0,
         "home_time_t_minus_4": 637.3091707852828,
         "geo_value_t_minus_3": 21,
         "time_value_t_minus_3": "2020-02-22T00:00:00.000000",
         "covid_cases_t_minus_3": 0,
         "confirmed_covid_vist_t_minus_3": 0.003134,
         "doctor_visits_t_minus_3": 0.098592,
         "hospital_admissions_t_minus_3": 0.094482,
         "covid_deaths_t_minus_3": 0,
         "home_time_t_minus_3": 740.2763736263736,
         "geo_value_t_minus_2": 21,
         "time_value_t_minus_2": "2020-02-23T00:00:00.000000",
         "covid_cases_t_minus_2": 0,
         "confirmed_covid_vist_t_minus_2": 0.00369,
         "doctor_visits_t_minus_2": 0.098592,
         "hospital_admissions_t_minus_2": 0.09059,
         "covid_deaths_t_minus_2": 0,
         "home_time_t_minus_2": 819.4439560439561,
         "geo_value_t_minus_1": 21,
         "time_value_t_minus_1": "2020-02-24T00:00:00.000000",
         "covid_cases_t_minus_1": 0,
         "confirmed_covid_vist_t_minus_1": 0.004668,
         "doctor_visits_t_minus_1": 0.098592,
         "hospital_admissions_t_minus_1": 0.089466,
         "covid_deaths_t_minus_1": 0,
         "home_time_t_minus_1": 652.4725576289792,
         "geo_value": 21,
         "time_value": "2020-02-25T00:00:00.000000",
         "covid_cases": 0,
         "confirmed_covid_visit": 0.00398,
         "doctor_visits": 0.098592,
         "hospital_admissions": 0.087851,
         "covid_deaths": 0,
         "home_time": 361.8150384193194,
         "covid_cases_t_plus_one": 0,
         "_deepnote_index_column": 2898
        },
        {
         "geo_value_t_minus_5": 1,
         "time_value_t_minus_5": "2020-02-20T00:00:00.000000",
         "covid_cases_t_minus_5": 0,
         "confirmed_covid_vist_t_minus_5": 0.04339,
         "doctor_visits_t_minus_5": 0,
         "hospital_admissions_t_minus_5": 0.392447,
         "covid_deaths_t_minus_5": 0,
         "home_time_t_minus_5": 517.953216374269,
         "geo_value_t_minus_4": 1,
         "time_value_t_minus_4": "2020-02-21T00:00:00.000000",
         "covid_cases_t_minus_4": 0,
         "confirmed_covid_vist_t_minus_4": 0.042329,
         "doctor_visits_t_minus_4": 0,
         "hospital_admissions_t_minus_4": 0.400912,
         "covid_deaths_t_minus_4": 0,
         "home_time_t_minus_4": 530.9473684210526,
         "geo_value_t_minus_3": 1,
         "time_value_t_minus_3": "2020-02-22T00:00:00.000000",
         "covid_cases_t_minus_3": 0,
         "confirmed_covid_vist_t_minus_3": 0.043049,
         "doctor_visits_t_minus_3": 0,
         "hospital_admissions_t_minus_3": 0.408257,
         "covid_deaths_t_minus_3": 0,
         "home_time_t_minus_3": 615.2222222222222,
         "geo_value_t_minus_2": 1,
         "time_value_t_minus_2": "2020-02-23T00:00:00.000000",
         "covid_cases_t_minus_2": 0,
         "confirmed_covid_vist_t_minus_2": 0.040091,
         "doctor_visits_t_minus_2": 0,
         "hospital_admissions_t_minus_2": 0.418338,
         "covid_deaths_t_minus_2": 0,
         "home_time_t_minus_2": 717.7093023255813,
         "geo_value_t_minus_1": 1,
         "time_value_t_minus_1": "2020-02-24T00:00:00.000000",
         "covid_cases_t_minus_1": 0,
         "confirmed_covid_vist_t_minus_1": 0.046135,
         "doctor_visits_t_minus_1": 0,
         "hospital_admissions_t_minus_1": 0.440498,
         "covid_deaths_t_minus_1": 0,
         "home_time_t_minus_1": 581.8895348837209,
         "geo_value": 1,
         "time_value": "2020-02-25T00:00:00.000000",
         "covid_cases": 0,
         "confirmed_covid_visit": 0.042671,
         "doctor_visits": 0,
         "hospital_admissions": 0.45064,
         "covid_deaths": 0,
         "home_time": 311.49418604651163,
         "covid_cases_t_plus_one": 0,
         "_deepnote_index_column": 2073
        }
       ],
       "rows_bottom": [
        {
         "geo_value_t_minus_5": 13,
         "time_value_t_minus_5": "2021-04-13T00:00:00.000000",
         "covid_cases_t_minus_5": 63393,
         "confirmed_covid_vist_t_minus_5": 0.3326238,
         "doctor_visits_t_minus_5": 2.156627,
         "hospital_admissions_t_minus_5": 1.584146,
         "covid_deaths_t_minus_5": 779,
         "home_time_t_minus_5": 771.719685,
         "geo_value_t_minus_4": 13,
         "time_value_t_minus_4": "2021-04-14T00:00:00.000000",
         "covid_cases_t_minus_4": 63473,
         "confirmed_covid_vist_t_minus_4": 0.3457356,
         "doctor_visits_t_minus_4": 2.113472,
         "hospital_admissions_t_minus_4": 1.591461,
         "covid_deaths_t_minus_4": 782,
         "home_time_t_minus_4": 756.9149606,
         "geo_value_t_minus_3": 13,
         "time_value_t_minus_3": "2021-04-15T00:00:00.000000",
         "covid_cases_t_minus_3": 63562,
         "confirmed_covid_vist_t_minus_3": 0.3661596,
         "doctor_visits_t_minus_3": 2.050122,
         "hospital_admissions_t_minus_3": 1.606931,
         "covid_deaths_t_minus_3": 782,
         "home_time_t_minus_3": 338.5691824,
         "geo_value_t_minus_2": 13,
         "time_value_t_minus_2": "2021-04-16T00:00:00.000000",
         "covid_cases_t_minus_2": 63648,
         "confirmed_covid_vist_t_minus_2": 0.3722287,
         "doctor_visits_t_minus_2": 1.890996,
         "hospital_admissions_t_minus_2": 1.565844,
         "covid_deaths_t_minus_2": 783,
         "home_time_t_minus_2": 725.2141732,
         "geo_value_t_minus_1": 13,
         "time_value_t_minus_1": "2021-04-17T00:00:00.000000",
         "covid_cases_t_minus_1": 63722,
         "confirmed_covid_vist_t_minus_1": 0.3316012,
         "doctor_visits_t_minus_1": 2.044085,
         "hospital_admissions_t_minus_1": 1.678071,
         "covid_deaths_t_minus_1": 783,
         "home_time_t_minus_1": 725.2141732,
         "geo_value": 13,
         "time_value": "2021-04-18T00:00:00.000000",
         "covid_cases": 63776,
         "confirmed_covid_visit": 0.3185512,
         "doctor_visits": 2.642331,
         "hospital_admissions": 1.710163,
         "covid_deaths": 783,
         "home_time": 725.2141732,
         "covid_cases_t_plus_one": 63824,
         "_deepnote_index_column": 857
        },
        {
         "geo_value_t_minus_5": 21,
         "time_value_t_minus_5": "2021-04-13T00:00:00.000000",
         "covid_cases_t_minus_5": 235144,
         "confirmed_covid_vist_t_minus_5": 0.4782985,
         "doctor_visits_t_minus_5": 4.9009,
         "hospital_admissions_t_minus_5": 0.318271,
         "covid_deaths_t_minus_5": 4849,
         "home_time_t_minus_5": 822.9023052,
         "geo_value_t_minus_4": 21,
         "time_value_t_minus_4": "2021-04-14T00:00:00.000000",
         "covid_cases_t_minus_4": 235230,
         "confirmed_covid_vist_t_minus_4": 0.4505284,
         "doctor_visits_t_minus_4": 4.526872,
         "hospital_admissions_t_minus_4": 0.544518,
         "covid_deaths_t_minus_4": 4862,
         "home_time_t_minus_4": 801.4566411,
         "geo_value_t_minus_3": 21,
         "time_value_t_minus_3": "2021-04-15T00:00:00.000000",
         "covid_cases_t_minus_3": 235326,
         "confirmed_covid_vist_t_minus_3": 0.4246553,
         "doctor_visits_t_minus_3": 4.180287,
         "hospital_admissions_t_minus_3": 0.851881,
         "covid_deaths_t_minus_3": 4869,
         "home_time_t_minus_3": 355.3578485,
         "geo_value_t_minus_2": 21,
         "time_value_t_minus_2": "2021-04-16T00:00:00.000000",
         "covid_cases_t_minus_2": 235432,
         "confirmed_covid_vist_t_minus_2": 0.4081092,
         "doctor_visits_t_minus_2": 4.268413,
         "hospital_admissions_t_minus_2": 1.013973,
         "covid_deaths_t_minus_2": 4886,
         "home_time_t_minus_2": 756.9648545,
         "geo_value_t_minus_1": 21,
         "time_value_t_minus_1": "2021-04-17T00:00:00.000000",
         "covid_cases_t_minus_1": 235527,
         "confirmed_covid_vist_t_minus_1": 0.400532,
         "doctor_visits_t_minus_1": 3.960434,
         "hospital_admissions_t_minus_1": 1.082365,
         "covid_deaths_t_minus_1": 4891,
         "home_time_t_minus_1": 756.9648545,
         "geo_value": 21,
         "time_value": "2021-04-18T00:00:00.000000",
         "covid_cases": 235590,
         "confirmed_covid_visit": 0.4344942,
         "doctor_visits": 3.969369,
         "hospital_admissions": 1.179754,
         "covid_deaths": 4896,
         "home_time": 756.9648545,
         "covid_cases_t_plus_one": 235659,
         "_deepnote_index_column": 3316
        },
        {
         "geo_value_t_minus_5": 4,
         "time_value_t_minus_5": "2021-04-13T00:00:00.000000",
         "covid_cases_t_minus_5": 27982,
         "confirmed_covid_vist_t_minus_5": 0.0940698,
         "doctor_visits_t_minus_5": 2.41257,
         "hospital_admissions_t_minus_5": 1.353252,
         "covid_deaths_t_minus_5": 330,
         "home_time_t_minus_5": 605.4415584,
         "geo_value_t_minus_4": 4,
         "time_value_t_minus_4": "2021-04-14T00:00:00.000000",
         "covid_cases_t_minus_4": 28011,
         "confirmed_covid_vist_t_minus_4": 0.0860252,
         "doctor_visits_t_minus_4": 2.206113,
         "hospital_admissions_t_minus_4": 1.664724,
         "covid_deaths_t_minus_4": 330,
         "home_time_t_minus_4": 601.5324675,
         "geo_value_t_minus_3": 4,
         "time_value_t_minus_3": "2021-04-15T00:00:00.000000",
         "covid_cases_t_minus_3": 28018,
         "confirmed_covid_vist_t_minus_3": 0.0787387,
         "doctor_visits_t_minus_3": 2.316236,
         "hospital_admissions_t_minus_3": 2.016365,
         "covid_deaths_t_minus_3": 330,
         "home_time_t_minus_3": 279.5064935,
         "geo_value_t_minus_2": 4,
         "time_value_t_minus_2": "2021-04-16T00:00:00.000000",
         "covid_cases_t_minus_2": 28026,
         "confirmed_covid_vist_t_minus_2": 0.0747528,
         "doctor_visits_t_minus_2": 2.203749,
         "hospital_admissions_t_minus_2": 2.265521,
         "covid_deaths_t_minus_2": 330,
         "home_time_t_minus_2": 564.8316062,
         "geo_value_t_minus_1": 4,
         "time_value_t_minus_1": "2021-04-17T00:00:00.000000",
         "covid_cases_t_minus_1": 28040,
         "confirmed_covid_vist_t_minus_1": 0.0715208,
         "doctor_visits_t_minus_1": 2.011417,
         "hospital_admissions_t_minus_1": 2.354581,
         "covid_deaths_t_minus_1": 330,
         "home_time_t_minus_1": 564.8316062,
         "geo_value": 4,
         "time_value": "2021-04-18T00:00:00.000000",
         "covid_cases": 28051,
         "confirmed_covid_visit": 0.127215,
         "doctor_visits": 1.881228,
         "hospital_admissions": 2.702657,
         "covid_deaths": 330,
         "home_time": 564.8316062,
         "covid_cases_t_plus_one": 28058,
         "_deepnote_index_column": 8125
        },
        {
         "geo_value_t_minus_5": 25,
         "time_value_t_minus_5": "2021-04-13T00:00:00.000000",
         "covid_cases_t_minus_5": 1103948,
         "confirmed_covid_vist_t_minus_5": 0.4861128,
         "doctor_visits_t_minus_5": 5.333011,
         "hospital_admissions_t_minus_5": 1.279292,
         "covid_deaths_t_minus_5": 23487,
         "home_time_t_minus_5": 786.3383941,
         "geo_value_t_minus_4": 25,
         "time_value_t_minus_4": "2021-04-14T00:00:00.000000",
         "covid_cases_t_minus_4": 1104443,
         "confirmed_covid_vist_t_minus_4": 0.4918272,
         "doctor_visits_t_minus_4": 5.348468,
         "hospital_admissions_t_minus_4": 1.219862,
         "covid_deaths_t_minus_4": 23535,
         "home_time_t_minus_4": 767.3991235,
         "geo_value_t_minus_3": 25,
         "time_value_t_minus_3": "2021-04-15T00:00:00.000000",
         "covid_cases_t_minus_3": 1104893,
         "confirmed_covid_vist_t_minus_3": 0.4555742,
         "doctor_visits_t_minus_3": 5.47842,
         "hospital_admissions_t_minus_3": 1.221349,
         "covid_deaths_t_minus_3": 23561,
         "home_time_t_minus_3": 378.71124,
         "geo_value_t_minus_2": 25,
         "time_value_t_minus_2": "2021-04-16T00:00:00.000000",
         "covid_cases_t_minus_2": 1105288,
         "confirmed_covid_vist_t_minus_2": 0.4667738,
         "doctor_visits_t_minus_2": 5.343032,
         "hospital_admissions_t_minus_2": 1.256383,
         "covid_deaths_t_minus_2": 23583,
         "home_time_t_minus_2": 721.4320601,
         "geo_value_t_minus_1": 25,
         "time_value_t_minus_1": "2021-04-17T00:00:00.000000",
         "covid_cases_t_minus_1": 1105681,
         "confirmed_covid_vist_t_minus_1": 0.4478218,
         "doctor_visits_t_minus_1": 5.019166,
         "hospital_admissions_t_minus_1": 1.077912,
         "covid_deaths_t_minus_1": 23610,
         "home_time_t_minus_1": 721.4320601,
         "geo_value": 25,
         "time_value": "2021-04-18T00:00:00.000000",
         "covid_cases": 1105979,
         "confirmed_covid_visit": 0.3963143,
         "doctor_visits": 4.824419,
         "hospital_admissions": 1.098291,
         "covid_deaths": 23635,
         "home_time": 721.4320601,
         "covid_cases_t_plus_one": 1106233,
         "_deepnote_index_column": 2063
        },
        {
         "geo_value_t_minus_5": 8,
         "time_value_t_minus_5": "2021-04-13T00:00:00.000000",
         "covid_cases_t_minus_5": 34262,
         "confirmed_covid_vist_t_minus_5": 0.2299377,
         "doctor_visits_t_minus_5": 6.396901,
         "hospital_admissions_t_minus_5": 0.708114,
         "covid_deaths_t_minus_5": 524,
         "home_time_t_minus_5": 797.3006993,
         "geo_value_t_minus_4": 8,
         "time_value_t_minus_4": "2021-04-14T00:00:00.000000",
         "covid_cases_t_minus_4": 34294,
         "confirmed_covid_vist_t_minus_4": 0.2179718,
         "doctor_visits_t_minus_4": 6.00599,
         "hospital_admissions_t_minus_4": 0.711713,
         "covid_deaths_t_minus_4": 528,
         "home_time_t_minus_4": 769.1033275,
         "geo_value_t_minus_3": 8,
         "time_value_t_minus_3": "2021-04-15T00:00:00.000000",
         "covid_cases_t_minus_3": 34330,
         "confirmed_covid_vist_t_minus_3": 0.2336014,
         "doctor_visits_t_minus_3": 5.722264,
         "hospital_admissions_t_minus_3": 0.664741,
         "covid_deaths_t_minus_3": 528,
         "home_time_t_minus_3": 349.1072056,
         "geo_value_t_minus_2": 8,
         "time_value_t_minus_2": "2021-04-16T00:00:00.000000",
         "covid_cases_t_minus_2": 34368,
         "confirmed_covid_vist_t_minus_2": 0.2071441,
         "doctor_visits_t_minus_2": 4.960098,
         "hospital_admissions_t_minus_2": 0.673097,
         "covid_deaths_t_minus_2": 535,
         "home_time_t_minus_2": 731.1968366,
         "geo_value_t_minus_1": 8,
         "time_value_t_minus_1": "2021-04-17T00:00:00.000000",
         "covid_cases_t_minus_1": 34387,
         "confirmed_covid_vist_t_minus_1": 0.2220924,
         "doctor_visits_t_minus_1": 4.736284,
         "hospital_admissions_t_minus_1": 0.635759,
         "covid_deaths_t_minus_1": 541,
         "home_time_t_minus_1": 731.1968366,
         "geo_value": 8,
         "time_value": "2021-04-18T00:00:00.000000",
         "covid_cases": 34412,
         "confirmed_covid_visit": 0.2095279,
         "doctor_visits": 4.508649,
         "hospital_admissions": 0.652238,
         "covid_deaths": 543,
         "home_time": 731.1968366,
         "covid_cases_t_plus_one": 34433,
         "_deepnote_index_column": 5838
        },
        {
         "geo_value_t_minus_5": 18,
         "time_value_t_minus_5": "2021-04-13T00:00:00.000000",
         "covid_cases_t_minus_5": 93692,
         "confirmed_covid_vist_t_minus_5": 0.2876983,
         "doctor_visits_t_minus_5": 2.395322,
         "hospital_admissions_t_minus_5": 2.191492,
         "covid_deaths_t_minus_5": 1610,
         "home_time_t_minus_5": 646.9744027,
         "geo_value_t_minus_4": 18,
         "time_value_t_minus_4": "2021-04-14T00:00:00.000000",
         "covid_cases_t_minus_4": 93753,
         "confirmed_covid_vist_t_minus_4": 0.2929365,
         "doctor_visits_t_minus_4": 2.749491,
         "hospital_admissions_t_minus_4": 2.07877,
         "covid_deaths_t_minus_4": 1614,
         "home_time_t_minus_4": 628.4778157,
         "geo_value_t_minus_3": 18,
         "time_value_t_minus_3": "2021-04-15T00:00:00.000000",
         "covid_cases_t_minus_3": 93833,
         "confirmed_covid_vist_t_minus_3": 0.3592683,
         "doctor_visits_t_minus_3": 2.867404,
         "hospital_admissions_t_minus_3": 1.93144,
         "covid_deaths_t_minus_3": 1616,
         "home_time_t_minus_3": 323.4446337,
         "geo_value_t_minus_2": 18,
         "time_value_t_minus_2": "2021-04-16T00:00:00.000000",
         "covid_cases_t_minus_2": 93890,
         "confirmed_covid_vist_t_minus_2": 0.3376632,
         "doctor_visits_t_minus_2": 2.536906,
         "hospital_admissions_t_minus_2": 1.819021,
         "covid_deaths_t_minus_2": 1617,
         "home_time_t_minus_2": 609.21843,
         "geo_value_t_minus_1": 18,
         "time_value_t_minus_1": "2021-04-17T00:00:00.000000",
         "covid_cases_t_minus_1": 93949,
         "confirmed_covid_vist_t_minus_1": 0.2839415,
         "doctor_visits_t_minus_1": 2.781483,
         "hospital_admissions_t_minus_1": 1.722905,
         "covid_deaths_t_minus_1": 1620,
         "home_time_t_minus_1": 609.21843,
         "geo_value": 18,
         "time_value": "2021-04-18T00:00:00.000000",
         "covid_cases": 93998,
         "confirmed_covid_visit": 0.258365,
         "doctor_visits": 2.915886,
         "hospital_admissions": 1.475626,
         "covid_deaths": 1620,
         "home_time": 609.21843,
         "covid_cases_t_plus_one": 94029,
         "_deepnote_index_column": 1256
        },
        {
         "geo_value_t_minus_5": 16,
         "time_value_t_minus_5": "2021-04-13T00:00:00.000000",
         "covid_cases_t_minus_5": 80952,
         "confirmed_covid_vist_t_minus_5": 0.1692823,
         "doctor_visits_t_minus_5": 4.964492,
         "hospital_admissions_t_minus_5": 1.322118,
         "covid_deaths_t_minus_5": 1248,
         "home_time_t_minus_5": 771.0769231,
         "geo_value_t_minus_4": 16,
         "time_value_t_minus_4": "2021-04-14T00:00:00.000000",
         "covid_cases_t_minus_4": 81055,
         "confirmed_covid_vist_t_minus_4": 0.1594899,
         "doctor_visits_t_minus_4": 4.733686,
         "hospital_admissions_t_minus_4": 1.481933,
         "covid_deaths_t_minus_4": 1256,
         "home_time_t_minus_4": 741.5120308,
         "geo_value_t_minus_3": 16,
         "time_value_t_minus_3": "2021-04-15T00:00:00.000000",
         "covid_cases_t_minus_3": 81161,
         "confirmed_covid_vist_t_minus_3": 0.1641874,
         "doctor_visits_t_minus_3": 4.470643,
         "hospital_admissions_t_minus_3": 1.574993,
         "covid_deaths_t_minus_3": 1255,
         "home_time_t_minus_3": 340.5834137,
         "geo_value_t_minus_2": 16,
         "time_value_t_minus_2": "2021-04-16T00:00:00.000000",
         "covid_cases_t_minus_2": 81260,
         "confirmed_covid_vist_t_minus_2": 0.1667985,
         "doctor_visits_t_minus_2": 4.33732,
         "hospital_admissions_t_minus_2": 1.739502,
         "covid_deaths_t_minus_2": 1254,
         "home_time_t_minus_2": 712.5905588,
         "geo_value_t_minus_1": 16,
         "time_value_t_minus_1": "2021-04-17T00:00:00.000000",
         "covid_cases_t_minus_1": 81367,
         "confirmed_covid_vist_t_minus_1": 0.1527214,
         "doctor_visits_t_minus_1": 3.874062,
         "hospital_admissions_t_minus_1": 1.96448,
         "covid_deaths_t_minus_1": 1256,
         "home_time_t_minus_1": 712.5905588,
         "geo_value": 16,
         "time_value": "2021-04-18T00:00:00.000000",
         "covid_cases": 81446,
         "confirmed_covid_visit": 0.1633983,
         "doctor_visits": 3.328793,
         "hospital_admissions": 2.226393,
         "covid_deaths": 1256,
         "home_time": 712.5905588,
         "covid_cases_t_plus_one": 81519,
         "_deepnote_index_column": 418
        },
        {
         "geo_value_t_minus_5": 2,
         "time_value_t_minus_5": "2021-04-13T00:00:00.000000",
         "covid_cases_t_minus_5": 19149,
         "confirmed_covid_vist_t_minus_5": 0.3260408,
         "doctor_visits_t_minus_5": 2.550761,
         "hospital_admissions_t_minus_5": 0.79958,
         "covid_deaths_t_minus_5": 248,
         "home_time_t_minus_5": 671.5925926,
         "geo_value_t_minus_4": 2,
         "time_value_t_minus_4": "2021-04-14T00:00:00.000000",
         "covid_cases_t_minus_4": 19193,
         "confirmed_covid_vist_t_minus_4": 0.3419242,
         "doctor_visits_t_minus_4": 2.311074,
         "hospital_admissions_t_minus_4": 0.684848,
         "covid_deaths_t_minus_4": 248,
         "home_time_t_minus_4": 636.2345679,
         "geo_value_t_minus_3": 2,
         "time_value_t_minus_3": "2021-04-15T00:00:00.000000",
         "covid_cases_t_minus_3": 19220,
         "confirmed_covid_vist_t_minus_3": 0.2822819,
         "doctor_visits_t_minus_3": 2.142724,
         "hospital_admissions_t_minus_3": 0.569593,
         "covid_deaths_t_minus_3": 248,
         "home_time_t_minus_3": 294.9320988,
         "geo_value_t_minus_2": 2,
         "time_value_t_minus_2": "2021-04-16T00:00:00.000000",
         "covid_cases_t_minus_2": 19244,
         "confirmed_covid_vist_t_minus_2": 0.3025457,
         "doctor_visits_t_minus_2": 2.254699,
         "hospital_admissions_t_minus_2": 0.467063,
         "covid_deaths_t_minus_2": 248,
         "home_time_t_minus_2": 617.1111111,
         "geo_value_t_minus_1": 2,
         "time_value_t_minus_1": "2021-04-17T00:00:00.000000",
         "covid_cases_t_minus_1": 19260,
         "confirmed_covid_vist_t_minus_1": 0.2961738,
         "doctor_visits_t_minus_1": 2.131779,
         "hospital_admissions_t_minus_1": 0.38121,
         "covid_deaths_t_minus_1": 249,
         "home_time_t_minus_1": 617.1111111,
         "geo_value": 2,
         "time_value": "2021-04-18T00:00:00.000000",
         "covid_cases": 19272,
         "confirmed_covid_visit": 0.2713325,
         "doctor_visits": 2.057578,
         "hospital_admissions": 0.318548,
         "covid_deaths": 249,
         "home_time": 617.1111111,
         "covid_cases_t_plus_one": 19282,
         "_deepnote_index_column": 6521
        },
        {
         "geo_value_t_minus_5": 22,
         "time_value_t_minus_5": "2021-04-13T00:00:00.000000",
         "covid_cases_t_minus_5": 253547,
         "confirmed_covid_vist_t_minus_5": 0.3412325,
         "doctor_visits_t_minus_5": 2.952494,
         "hospital_admissions_t_minus_5": 0.471051,
         "covid_deaths_t_minus_5": 3623,
         "home_time_t_minus_5": 743.5694367,
         "geo_value_t_minus_4": 22,
         "time_value_t_minus_4": "2021-04-14T00:00:00.000000",
         "covid_cases_t_minus_4": 253805,
         "confirmed_covid_vist_t_minus_4": 0.3289905,
         "doctor_visits_t_minus_4": 2.849908,
         "hospital_admissions_t_minus_4": 0.568412,
         "covid_deaths_t_minus_4": 3648,
         "home_time_t_minus_4": 723.8856027,
         "geo_value_t_minus_3": 22,
         "time_value_t_minus_3": "2021-04-15T00:00:00.000000",
         "covid_cases_t_minus_3": 254059,
         "confirmed_covid_vist_t_minus_3": 0.3466813,
         "doctor_visits_t_minus_3": 2.925724,
         "hospital_admissions_t_minus_3": 0.55816,
         "covid_deaths_t_minus_3": 3653,
         "home_time_t_minus_3": 336.6612633,
         "geo_value_t_minus_2": 22,
         "time_value_t_minus_2": "2021-04-16T00:00:00.000000",
         "covid_cases_t_minus_2": 254270,
         "confirmed_covid_vist_t_minus_2": 0.3404102,
         "doctor_visits_t_minus_2": 2.805146,
         "hospital_admissions_t_minus_2": 0.66571,
         "covid_deaths_t_minus_2": 3662,
         "home_time_t_minus_2": 696.0597432,
         "geo_value_t_minus_1": 22,
         "time_value_t_minus_1": "2021-04-17T00:00:00.000000",
         "covid_cases_t_minus_1": 254516,
         "confirmed_covid_vist_t_minus_1": 0.3341201,
         "doctor_visits_t_minus_1": 2.759384,
         "hospital_admissions_t_minus_1": 0.78769,
         "covid_deaths_t_minus_1": 3674,
         "home_time_t_minus_1": 696.0597432,
         "geo_value": 22,
         "time_value": "2021-04-18T00:00:00.000000",
         "covid_cases": 254670,
         "confirmed_covid_visit": 0.3644106,
         "doctor_visits": 2.845004,
         "hospital_admissions": 0.972583,
         "covid_deaths": 3674,
         "home_time": 696.0597432,
         "covid_cases_t_plus_one": 254817,
         "_deepnote_index_column": 5413
        },
        {
         "geo_value_t_minus_5": 15,
         "time_value_t_minus_5": "2021-04-13T00:00:00.000000",
         "covid_cases_t_minus_5": 75075,
         "confirmed_covid_vist_t_minus_5": 0.1934607,
         "doctor_visits_t_minus_5": 1.810664,
         "hospital_admissions_t_minus_5": 2.512968,
         "covid_deaths_t_minus_5": 999,
         "home_time_t_minus_5": 710.3621495,
         "geo_value_t_minus_4": 15,
         "time_value_t_minus_4": "2021-04-14T00:00:00.000000",
         "covid_cases_t_minus_4": 75108,
         "confirmed_covid_vist_t_minus_4": 0.1807715,
         "doctor_visits_t_minus_4": 2.01524,
         "hospital_admissions_t_minus_4": 2.437686,
         "covid_deaths_t_minus_4": 999,
         "home_time_t_minus_4": 686.4275701,
         "geo_value_t_minus_3": 15,
         "time_value_t_minus_3": "2021-04-15T00:00:00.000000",
         "covid_cases_t_minus_3": 75140,
         "confirmed_covid_vist_t_minus_3": 0.1616807,
         "doctor_visits_t_minus_3": 1.849077,
         "hospital_admissions_t_minus_3": 2.227898,
         "covid_deaths_t_minus_3": 1002,
         "home_time_t_minus_3": 305.2897196,
         "geo_value_t_minus_2": 15,
         "time_value_t_minus_2": "2021-04-16T00:00:00.000000",
         "covid_cases_t_minus_2": 75176,
         "confirmed_covid_vist_t_minus_2": 0.1200384,
         "doctor_visits_t_minus_2": 1.573583,
         "hospital_admissions_t_minus_2": 1.991363,
         "covid_deaths_t_minus_2": 1007,
         "home_time_t_minus_2": 653.0841121,
         "geo_value_t_minus_1": 15,
         "time_value_t_minus_1": "2021-04-17T00:00:00.000000",
         "covid_cases_t_minus_1": 75195,
         "confirmed_covid_vist_t_minus_1": 0.1127277,
         "doctor_visits_t_minus_1": 1.673901,
         "hospital_admissions_t_minus_1": 1.725588,
         "covid_deaths_t_minus_1": 1009,
         "home_time_t_minus_1": 653.0841121,
         "geo_value": 15,
         "time_value": "2021-04-18T00:00:00.000000",
         "covid_cases": 75220,
         "confirmed_covid_visit": 0.2071007,
         "doctor_visits": 1.772886,
         "hospital_admissions": 1.451723,
         "covid_deaths": 1009,
         "home_time": 653.0841121,
         "covid_cases_t_plus_one": 75240,
         "_deepnote_index_column": 8959
        }
       ]
      },
      "text/plain": "      geo_value_t_minus_5 time_value_t_minus_5  covid_cases_t_minus_5  \\\n0                    16.0           2020-02-20                    0.0   \n5420                  8.0           2020-02-20                    0.0   \n4995                 22.0           2020-02-20                    0.0   \n4570                 24.0           2020-02-20                    0.0   \n7178                 20.0           2020-02-20                    0.0   \n...                   ...                  ...                    ...   \n1256                 18.0           2021-04-13                93692.0   \n418                  16.0           2021-04-13                80952.0   \n6521                  2.0           2021-04-13                19149.0   \n5413                 22.0           2021-04-13               253547.0   \n8959                 15.0           2021-04-13                75075.0   \n\n      confirmed_covid_vist_t_minus_5  doctor_visits_t_minus_5  \\\n0                           0.012182                 0.000000   \n5420                        0.020132                 0.000000   \n4995                        0.002757                 0.000000   \n4570                        0.006745                 0.000000   \n7178                        0.008506                 0.109650   \n...                              ...                      ...   \n1256                        0.287698                 2.395322   \n418                         0.169282                 4.964492   \n6521                        0.326041                 2.550761   \n5413                        0.341232                 2.952494   \n8959                        0.193461                 1.810664   \n\n      hospital_admissions_t_minus_5  covid_deaths_t_minus_5  \\\n0                          0.110992                     0.0   \n5420                       0.151167                     0.0   \n4995                       0.087202                     0.0   \n4570                       0.113582                     0.0   \n7178                       0.126737                     0.0   \n...                             ...                     ...   \n1256                       2.191492                  1610.0   \n418                        1.322118                  1248.0   \n6521                       0.799580                   248.0   \n5413                       0.471051                  3623.0   \n8959                       2.512968                   999.0   \n\n      home_time_t_minus_5  geo_value_t_minus_4 time_value_t_minus_4  ...  \\\n0              609.137236                 16.0           2020-02-21  ...   \n5420           524.377586                  8.0           2020-02-21  ...   \n4995           614.866221                 22.0           2020-02-21  ...   \n4570           606.198718                 24.0           2020-02-21  ...   \n7178           651.923579                 20.0           2020-02-21  ...   \n...                   ...                  ...                  ...  ...   \n1256           646.974403                 18.0           2021-04-14  ...   \n418            771.076923                 16.0           2021-04-14  ...   \n6521           671.592593                  2.0           2021-04-14  ...   \n5413           743.569437                 22.0           2021-04-14  ...   \n8959           710.362149                 15.0           2021-04-14  ...   \n\n      home_time_t_minus_1  geo_value  time_value  covid_cases  \\\n0              597.015370       16.0  2020-02-25          0.0   \n5420           531.326425        8.0  2020-02-25          0.0   \n4995           597.209588       22.0  2020-02-25          0.0   \n4570           580.074176       24.0  2020-02-25          0.0   \n7178           647.134203       20.0  2020-02-25          2.0   \n...                   ...        ...         ...          ...   \n1256           609.218430       18.0  2021-04-18      93998.0   \n418            712.590559       16.0  2021-04-18      81446.0   \n6521           617.111111        2.0  2021-04-18      19272.0   \n5413           696.059743       22.0  2021-04-18     254670.0   \n8959           653.084112       15.0  2021-04-18      75220.0   \n\n      confirmed_covid_visit  doctor_visits  hospital_admissions covid_deaths  \\\n0                  0.013187       0.000000             0.121372          0.0   \n5420               0.015943       0.000000             0.147597          0.0   \n4995               0.003081       0.000000             0.089553          0.0   \n4570               0.009937       0.000000             0.137807          0.0   \n7178               0.011718       0.094316             0.095950          0.0   \n...                     ...            ...                  ...          ...   \n1256               0.258365       2.915886             1.475626       1620.0   \n418                0.163398       3.328793             2.226393       1256.0   \n6521               0.271332       2.057578             0.318548        249.0   \n5413               0.364411       2.845004             0.972583       3674.0   \n8959               0.207101       1.772886             1.451723       1009.0   \n\n       home_time  covid_cases_t_plus_one  \n0     332.184084                     0.0  \n5420  280.801724                     0.0  \n4995  341.059086                     0.0  \n4570  345.158425                     0.0  \n7178  338.880708                     4.0  \n...          ...                     ...  \n1256  609.218430                 94029.0  \n418   712.590559                 81519.0  \n6521  617.111111                 19282.0  \n5413  696.059743                254817.0  \n8959  653.084112                 75240.0  \n\n[8369 rows x 49 columns]",
      "text/html": "<div>\n<style scoped>\n    .dataframe tbody tr th:only-of-type {\n        vertical-align: middle;\n    }\n\n    .dataframe tbody tr th {\n        vertical-align: top;\n    }\n\n    .dataframe thead th {\n        text-align: right;\n    }\n</style>\n<table border=\"1\" class=\"dataframe\">\n  <thead>\n    <tr style=\"text-align: right;\">\n      <th></th>\n      <th>geo_value_t_minus_5</th>\n      <th>time_value_t_minus_5</th>\n      <th>covid_cases_t_minus_5</th>\n      <th>confirmed_covid_vist_t_minus_5</th>\n      <th>doctor_visits_t_minus_5</th>\n      <th>hospital_admissions_t_minus_5</th>\n      <th>covid_deaths_t_minus_5</th>\n      <th>home_time_t_minus_5</th>\n      <th>geo_value_t_minus_4</th>\n      <th>time_value_t_minus_4</th>\n      <th>...</th>\n      <th>home_time_t_minus_1</th>\n      <th>geo_value</th>\n      <th>time_value</th>\n      <th>covid_cases</th>\n      <th>confirmed_covid_visit</th>\n      <th>doctor_visits</th>\n      <th>hospital_admissions</th>\n      <th>covid_deaths</th>\n      <th>home_time</th>\n      <th>covid_cases_t_plus_one</th>\n    </tr>\n  </thead>\n  <tbody>\n    <tr>\n      <th>0</th>\n      <td>16.0</td>\n      <td>2020-02-20</td>\n      <td>0.0</td>\n      <td>0.012182</td>\n      <td>0.000000</td>\n      <td>0.110992</td>\n      <td>0.0</td>\n      <td>609.137236</td>\n      <td>16.0</td>\n      <td>2020-02-21</td>\n      <td>...</td>\n      <td>597.015370</td>\n      <td>16.0</td>\n      <td>2020-02-25</td>\n      <td>0.0</td>\n      <td>0.013187</td>\n      <td>0.000000</td>\n      <td>0.121372</td>\n      <td>0.0</td>\n      <td>332.184084</td>\n      <td>0.0</td>\n    </tr>\n    <tr>\n      <th>5420</th>\n      <td>8.0</td>\n      <td>2020-02-20</td>\n      <td>0.0</td>\n      <td>0.020132</td>\n      <td>0.000000</td>\n      <td>0.151167</td>\n      <td>0.0</td>\n      <td>524.377586</td>\n      <td>8.0</td>\n      <td>2020-02-21</td>\n      <td>...</td>\n      <td>531.326425</td>\n      <td>8.0</td>\n      <td>2020-02-25</td>\n      <td>0.0</td>\n      <td>0.015943</td>\n      <td>0.000000</td>\n      <td>0.147597</td>\n      <td>0.0</td>\n      <td>280.801724</td>\n      <td>0.0</td>\n    </tr>\n    <tr>\n      <th>4995</th>\n      <td>22.0</td>\n      <td>2020-02-20</td>\n      <td>0.0</td>\n      <td>0.002757</td>\n      <td>0.000000</td>\n      <td>0.087202</td>\n      <td>0.0</td>\n      <td>614.866221</td>\n      <td>22.0</td>\n      <td>2020-02-21</td>\n      <td>...</td>\n      <td>597.209588</td>\n      <td>22.0</td>\n      <td>2020-02-25</td>\n      <td>0.0</td>\n      <td>0.003081</td>\n      <td>0.000000</td>\n      <td>0.089553</td>\n      <td>0.0</td>\n      <td>341.059086</td>\n      <td>0.0</td>\n    </tr>\n    <tr>\n      <th>4570</th>\n      <td>24.0</td>\n      <td>2020-02-20</td>\n      <td>0.0</td>\n      <td>0.006745</td>\n      <td>0.000000</td>\n      <td>0.113582</td>\n      <td>0.0</td>\n      <td>606.198718</td>\n      <td>24.0</td>\n      <td>2020-02-21</td>\n      <td>...</td>\n      <td>580.074176</td>\n      <td>24.0</td>\n      <td>2020-02-25</td>\n      <td>0.0</td>\n      <td>0.009937</td>\n      <td>0.000000</td>\n      <td>0.137807</td>\n      <td>0.0</td>\n      <td>345.158425</td>\n      <td>0.0</td>\n    </tr>\n    <tr>\n      <th>7178</th>\n      <td>20.0</td>\n      <td>2020-02-20</td>\n      <td>0.0</td>\n      <td>0.008506</td>\n      <td>0.109650</td>\n      <td>0.126737</td>\n      <td>0.0</td>\n      <td>651.923579</td>\n      <td>20.0</td>\n      <td>2020-02-21</td>\n      <td>...</td>\n      <td>647.134203</td>\n      <td>20.0</td>\n      <td>2020-02-25</td>\n      <td>2.0</td>\n      <td>0.011718</td>\n      <td>0.094316</td>\n      <td>0.095950</td>\n      <td>0.0</td>\n      <td>338.880708</td>\n      <td>4.0</td>\n    </tr>\n    <tr>\n      <th>...</th>\n      <td>...</td>\n      <td>...</td>\n      <td>...</td>\n      <td>...</td>\n      <td>...</td>\n      <td>...</td>\n      <td>...</td>\n      <td>...</td>\n      <td>...</td>\n      <td>...</td>\n      <td>...</td>\n      <td>...</td>\n      <td>...</td>\n      <td>...</td>\n      <td>...</td>\n      <td>...</td>\n      <td>...</td>\n      <td>...</td>\n      <td>...</td>\n      <td>...</td>\n      <td>...</td>\n    </tr>\n    <tr>\n      <th>1256</th>\n      <td>18.0</td>\n      <td>2021-04-13</td>\n      <td>93692.0</td>\n      <td>0.287698</td>\n      <td>2.395322</td>\n      <td>2.191492</td>\n      <td>1610.0</td>\n      <td>646.974403</td>\n      <td>18.0</td>\n      <td>2021-04-14</td>\n      <td>...</td>\n      <td>609.218430</td>\n      <td>18.0</td>\n      <td>2021-04-18</td>\n      <td>93998.0</td>\n      <td>0.258365</td>\n      <td>2.915886</td>\n      <td>1.475626</td>\n      <td>1620.0</td>\n      <td>609.218430</td>\n      <td>94029.0</td>\n    </tr>\n    <tr>\n      <th>418</th>\n      <td>16.0</td>\n      <td>2021-04-13</td>\n      <td>80952.0</td>\n      <td>0.169282</td>\n      <td>4.964492</td>\n      <td>1.322118</td>\n      <td>1248.0</td>\n      <td>771.076923</td>\n      <td>16.0</td>\n      <td>2021-04-14</td>\n      <td>...</td>\n      <td>712.590559</td>\n      <td>16.0</td>\n      <td>2021-04-18</td>\n      <td>81446.0</td>\n      <td>0.163398</td>\n      <td>3.328793</td>\n      <td>2.226393</td>\n      <td>1256.0</td>\n      <td>712.590559</td>\n      <td>81519.0</td>\n    </tr>\n    <tr>\n      <th>6521</th>\n      <td>2.0</td>\n      <td>2021-04-13</td>\n      <td>19149.0</td>\n      <td>0.326041</td>\n      <td>2.550761</td>\n      <td>0.799580</td>\n      <td>248.0</td>\n      <td>671.592593</td>\n      <td>2.0</td>\n      <td>2021-04-14</td>\n      <td>...</td>\n      <td>617.111111</td>\n      <td>2.0</td>\n      <td>2021-04-18</td>\n      <td>19272.0</td>\n      <td>0.271332</td>\n      <td>2.057578</td>\n      <td>0.318548</td>\n      <td>249.0</td>\n      <td>617.111111</td>\n      <td>19282.0</td>\n    </tr>\n    <tr>\n      <th>5413</th>\n      <td>22.0</td>\n      <td>2021-04-13</td>\n      <td>253547.0</td>\n      <td>0.341232</td>\n      <td>2.952494</td>\n      <td>0.471051</td>\n      <td>3623.0</td>\n      <td>743.569437</td>\n      <td>22.0</td>\n      <td>2021-04-14</td>\n      <td>...</td>\n      <td>696.059743</td>\n      <td>22.0</td>\n      <td>2021-04-18</td>\n      <td>254670.0</td>\n      <td>0.364411</td>\n      <td>2.845004</td>\n      <td>0.972583</td>\n      <td>3674.0</td>\n      <td>696.059743</td>\n      <td>254817.0</td>\n    </tr>\n    <tr>\n      <th>8959</th>\n      <td>15.0</td>\n      <td>2021-04-13</td>\n      <td>75075.0</td>\n      <td>0.193461</td>\n      <td>1.810664</td>\n      <td>2.512968</td>\n      <td>999.0</td>\n      <td>710.362149</td>\n      <td>15.0</td>\n      <td>2021-04-14</td>\n      <td>...</td>\n      <td>653.084112</td>\n      <td>15.0</td>\n      <td>2021-04-18</td>\n      <td>75220.0</td>\n      <td>0.207101</td>\n      <td>1.772886</td>\n      <td>1.451723</td>\n      <td>1009.0</td>\n      <td>653.084112</td>\n      <td>75240.0</td>\n    </tr>\n  </tbody>\n</table>\n<p>8369 rows × 49 columns</p>\n</div>"
     },
     "metadata": {}
    }
   ],
   "execution_count": null
  },
  {
   "cell_type": "code",
   "source": "imputed_clean_good_full_df.to_csv('imputed_clean_good_full_df_GoogleDropped_6timesteps.csv')",
   "metadata": {
    "tags": [],
    "cell_id": "00046-d0ca5e42-3773-4266-a24c-ad899b02941f",
    "deepnote_to_be_reexecuted": false,
    "source_hash": "3ad8597a",
    "execution_start": 1638672387865,
    "execution_millis": 4423,
    "deepnote_cell_type": "code"
   },
   "outputs": [],
   "execution_count": null
  },
  {
   "cell_type": "code",
   "metadata": {
    "tags": [],
    "cell_id": "00049-297ff3e5-b050-44ee-8cde-306c8a8d4c06",
    "deepnote_to_be_reexecuted": false,
    "source_hash": "70b20014",
    "execution_start": 1638655547033,
    "execution_millis": 45,
    "deepnote_cell_type": "code"
   },
   "source": "#imputed_clean_good_full_df.to_csv('imputed_clean_good_full_df_HomeTimeDropped_GoogleDropped.csv')",
   "outputs": [],
   "execution_count": null
  },
  {
   "cell_type": "code",
   "metadata": {
    "tags": [],
    "cell_id": "00043-ad78faf8-9065-47c5-a4ba-2904e4b0dfa4",
    "deepnote_to_be_reexecuted": false,
    "source_hash": "231a714a",
    "execution_start": 1638655547094,
    "execution_millis": 2716,
    "deepnote_cell_type": "code"
   },
   "source": "# ffill, limit 5 \nimpute_df_5 = sorted_data_join.copy()\nimpute_df_5['confirmed_covid_visit'] = impute_df_5['confirmed_covid_visit'].fillna(method='ffill',axis = None, limit = 5, downcast=None)\nimpute_df_5['doctor_visits'] = impute_df_5['doctor_visits'].fillna(method='ffill',axis = None, limit = 5, downcast=None)\nimpute_df_5['hospital_admissions'] = impute_df_5['hospital_admissions'].fillna(method='ffill',axis = None, limit = 5, downcast=None)\nimpute_df_5['google_anosmia_volume'] = impute_df_5['google_anosmia_volume'].fillna(method='ffill',axis = None, limit = 5, downcast=None)\nimpute_df_5['google_ageusia_volume'] = impute_df_5['google_ageusia_volume'].fillna(method='ffill',axis = None, limit = 5, downcast=None)\nimpute_df_5.isna().sum()\n\nimpute_df_5 = impute_df_5.dropna()\nprint(impute_df_5.shape)\n\n# Imputed data!! \nsorted_impute_join_5 = impute_df_5.reset_index(drop=True)\nt_plus_1_impute_5 = sorted_impute_join_5.iloc[2:,[0,1,2]].reset_index(drop=True)\nt_minus_1_impute_5 = sorted_impute_join_5.iloc[0:7977,:].reset_index(drop=True)\nt_nothing_impute_5 = sorted_impute_join_5.iloc[1:7978,:].reset_index(drop=True)\n\nt_minus_1_labels = {'geo_value':'geo_value_t_minus_1','time_value':'time_value_t_minus_1',\n 'covid_cases' : 'covid_cases_t_minus_1',\n 'confirmed_covid_visit': 'confirmed_covid_vist_t_minus_1',\n 'doctor_visits': 'doctor_visits_t_minus_1',\n 'hospital_admissions':'hospital_admissions_t_minus_1',\n 'google_anosmia_volume' : 'google_anosmia_volume_t_minus_1',\n 'google_ageusia_volume':'google_ageusia_volume_t_minus_1',\n 'covid_deaths':'covid_deaths_t_minus'}\nt_minus_1_fixed_impute_5 = t_minus_1_impute_5.rename(t_minus_1_labels,axis=1)\nt_plus_1_label = {'covid_cases':'covid_cases_t_plus_one','geo_value':'geo_value_t_plus_1',\n'time_value':'time_value_t_plus_1'}\nt_plus_1_fixed_impute_5 = t_plus_1_impute_5.rename(t_plus_1_label,axis=1)\n\nfull_df_impute_5 =  t_nothing_impute_5.join([t_minus_1_fixed_impute_5,t_plus_1_fixed_impute_5])\n\nimputed_good_data_5 = np.array([])\nfor index in np.arange(full_df_impute_5.shape[0]):\n    if full_df_impute_5.iloc[index,:]['geo_value'] == full_df_impute_5.iloc[index,:]['geo_value_t_minus_1'] == full_df_impute_5.iloc[index,:]['geo_value_t_plus_1']:\n        if full_df_impute_5.iloc[index,:]['time_value'] == full_df_impute_5.iloc[index,:]['time_value_t_minus_1'] + datetime.timedelta(days=1):\n            if full_df_impute_5.iloc[index,:]['time_value']+ datetime.timedelta(days=1) == full_df_impute_5.iloc[index,:]['time_value_t_plus_1']:\n                imputed_good_data_5= np.append(imputed_good_data_5 , index)\nprint(len(imputed_good_data_5))\n\nimputed_good_full_df_5 = full_df_impute_5.iloc[imputed_good_data_5,:]\n\nimputed_clean_good_full_df_5 = imputed_good_full_df_5.drop(columns = ['geo_value_t_plus_1','time_value_t_plus_1'])\n#bins = [pd.Timestamp('2020-01-01 00:00:00'),\n # pd.Timestamp('2020-06-10 00:00:00'),\n  #pd.Timestamp('2020-07-30 00:00:00'),\n  #pd.Timestamp('2020-10-01 00:00:00'),\n  #pd.Timestamp('2021-01-10 00:00:00'),\n  #pd.Timestamp('2021-03-15 00:00:00'),\n  #pd.Timestamp('2021-06-20 00:00:00'),\n  #pd.Timestamp('2021-09-01 00:00:00'),\n  #pd.Timestamp('2021-12-01 00:00:00')]\nbins = [pd.Timestamp('2020-01-01 00:00:00'),\n  pd.Timestamp('2020-06-18 00:00:00'),\n  pd.Timestamp('2020-10-01 00:00:00'),\n  pd.Timestamp('2021-04-01 00:00:00'),\n  pd.Timestamp('2021-06-20 00:00:00'),\n  pd.Timestamp('2021-12-01 00:00:00')]\n#labels = ['2020-01-01' , '2020-06-10', '2020-07-30' ,'2020-10-01' ,'2021-01-10 ','2021-03-15','2021-06-20', '2021-09-01', '2021-12-01']\nlabels = ['2020-01-01' , '2020-06-18', '2020-10-01' ,'2021-04-01' ,'2021-06-20','2021-12-01' ]\n#imputed_clean_good_full_df_5['time_value'] = pd.cut(imputed_clean_good_full_df_5['time_value'], bins , labels)\n#imputed_clean_good_full_df_5['time_value_t_minus_1'] = pd.cut(imputed_clean_good_full_df_5['time_value_t_minus_1'], bins , labels) \nind = (imputed_clean_good_full_df_5['geo_value'] != '06113') & (imputed_clean_good_full_df_5['geo_value'] !='06015') & (imputed_clean_good_full_df_5['geo_value'] !='06021') &  (imputed_clean_good_full_df_5['geo_value'] !='06087') & (imputed_clean_good_full_df_5['geo_value'] !='06039') & (imputed_clean_good_full_df_5['geo_value'] !='06061') & (imputed_clean_good_full_df_5['geo_value'] !='06077') & (imputed_clean_good_full_df_5['geo_value'] != '06069')\nimputed_clean_good_full_df_5 = imputed_clean_good_full_df_5[ind]\nordered_geos = imputed_clean_good_full_df_5.groupby('geo_value').max().sort_values(by = 'covid_cases').reset_index()['geo_value'].to_numpy()\nordered_geos_labels = dict(zip(ordered_geos, np.arange(1,15)))\nimputed_clean_good_full_df_5['geo_value'] = imputed_clean_good_full_df_5['geo_value'].replace(ordered_geos_labels)\nimputed_clean_good_full_df_5['geo_value_t_minus_1'] = imputed_clean_good_full_df_5['geo_value_t_minus_1'].replace(ordered_geos_labels)\n\nimputed_clean_good_full_df_5.to_csv('imputed_clean_good_full_df_5_noHome.csv')",
   "outputs": [
    {
     "output_type": "error",
     "ename": "KeyError",
     "evalue": "'google_anosmia_volume'",
     "traceback": [
      "\u001b[0;31m---------------------------------------------------------------------------\u001b[0m",
      "\u001b[0;31mKeyError\u001b[0m                                  Traceback (most recent call last)",
      "\u001b[0;32m/shared-libs/python3.7/py/lib/python3.7/site-packages/pandas/core/indexes/base.py\u001b[0m in \u001b[0;36mget_loc\u001b[0;34m(self, key, method, tolerance)\u001b[0m\n\u001b[1;32m   3080\u001b[0m             \u001b[0;32mtry\u001b[0m\u001b[0;34m:\u001b[0m\u001b[0;34m\u001b[0m\u001b[0;34m\u001b[0m\u001b[0m\n\u001b[0;32m-> 3081\u001b[0;31m                 \u001b[0;32mreturn\u001b[0m \u001b[0mself\u001b[0m\u001b[0;34m.\u001b[0m\u001b[0m_engine\u001b[0m\u001b[0;34m.\u001b[0m\u001b[0mget_loc\u001b[0m\u001b[0;34m(\u001b[0m\u001b[0mcasted_key\u001b[0m\u001b[0;34m)\u001b[0m\u001b[0;34m\u001b[0m\u001b[0;34m\u001b[0m\u001b[0m\n\u001b[0m\u001b[1;32m   3082\u001b[0m             \u001b[0;32mexcept\u001b[0m \u001b[0mKeyError\u001b[0m \u001b[0;32mas\u001b[0m \u001b[0merr\u001b[0m\u001b[0;34m:\u001b[0m\u001b[0;34m\u001b[0m\u001b[0;34m\u001b[0m\u001b[0m\n",
      "\u001b[0;32mpandas/_libs/index.pyx\u001b[0m in \u001b[0;36mpandas._libs.index.IndexEngine.get_loc\u001b[0;34m()\u001b[0m\n",
      "\u001b[0;32mpandas/_libs/index.pyx\u001b[0m in \u001b[0;36mpandas._libs.index.IndexEngine.get_loc\u001b[0;34m()\u001b[0m\n",
      "\u001b[0;32mpandas/_libs/hashtable_class_helper.pxi\u001b[0m in \u001b[0;36mpandas._libs.hashtable.PyObjectHashTable.get_item\u001b[0;34m()\u001b[0m\n",
      "\u001b[0;32mpandas/_libs/hashtable_class_helper.pxi\u001b[0m in \u001b[0;36mpandas._libs.hashtable.PyObjectHashTable.get_item\u001b[0;34m()\u001b[0m\n",
      "\u001b[0;31mKeyError\u001b[0m: 'google_anosmia_volume'",
      "\nThe above exception was the direct cause of the following exception:\n",
      "\u001b[0;31mKeyError\u001b[0m                                  Traceback (most recent call last)",
      "\u001b[0;32m<ipython-input-36-11d0c362d653>\u001b[0m in \u001b[0;36m<module>\u001b[0;34m\u001b[0m\n\u001b[1;32m      4\u001b[0m \u001b[0mimpute_df_5\u001b[0m\u001b[0;34m[\u001b[0m\u001b[0;34m'doctor_visits'\u001b[0m\u001b[0;34m]\u001b[0m \u001b[0;34m=\u001b[0m \u001b[0mimpute_df_5\u001b[0m\u001b[0;34m[\u001b[0m\u001b[0;34m'doctor_visits'\u001b[0m\u001b[0;34m]\u001b[0m\u001b[0;34m.\u001b[0m\u001b[0mfillna\u001b[0m\u001b[0;34m(\u001b[0m\u001b[0mmethod\u001b[0m\u001b[0;34m=\u001b[0m\u001b[0;34m'ffill'\u001b[0m\u001b[0;34m,\u001b[0m\u001b[0maxis\u001b[0m \u001b[0;34m=\u001b[0m \u001b[0;32mNone\u001b[0m\u001b[0;34m,\u001b[0m \u001b[0mlimit\u001b[0m \u001b[0;34m=\u001b[0m \u001b[0;36m5\u001b[0m\u001b[0;34m,\u001b[0m \u001b[0mdowncast\u001b[0m\u001b[0;34m=\u001b[0m\u001b[0;32mNone\u001b[0m\u001b[0;34m)\u001b[0m\u001b[0;34m\u001b[0m\u001b[0;34m\u001b[0m\u001b[0m\n\u001b[1;32m      5\u001b[0m \u001b[0mimpute_df_5\u001b[0m\u001b[0;34m[\u001b[0m\u001b[0;34m'hospital_admissions'\u001b[0m\u001b[0;34m]\u001b[0m \u001b[0;34m=\u001b[0m \u001b[0mimpute_df_5\u001b[0m\u001b[0;34m[\u001b[0m\u001b[0;34m'hospital_admissions'\u001b[0m\u001b[0;34m]\u001b[0m\u001b[0;34m.\u001b[0m\u001b[0mfillna\u001b[0m\u001b[0;34m(\u001b[0m\u001b[0mmethod\u001b[0m\u001b[0;34m=\u001b[0m\u001b[0;34m'ffill'\u001b[0m\u001b[0;34m,\u001b[0m\u001b[0maxis\u001b[0m \u001b[0;34m=\u001b[0m \u001b[0;32mNone\u001b[0m\u001b[0;34m,\u001b[0m \u001b[0mlimit\u001b[0m \u001b[0;34m=\u001b[0m \u001b[0;36m5\u001b[0m\u001b[0;34m,\u001b[0m \u001b[0mdowncast\u001b[0m\u001b[0;34m=\u001b[0m\u001b[0;32mNone\u001b[0m\u001b[0;34m)\u001b[0m\u001b[0;34m\u001b[0m\u001b[0;34m\u001b[0m\u001b[0m\n\u001b[0;32m----> 6\u001b[0;31m \u001b[0mimpute_df_5\u001b[0m\u001b[0;34m[\u001b[0m\u001b[0;34m'google_anosmia_volume'\u001b[0m\u001b[0;34m]\u001b[0m \u001b[0;34m=\u001b[0m \u001b[0mimpute_df_5\u001b[0m\u001b[0;34m[\u001b[0m\u001b[0;34m'google_anosmia_volume'\u001b[0m\u001b[0;34m]\u001b[0m\u001b[0;34m.\u001b[0m\u001b[0mfillna\u001b[0m\u001b[0;34m(\u001b[0m\u001b[0mmethod\u001b[0m\u001b[0;34m=\u001b[0m\u001b[0;34m'ffill'\u001b[0m\u001b[0;34m,\u001b[0m\u001b[0maxis\u001b[0m \u001b[0;34m=\u001b[0m \u001b[0;32mNone\u001b[0m\u001b[0;34m,\u001b[0m \u001b[0mlimit\u001b[0m \u001b[0;34m=\u001b[0m \u001b[0;36m5\u001b[0m\u001b[0;34m,\u001b[0m \u001b[0mdowncast\u001b[0m\u001b[0;34m=\u001b[0m\u001b[0;32mNone\u001b[0m\u001b[0;34m)\u001b[0m\u001b[0;34m\u001b[0m\u001b[0;34m\u001b[0m\u001b[0m\n\u001b[0m\u001b[1;32m      7\u001b[0m \u001b[0mimpute_df_5\u001b[0m\u001b[0;34m[\u001b[0m\u001b[0;34m'google_ageusia_volume'\u001b[0m\u001b[0;34m]\u001b[0m \u001b[0;34m=\u001b[0m \u001b[0mimpute_df_5\u001b[0m\u001b[0;34m[\u001b[0m\u001b[0;34m'google_ageusia_volume'\u001b[0m\u001b[0;34m]\u001b[0m\u001b[0;34m.\u001b[0m\u001b[0mfillna\u001b[0m\u001b[0;34m(\u001b[0m\u001b[0mmethod\u001b[0m\u001b[0;34m=\u001b[0m\u001b[0;34m'ffill'\u001b[0m\u001b[0;34m,\u001b[0m\u001b[0maxis\u001b[0m \u001b[0;34m=\u001b[0m \u001b[0;32mNone\u001b[0m\u001b[0;34m,\u001b[0m \u001b[0mlimit\u001b[0m \u001b[0;34m=\u001b[0m \u001b[0;36m5\u001b[0m\u001b[0;34m,\u001b[0m \u001b[0mdowncast\u001b[0m\u001b[0;34m=\u001b[0m\u001b[0;32mNone\u001b[0m\u001b[0;34m)\u001b[0m\u001b[0;34m\u001b[0m\u001b[0;34m\u001b[0m\u001b[0m\n\u001b[1;32m      8\u001b[0m \u001b[0mimpute_df_5\u001b[0m\u001b[0;34m.\u001b[0m\u001b[0misna\u001b[0m\u001b[0;34m(\u001b[0m\u001b[0;34m)\u001b[0m\u001b[0;34m.\u001b[0m\u001b[0msum\u001b[0m\u001b[0;34m(\u001b[0m\u001b[0;34m)\u001b[0m\u001b[0;34m\u001b[0m\u001b[0;34m\u001b[0m\u001b[0m\n",
      "\u001b[0;32m/shared-libs/python3.7/py/lib/python3.7/site-packages/pandas/core/frame.py\u001b[0m in \u001b[0;36m__getitem__\u001b[0;34m(self, key)\u001b[0m\n\u001b[1;32m   3022\u001b[0m             \u001b[0;32mif\u001b[0m \u001b[0mself\u001b[0m\u001b[0;34m.\u001b[0m\u001b[0mcolumns\u001b[0m\u001b[0;34m.\u001b[0m\u001b[0mnlevels\u001b[0m \u001b[0;34m>\u001b[0m \u001b[0;36m1\u001b[0m\u001b[0;34m:\u001b[0m\u001b[0;34m\u001b[0m\u001b[0;34m\u001b[0m\u001b[0m\n\u001b[1;32m   3023\u001b[0m                 \u001b[0;32mreturn\u001b[0m \u001b[0mself\u001b[0m\u001b[0;34m.\u001b[0m\u001b[0m_getitem_multilevel\u001b[0m\u001b[0;34m(\u001b[0m\u001b[0mkey\u001b[0m\u001b[0;34m)\u001b[0m\u001b[0;34m\u001b[0m\u001b[0;34m\u001b[0m\u001b[0m\n\u001b[0;32m-> 3024\u001b[0;31m             \u001b[0mindexer\u001b[0m \u001b[0;34m=\u001b[0m \u001b[0mself\u001b[0m\u001b[0;34m.\u001b[0m\u001b[0mcolumns\u001b[0m\u001b[0;34m.\u001b[0m\u001b[0mget_loc\u001b[0m\u001b[0;34m(\u001b[0m\u001b[0mkey\u001b[0m\u001b[0;34m)\u001b[0m\u001b[0;34m\u001b[0m\u001b[0;34m\u001b[0m\u001b[0m\n\u001b[0m\u001b[1;32m   3025\u001b[0m             \u001b[0;32mif\u001b[0m \u001b[0mis_integer\u001b[0m\u001b[0;34m(\u001b[0m\u001b[0mindexer\u001b[0m\u001b[0;34m)\u001b[0m\u001b[0;34m:\u001b[0m\u001b[0;34m\u001b[0m\u001b[0;34m\u001b[0m\u001b[0m\n\u001b[1;32m   3026\u001b[0m                 \u001b[0mindexer\u001b[0m \u001b[0;34m=\u001b[0m \u001b[0;34m[\u001b[0m\u001b[0mindexer\u001b[0m\u001b[0;34m]\u001b[0m\u001b[0;34m\u001b[0m\u001b[0;34m\u001b[0m\u001b[0m\n",
      "\u001b[0;32m/shared-libs/python3.7/py/lib/python3.7/site-packages/pandas/core/indexes/base.py\u001b[0m in \u001b[0;36mget_loc\u001b[0;34m(self, key, method, tolerance)\u001b[0m\n\u001b[1;32m   3081\u001b[0m                 \u001b[0;32mreturn\u001b[0m \u001b[0mself\u001b[0m\u001b[0;34m.\u001b[0m\u001b[0m_engine\u001b[0m\u001b[0;34m.\u001b[0m\u001b[0mget_loc\u001b[0m\u001b[0;34m(\u001b[0m\u001b[0mcasted_key\u001b[0m\u001b[0;34m)\u001b[0m\u001b[0;34m\u001b[0m\u001b[0;34m\u001b[0m\u001b[0m\n\u001b[1;32m   3082\u001b[0m             \u001b[0;32mexcept\u001b[0m \u001b[0mKeyError\u001b[0m \u001b[0;32mas\u001b[0m \u001b[0merr\u001b[0m\u001b[0;34m:\u001b[0m\u001b[0;34m\u001b[0m\u001b[0;34m\u001b[0m\u001b[0m\n\u001b[0;32m-> 3083\u001b[0;31m                 \u001b[0;32mraise\u001b[0m \u001b[0mKeyError\u001b[0m\u001b[0;34m(\u001b[0m\u001b[0mkey\u001b[0m\u001b[0;34m)\u001b[0m \u001b[0;32mfrom\u001b[0m \u001b[0merr\u001b[0m\u001b[0;34m\u001b[0m\u001b[0;34m\u001b[0m\u001b[0m\n\u001b[0m\u001b[1;32m   3084\u001b[0m \u001b[0;34m\u001b[0m\u001b[0m\n\u001b[1;32m   3085\u001b[0m         \u001b[0;32mif\u001b[0m \u001b[0mtolerance\u001b[0m \u001b[0;32mis\u001b[0m \u001b[0;32mnot\u001b[0m \u001b[0;32mNone\u001b[0m\u001b[0;34m:\u001b[0m\u001b[0;34m\u001b[0m\u001b[0;34m\u001b[0m\u001b[0m\n",
      "\u001b[0;31mKeyError\u001b[0m: 'google_anosmia_volume'"
     ]
    },
    {
     "output_type": "error",
     "ename": "KeyError",
     "evalue": "'google_anosmia_volume'",
     "traceback": [
      "\u001b[0;31m---------------------------------------------------------------------------\u001b[0m",
      "\u001b[0;31mKeyError\u001b[0m                                  Traceback (most recent call last)",
      "\u001b[0;32m/shared-libs/python3.7/py/lib/python3.7/site-packages/pandas/core/indexes/base.py\u001b[0m in \u001b[0;36mget_loc\u001b[0;34m(self, key, method, tolerance)\u001b[0m\n\u001b[1;32m   3080\u001b[0m             \u001b[0;32mtry\u001b[0m\u001b[0;34m:\u001b[0m\u001b[0;34m\u001b[0m\u001b[0;34m\u001b[0m\u001b[0m\n\u001b[0;32m-> 3081\u001b[0;31m                 \u001b[0;32mreturn\u001b[0m \u001b[0mself\u001b[0m\u001b[0;34m.\u001b[0m\u001b[0m_engine\u001b[0m\u001b[0;34m.\u001b[0m\u001b[0mget_loc\u001b[0m\u001b[0;34m(\u001b[0m\u001b[0mcasted_key\u001b[0m\u001b[0;34m)\u001b[0m\u001b[0;34m\u001b[0m\u001b[0;34m\u001b[0m\u001b[0m\n\u001b[0m\u001b[1;32m   3082\u001b[0m             \u001b[0;32mexcept\u001b[0m \u001b[0mKeyError\u001b[0m \u001b[0;32mas\u001b[0m \u001b[0merr\u001b[0m\u001b[0;34m:\u001b[0m\u001b[0;34m\u001b[0m\u001b[0;34m\u001b[0m\u001b[0m\n",
      "\u001b[0;32mpandas/_libs/index.pyx\u001b[0m in \u001b[0;36mpandas._libs.index.IndexEngine.get_loc\u001b[0;34m()\u001b[0m\n",
      "\u001b[0;32mpandas/_libs/index.pyx\u001b[0m in \u001b[0;36mpandas._libs.index.IndexEngine.get_loc\u001b[0;34m()\u001b[0m\n",
      "\u001b[0;32mpandas/_libs/hashtable_class_helper.pxi\u001b[0m in \u001b[0;36mpandas._libs.hashtable.PyObjectHashTable.get_item\u001b[0;34m()\u001b[0m\n",
      "\u001b[0;32mpandas/_libs/hashtable_class_helper.pxi\u001b[0m in \u001b[0;36mpandas._libs.hashtable.PyObjectHashTable.get_item\u001b[0;34m()\u001b[0m\n",
      "\u001b[0;31mKeyError\u001b[0m: 'google_anosmia_volume'",
      "\nThe above exception was the direct cause of the following exception:\n",
      "\u001b[0;31mKeyError\u001b[0m                                  Traceback (most recent call last)",
      "\u001b[0;32m<ipython-input-45-11d0c362d653>\u001b[0m in \u001b[0;36m<module>\u001b[0;34m\u001b[0m\n\u001b[1;32m      4\u001b[0m \u001b[0mimpute_df_5\u001b[0m\u001b[0;34m[\u001b[0m\u001b[0;34m'doctor_visits'\u001b[0m\u001b[0;34m]\u001b[0m \u001b[0;34m=\u001b[0m \u001b[0mimpute_df_5\u001b[0m\u001b[0;34m[\u001b[0m\u001b[0;34m'doctor_visits'\u001b[0m\u001b[0;34m]\u001b[0m\u001b[0;34m.\u001b[0m\u001b[0mfillna\u001b[0m\u001b[0;34m(\u001b[0m\u001b[0mmethod\u001b[0m\u001b[0;34m=\u001b[0m\u001b[0;34m'ffill'\u001b[0m\u001b[0;34m,\u001b[0m\u001b[0maxis\u001b[0m \u001b[0;34m=\u001b[0m \u001b[0;32mNone\u001b[0m\u001b[0;34m,\u001b[0m \u001b[0mlimit\u001b[0m \u001b[0;34m=\u001b[0m \u001b[0;36m5\u001b[0m\u001b[0;34m,\u001b[0m \u001b[0mdowncast\u001b[0m\u001b[0;34m=\u001b[0m\u001b[0;32mNone\u001b[0m\u001b[0;34m)\u001b[0m\u001b[0;34m\u001b[0m\u001b[0;34m\u001b[0m\u001b[0m\n\u001b[1;32m      5\u001b[0m \u001b[0mimpute_df_5\u001b[0m\u001b[0;34m[\u001b[0m\u001b[0;34m'hospital_admissions'\u001b[0m\u001b[0;34m]\u001b[0m \u001b[0;34m=\u001b[0m \u001b[0mimpute_df_5\u001b[0m\u001b[0;34m[\u001b[0m\u001b[0;34m'hospital_admissions'\u001b[0m\u001b[0;34m]\u001b[0m\u001b[0;34m.\u001b[0m\u001b[0mfillna\u001b[0m\u001b[0;34m(\u001b[0m\u001b[0mmethod\u001b[0m\u001b[0;34m=\u001b[0m\u001b[0;34m'ffill'\u001b[0m\u001b[0;34m,\u001b[0m\u001b[0maxis\u001b[0m \u001b[0;34m=\u001b[0m \u001b[0;32mNone\u001b[0m\u001b[0;34m,\u001b[0m \u001b[0mlimit\u001b[0m \u001b[0;34m=\u001b[0m \u001b[0;36m5\u001b[0m\u001b[0;34m,\u001b[0m \u001b[0mdowncast\u001b[0m\u001b[0;34m=\u001b[0m\u001b[0;32mNone\u001b[0m\u001b[0;34m)\u001b[0m\u001b[0;34m\u001b[0m\u001b[0;34m\u001b[0m\u001b[0m\n\u001b[0;32m----> 6\u001b[0;31m \u001b[0mimpute_df_5\u001b[0m\u001b[0;34m[\u001b[0m\u001b[0;34m'google_anosmia_volume'\u001b[0m\u001b[0;34m]\u001b[0m \u001b[0;34m=\u001b[0m \u001b[0mimpute_df_5\u001b[0m\u001b[0;34m[\u001b[0m\u001b[0;34m'google_anosmia_volume'\u001b[0m\u001b[0;34m]\u001b[0m\u001b[0;34m.\u001b[0m\u001b[0mfillna\u001b[0m\u001b[0;34m(\u001b[0m\u001b[0mmethod\u001b[0m\u001b[0;34m=\u001b[0m\u001b[0;34m'ffill'\u001b[0m\u001b[0;34m,\u001b[0m\u001b[0maxis\u001b[0m \u001b[0;34m=\u001b[0m \u001b[0;32mNone\u001b[0m\u001b[0;34m,\u001b[0m \u001b[0mlimit\u001b[0m \u001b[0;34m=\u001b[0m \u001b[0;36m5\u001b[0m\u001b[0;34m,\u001b[0m \u001b[0mdowncast\u001b[0m\u001b[0;34m=\u001b[0m\u001b[0;32mNone\u001b[0m\u001b[0;34m)\u001b[0m\u001b[0;34m\u001b[0m\u001b[0;34m\u001b[0m\u001b[0m\n\u001b[0m\u001b[1;32m      7\u001b[0m \u001b[0mimpute_df_5\u001b[0m\u001b[0;34m[\u001b[0m\u001b[0;34m'google_ageusia_volume'\u001b[0m\u001b[0;34m]\u001b[0m \u001b[0;34m=\u001b[0m \u001b[0mimpute_df_5\u001b[0m\u001b[0;34m[\u001b[0m\u001b[0;34m'google_ageusia_volume'\u001b[0m\u001b[0;34m]\u001b[0m\u001b[0;34m.\u001b[0m\u001b[0mfillna\u001b[0m\u001b[0;34m(\u001b[0m\u001b[0mmethod\u001b[0m\u001b[0;34m=\u001b[0m\u001b[0;34m'ffill'\u001b[0m\u001b[0;34m,\u001b[0m\u001b[0maxis\u001b[0m \u001b[0;34m=\u001b[0m \u001b[0;32mNone\u001b[0m\u001b[0;34m,\u001b[0m \u001b[0mlimit\u001b[0m \u001b[0;34m=\u001b[0m \u001b[0;36m5\u001b[0m\u001b[0;34m,\u001b[0m \u001b[0mdowncast\u001b[0m\u001b[0;34m=\u001b[0m\u001b[0;32mNone\u001b[0m\u001b[0;34m)\u001b[0m\u001b[0;34m\u001b[0m\u001b[0;34m\u001b[0m\u001b[0m\n\u001b[1;32m      8\u001b[0m \u001b[0mimpute_df_5\u001b[0m\u001b[0;34m.\u001b[0m\u001b[0misna\u001b[0m\u001b[0;34m(\u001b[0m\u001b[0;34m)\u001b[0m\u001b[0;34m.\u001b[0m\u001b[0msum\u001b[0m\u001b[0;34m(\u001b[0m\u001b[0;34m)\u001b[0m\u001b[0;34m\u001b[0m\u001b[0;34m\u001b[0m\u001b[0m\n",
      "\u001b[0;32m/shared-libs/python3.7/py/lib/python3.7/site-packages/pandas/core/frame.py\u001b[0m in \u001b[0;36m__getitem__\u001b[0;34m(self, key)\u001b[0m\n\u001b[1;32m   3022\u001b[0m             \u001b[0;32mif\u001b[0m \u001b[0mself\u001b[0m\u001b[0;34m.\u001b[0m\u001b[0mcolumns\u001b[0m\u001b[0;34m.\u001b[0m\u001b[0mnlevels\u001b[0m \u001b[0;34m>\u001b[0m \u001b[0;36m1\u001b[0m\u001b[0;34m:\u001b[0m\u001b[0;34m\u001b[0m\u001b[0;34m\u001b[0m\u001b[0m\n\u001b[1;32m   3023\u001b[0m                 \u001b[0;32mreturn\u001b[0m \u001b[0mself\u001b[0m\u001b[0;34m.\u001b[0m\u001b[0m_getitem_multilevel\u001b[0m\u001b[0;34m(\u001b[0m\u001b[0mkey\u001b[0m\u001b[0;34m)\u001b[0m\u001b[0;34m\u001b[0m\u001b[0;34m\u001b[0m\u001b[0m\n\u001b[0;32m-> 3024\u001b[0;31m             \u001b[0mindexer\u001b[0m \u001b[0;34m=\u001b[0m \u001b[0mself\u001b[0m\u001b[0;34m.\u001b[0m\u001b[0mcolumns\u001b[0m\u001b[0;34m.\u001b[0m\u001b[0mget_loc\u001b[0m\u001b[0;34m(\u001b[0m\u001b[0mkey\u001b[0m\u001b[0;34m)\u001b[0m\u001b[0;34m\u001b[0m\u001b[0;34m\u001b[0m\u001b[0m\n\u001b[0m\u001b[1;32m   3025\u001b[0m             \u001b[0;32mif\u001b[0m \u001b[0mis_integer\u001b[0m\u001b[0;34m(\u001b[0m\u001b[0mindexer\u001b[0m\u001b[0;34m)\u001b[0m\u001b[0;34m:\u001b[0m\u001b[0;34m\u001b[0m\u001b[0;34m\u001b[0m\u001b[0m\n\u001b[1;32m   3026\u001b[0m                 \u001b[0mindexer\u001b[0m \u001b[0;34m=\u001b[0m \u001b[0;34m[\u001b[0m\u001b[0mindexer\u001b[0m\u001b[0;34m]\u001b[0m\u001b[0;34m\u001b[0m\u001b[0;34m\u001b[0m\u001b[0m\n",
      "\u001b[0;32m/shared-libs/python3.7/py/lib/python3.7/site-packages/pandas/core/indexes/base.py\u001b[0m in \u001b[0;36mget_loc\u001b[0;34m(self, key, method, tolerance)\u001b[0m\n\u001b[1;32m   3081\u001b[0m                 \u001b[0;32mreturn\u001b[0m \u001b[0mself\u001b[0m\u001b[0;34m.\u001b[0m\u001b[0m_engine\u001b[0m\u001b[0;34m.\u001b[0m\u001b[0mget_loc\u001b[0m\u001b[0;34m(\u001b[0m\u001b[0mcasted_key\u001b[0m\u001b[0;34m)\u001b[0m\u001b[0;34m\u001b[0m\u001b[0;34m\u001b[0m\u001b[0m\n\u001b[1;32m   3082\u001b[0m             \u001b[0;32mexcept\u001b[0m \u001b[0mKeyError\u001b[0m \u001b[0;32mas\u001b[0m \u001b[0merr\u001b[0m\u001b[0;34m:\u001b[0m\u001b[0;34m\u001b[0m\u001b[0;34m\u001b[0m\u001b[0m\n\u001b[0;32m-> 3083\u001b[0;31m                 \u001b[0;32mraise\u001b[0m \u001b[0mKeyError\u001b[0m\u001b[0;34m(\u001b[0m\u001b[0mkey\u001b[0m\u001b[0;34m)\u001b[0m \u001b[0;32mfrom\u001b[0m \u001b[0merr\u001b[0m\u001b[0;34m\u001b[0m\u001b[0;34m\u001b[0m\u001b[0m\n\u001b[0m\u001b[1;32m   3084\u001b[0m \u001b[0;34m\u001b[0m\u001b[0m\n\u001b[1;32m   3085\u001b[0m         \u001b[0;32mif\u001b[0m \u001b[0mtolerance\u001b[0m \u001b[0;32mis\u001b[0m \u001b[0;32mnot\u001b[0m \u001b[0;32mNone\u001b[0m\u001b[0;34m:\u001b[0m\u001b[0;34m\u001b[0m\u001b[0;34m\u001b[0m\u001b[0m\n",
      "\u001b[0;31mKeyError\u001b[0m: 'google_anosmia_volume'"
     ]
    }
   ],
   "execution_count": null
  },
  {
   "cell_type": "code",
   "metadata": {
    "tags": [],
    "cell_id": "00044-0b96ec76-e607-4bc9-a845-a862bdb85039",
    "deepnote_to_be_reexecuted": true,
    "source_hash": "52b2de9a",
    "execution_start": 1638217822435,
    "execution_millis": 28542,
    "deepnote_cell_type": "code"
   },
   "source": "# ffill, limit 10 \nimpute_df_10 = sorted_data_join.copy()\nimpute_df_10['confirmed_covid_visit'] = impute_df_10['confirmed_covid_visit'].fillna(method='ffill',axis = None, limit = 10, downcast=None)\nimpute_df_10['doctor_visits'] = impute_df_10['doctor_visits'].fillna(method='ffill',axis = None, limit = 10, downcast=None)\nimpute_df_10['hospital_admissions'] = impute_df_10['hospital_admissions'].fillna(method='ffill',axis = None, limit = 10, downcast=None)\nimpute_df_10['google_anosmia_volume'] = impute_df_10['google_anosmia_volume'].fillna(method='ffill',axis = None, limit = 10, downcast=None)\nimpute_df_10['google_ageusia_volume'] = impute_df_10['google_ageusia_volume'].fillna(method='ffill',axis = None, limit = 10, downcast=None)\nimpute_df_10.isna().sum()\n\nimpute_df_10 = impute_df_10.dropna()\nprint(impute_df_10.shape)\n\n# Imputed data!! \nsorted_impute_join_10 = impute_df_10.reset_index(drop=True)\nt_plus_1_impute_10 = sorted_impute_join_10.iloc[2:,[0,1,2]].reset_index(drop=True)\nt_minus_1_impute_10 = sorted_impute_join_10.iloc[0:8259,:].reset_index(drop=True)\nt_nothing_impute_10 = sorted_impute_join_10.iloc[1:8260,:].reset_index(drop=True)\n\nt_minus_1_labels = {'geo_value':'geo_value_t_minus_1','time_value':'time_value_t_minus_1',\n 'covid_cases' : 'covid_cases_t_minus_1',\n 'confirmed_covid_visit': 'confirmed_covid_vist_t_minus_1',\n 'doctor_visits': 'doctor_visits_t_minus_1',\n 'hospital_admissions':'hospital_admissions_t_minus_1',\n 'google_anosmia_volume' : 'google_anosmia_volume_t_minus_1',\n 'google_ageusia_volume':'google_ageusia_volume_t_minus_1',\n 'covid_deaths':'covid_deaths_t_minus'}\nt_minus_1_fixed_impute_10 = t_minus_1_impute_10.rename(t_minus_1_labels,axis=1)\nt_plus_1_label = {'covid_cases':'covid_cases_t_plus_one','geo_value':'geo_value_t_plus_1',\n'time_value':'time_value_t_plus_1'}\nt_plus_1_fixed_impute_10 = t_plus_1_impute_10.rename(t_plus_1_label,axis=1)\n\nfull_df_impute_10 =  t_nothing_impute_10.join([t_minus_1_fixed_impute_10,t_plus_1_fixed_impute_10])\n\nimputed_good_data_10 = np.array([])\nfor index in np.arange(full_df_impute_10.shape[0]):\n    if full_df_impute_10.iloc[index,:]['geo_value'] == full_df_impute_10.iloc[index,:]['geo_value_t_minus_1'] == full_df_impute_10.iloc[index,:]['geo_value_t_plus_1']:\n        if full_df_impute_10.iloc[index,:]['time_value'] == full_df_impute_10.iloc[index,:]['time_value_t_minus_1'] + datetime.timedelta(days=1):\n            if full_df_impute_10.iloc[index,:]['time_value']+ datetime.timedelta(days=1) == full_df_impute_10.iloc[index,:]['time_value_t_plus_1']:\n                imputed_good_data_10= np.append(imputed_good_data_10, index)\nprint(len(imputed_good_data_10))\n\nimputed_good_full_df_10 = full_df_impute_10.iloc[imputed_good_data_10,:]\n\nimputed_clean_good_full_df_10 = imputed_good_full_df_10.drop(columns = ['geo_value_t_plus_1','time_value_t_plus_1'])\n#bins = [pd.Timestamp('2020-01-01 00:00:00'),\n # pd.Timestamp('2020-06-10 00:00:00'),\n  #pd.Timestamp('2020-07-30 00:00:00'),\n  #pd.Timestamp('2020-10-01 00:00:00'),\n  #pd.Timestamp('2021-01-10 00:00:00'),\n  #pd.Timestamp('2021-03-15 00:00:00'),\n  #pd.Timestamp('2021-06-20 00:00:00'),\n  #pd.Timestamp('2021-09-01 00:00:00'),\n  #pd.Timestamp('2021-12-01 00:00:00')]\nbins = [pd.Timestamp('2020-01-01 00:00:00'),\n  pd.Timestamp('2020-06-18 00:00:00'),\n  pd.Timestamp('2020-10-01 00:00:00'),\n  pd.Timestamp('2021-04-01 00:00:00'),\n  pd.Timestamp('2021-06-20 00:00:00'),\n  pd.Timestamp('2021-12-01 00:00:00')]\n#labels = ['2020-01-01' , '2020-06-10', '2020-07-30' ,'2020-10-01' ,'2021-01-10 ','2021-03-15','2021-06-20', '2021-09-01', '2021-12-01']\nlabels = ['2020-01-01' , '2020-06-18', '2020-10-01' ,'2021-04-01' ,'2021-06-20','2021-12-01' ]\n#imputed_clean_good_full_df_10['time_value'] = pd.cut(imputed_clean_good_full_df_10['time_value'], bins , labels)\n#imputed_clean_good_full_df_10['time_value_t_minus_1'] = pd.cut(imputed_clean_good_full_df_10['time_value_t_minus_1'], bins , labels) \nind = (imputed_clean_good_full_df_10['geo_value'] != '06113') & (imputed_clean_good_full_df_10['geo_value'] !='06015') & (imputed_clean_good_full_df_10['geo_value'] !='06021') &  (imputed_clean_good_full_df_10['geo_value'] !='06087') & (imputed_clean_good_full_df_10['geo_value'] !='06039') & (imputed_clean_good_full_df_10['geo_value'] !='06061') & (imputed_clean_good_full_df_10['geo_value'] !='06077') & (imputed_clean_good_full_df_10['geo_value'] != '06069')\nimputed_clean_good_full_df_10 = imputed_clean_good_full_df_10[ind]\nordered_geos = imputed_clean_good_full_df_10.groupby('geo_value').max().sort_values(by = 'covid_cases').reset_index()['geo_value'].to_numpy()\nordered_geos_labels = dict(zip(ordered_geos, np.arange(1,15)))\nimputed_clean_good_full_df_10['geo_value'] = imputed_clean_good_full_df_10['geo_value'].replace(ordered_geos_labels)\nimputed_clean_good_full_df_10['geo_value_t_minus_1'] = imputed_clean_good_full_df_10['geo_value_t_minus_1'].replace(ordered_geos_labels)\n\nimputed_clean_good_full_df_10.to_csv('imputed_clean_good_full_df_10_noHome.csv')",
   "execution_count": null,
   "outputs": [
    {
     "name": "stdout",
     "text": "(8261, 9)\n8187\n",
     "output_type": "stream"
    }
   ]
  },
  {
   "cell_type": "markdown",
   "source": "# Delta Dataframe",
   "metadata": {
    "tags": [],
    "cell_id": "00053-bc31cb64-23cf-411c-b7ea-ed74e5930f0b",
    "deepnote_cell_type": "markdown"
   }
  },
  {
   "cell_type": "code",
   "metadata": {
    "tags": [],
    "cell_id": "00042-7298b008-0e9c-46eb-9b68-8ff2f2356676",
    "deepnote_to_be_reexecuted": true,
    "source_hash": "afd24832",
    "execution_start": 1638325836761,
    "execution_millis": 2,
    "deepnote_output_heights": [
     21.1875
    ],
    "deepnote_cell_type": "code"
   },
   "source": "imputed_clean_good_full_df.shape",
   "execution_count": null,
   "outputs": [
    {
     "output_type": "execute_result",
     "execution_count": 67,
     "data": {
      "text/plain": "(5321, 21)"
     },
     "metadata": {}
    }
   ]
  },
  {
   "cell_type": "code",
   "metadata": {
    "tags": [],
    "cell_id": "00051-4667bff3-dc96-489b-b418-ad2dd72ff9b9",
    "deepnote_to_be_reexecuted": true,
    "source_hash": "2ea85a7b",
    "execution_start": 1638326043588,
    "execution_millis": 48,
    "deepnote_output_heights": [
     21.1875
    ],
    "deepnote_cell_type": "code"
   },
   "source": "t = imputed_clean_good_full_df.iloc[:,2:10].to_numpy()\nt_min_1 = imputed_clean_good_full_df.iloc[:,12:20].to_numpy()\ndelta_array = (t-t_min_1)\ndelta_pd = pd.DataFrame(delta_array, columns = imputed_clean_good_full_df.iloc[:,12:20].columns)\ndelta_full_df = imputed_clean_good_full_df.iloc[:,:10].reset_index(drop=True).join([delta_pd.reset_index(drop=True), imputed_clean_good_full_df.iloc[:,20].reset_index(drop=True)])\ndelta_full_df.shape",
   "execution_count": null,
   "outputs": [
    {
     "output_type": "execute_result",
     "execution_count": 76,
     "data": {
      "text/plain": "(5321, 19)"
     },
     "metadata": {}
    }
   ]
  },
  {
   "cell_type": "code",
   "metadata": {
    "tags": [],
    "cell_id": "00044-1c1fcd9b-babf-4b31-abc5-3566bf44ca1a",
    "deepnote_to_be_reexecuted": true,
    "source_hash": "7032eeac",
    "execution_start": 1638326088953,
    "execution_millis": 159,
    "deepnote_cell_type": "code"
   },
   "source": "delta_full_df",
   "execution_count": null,
   "outputs": [
    {
     "output_type": "execute_result",
     "execution_count": 78,
     "data": {
      "application/vnd.deepnote.dataframe.v2+json": {
       "row_count": 5321,
       "column_count": 19,
       "columns": [
        {
         "name": "geo_value",
         "dtype": "int64",
         "stats": {
          "unique_count": 14,
          "nan_count": 0,
          "min": "1",
          "max": "14",
          "histogram": [
           {
            "bin_start": 1,
            "bin_end": 2.3,
            "count": 655
           },
           {
            "bin_start": 2.3,
            "bin_end": 3.6,
            "count": 385
           },
           {
            "bin_start": 3.6,
            "bin_end": 4.9,
            "count": 299
           },
           {
            "bin_start": 4.9,
            "bin_end": 6.2,
            "count": 723
           },
           {
            "bin_start": 6.2,
            "bin_end": 7.5,
            "count": 319
           },
           {
            "bin_start": 7.5,
            "bin_end": 8.8,
            "count": 416
           },
           {
            "bin_start": 8.8,
            "bin_end": 10.1,
            "count": 843
           },
           {
            "bin_start": 10.1,
            "bin_end": 11.4,
            "count": 423
           },
           {
            "bin_start": 11.4,
            "bin_end": 12.700000000000001,
            "count": 417
           },
           {
            "bin_start": 12.700000000000001,
            "bin_end": 14,
            "count": 841
           }
          ]
         }
        },
        {
         "name": "time_value",
         "dtype": "datetime64[ns]",
         "stats": {
          "unique_count": 423,
          "nan_count": 0,
          "min": "2020-02-21 00:00:00",
          "max": "2021-04-18 00:00:00",
          "histogram": [
           {
            "bin_start": 1582243200000000000,
            "bin_end": 1585889280000000000,
            "count": 407
           },
           {
            "bin_start": 1585889280000000000,
            "bin_end": 1589535360000000000,
            "count": 483
           },
           {
            "bin_start": 1589535360000000000,
            "bin_end": 1593181440000000000,
            "count": 470
           },
           {
            "bin_start": 1593181440000000000,
            "bin_end": 1596827520000000000,
            "count": 588
           },
           {
            "bin_start": 1596827520000000000,
            "bin_end": 1600473600000000000,
            "count": 545
           },
           {
            "bin_start": 1600473600000000000,
            "bin_end": 1604119680000000000,
            "count": 538
           },
           {
            "bin_start": 1604119680000000000,
            "bin_end": 1607765760000000000,
            "count": 577
           },
           {
            "bin_start": 1607765760000000000,
            "bin_end": 1611411840000000000,
            "count": 588
           },
           {
            "bin_start": 1611411840000000000,
            "bin_end": 1615057920000000000,
            "count": 571
           },
           {
            "bin_start": 1615057920000000000,
            "bin_end": 1618704000000000000,
            "count": 554
           }
          ]
         }
        },
        {
         "name": "covid_cases",
         "dtype": "float64",
         "stats": {
          "unique_count": 4666,
          "nan_count": 0,
          "min": "0.0",
          "max": "1105979.0",
          "histogram": [
           {
            "bin_start": 0,
            "bin_end": 110597.9,
            "count": 4525
           },
           {
            "bin_start": 110597.9,
            "bin_end": 221195.8,
            "count": 197
           },
           {
            "bin_start": 221195.8,
            "bin_end": 331793.69999999995,
            "count": 442
           },
           {
            "bin_start": 331793.69999999995,
            "bin_end": 442391.6,
            "count": 23
           },
           {
            "bin_start": 442391.6,
            "bin_end": 552989.5,
            "count": 10
           },
           {
            "bin_start": 552989.5,
            "bin_end": 663587.3999999999,
            "count": 7
           },
           {
            "bin_start": 663587.3999999999,
            "bin_end": 774185.2999999999,
            "count": 12
           },
           {
            "bin_start": 774185.2999999999,
            "bin_end": 884783.2,
            "count": 7
           },
           {
            "bin_start": 884783.2,
            "bin_end": 995381.1,
            "count": 12
           },
           {
            "bin_start": 995381.1,
            "bin_end": 1105979,
            "count": 86
           }
          ]
         }
        },
        {
         "name": "confirmed_covid_visit",
         "dtype": "float64",
         "stats": {
          "unique_count": 5304,
          "nan_count": 0,
          "min": "0.00192",
          "max": "5.211112",
          "histogram": [
           {
            "bin_start": 0.00192,
            "bin_end": 0.5228392000000001,
            "count": 3213
           },
           {
            "bin_start": 0.5228392000000001,
            "bin_end": 1.0437584,
            "count": 1004
           },
           {
            "bin_start": 1.0437584,
            "bin_end": 1.5646776,
            "count": 397
           },
           {
            "bin_start": 1.5646776,
            "bin_end": 2.0855968000000003,
            "count": 323
           },
           {
            "bin_start": 2.0855968000000003,
            "bin_end": 2.606516,
            "count": 201
           },
           {
            "bin_start": 2.606516,
            "bin_end": 3.1274352000000003,
            "count": 88
           },
           {
            "bin_start": 3.1274352000000003,
            "bin_end": 3.6483544000000006,
            "count": 45
           },
           {
            "bin_start": 3.6483544000000006,
            "bin_end": 4.1692736,
            "count": 32
           },
           {
            "bin_start": 4.1692736,
            "bin_end": 4.6901928,
            "count": 12
           },
           {
            "bin_start": 4.6901928,
            "bin_end": 5.211112,
            "count": 6
           }
          ]
         }
        },
        {
         "name": "doctor_visits",
         "dtype": "float64",
         "stats": {
          "unique_count": 5215,
          "nan_count": 0,
          "min": "0.0",
          "max": "47.18352",
          "histogram": [
           {
            "bin_start": 0,
            "bin_end": 4.718352,
            "count": 2569
           },
           {
            "bin_start": 4.718352,
            "bin_end": 9.436704,
            "count": 1704
           },
           {
            "bin_start": 9.436704,
            "bin_end": 14.155056000000002,
            "count": 531
           },
           {
            "bin_start": 14.155056000000002,
            "bin_end": 18.873408,
            "count": 268
           },
           {
            "bin_start": 18.873408,
            "bin_end": 23.59176,
            "count": 145
           },
           {
            "bin_start": 23.59176,
            "bin_end": 28.310112000000004,
            "count": 57
           },
           {
            "bin_start": 28.310112000000004,
            "bin_end": 33.028464,
            "count": 23
           },
           {
            "bin_start": 33.028464,
            "bin_end": 37.746816,
            "count": 16
           },
           {
            "bin_start": 37.746816,
            "bin_end": 42.465168000000006,
            "count": 5
           },
           {
            "bin_start": 42.465168000000006,
            "bin_end": 47.18352,
            "count": 3
           }
          ]
         }
        },
        {
         "name": "hospital_admissions",
         "dtype": "float64",
         "stats": {
          "unique_count": 5312,
          "nan_count": 0,
          "min": "0.077083",
          "max": "31.666872",
          "histogram": [
           {
            "bin_start": 0.077083,
            "bin_end": 3.2360619,
            "count": 2754
           },
           {
            "bin_start": 3.2360619,
            "bin_end": 6.3950408,
            "count": 1260
           },
           {
            "bin_start": 6.3950408,
            "bin_end": 9.5540197,
            "count": 580
           },
           {
            "bin_start": 9.5540197,
            "bin_end": 12.7129986,
            "count": 311
           },
           {
            "bin_start": 12.7129986,
            "bin_end": 15.871977500000002,
            "count": 148
           },
           {
            "bin_start": 15.871977500000002,
            "bin_end": 19.030956399999997,
            "count": 100
           },
           {
            "bin_start": 19.030956399999997,
            "bin_end": 22.1899353,
            "count": 89
           },
           {
            "bin_start": 22.1899353,
            "bin_end": 25.3489142,
            "count": 57
           },
           {
            "bin_start": 25.3489142,
            "bin_end": 28.5078931,
            "count": 16
           },
           {
            "bin_start": 28.5078931,
            "bin_end": 31.666872,
            "count": 6
           }
          ]
         }
        },
        {
         "name": "google_anosmia_volume",
         "dtype": "float64",
         "stats": {
          "unique_count": 114,
          "nan_count": 0,
          "min": "0.04",
          "max": "2.86",
          "histogram": [
           {
            "bin_start": 0.04,
            "bin_end": 0.32199999999999995,
            "count": 4545
           },
           {
            "bin_start": 0.32199999999999995,
            "bin_end": 0.604,
            "count": 573
           },
           {
            "bin_start": 0.604,
            "bin_end": 0.8859999999999999,
            "count": 143
           },
           {
            "bin_start": 0.8859999999999999,
            "bin_end": 1.168,
            "count": 48
           },
           {
            "bin_start": 1.168,
            "bin_end": 1.45,
            "count": 4
           },
           {
            "bin_start": 1.45,
            "bin_end": 1.7319999999999998,
            "count": 2
           },
           {
            "bin_start": 1.7319999999999998,
            "bin_end": 2.014,
            "count": 4
           },
           {
            "bin_start": 2.014,
            "bin_end": 2.296,
            "count": 1
           },
           {
            "bin_start": 2.296,
            "bin_end": 2.578,
            "count": 0
           },
           {
            "bin_start": 2.578,
            "bin_end": 2.86,
            "count": 1
           }
          ]
         }
        },
        {
         "name": "google_ageusia_volume",
         "dtype": "float64",
         "stats": {
          "unique_count": 100,
          "nan_count": 0,
          "min": "0.03",
          "max": "1.1",
          "histogram": [
           {
            "bin_start": 0.03,
            "bin_end": 0.137,
            "count": 3183
           },
           {
            "bin_start": 0.137,
            "bin_end": 0.24400000000000002,
            "count": 1283
           },
           {
            "bin_start": 0.24400000000000002,
            "bin_end": 0.3510000000000001,
            "count": 385
           },
           {
            "bin_start": 0.3510000000000001,
            "bin_end": 0.4580000000000001,
            "count": 189
           },
           {
            "bin_start": 0.4580000000000001,
            "bin_end": 0.5650000000000001,
            "count": 118
           },
           {
            "bin_start": 0.5650000000000001,
            "bin_end": 0.6720000000000002,
            "count": 85
           },
           {
            "bin_start": 0.6720000000000002,
            "bin_end": 0.7790000000000001,
            "count": 34
           },
           {
            "bin_start": 0.7790000000000001,
            "bin_end": 0.8860000000000001,
            "count": 12
           },
           {
            "bin_start": 0.8860000000000001,
            "bin_end": 0.9930000000000001,
            "count": 24
           },
           {
            "bin_start": 0.9930000000000001,
            "bin_end": 1.1,
            "count": 8
           }
          ]
         }
        },
        {
         "name": "covid_deaths",
         "dtype": "float64",
         "stats": {
          "unique_count": 1990,
          "nan_count": 0,
          "min": "0.0",
          "max": "23635.0",
          "histogram": [
           {
            "bin_start": 0,
            "bin_end": 2363.5,
            "count": 4653
           },
           {
            "bin_start": 2363.5,
            "bin_end": 4727,
            "count": 390
           },
           {
            "bin_start": 4727,
            "bin_end": 7090.5,
            "count": 111
           },
           {
            "bin_start": 7090.5,
            "bin_end": 9454,
            "count": 54
           },
           {
            "bin_start": 9454,
            "bin_end": 11817.5,
            "count": 12
           },
           {
            "bin_start": 11817.5,
            "bin_end": 14181,
            "count": 12
           },
           {
            "bin_start": 14181,
            "bin_end": 16544.5,
            "count": 10
           },
           {
            "bin_start": 16544.5,
            "bin_end": 18908,
            "count": 14
           },
           {
            "bin_start": 18908,
            "bin_end": 21271.5,
            "count": 14
           },
           {
            "bin_start": 21271.5,
            "bin_end": 23635,
            "count": 51
           }
          ]
         }
        },
        {
         "name": "home_time",
         "dtype": "float64",
         "stats": {
          "unique_count": 5296,
          "nan_count": 0,
          "min": "280.80172413793105",
          "max": "1225.7644151565073",
          "histogram": [
           {
            "bin_start": 280.80172413793105,
            "bin_end": 375.29799323978864,
            "count": 20
           },
           {
            "bin_start": 375.29799323978864,
            "bin_end": 469.7942623416463,
            "count": 1
           },
           {
            "bin_start": 469.7942623416463,
            "bin_end": 564.2905314435039,
            "count": 25
           },
           {
            "bin_start": 564.2905314435039,
            "bin_end": 658.7868005453615,
            "count": 190
           },
           {
            "bin_start": 658.7868005453615,
            "bin_end": 753.2830696472191,
            "count": 1191
           },
           {
            "bin_start": 753.2830696472191,
            "bin_end": 847.7793387490768,
            "count": 2221
           },
           {
            "bin_start": 847.7793387490768,
            "bin_end": 942.2756078509344,
            "count": 1128
           },
           {
            "bin_start": 942.2756078509344,
            "bin_end": 1036.771876952792,
            "count": 343
           },
           {
            "bin_start": 1036.771876952792,
            "bin_end": 1131.2681460546496,
            "count": 155
           },
           {
            "bin_start": 1131.2681460546496,
            "bin_end": 1225.7644151565073,
            "count": 47
           }
          ]
         }
        },
        {
         "name": "covid_cases_t_minus_1",
         "dtype": "float64",
         "stats": {
          "unique_count": 1371,
          "nan_count": 0,
          "min": "-12459.0",
          "max": "28549.0",
          "histogram": [
           {
            "bin_start": -12459,
            "bin_end": -8358.2,
            "count": 1
           },
           {
            "bin_start": -8358.2,
            "bin_end": -4257.4,
            "count": 0
           },
           {
            "bin_start": -4257.4,
            "bin_end": -156.59999999999854,
            "count": 4
           },
           {
            "bin_start": -156.59999999999854,
            "bin_end": 3944.2000000000007,
            "count": 5208
           },
           {
            "bin_start": 3944.2000000000007,
            "bin_end": 8045,
            "count": 62
           },
           {
            "bin_start": 8045,
            "bin_end": 12145.800000000003,
            "count": 24
           },
           {
            "bin_start": 12145.800000000003,
            "bin_end": 16246.600000000002,
            "count": 15
           },
           {
            "bin_start": 16246.600000000002,
            "bin_end": 20347.4,
            "count": 4
           },
           {
            "bin_start": 20347.4,
            "bin_end": 24448.200000000004,
            "count": 2
           },
           {
            "bin_start": 24448.200000000004,
            "bin_end": 28549,
            "count": 1
           }
          ]
         }
        },
        {
         "name": "confirmed_covid_vist_t_minus_1",
         "dtype": "float64",
         "stats": {
          "unique_count": 5294,
          "nan_count": 0,
          "min": "-1.2365429999999997",
          "max": "1.313787",
          "histogram": [
           {
            "bin_start": -1.2365429999999997,
            "bin_end": -0.9815099999999998,
            "count": 2
           },
           {
            "bin_start": -0.9815099999999998,
            "bin_end": -0.7264769999999998,
            "count": 5
           },
           {
            "bin_start": -0.7264769999999998,
            "bin_end": -0.47144399999999986,
            "count": 3
           },
           {
            "bin_start": -0.47144399999999986,
            "bin_end": -0.2164109999999999,
            "count": 44
           },
           {
            "bin_start": -0.2164109999999999,
            "bin_end": 0.038622000000000156,
            "count": 4383
           },
           {
            "bin_start": 0.038622000000000156,
            "bin_end": 0.293655,
            "count": 831
           },
           {
            "bin_start": 0.293655,
            "bin_end": 0.5486879999999998,
            "count": 38
           },
           {
            "bin_start": 0.5486879999999998,
            "bin_end": 0.8037209999999999,
            "count": 9
           },
           {
            "bin_start": 0.8037209999999999,
            "bin_end": 1.058754,
            "count": 3
           },
           {
            "bin_start": 1.058754,
            "bin_end": 1.313787,
            "count": 3
           }
          ]
         }
        },
        {
         "name": "doctor_visits_t_minus_1",
         "dtype": "float64",
         "stats": {
          "unique_count": 5218,
          "nan_count": 0,
          "min": "-4.615850999999996",
          "max": "12.509212000000002",
          "histogram": [
           {
            "bin_start": -4.615850999999996,
            "bin_end": -2.903344699999996,
            "count": 18
           },
           {
            "bin_start": -2.903344699999996,
            "bin_end": -1.190838399999996,
            "count": 148
           },
           {
            "bin_start": -1.190838399999996,
            "bin_end": 0.5216679000000042,
            "count": 4573
           },
           {
            "bin_start": 0.5216679000000042,
            "bin_end": 2.2341742000000036,
            "count": 529
           },
           {
            "bin_start": 2.2341742000000036,
            "bin_end": 3.946680500000003,
            "count": 37
           },
           {
            "bin_start": 3.946680500000003,
            "bin_end": 5.659186800000004,
            "count": 4
           },
           {
            "bin_start": 5.659186800000004,
            "bin_end": 7.371693100000003,
            "count": 6
           },
           {
            "bin_start": 7.371693100000003,
            "bin_end": 9.084199400000003,
            "count": 2
           },
           {
            "bin_start": 9.084199400000003,
            "bin_end": 10.796705700000002,
            "count": 2
           },
           {
            "bin_start": 10.796705700000002,
            "bin_end": 12.509212000000002,
            "count": 2
           }
          ]
         }
        },
        {
         "name": "hospital_admissions_t_minus_1",
         "dtype": "float64",
         "stats": {
          "unique_count": 5309,
          "nan_count": 0,
          "min": "-3.309498999999999",
          "max": "4.010772999999999",
          "histogram": [
           {
            "bin_start": -3.309498999999999,
            "bin_end": -2.577471799999999,
            "count": 2
           },
           {
            "bin_start": -2.577471799999999,
            "bin_end": -1.8454445999999993,
            "count": 10
           },
           {
            "bin_start": -1.8454445999999993,
            "bin_end": -1.1134173999999994,
            "count": 61
           },
           {
            "bin_start": -1.1134173999999994,
            "bin_end": -0.3813901999999998,
            "count": 643
           },
           {
            "bin_start": -0.3813901999999998,
            "bin_end": 0.35063699999999987,
            "count": 3780
           },
           {
            "bin_start": 0.35063699999999987,
            "bin_end": 1.0826642,
            "count": 755
           },
           {
            "bin_start": 1.0826642,
            "bin_end": 1.8146913999999992,
            "count": 51
           },
           {
            "bin_start": 1.8146913999999992,
            "bin_end": 2.5467185999999993,
            "count": 13
           },
           {
            "bin_start": 2.5467185999999993,
            "bin_end": 3.2787457999999994,
            "count": 4
           },
           {
            "bin_start": 3.2787457999999994,
            "bin_end": 4.010772999999999,
            "count": 2
           }
          ]
         }
        },
        {
         "name": "google_anosmia_volume_t_minus_1",
         "dtype": "float64",
         "stats": {
          "unique_count": 252,
          "nan_count": 0,
          "min": "-1.43",
          "max": "1.43",
          "histogram": [
           {
            "bin_start": -1.43,
            "bin_end": -1.144,
            "count": 2
           },
           {
            "bin_start": -1.144,
            "bin_end": -0.858,
            "count": 3
           },
           {
            "bin_start": -0.858,
            "bin_end": -0.5720000000000001,
            "count": 5
           },
           {
            "bin_start": -0.5720000000000001,
            "bin_end": -0.28600000000000003,
            "count": 17
           },
           {
            "bin_start": -0.28600000000000003,
            "bin_end": 0,
            "count": 2303
           },
           {
            "bin_start": 0,
            "bin_end": 0.2859999999999998,
            "count": 2955
           },
           {
            "bin_start": 0.2859999999999998,
            "bin_end": 0.5719999999999998,
            "count": 20
           },
           {
            "bin_start": 0.5719999999999998,
            "bin_end": 0.8579999999999999,
            "count": 10
           },
           {
            "bin_start": 0.8579999999999999,
            "bin_end": 1.144,
            "count": 4
           },
           {
            "bin_start": 1.144,
            "bin_end": 1.43,
            "count": 2
           }
          ]
         }
        },
        {
         "name": "google_ageusia_volume_t_minus_1",
         "dtype": "float64",
         "stats": {
          "unique_count": 184,
          "nan_count": 0,
          "min": "-0.34",
          "max": "0.35000000000000003",
          "histogram": [
           {
            "bin_start": -0.34,
            "bin_end": -0.271,
            "count": 2
           },
           {
            "bin_start": -0.271,
            "bin_end": -0.202,
            "count": 7
           },
           {
            "bin_start": -0.202,
            "bin_end": -0.133,
            "count": 34
           },
           {
            "bin_start": -0.133,
            "bin_end": -0.064,
            "count": 219
           },
           {
            "bin_start": -0.064,
            "bin_end": 0.0050000000000000044,
            "count": 3076
           },
           {
            "bin_start": 0.0050000000000000044,
            "bin_end": 0.07400000000000001,
            "count": 1793
           },
           {
            "bin_start": 0.07400000000000001,
            "bin_end": 0.14300000000000002,
            "count": 141
           },
           {
            "bin_start": 0.14300000000000002,
            "bin_end": 0.21200000000000002,
            "count": 40
           },
           {
            "bin_start": 0.21200000000000002,
            "bin_end": 0.28099999999999997,
            "count": 5
           },
           {
            "bin_start": 0.28099999999999997,
            "bin_end": 0.35000000000000003,
            "count": 4
           }
          ]
         }
        },
        {
         "name": "covid_deaths_t_minus",
         "dtype": "float64",
         "stats": {
          "unique_count": 167,
          "nan_count": 0,
          "min": "-78.0",
          "max": "928.0",
          "histogram": [
           {
            "bin_start": -78,
            "bin_end": 22.599999999999994,
            "count": 4723
           },
           {
            "bin_start": 22.599999999999994,
            "bin_end": 123.19999999999999,
            "count": 548
           },
           {
            "bin_start": 123.19999999999999,
            "bin_end": 223.79999999999995,
            "count": 27
           },
           {
            "bin_start": 223.79999999999995,
            "bin_end": 324.4,
            "count": 22
           },
           {
            "bin_start": 324.4,
            "bin_end": 425,
            "count": 0
           },
           {
            "bin_start": 425,
            "bin_end": 525.5999999999999,
            "count": 0
           },
           {
            "bin_start": 525.5999999999999,
            "bin_end": 626.1999999999999,
            "count": 0
           },
           {
            "bin_start": 626.1999999999999,
            "bin_end": 726.8,
            "count": 0
           },
           {
            "bin_start": 726.8,
            "bin_end": 827.4,
            "count": 0
           },
           {
            "bin_start": 827.4,
            "bin_end": 928,
            "count": 1
           }
          ]
         }
        },
        {
         "name": "home_time_t_minus_1",
         "dtype": "float64",
         "stats": {
          "unique_count": 5296,
          "nan_count": 0,
          "min": "-500.17212020000005",
          "max": "437.3668895",
          "histogram": [
           {
            "bin_start": -500.17212020000005,
            "bin_end": -406.41821923000003,
            "count": 17
           },
           {
            "bin_start": -406.41821923000003,
            "bin_end": -312.6643182600001,
            "count": 10
           },
           {
            "bin_start": -312.6643182600001,
            "bin_end": -218.91041729000005,
            "count": 18
           },
           {
            "bin_start": -218.91041729000005,
            "bin_end": -125.15651632000004,
            "count": 65
           },
           {
            "bin_start": -125.15651632000004,
            "bin_end": -31.40261535000002,
            "count": 1059
           },
           {
            "bin_start": -31.40261535000002,
            "bin_end": 62.35128561999994,
            "count": 3565
           },
           {
            "bin_start": 62.35128561999994,
            "bin_end": 156.10518658999996,
            "count": 535
           },
           {
            "bin_start": 156.10518658999996,
            "bin_end": 249.85908755999998,
            "count": 38
           },
           {
            "bin_start": 249.85908755999998,
            "bin_end": 343.61298853,
            "count": 6
           },
           {
            "bin_start": 343.61298853,
            "bin_end": 437.3668895,
            "count": 8
           }
          ]
         }
        },
        {
         "name": "covid_cases_t_plus_one",
         "dtype": "float64"
        },
        {
         "name": "_deepnote_index_column",
         "dtype": "int64"
        }
       ],
       "rows_top": [
        {
         "geo_value": 5,
         "time_value": "2020-02-21T00:00:00.000000",
         "covid_cases": 0,
         "confirmed_covid_visit": 0.011169,
         "doctor_visits": 0,
         "hospital_admissions": 0.113524,
         "google_anosmia_volume": 0.06,
         "google_ageusia_volume": 0.06,
         "covid_deaths": 0,
         "home_time": 587.3067307692307,
         "covid_cases_t_minus_1": 0,
         "confirmed_covid_vist_t_minus_1": -0.001013,
         "doctor_visits_t_minus_1": 0,
         "hospital_admissions_t_minus_1": 0.0025320000000000065,
         "google_anosmia_volume_t_minus_1": 0,
         "google_ageusia_volume_t_minus_1": 0,
         "covid_deaths_t_minus": 0,
         "home_time_t_minus_1": -21.83050531522224,
         "covid_cases_t_plus_one": 0,
         "_deepnote_index_column": 0
        },
        {
         "geo_value": 5,
         "time_value": "2020-02-22T00:00:00.000000",
         "covid_cases": 0,
         "confirmed_covid_visit": 0.010473,
         "doctor_visits": 0,
         "hospital_admissions": 0.116683,
         "google_anosmia_volume": 0.08,
         "google_ageusia_volume": 0.06,
         "covid_deaths": 0,
         "home_time": 679.5859750240154,
         "covid_cases_t_minus_1": 0,
         "confirmed_covid_vist_t_minus_1": -0.0006960000000000004,
         "doctor_visits_t_minus_1": 0,
         "hospital_admissions_t_minus_1": 0.003158999999999995,
         "google_anosmia_volume_t_minus_1": 0.020000000000000004,
         "google_ageusia_volume_t_minus_1": 0,
         "covid_deaths_t_minus": 0,
         "home_time_t_minus_1": 92.27924425478466,
         "covid_cases_t_plus_one": 0,
         "_deepnote_index_column": 1
        },
        {
         "geo_value": 5,
         "time_value": "2020-02-27T00:00:00.000000",
         "covid_cases": 0,
         "confirmed_covid_visit": 0.010852,
         "doctor_visits": 0,
         "hospital_admissions": 0.118561,
         "google_anosmia_volume": 0.11,
         "google_ageusia_volume": 0.05,
         "covid_deaths": 0,
         "home_time": 598.7329490874159,
         "covid_cases_t_minus_1": 0,
         "confirmed_covid_vist_t_minus_1": -0.0010509999999999999,
         "doctor_visits_t_minus_1": 0,
         "hospital_admissions_t_minus_1": -0.0011970000000000036,
         "google_anosmia_volume_t_minus_1": 0.039999999999999994,
         "google_ageusia_volume_t_minus_1": 0,
         "covid_deaths_t_minus": 0,
         "home_time_t_minus_1": 40.80389827245904,
         "covid_cases_t_plus_one": 0,
         "_deepnote_index_column": 2
        },
        {
         "geo_value": 5,
         "time_value": "2020-02-28T00:00:00.000000",
         "covid_cases": 0,
         "confirmed_covid_visit": 0.010195,
         "doctor_visits": 0,
         "hospital_admissions": 0.119094,
         "google_anosmia_volume": 0.07,
         "google_ageusia_volume": 0.05,
         "covid_deaths": 0,
         "home_time": 587.6445725264169,
         "covid_cases_t_minus_1": 0,
         "confirmed_covid_vist_t_minus_1": -0.0006570000000000013,
         "doctor_visits_t_minus_1": 0,
         "hospital_admissions_t_minus_1": 0.0005330000000000057,
         "google_anosmia_volume_t_minus_1": -0.039999999999999994,
         "google_ageusia_volume_t_minus_1": 0,
         "covid_deaths_t_minus": 0,
         "home_time_t_minus_1": -11.088376560998995,
         "covid_cases_t_plus_one": 0,
         "_deepnote_index_column": 3
        },
        {
         "geo_value": 5,
         "time_value": "2020-02-29T00:00:00.000000",
         "covid_cases": 0,
         "confirmed_covid_visit": 0.009712,
         "doctor_visits": 0,
         "hospital_admissions": 0.118809,
         "google_anosmia_volume": 0.07,
         "google_ageusia_volume": 0.05,
         "covid_deaths": 0,
         "home_time": 698.6730769230769,
         "covid_cases_t_minus_1": 0,
         "confirmed_covid_vist_t_minus_1": -0.00048299999999999906,
         "doctor_visits_t_minus_1": 0,
         "hospital_admissions_t_minus_1": -0.00028500000000000747,
         "google_anosmia_volume_t_minus_1": 0,
         "google_ageusia_volume_t_minus_1": 0,
         "covid_deaths_t_minus": 0,
         "home_time_t_minus_1": 111.02850439665997,
         "covid_cases_t_plus_one": 0,
         "_deepnote_index_column": 4
        },
        {
         "geo_value": 5,
         "time_value": "2020-03-01T00:00:00.000000",
         "covid_cases": 0,
         "confirmed_covid_visit": 0.011162,
         "doctor_visits": 0,
         "hospital_admissions": 0.119646,
         "google_anosmia_volume": 0.06,
         "google_ageusia_volume": 0.07,
         "covid_deaths": 0,
         "home_time": 787.0498084291188,
         "covid_cases_t_minus_1": 0,
         "confirmed_covid_vist_t_minus_1": 0.00145,
         "doctor_visits_t_minus_1": 0,
         "hospital_admissions_t_minus_1": 0.0008370000000000044,
         "google_anosmia_volume_t_minus_1": -0.010000000000000009,
         "google_ageusia_volume_t_minus_1": 0.020000000000000004,
         "covid_deaths_t_minus": 0,
         "home_time_t_minus_1": 88.37673150604189,
         "covid_cases_t_plus_one": 0,
         "_deepnote_index_column": 5
        },
        {
         "geo_value": 5,
         "time_value": "2020-03-02T00:00:00.000000",
         "covid_cases": 0,
         "confirmed_covid_visit": 0.013988,
         "doctor_visits": 0,
         "hospital_admissions": 0.119067,
         "google_anosmia_volume": 0.08,
         "google_ageusia_volume": 0.07,
         "covid_deaths": 0,
         "home_time": 629.9511494252873,
         "covid_cases_t_minus_1": 0,
         "confirmed_covid_vist_t_minus_1": 0.0028260000000000004,
         "doctor_visits_t_minus_1": 0,
         "hospital_admissions_t_minus_1": -0.0005789999999999962,
         "google_anosmia_volume_t_minus_1": 0.020000000000000004,
         "google_ageusia_volume_t_minus_1": 0,
         "covid_deaths_t_minus": 0,
         "home_time_t_minus_1": -157.09865900383147,
         "covid_cases_t_plus_one": 1,
         "_deepnote_index_column": 6
        },
        {
         "geo_value": 5,
         "time_value": "2020-03-03T00:00:00.000000",
         "covid_cases": 1,
         "confirmed_covid_visit": 0.012357,
         "doctor_visits": 0,
         "hospital_admissions": 0.119366,
         "google_anosmia_volume": 0.07,
         "google_ageusia_volume": 0.04,
         "covid_deaths": 0,
         "home_time": 604.8535885167464,
         "covid_cases_t_minus_1": 1,
         "confirmed_covid_vist_t_minus_1": -0.0016310000000000005,
         "doctor_visits_t_minus_1": 0,
         "hospital_admissions_t_minus_1": 0.0002989999999999937,
         "google_anosmia_volume_t_minus_1": -0.009999999999999995,
         "google_ageusia_volume_t_minus_1": -0.030000000000000006,
         "covid_deaths_t_minus": 0,
         "home_time_t_minus_1": -25.097560908540913,
         "covid_cases_t_plus_one": 1,
         "_deepnote_index_column": 7
        },
        {
         "geo_value": 5,
         "time_value": "2020-03-04T00:00:00.000000",
         "covid_cases": 1,
         "confirmed_covid_visit": 0.011438,
         "doctor_visits": 0.019267,
         "hospital_admissions": 0.119776,
         "google_anosmia_volume": 0.06,
         "google_ageusia_volume": 0.05,
         "covid_deaths": 0,
         "home_time": 620.3758389261745,
         "covid_cases_t_minus_1": 0,
         "confirmed_covid_vist_t_minus_1": -0.0009189999999999997,
         "doctor_visits_t_minus_1": 0.019267,
         "hospital_admissions_t_minus_1": 0.0004099999999999937,
         "google_anosmia_volume_t_minus_1": -0.010000000000000009,
         "google_ageusia_volume_t_minus_1": 0.010000000000000002,
         "covid_deaths_t_minus": 0,
         "home_time_t_minus_1": 15.522250409428125,
         "covid_cases_t_plus_one": 1,
         "_deepnote_index_column": 8
        },
        {
         "geo_value": 5,
         "time_value": "2020-03-05T00:00:00.000000",
         "covid_cases": 1,
         "confirmed_covid_visit": 0.010639,
         "doctor_visits": 0.016927,
         "hospital_admissions": 0.119895,
         "google_anosmia_volume": 0.12,
         "google_ageusia_volume": 0.05,
         "covid_deaths": 0,
         "home_time": 612.3649425287356,
         "covid_cases_t_minus_1": 0,
         "confirmed_covid_vist_t_minus_1": -0.0007990000000000011,
         "doctor_visits_t_minus_1": -0.0023399999999999983,
         "hospital_admissions_t_minus_1": 0.00011900000000000799,
         "google_anosmia_volume_t_minus_1": 0.06,
         "google_ageusia_volume_t_minus_1": 0,
         "covid_deaths_t_minus": 0,
         "home_time_t_minus_1": -8.010896397438955,
         "covid_cases_t_plus_one": 1,
         "_deepnote_index_column": 9
        },
        {
         "geo_value": 5,
         "time_value": "2020-03-06T00:00:00.000000",
         "covid_cases": 1,
         "confirmed_covid_visit": 0.010242,
         "doctor_visits": 0.014341,
         "hospital_admissions": 0.11982,
         "google_anosmia_volume": 0.1,
         "google_ageusia_volume": 0.08,
         "covid_deaths": 0,
         "home_time": 593.4918504314478,
         "covid_cases_t_minus_1": 0,
         "confirmed_covid_vist_t_minus_1": -0.0003969999999999998,
         "doctor_visits_t_minus_1": -0.0025860000000000015,
         "hospital_admissions_t_minus_1": -0.00007500000000000562,
         "google_anosmia_volume_t_minus_1": -0.01999999999999999,
         "google_ageusia_volume_t_minus_1": 0.03,
         "covid_deaths_t_minus": 0,
         "home_time_t_minus_1": -18.87309209728778,
         "covid_cases_t_plus_one": 2,
         "_deepnote_index_column": 10
        },
        {
         "geo_value": 5,
         "time_value": "2020-03-07T00:00:00.000000",
         "covid_cases": 2,
         "confirmed_covid_visit": 0.016023,
         "doctor_visits": 0.011658,
         "hospital_admissions": 0.185543,
         "google_anosmia_volume": 0.1,
         "google_ageusia_volume": 0.08,
         "covid_deaths": 0,
         "home_time": 704.2097701149426,
         "covid_cases_t_minus_1": 1,
         "confirmed_covid_vist_t_minus_1": 0.005781,
         "doctor_visits_t_minus_1": -0.0026829999999999996,
         "hospital_admissions_t_minus_1": 0.06572300000000002,
         "google_anosmia_volume_t_minus_1": 0,
         "google_ageusia_volume_t_minus_1": 0,
         "covid_deaths_t_minus": 0,
         "home_time_t_minus_1": 110.71791968349476,
         "covid_cases_t_plus_one": 2,
         "_deepnote_index_column": 11
        },
        {
         "geo_value": 5,
         "time_value": "2020-03-08T00:00:00.000000",
         "covid_cases": 2,
         "confirmed_covid_visit": 0.018032,
         "doctor_visits": 0.019996,
         "hospital_admissions": 0.245598,
         "google_anosmia_volume": 0.1,
         "google_ageusia_volume": 0.06,
         "covid_deaths": 0,
         "home_time": 753.6427203065134,
         "covid_cases_t_minus_1": 0,
         "confirmed_covid_vist_t_minus_1": 0.0020090000000000004,
         "doctor_visits_t_minus_1": 0.008338,
         "hospital_admissions_t_minus_1": 0.060055,
         "google_anosmia_volume_t_minus_1": 0,
         "google_ageusia_volume_t_minus_1": -0.020000000000000004,
         "covid_deaths_t_minus": 0,
         "home_time_t_minus_1": 49.43295019157085,
         "covid_cases_t_plus_one": 3,
         "_deepnote_index_column": 12
        },
        {
         "geo_value": 5,
         "time_value": "2020-03-09T00:00:00.000000",
         "covid_cases": 3,
         "confirmed_covid_visit": 0.022333,
         "doctor_visits": 0.006554,
         "hospital_admissions": 0.298664,
         "google_anosmia_volume": 0.1,
         "google_ageusia_volume": 0.06,
         "covid_deaths": 0,
         "home_time": 636.8153110047847,
         "covid_cases_t_minus_1": 1,
         "confirmed_covid_vist_t_minus_1": 0.004300999999999999,
         "doctor_visits_t_minus_1": -0.013441999999999999,
         "hospital_admissions_t_minus_1": 0.053065999999999974,
         "google_anosmia_volume_t_minus_1": 0,
         "google_ageusia_volume_t_minus_1": 0,
         "covid_deaths_t_minus": 0,
         "home_time_t_minus_1": -116.82740930172872,
         "covid_cases_t_plus_one": 3,
         "_deepnote_index_column": 13
        },
        {
         "geo_value": 5,
         "time_value": "2020-03-10T00:00:00.000000",
         "covid_cases": 3,
         "confirmed_covid_visit": 0.026812,
         "doctor_visits": 0.018026,
         "hospital_admissions": 0.343336,
         "google_anosmia_volume": 0.09,
         "google_ageusia_volume": 0.06,
         "covid_deaths": 0,
         "home_time": 676.35734870317,
         "covid_cases_t_minus_1": 0,
         "confirmed_covid_vist_t_minus_1": 0.004479,
         "doctor_visits_t_minus_1": 0.011472,
         "hospital_admissions_t_minus_1": 0.04467199999999999,
         "google_anosmia_volume_t_minus_1": -0.010000000000000009,
         "google_ageusia_volume_t_minus_1": 0,
         "covid_deaths_t_minus": 0,
         "home_time_t_minus_1": 39.54203769838534,
         "covid_cases_t_plus_one": 4,
         "_deepnote_index_column": 14
        },
        {
         "geo_value": 5,
         "time_value": "2020-03-11T00:00:00.000000",
         "covid_cases": 4,
         "confirmed_covid_visit": 0.022741,
         "doctor_visits": 0.087875,
         "hospital_admissions": 0.377819,
         "google_anosmia_volume": 0.07,
         "google_ageusia_volume": 0.05,
         "covid_deaths": 0,
         "home_time": 693.2584053794428,
         "covid_cases_t_minus_1": 1,
         "confirmed_covid_vist_t_minus_1": -0.004070999999999998,
         "doctor_visits_t_minus_1": 0.069849,
         "hospital_admissions_t_minus_1": 0.03448300000000004,
         "google_anosmia_volume_t_minus_1": -0.01999999999999999,
         "google_ageusia_volume_t_minus_1": -0.009999999999999995,
         "covid_deaths_t_minus": 0,
         "home_time_t_minus_1": 16.901056676272788,
         "covid_cases_t_plus_one": 4,
         "_deepnote_index_column": 15
        },
        {
         "geo_value": 5,
         "time_value": "2020-03-12T00:00:00.000000",
         "covid_cases": 4,
         "confirmed_covid_visit": 0.01903,
         "doctor_visits": 0.272943,
         "hospital_admissions": 0.405668,
         "google_anosmia_volume": 0.07,
         "google_ageusia_volume": 0.06,
         "covid_deaths": 0,
         "home_time": 653.2065321805956,
         "covid_cases_t_minus_1": 0,
         "confirmed_covid_vist_t_minus_1": -0.0037110000000000025,
         "doctor_visits_t_minus_1": 0.185068,
         "hospital_admissions_t_minus_1": 0.027848999999999957,
         "google_anosmia_volume_t_minus_1": 0,
         "google_ageusia_volume_t_minus_1": 0.009999999999999995,
         "covid_deaths_t_minus": 0,
         "home_time_t_minus_1": -40.05187319884726,
         "covid_cases_t_plus_one": 7,
         "_deepnote_index_column": 16
        },
        {
         "geo_value": 5,
         "time_value": "2020-03-13T00:00:00.000000",
         "covid_cases": 7,
         "confirmed_covid_visit": 0.016347,
         "doctor_visits": 0.545029,
         "hospital_admissions": 0.429512,
         "google_anosmia_volume": 0.07,
         "google_ageusia_volume": 0.06,
         "covid_deaths": 0,
         "home_time": 665.1719500480308,
         "covid_cases_t_minus_1": 3,
         "confirmed_covid_vist_t_minus_1": -0.002682999999999998,
         "doctor_visits_t_minus_1": 0.272086,
         "hospital_admissions_t_minus_1": 0.023844000000000032,
         "google_anosmia_volume_t_minus_1": 0,
         "google_ageusia_volume_t_minus_1": 0,
         "covid_deaths_t_minus": 0,
         "home_time_t_minus_1": 11.965417867435235,
         "covid_cases_t_plus_one": 7,
         "_deepnote_index_column": 17
        },
        {
         "geo_value": 5,
         "time_value": "2020-03-14T00:00:00.000000",
         "covid_cases": 7,
         "confirmed_covid_visit": 0.014355,
         "doctor_visits": 0.763752,
         "hospital_admissions": 0.449809,
         "google_anosmia_volume": 0.07,
         "google_ageusia_volume": 0.06,
         "covid_deaths": 0,
         "home_time": 862.8549471661863,
         "covid_cases_t_minus_1": 0,
         "confirmed_covid_vist_t_minus_1": -0.0019920000000000007,
         "doctor_visits_t_minus_1": 0.218723,
         "hospital_admissions_t_minus_1": 0.02029700000000001,
         "google_anosmia_volume_t_minus_1": 0,
         "google_ageusia_volume_t_minus_1": 0,
         "covid_deaths_t_minus": 0,
         "home_time_t_minus_1": 197.68299711815553,
         "covid_cases_t_plus_one": 15,
         "_deepnote_index_column": 18
        },
        {
         "geo_value": 5,
         "time_value": "2020-03-19T00:00:00.000000",
         "covid_cases": 35,
         "confirmed_covid_visit": 0.025067,
         "doctor_visits": 1.69725,
         "hospital_admissions": 0.600985,
         "google_anosmia_volume": 0.13,
         "google_ageusia_volume": 0.05,
         "covid_deaths": 0,
         "home_time": 871.4341978866474,
         "covid_cases_t_minus_1": 4,
         "confirmed_covid_vist_t_minus_1": 0.009423999999999998,
         "doctor_visits_t_minus_1": 0.5090109999999999,
         "hospital_admissions_t_minus_1": 0.06380299999999994,
         "google_anosmia_volume_t_minus_1": 0.03,
         "google_ageusia_volume_t_minus_1": -0.03,
         "covid_deaths_t_minus": 0,
         "home_time_t_minus_1": -81.33984057489101,
         "covid_cases_t_plus_one": 45,
         "_deepnote_index_column": 19
        },
        {
         "geo_value": 5,
         "time_value": "2020-03-20T00:00:00.000000",
         "covid_cases": 45,
         "confirmed_covid_visit": 0.034415,
         "doctor_visits": 1.959667,
         "hospital_admissions": 0.668249,
         "google_anosmia_volume": 0.13,
         "google_ageusia_volume": 0.07,
         "covid_deaths": 0,
         "home_time": 704.7063339731286,
         "covid_cases_t_minus_1": 10,
         "confirmed_covid_vist_t_minus_1": 0.009348000000000002,
         "doctor_visits_t_minus_1": 0.2624170000000001,
         "hospital_admissions_t_minus_1": 0.06726399999999999,
         "google_anosmia_volume_t_minus_1": 0,
         "google_ageusia_volume_t_minus_1": 0.020000000000000004,
         "covid_deaths_t_minus": 0,
         "home_time_t_minus_1": -166.72786391351883,
         "covid_cases_t_plus_one": 65,
         "_deepnote_index_column": 20
        },
        {
         "geo_value": 5,
         "time_value": "2020-03-21T00:00:00.000000",
         "covid_cases": 65,
         "confirmed_covid_visit": 0.031541,
         "doctor_visits": 2.222429,
         "hospital_admissions": 0.72853,
         "google_anosmia_volume": 0.38,
         "google_ageusia_volume": 0.13,
         "covid_deaths": 0,
         "home_time": 697.0721153846154,
         "covid_cases_t_minus_1": 20,
         "confirmed_covid_vist_t_minus_1": -0.0028740000000000016,
         "doctor_visits_t_minus_1": 0.26276199999999994,
         "hospital_admissions_t_minus_1": 0.06028100000000003,
         "google_anosmia_volume_t_minus_1": 0.25,
         "google_ageusia_volume_t_minus_1": 0.06,
         "covid_deaths_t_minus": 0,
         "home_time_t_minus_1": -7.634218588513249,
         "covid_cases_t_plus_one": 106,
         "_deepnote_index_column": 21
        },
        {
         "geo_value": 5,
         "time_value": "2020-03-22T00:00:00.000000",
         "covid_cases": 106,
         "confirmed_covid_visit": 0.033677,
         "doctor_visits": 2.333913,
         "hospital_admissions": 0.787061,
         "google_anosmia_volume": 1.26,
         "google_ageusia_volume": 0.35,
         "covid_deaths": 1,
         "home_time": 844.4918347742555,
         "covid_cases_t_minus_1": 41,
         "confirmed_covid_vist_t_minus_1": 0.002135999999999999,
         "doctor_visits_t_minus_1": 0.11148399999999992,
         "hospital_admissions_t_minus_1": 0.058531,
         "google_anosmia_volume_t_minus_1": 0.88,
         "google_ageusia_volume_t_minus_1": 0.21999999999999997,
         "covid_deaths_t_minus": 1,
         "home_time_t_minus_1": 147.41971938964014,
         "covid_cases_t_plus_one": 122,
         "_deepnote_index_column": 22
        },
        {
         "geo_value": 5,
         "time_value": "2020-03-23T00:00:00.000000",
         "covid_cases": 122,
         "confirmed_covid_visit": 0.040631,
         "doctor_visits": 2.361406,
         "hospital_admissions": 0.850679,
         "google_anosmia_volume": 1.92,
         "google_ageusia_volume": 0.59,
         "covid_deaths": 1,
         "home_time": 905.266028708134,
         "covid_cases_t_minus_1": 16,
         "confirmed_covid_vist_t_minus_1": 0.006954000000000002,
         "doctor_visits_t_minus_1": 0.02749300000000021,
         "hospital_admissions_t_minus_1": 0.06361799999999995,
         "google_anosmia_volume_t_minus_1": 0.6599999999999999,
         "google_ageusia_volume_t_minus_1": 0.24,
         "covid_deaths_t_minus": 0,
         "home_time_t_minus_1": 60.77419393387845,
         "covid_cases_t_plus_one": 124,
         "_deepnote_index_column": 23
        },
        {
         "geo_value": 5,
         "time_value": "2020-03-24T00:00:00.000000",
         "covid_cases": 124,
         "confirmed_covid_visit": 0.032572,
         "doctor_visits": 2.026606,
         "hospital_admissions": 0.819514,
         "google_anosmia_volume": 0.91,
         "google_ageusia_volume": 0.27,
         "covid_deaths": 2,
         "home_time": 931.9923444976076,
         "covid_cases_t_minus_1": 2,
         "confirmed_covid_vist_t_minus_1": -0.008059000000000004,
         "doctor_visits_t_minus_1": -0.3348,
         "hospital_admissions_t_minus_1": -0.031164999999999998,
         "google_anosmia_volume_t_minus_1": -1.0099999999999998,
         "google_ageusia_volume_t_minus_1": -0.31999999999999995,
         "covid_deaths_t_minus": 1,
         "home_time_t_minus_1": 26.726315789473688,
         "covid_cases_t_plus_one": 135,
         "_deepnote_index_column": 24
        },
        {
         "geo_value": 5,
         "time_value": "2020-03-25T00:00:00.000000",
         "covid_cases": 135,
         "confirmed_covid_visit": 0.02784,
         "doctor_visits": 2.249308,
         "hospital_admissions": 0.699418,
         "google_anosmia_volume": 0.54,
         "google_ageusia_volume": 0.17,
         "covid_deaths": 3,
         "home_time": 935.3326941514861,
         "covid_cases_t_minus_1": 11,
         "confirmed_covid_vist_t_minus_1": -0.004731999999999997,
         "doctor_visits_t_minus_1": 0.22270199999999996,
         "hospital_admissions_t_minus_1": -0.12009599999999998,
         "google_anosmia_volume_t_minus_1": -0.37,
         "google_ageusia_volume_t_minus_1": -0.1,
         "covid_deaths_t_minus": 1,
         "home_time_t_minus_1": 3.340349653878434,
         "covid_cases_t_plus_one": 163,
         "_deepnote_index_column": 25
        }
       ],
       "rows_bottom": [
        {
         "geo_value": 4,
         "time_value": "2021-03-19T00:00:00.000000",
         "covid_cases": 74091,
         "confirmed_covid_visit": 0.3234356,
         "doctor_visits": 2.067686,
         "hospital_admissions": 7.624368,
         "google_anosmia_volume": 0.11,
         "google_ageusia_volume": 0.16,
         "covid_deaths": 933,
         "home_time": 738.5373832,
         "covid_cases_t_minus_1": 55,
         "confirmed_covid_vist_t_minus_1": 0.00412429999999997,
         "doctor_visits_t_minus_1": -0.21436399999999978,
         "hospital_admissions_t_minus_1": 0.29801399999999933,
         "google_anosmia_volume_t_minus_1": -0.06999999999999999,
         "google_ageusia_volume_t_minus_1": 0,
         "covid_deaths_t_minus": 2,
         "home_time_t_minus_1": -21.031703499999935,
         "covid_cases_t_plus_one": 74147,
         "_deepnote_index_column": 5295
        },
        {
         "geo_value": 4,
         "time_value": "2021-03-20T00:00:00.000000",
         "covid_cases": 74147,
         "confirmed_covid_visit": 0.3371239,
         "doctor_visits": 2.153861,
         "hospital_admissions": 7.605035,
         "google_anosmia_volume": 0.11,
         "google_ageusia_volume": 0.13,
         "covid_deaths": 935,
         "home_time": 758.9439252,
         "covid_cases_t_minus_1": 56,
         "confirmed_covid_vist_t_minus_1": 0.013688299999999987,
         "doctor_visits_t_minus_1": 0.08617499999999989,
         "hospital_admissions_t_minus_1": -0.0193329999999996,
         "google_anosmia_volume_t_minus_1": 0,
         "google_ageusia_volume_t_minus_1": -0.03,
         "covid_deaths_t_minus": 2,
         "home_time_t_minus_1": 20.406541999999945,
         "covid_cases_t_plus_one": 74185,
         "_deepnote_index_column": 5296
        },
        {
         "geo_value": 4,
         "time_value": "2021-03-21T00:00:00.000000",
         "covid_cases": 74185,
         "confirmed_covid_visit": 0.4063066,
         "doctor_visits": 2.291875,
         "hospital_admissions": 7.235497,
         "google_anosmia_volume": 0.15,
         "google_ageusia_volume": 0.13,
         "covid_deaths": 940,
         "home_time": 814.614486,
         "covid_cases_t_minus_1": 38,
         "confirmed_covid_vist_t_minus_1": 0.06918270000000004,
         "doctor_visits_t_minus_1": 0.13801400000000008,
         "hospital_admissions_t_minus_1": -0.36953800000000037,
         "google_anosmia_volume_t_minus_1": 0.039999999999999994,
         "google_ageusia_volume_t_minus_1": 0,
         "covid_deaths_t_minus": 5,
         "home_time_t_minus_1": 55.67056080000009,
         "covid_cases_t_plus_one": 74222,
         "_deepnote_index_column": 5297
        },
        {
         "geo_value": 4,
         "time_value": "2021-03-22T00:00:00.000000",
         "covid_cases": 74222,
         "confirmed_covid_visit": 0.4640234,
         "doctor_visits": 2.407708,
         "hospital_admissions": 6.734048,
         "google_anosmia_volume": 0.14,
         "google_ageusia_volume": 0.1,
         "covid_deaths": 940,
         "home_time": 744.7616822,
         "covid_cases_t_minus_1": 37,
         "confirmed_covid_vist_t_minus_1": 0.05771679999999996,
         "doctor_visits_t_minus_1": 0.11583299999999985,
         "hospital_admissions_t_minus_1": -0.501449,
         "google_anosmia_volume_t_minus_1": -0.009999999999999981,
         "google_ageusia_volume_t_minus_1": -0.03,
         "covid_deaths_t_minus": 0,
         "home_time_t_minus_1": -69.85280380000006,
         "covid_cases_t_plus_one": 74286,
         "_deepnote_index_column": 5298
        },
        {
         "geo_value": 4,
         "time_value": "2021-03-23T00:00:00.000000",
         "covid_cases": 74286,
         "confirmed_covid_visit": 0.3865077,
         "doctor_visits": 2.582136,
         "hospital_admissions": 6.161413,
         "google_anosmia_volume": 0.23,
         "google_ageusia_volume": 0.1,
         "covid_deaths": 945,
         "home_time": 705,
         "covid_cases_t_minus_1": 64,
         "confirmed_covid_vist_t_minus_1": -0.07751569999999997,
         "doctor_visits_t_minus_1": 0.17442800000000025,
         "hospital_admissions_t_minus_1": -0.572635,
         "google_anosmia_volume_t_minus_1": 0.09,
         "google_ageusia_volume_t_minus_1": 0,
         "covid_deaths_t_minus": 5,
         "home_time_t_minus_1": -39.761682199999996,
         "covid_cases_t_plus_one": 74334,
         "_deepnote_index_column": 5299
        },
        {
         "geo_value": 4,
         "time_value": "2021-03-24T00:00:00.000000",
         "covid_cases": 74334,
         "confirmed_covid_visit": 0.3301115,
         "doctor_visits": 2.683765,
         "hospital_admissions": 5.532824,
         "google_anosmia_volume": 0.24,
         "google_ageusia_volume": 0.1,
         "covid_deaths": 957,
         "home_time": 725.1121495,
         "covid_cases_t_minus_1": 48,
         "confirmed_covid_vist_t_minus_1": -0.05639620000000001,
         "doctor_visits_t_minus_1": 0.10162899999999997,
         "hospital_admissions_t_minus_1": -0.6285889999999998,
         "google_anosmia_volume_t_minus_1": 0.009999999999999981,
         "google_ageusia_volume_t_minus_1": 0,
         "covid_deaths_t_minus": 12,
         "home_time_t_minus_1": 20.112149499999987,
         "covid_cases_t_plus_one": 74395,
         "_deepnote_index_column": 5300
        },
        {
         "geo_value": 4,
         "time_value": "2021-03-25T00:00:00.000000",
         "covid_cases": 74395,
         "confirmed_covid_visit": 0.3258317,
         "doctor_visits": 2.88515,
         "hospital_admissions": 4.937458,
         "google_anosmia_volume": 0.24,
         "google_ageusia_volume": 0.16,
         "covid_deaths": 965,
         "home_time": 722.0584112,
         "covid_cases_t_minus_1": 61,
         "confirmed_covid_vist_t_minus_1": -0.0042798,
         "doctor_visits_t_minus_1": 0.2013849999999997,
         "hospital_admissions_t_minus_1": -0.5953659999999994,
         "google_anosmia_volume_t_minus_1": 0,
         "google_ageusia_volume_t_minus_1": 0.06,
         "covid_deaths_t_minus": 8,
         "home_time_t_minus_1": -3.0537382999999636,
         "covid_cases_t_plus_one": 74447,
         "_deepnote_index_column": 5301
        },
        {
         "geo_value": 4,
         "time_value": "2021-03-26T00:00:00.000000",
         "covid_cases": 74447,
         "confirmed_covid_visit": 0.2488874,
         "doctor_visits": 2.832387,
         "hospital_admissions": 4.372457,
         "google_anosmia_volume": 0.33,
         "google_ageusia_volume": 0.16,
         "covid_deaths": 966,
         "home_time": 674.0163551,
         "covid_cases_t_minus_1": 52,
         "confirmed_covid_vist_t_minus_1": -0.0769443,
         "doctor_visits_t_minus_1": -0.05276299999999967,
         "hospital_admissions_t_minus_1": -0.5650010000000005,
         "google_anosmia_volume_t_minus_1": 0.09000000000000002,
         "google_ageusia_volume_t_minus_1": 0,
         "covid_deaths_t_minus": 1,
         "home_time_t_minus_1": -48.04205609999997,
         "covid_cases_t_plus_one": 74487,
         "_deepnote_index_column": 5302
        },
        {
         "geo_value": 4,
         "time_value": "2021-03-27T00:00:00.000000",
         "covid_cases": 74487,
         "confirmed_covid_visit": 0.2598354,
         "doctor_visits": 2.543845,
         "hospital_admissions": 4.041426,
         "google_anosmia_volume": 0.25,
         "google_ageusia_volume": 0.16,
         "covid_deaths": 969,
         "home_time": 752.1705607,
         "covid_cases_t_minus_1": 40,
         "confirmed_covid_vist_t_minus_1": 0.010947999999999986,
         "doctor_visits_t_minus_1": -0.2885420000000001,
         "hospital_admissions_t_minus_1": -0.3310309999999994,
         "google_anosmia_volume_t_minus_1": -0.08000000000000002,
         "google_ageusia_volume_t_minus_1": 0,
         "covid_deaths_t_minus": 3,
         "home_time_t_minus_1": 78.15420559999995,
         "covid_cases_t_plus_one": 74520,
         "_deepnote_index_column": 5303
        },
        {
         "geo_value": 4,
         "time_value": "2021-03-28T00:00:00.000000",
         "covid_cases": 74520,
         "confirmed_covid_visit": 0.2697964,
         "doctor_visits": 2.277811,
         "hospital_admissions": 3.873717,
         "google_anosmia_volume": 0.23,
         "google_ageusia_volume": 0.16,
         "covid_deaths": 969,
         "home_time": 785.4182243,
         "covid_cases_t_minus_1": 33,
         "confirmed_covid_vist_t_minus_1": 0.009960999999999998,
         "doctor_visits_t_minus_1": -0.2660340000000003,
         "hospital_admissions_t_minus_1": -0.16770900000000033,
         "google_anosmia_volume_t_minus_1": -0.01999999999999999,
         "google_ageusia_volume_t_minus_1": 0,
         "covid_deaths_t_minus": 0,
         "home_time_t_minus_1": 33.24766360000001,
         "covid_cases_t_plus_one": 74547,
         "_deepnote_index_column": 5304
        },
        {
         "geo_value": 4,
         "time_value": "2021-03-29T00:00:00.000000",
         "covid_cases": 74547,
         "confirmed_covid_visit": 0.3445172,
         "doctor_visits": 2.071721,
         "hospital_admissions": 4.01111,
         "google_anosmia_volume": 0.19,
         "google_ageusia_volume": 0.1,
         "covid_deaths": 969,
         "home_time": 707.4285714,
         "covid_cases_t_minus_1": 27,
         "confirmed_covid_vist_t_minus_1": 0.07472080000000003,
         "doctor_visits_t_minus_1": -0.20608999999999966,
         "hospital_admissions_t_minus_1": 0.13739300000000032,
         "google_anosmia_volume_t_minus_1": -0.04000000000000001,
         "google_ageusia_volume_t_minus_1": -0.06,
         "covid_deaths_t_minus": 0,
         "home_time_t_minus_1": -77.98965290000001,
         "covid_cases_t_plus_one": 74599,
         "_deepnote_index_column": 5305
        },
        {
         "geo_value": 4,
         "time_value": "2021-03-30T00:00:00.000000",
         "covid_cases": 74599,
         "confirmed_covid_visit": 0.2870269,
         "doctor_visits": 2.007591,
         "hospital_admissions": 3.87313,
         "google_anosmia_volume": 0.24,
         "google_ageusia_volume": 0.1,
         "covid_deaths": 971,
         "home_time": 709.1869159,
         "covid_cases_t_minus_1": 52,
         "confirmed_covid_vist_t_minus_1": -0.05749030000000005,
         "doctor_visits_t_minus_1": -0.06413000000000002,
         "hospital_admissions_t_minus_1": -0.1379800000000002,
         "google_anosmia_volume_t_minus_1": 0.04999999999999999,
         "google_ageusia_volume_t_minus_1": 0,
         "covid_deaths_t_minus": 2,
         "home_time_t_minus_1": 1.758344500000021,
         "covid_cases_t_plus_one": 74641,
         "_deepnote_index_column": 5306
        },
        {
         "geo_value": 4,
         "time_value": "2021-03-31T00:00:00.000000",
         "covid_cases": 74641,
         "confirmed_covid_visit": 0.2914929,
         "doctor_visits": 2.211633,
         "hospital_admissions": 3.626328,
         "google_anosmia_volume": 0.11,
         "google_ageusia_volume": 0.1,
         "covid_deaths": 982,
         "home_time": 736.6869159,
         "covid_cases_t_minus_1": 42,
         "confirmed_covid_vist_t_minus_1": 0.0044660000000000255,
         "doctor_visits_t_minus_1": 0.20404199999999983,
         "hospital_admissions_t_minus_1": -0.2468020000000002,
         "google_anosmia_volume_t_minus_1": -0.13,
         "google_ageusia_volume_t_minus_1": 0,
         "covid_deaths_t_minus": 11,
         "home_time_t_minus_1": 27.5,
         "covid_cases_t_plus_one": 74685,
         "_deepnote_index_column": 5307
        },
        {
         "geo_value": 4,
         "time_value": "2021-04-06T00:00:00.000000",
         "covid_cases": 74833,
         "confirmed_covid_visit": 0.3302664,
         "doctor_visits": 2.528624,
         "hospital_admissions": 2.722509,
         "google_anosmia_volume": 0.11,
         "google_ageusia_volume": 0.15,
         "covid_deaths": 996,
         "home_time": 652.2196262,
         "covid_cases_t_minus_1": 43,
         "confirmed_covid_vist_t_minus_1": -0.04812630000000001,
         "doctor_visits_t_minus_1": -0.189311,
         "hospital_admissions_t_minus_1": -0.38267799999999985,
         "google_anosmia_volume_t_minus_1": -0.030000000000000013,
         "google_ageusia_volume_t_minus_1": 0.03,
         "covid_deaths_t_minus": 0,
         "home_time_t_minus_1": -11.302622000000042,
         "covid_cases_t_plus_one": 74863,
         "_deepnote_index_column": 5308
        },
        {
         "geo_value": 4,
         "time_value": "2021-04-07T00:00:00.000000",
         "covid_cases": 74863,
         "confirmed_covid_visit": 0.3033317,
         "doctor_visits": 2.302989,
         "hospital_admissions": 2.646127,
         "google_anosmia_volume": 0.13,
         "google_ageusia_volume": 0.15,
         "covid_deaths": 999,
         "home_time": 619.3372365,
         "covid_cases_t_minus_1": 30,
         "confirmed_covid_vist_t_minus_1": -0.026934700000000034,
         "doctor_visits_t_minus_1": -0.22563500000000003,
         "hospital_admissions_t_minus_1": -0.07638200000000017,
         "google_anosmia_volume_t_minus_1": 0.020000000000000004,
         "google_ageusia_volume_t_minus_1": 0,
         "covid_deaths_t_minus": 3,
         "home_time_t_minus_1": -32.882389699999976,
         "covid_cases_t_plus_one": 74901,
         "_deepnote_index_column": 5309
        },
        {
         "geo_value": 4,
         "time_value": "2021-04-08T00:00:00.000000",
         "covid_cases": 74901,
         "confirmed_covid_visit": 0.2591655,
         "doctor_visits": 2.252145,
         "hospital_admissions": 2.664777,
         "google_anosmia_volume": 0.12,
         "google_ageusia_volume": 0.14,
         "covid_deaths": 999,
         "home_time": 625.7715618,
         "covid_cases_t_minus_1": 38,
         "confirmed_covid_vist_t_minus_1": -0.04416619999999999,
         "doctor_visits_t_minus_1": -0.05084400000000011,
         "hospital_admissions_t_minus_1": 0.018650000000000055,
         "google_anosmia_volume_t_minus_1": -0.010000000000000009,
         "google_ageusia_volume_t_minus_1": -0.009999999999999981,
         "covid_deaths_t_minus": 0,
         "home_time_t_minus_1": 6.434325299999955,
         "covid_cases_t_plus_one": 74935,
         "_deepnote_index_column": 5310
        },
        {
         "geo_value": 4,
         "time_value": "2021-04-09T00:00:00.000000",
         "covid_cases": 74935,
         "confirmed_covid_visit": 0.262901,
         "doctor_visits": 2.392288,
         "hospital_admissions": 2.658464,
         "google_anosmia_volume": 0.12,
         "google_ageusia_volume": 0.14,
         "covid_deaths": 1000,
         "home_time": 632.9602804,
         "covid_cases_t_minus_1": 34,
         "confirmed_covid_vist_t_minus_1": 0.0037355000000000027,
         "doctor_visits_t_minus_1": 0.14014300000000013,
         "hospital_admissions_t_minus_1": -0.006313000000000013,
         "google_anosmia_volume_t_minus_1": 0,
         "google_ageusia_volume_t_minus_1": 0,
         "covid_deaths_t_minus": 1,
         "home_time_t_minus_1": 7.188718600000016,
         "covid_cases_t_plus_one": 74973,
         "_deepnote_index_column": 5311
        },
        {
         "geo_value": 4,
         "time_value": "2021-04-10T00:00:00.000000",
         "covid_cases": 74973,
         "confirmed_covid_visit": 0.2310294,
         "doctor_visits": 2.066926,
         "hospital_admissions": 2.614874,
         "google_anosmia_volume": 0.17,
         "google_ageusia_volume": 0.2,
         "covid_deaths": 998,
         "home_time": 600.9509346,
         "covid_cases_t_minus_1": 38,
         "confirmed_covid_vist_t_minus_1": -0.0318716,
         "doctor_visits_t_minus_1": -0.32536200000000015,
         "hospital_admissions_t_minus_1": -0.04359000000000002,
         "google_anosmia_volume_t_minus_1": 0.05000000000000002,
         "google_ageusia_volume_t_minus_1": 0.06,
         "covid_deaths_t_minus": -2,
         "home_time_t_minus_1": -32.009345800000006,
         "covid_cases_t_plus_one": 75001,
         "_deepnote_index_column": 5312
        },
        {
         "geo_value": 4,
         "time_value": "2021-04-11T00:00:00.000000",
         "covid_cases": 75001,
         "confirmed_covid_visit": 0.2349177,
         "doctor_visits": 1.887938,
         "hospital_admissions": 2.639993,
         "google_anosmia_volume": 0.14,
         "google_ageusia_volume": 0.11,
         "covid_deaths": 998,
         "home_time": 656.8317757,
         "covid_cases_t_minus_1": 28,
         "confirmed_covid_vist_t_minus_1": 0.003888300000000011,
         "doctor_visits_t_minus_1": -0.17898800000000015,
         "hospital_admissions_t_minus_1": 0.025119000000000113,
         "google_anosmia_volume_t_minus_1": -0.03,
         "google_ageusia_volume_t_minus_1": -0.09000000000000001,
         "covid_deaths_t_minus": 0,
         "home_time_t_minus_1": 55.8808411,
         "covid_cases_t_plus_one": 75029,
         "_deepnote_index_column": 5313
        },
        {
         "geo_value": 4,
         "time_value": "2021-04-12T00:00:00.000000",
         "covid_cases": 75029,
         "confirmed_covid_visit": 0.3099721,
         "doctor_visits": 1.788405,
         "hospital_admissions": 2.601157,
         "google_anosmia_volume": 0.13,
         "google_ageusia_volume": 0.11,
         "covid_deaths": 998,
         "home_time": 708.6098131,
         "covid_cases_t_minus_1": 28,
         "confirmed_covid_vist_t_minus_1": 0.07505439999999997,
         "doctor_visits_t_minus_1": -0.09953299999999987,
         "hospital_admissions_t_minus_1": -0.03883599999999987,
         "google_anosmia_volume_t_minus_1": -0.010000000000000009,
         "google_ageusia_volume_t_minus_1": 0,
         "covid_deaths_t_minus": 0,
         "home_time_t_minus_1": 51.77803740000002,
         "covid_cases_t_plus_one": 75075,
         "_deepnote_index_column": 5314
        },
        {
         "geo_value": 4,
         "time_value": "2021-04-13T00:00:00.000000",
         "covid_cases": 75075,
         "confirmed_covid_visit": 0.1934607,
         "doctor_visits": 1.810664,
         "hospital_admissions": 2.512968,
         "google_anosmia_volume": 0.13,
         "google_ageusia_volume": 0.11,
         "covid_deaths": 999,
         "home_time": 710.3621495,
         "covid_cases_t_minus_1": 46,
         "confirmed_covid_vist_t_minus_1": -0.11651139999999996,
         "doctor_visits_t_minus_1": 0.02225900000000003,
         "hospital_admissions_t_minus_1": -0.0881890000000003,
         "google_anosmia_volume_t_minus_1": 0,
         "google_ageusia_volume_t_minus_1": 0,
         "covid_deaths_t_minus": 1,
         "home_time_t_minus_1": 1.7523363999999901,
         "covid_cases_t_plus_one": 75108,
         "_deepnote_index_column": 5315
        },
        {
         "geo_value": 4,
         "time_value": "2021-04-14T00:00:00.000000",
         "covid_cases": 75108,
         "confirmed_covid_visit": 0.1807715,
         "doctor_visits": 2.01524,
         "hospital_admissions": 2.437686,
         "google_anosmia_volume": 0.13,
         "google_ageusia_volume": 0.1,
         "covid_deaths": 999,
         "home_time": 686.4275701,
         "covid_cases_t_minus_1": 33,
         "confirmed_covid_vist_t_minus_1": -0.012689200000000012,
         "doctor_visits_t_minus_1": 0.20457599999999987,
         "hospital_admissions_t_minus_1": -0.07528200000000007,
         "google_anosmia_volume_t_minus_1": 0,
         "google_ageusia_volume_t_minus_1": -0.009999999999999995,
         "covid_deaths_t_minus": 0,
         "home_time_t_minus_1": -23.93457939999996,
         "covid_cases_t_plus_one": 75140,
         "_deepnote_index_column": 5316
        },
        {
         "geo_value": 4,
         "time_value": "2021-04-15T00:00:00.000000",
         "covid_cases": 75140,
         "confirmed_covid_visit": 0.1616807,
         "doctor_visits": 1.849077,
         "hospital_admissions": 2.227898,
         "google_anosmia_volume": 0.16,
         "google_ageusia_volume": 0.1,
         "covid_deaths": 1002,
         "home_time": 305.2897196,
         "covid_cases_t_minus_1": 32,
         "confirmed_covid_vist_t_minus_1": -0.01909079999999999,
         "doctor_visits_t_minus_1": -0.16616299999999984,
         "hospital_admissions_t_minus_1": -0.20978799999999964,
         "google_anosmia_volume_t_minus_1": 0.03,
         "google_ageusia_volume_t_minus_1": 0,
         "covid_deaths_t_minus": 3,
         "home_time_t_minus_1": -381.1378505,
         "covid_cases_t_plus_one": 75176,
         "_deepnote_index_column": 5317
        },
        {
         "geo_value": 4,
         "time_value": "2021-04-16T00:00:00.000000",
         "covid_cases": 75176,
         "confirmed_covid_visit": 0.1200384,
         "doctor_visits": 1.573583,
         "hospital_admissions": 1.991363,
         "google_anosmia_volume": 0.18,
         "google_ageusia_volume": 0.1,
         "covid_deaths": 1007,
         "home_time": 653.0841121,
         "covid_cases_t_minus_1": 36,
         "confirmed_covid_vist_t_minus_1": -0.04164230000000001,
         "doctor_visits_t_minus_1": -0.2754940000000001,
         "hospital_admissions_t_minus_1": -0.23653500000000016,
         "google_anosmia_volume_t_minus_1": 0.01999999999999999,
         "google_ageusia_volume_t_minus_1": 0,
         "covid_deaths_t_minus": 5,
         "home_time_t_minus_1": 347.79439249999996,
         "covid_cases_t_plus_one": 75195,
         "_deepnote_index_column": 5318
        },
        {
         "geo_value": 4,
         "time_value": "2021-04-17T00:00:00.000000",
         "covid_cases": 75195,
         "confirmed_covid_visit": 0.1127277,
         "doctor_visits": 1.673901,
         "hospital_admissions": 1.725588,
         "google_anosmia_volume": 0.11,
         "google_ageusia_volume": 0.1,
         "covid_deaths": 1009,
         "home_time": 653.0841121,
         "covid_cases_t_minus_1": 19,
         "confirmed_covid_vist_t_minus_1": -0.007310700000000003,
         "doctor_visits_t_minus_1": 0.10031800000000013,
         "hospital_admissions_t_minus_1": -0.2657750000000001,
         "google_anosmia_volume_t_minus_1": -0.06999999999999999,
         "google_ageusia_volume_t_minus_1": 0,
         "covid_deaths_t_minus": 2,
         "home_time_t_minus_1": 0,
         "covid_cases_t_plus_one": 75220,
         "_deepnote_index_column": 5319
        },
        {
         "geo_value": 4,
         "time_value": "2021-04-18T00:00:00.000000",
         "covid_cases": 75220,
         "confirmed_covid_visit": 0.2071007,
         "doctor_visits": 1.772886,
         "hospital_admissions": 1.451723,
         "google_anosmia_volume": 0.11,
         "google_ageusia_volume": 0.1,
         "covid_deaths": 1009,
         "home_time": 653.0841121,
         "covid_cases_t_minus_1": 25,
         "confirmed_covid_vist_t_minus_1": 0.094373,
         "doctor_visits_t_minus_1": 0.09898499999999988,
         "hospital_admissions_t_minus_1": -0.2738649999999998,
         "google_anosmia_volume_t_minus_1": 0,
         "google_ageusia_volume_t_minus_1": 0,
         "covid_deaths_t_minus": 0,
         "home_time_t_minus_1": 0,
         "covid_cases_t_plus_one": 75240,
         "_deepnote_index_column": 5320
        }
       ]
      },
      "text/plain": "      geo_value time_value  covid_cases  confirmed_covid_visit  doctor_visits  \\\n0             5 2020-02-21          0.0               0.011169       0.000000   \n1             5 2020-02-22          0.0               0.010473       0.000000   \n2             5 2020-02-27          0.0               0.010852       0.000000   \n3             5 2020-02-28          0.0               0.010195       0.000000   \n4             5 2020-02-29          0.0               0.009712       0.000000   \n...         ...        ...          ...                    ...            ...   \n5316          4 2021-04-14      75108.0               0.180772       2.015240   \n5317          4 2021-04-15      75140.0               0.161681       1.849077   \n5318          4 2021-04-16      75176.0               0.120038       1.573583   \n5319          4 2021-04-17      75195.0               0.112728       1.673901   \n5320          4 2021-04-18      75220.0               0.207101       1.772886   \n\n      hospital_admissions  google_anosmia_volume  google_ageusia_volume  \\\n0                0.113524                   0.06                   0.06   \n1                0.116683                   0.08                   0.06   \n2                0.118561                   0.11                   0.05   \n3                0.119094                   0.07                   0.05   \n4                0.118809                   0.07                   0.05   \n...                   ...                    ...                    ...   \n5316             2.437686                   0.13                   0.10   \n5317             2.227898                   0.16                   0.10   \n5318             1.991363                   0.18                   0.10   \n5319             1.725588                   0.11                   0.10   \n5320             1.451723                   0.11                   0.10   \n\n      covid_deaths   home_time  covid_cases_t_minus_1  \\\n0              0.0  587.306731                    0.0   \n1              0.0  679.585975                    0.0   \n2              0.0  598.732949                    0.0   \n3              0.0  587.644573                    0.0   \n4              0.0  698.673077                    0.0   \n...            ...         ...                    ...   \n5316         999.0  686.427570                   33.0   \n5317        1002.0  305.289720                   32.0   \n5318        1007.0  653.084112                   36.0   \n5319        1009.0  653.084112                   19.0   \n5320        1009.0  653.084112                   25.0   \n\n      confirmed_covid_vist_t_minus_1  doctor_visits_t_minus_1  \\\n0                          -0.001013                 0.000000   \n1                          -0.000696                 0.000000   \n2                          -0.001051                 0.000000   \n3                          -0.000657                 0.000000   \n4                          -0.000483                 0.000000   \n...                              ...                      ...   \n5316                       -0.012689                 0.204576   \n5317                       -0.019091                -0.166163   \n5318                       -0.041642                -0.275494   \n5319                       -0.007311                 0.100318   \n5320                        0.094373                 0.098985   \n\n      hospital_admissions_t_minus_1  google_anosmia_volume_t_minus_1  \\\n0                          0.002532                             0.00   \n1                          0.003159                             0.02   \n2                         -0.001197                             0.04   \n3                          0.000533                            -0.04   \n4                         -0.000285                             0.00   \n...                             ...                              ...   \n5316                      -0.075282                             0.00   \n5317                      -0.209788                             0.03   \n5318                      -0.236535                             0.02   \n5319                      -0.265775                            -0.07   \n5320                      -0.273865                             0.00   \n\n      google_ageusia_volume_t_minus_1  covid_deaths_t_minus  \\\n0                                0.00                   0.0   \n1                                0.00                   0.0   \n2                                0.00                   0.0   \n3                                0.00                   0.0   \n4                                0.00                   0.0   \n...                               ...                   ...   \n5316                            -0.01                   0.0   \n5317                             0.00                   3.0   \n5318                             0.00                   5.0   \n5319                             0.00                   2.0   \n5320                             0.00                   0.0   \n\n      home_time_t_minus_1  covid_cases_t_plus_one  \n0              -21.830505                     0.0  \n1               92.279244                     0.0  \n2               40.803898                     0.0  \n3              -11.088377                     0.0  \n4              111.028504                     0.0  \n...                   ...                     ...  \n5316           -23.934579                 75140.0  \n5317          -381.137851                 75176.0  \n5318           347.794392                 75195.0  \n5319             0.000000                 75220.0  \n5320             0.000000                 75240.0  \n\n[5321 rows x 19 columns]",
      "text/html": "<div>\n<style scoped>\n    .dataframe tbody tr th:only-of-type {\n        vertical-align: middle;\n    }\n\n    .dataframe tbody tr th {\n        vertical-align: top;\n    }\n\n    .dataframe thead th {\n        text-align: right;\n    }\n</style>\n<table border=\"1\" class=\"dataframe\">\n  <thead>\n    <tr style=\"text-align: right;\">\n      <th></th>\n      <th>geo_value</th>\n      <th>time_value</th>\n      <th>covid_cases</th>\n      <th>confirmed_covid_visit</th>\n      <th>doctor_visits</th>\n      <th>hospital_admissions</th>\n      <th>google_anosmia_volume</th>\n      <th>google_ageusia_volume</th>\n      <th>covid_deaths</th>\n      <th>home_time</th>\n      <th>covid_cases_t_minus_1</th>\n      <th>confirmed_covid_vist_t_minus_1</th>\n      <th>doctor_visits_t_minus_1</th>\n      <th>hospital_admissions_t_minus_1</th>\n      <th>google_anosmia_volume_t_minus_1</th>\n      <th>google_ageusia_volume_t_minus_1</th>\n      <th>covid_deaths_t_minus</th>\n      <th>home_time_t_minus_1</th>\n      <th>covid_cases_t_plus_one</th>\n    </tr>\n  </thead>\n  <tbody>\n    <tr>\n      <th>0</th>\n      <td>5</td>\n      <td>2020-02-21</td>\n      <td>0.0</td>\n      <td>0.011169</td>\n      <td>0.000000</td>\n      <td>0.113524</td>\n      <td>0.06</td>\n      <td>0.06</td>\n      <td>0.0</td>\n      <td>587.306731</td>\n      <td>0.0</td>\n      <td>-0.001013</td>\n      <td>0.000000</td>\n      <td>0.002532</td>\n      <td>0.00</td>\n      <td>0.00</td>\n      <td>0.0</td>\n      <td>-21.830505</td>\n      <td>0.0</td>\n    </tr>\n    <tr>\n      <th>1</th>\n      <td>5</td>\n      <td>2020-02-22</td>\n      <td>0.0</td>\n      <td>0.010473</td>\n      <td>0.000000</td>\n      <td>0.116683</td>\n      <td>0.08</td>\n      <td>0.06</td>\n      <td>0.0</td>\n      <td>679.585975</td>\n      <td>0.0</td>\n      <td>-0.000696</td>\n      <td>0.000000</td>\n      <td>0.003159</td>\n      <td>0.02</td>\n      <td>0.00</td>\n      <td>0.0</td>\n      <td>92.279244</td>\n      <td>0.0</td>\n    </tr>\n    <tr>\n      <th>2</th>\n      <td>5</td>\n      <td>2020-02-27</td>\n      <td>0.0</td>\n      <td>0.010852</td>\n      <td>0.000000</td>\n      <td>0.118561</td>\n      <td>0.11</td>\n      <td>0.05</td>\n      <td>0.0</td>\n      <td>598.732949</td>\n      <td>0.0</td>\n      <td>-0.001051</td>\n      <td>0.000000</td>\n      <td>-0.001197</td>\n      <td>0.04</td>\n      <td>0.00</td>\n      <td>0.0</td>\n      <td>40.803898</td>\n      <td>0.0</td>\n    </tr>\n    <tr>\n      <th>3</th>\n      <td>5</td>\n      <td>2020-02-28</td>\n      <td>0.0</td>\n      <td>0.010195</td>\n      <td>0.000000</td>\n      <td>0.119094</td>\n      <td>0.07</td>\n      <td>0.05</td>\n      <td>0.0</td>\n      <td>587.644573</td>\n      <td>0.0</td>\n      <td>-0.000657</td>\n      <td>0.000000</td>\n      <td>0.000533</td>\n      <td>-0.04</td>\n      <td>0.00</td>\n      <td>0.0</td>\n      <td>-11.088377</td>\n      <td>0.0</td>\n    </tr>\n    <tr>\n      <th>4</th>\n      <td>5</td>\n      <td>2020-02-29</td>\n      <td>0.0</td>\n      <td>0.009712</td>\n      <td>0.000000</td>\n      <td>0.118809</td>\n      <td>0.07</td>\n      <td>0.05</td>\n      <td>0.0</td>\n      <td>698.673077</td>\n      <td>0.0</td>\n      <td>-0.000483</td>\n      <td>0.000000</td>\n      <td>-0.000285</td>\n      <td>0.00</td>\n      <td>0.00</td>\n      <td>0.0</td>\n      <td>111.028504</td>\n      <td>0.0</td>\n    </tr>\n    <tr>\n      <th>...</th>\n      <td>...</td>\n      <td>...</td>\n      <td>...</td>\n      <td>...</td>\n      <td>...</td>\n      <td>...</td>\n      <td>...</td>\n      <td>...</td>\n      <td>...</td>\n      <td>...</td>\n      <td>...</td>\n      <td>...</td>\n      <td>...</td>\n      <td>...</td>\n      <td>...</td>\n      <td>...</td>\n      <td>...</td>\n      <td>...</td>\n      <td>...</td>\n    </tr>\n    <tr>\n      <th>5316</th>\n      <td>4</td>\n      <td>2021-04-14</td>\n      <td>75108.0</td>\n      <td>0.180772</td>\n      <td>2.015240</td>\n      <td>2.437686</td>\n      <td>0.13</td>\n      <td>0.10</td>\n      <td>999.0</td>\n      <td>686.427570</td>\n      <td>33.0</td>\n      <td>-0.012689</td>\n      <td>0.204576</td>\n      <td>-0.075282</td>\n      <td>0.00</td>\n      <td>-0.01</td>\n      <td>0.0</td>\n      <td>-23.934579</td>\n      <td>75140.0</td>\n    </tr>\n    <tr>\n      <th>5317</th>\n      <td>4</td>\n      <td>2021-04-15</td>\n      <td>75140.0</td>\n      <td>0.161681</td>\n      <td>1.849077</td>\n      <td>2.227898</td>\n      <td>0.16</td>\n      <td>0.10</td>\n      <td>1002.0</td>\n      <td>305.289720</td>\n      <td>32.0</td>\n      <td>-0.019091</td>\n      <td>-0.166163</td>\n      <td>-0.209788</td>\n      <td>0.03</td>\n      <td>0.00</td>\n      <td>3.0</td>\n      <td>-381.137851</td>\n      <td>75176.0</td>\n    </tr>\n    <tr>\n      <th>5318</th>\n      <td>4</td>\n      <td>2021-04-16</td>\n      <td>75176.0</td>\n      <td>0.120038</td>\n      <td>1.573583</td>\n      <td>1.991363</td>\n      <td>0.18</td>\n      <td>0.10</td>\n      <td>1007.0</td>\n      <td>653.084112</td>\n      <td>36.0</td>\n      <td>-0.041642</td>\n      <td>-0.275494</td>\n      <td>-0.236535</td>\n      <td>0.02</td>\n      <td>0.00</td>\n      <td>5.0</td>\n      <td>347.794392</td>\n      <td>75195.0</td>\n    </tr>\n    <tr>\n      <th>5319</th>\n      <td>4</td>\n      <td>2021-04-17</td>\n      <td>75195.0</td>\n      <td>0.112728</td>\n      <td>1.673901</td>\n      <td>1.725588</td>\n      <td>0.11</td>\n      <td>0.10</td>\n      <td>1009.0</td>\n      <td>653.084112</td>\n      <td>19.0</td>\n      <td>-0.007311</td>\n      <td>0.100318</td>\n      <td>-0.265775</td>\n      <td>-0.07</td>\n      <td>0.00</td>\n      <td>2.0</td>\n      <td>0.000000</td>\n      <td>75220.0</td>\n    </tr>\n    <tr>\n      <th>5320</th>\n      <td>4</td>\n      <td>2021-04-18</td>\n      <td>75220.0</td>\n      <td>0.207101</td>\n      <td>1.772886</td>\n      <td>1.451723</td>\n      <td>0.11</td>\n      <td>0.10</td>\n      <td>1009.0</td>\n      <td>653.084112</td>\n      <td>25.0</td>\n      <td>0.094373</td>\n      <td>0.098985</td>\n      <td>-0.273865</td>\n      <td>0.00</td>\n      <td>0.00</td>\n      <td>0.0</td>\n      <td>0.000000</td>\n      <td>75240.0</td>\n    </tr>\n  </tbody>\n</table>\n<p>5321 rows × 19 columns</p>\n</div>"
     },
     "metadata": {}
    }
   ]
  },
  {
   "cell_type": "code",
   "metadata": {
    "tags": [],
    "cell_id": "00054-8ca2980f-24b6-4a2b-87c2-11a5b0046e6b",
    "deepnote_to_be_reexecuted": true,
    "source_hash": "b1b77abc",
    "execution_start": 1638326129714,
    "execution_millis": 182,
    "deepnote_cell_type": "code"
   },
   "source": "delta_full_df.to_csv('delta_full_df_all_features.csv')",
   "execution_count": null,
   "outputs": []
  },
  {
   "cell_type": "markdown",
   "source": "<a style='text-decoration:none;line-height:16px;display:flex;color:#5B5B62;padding:10px;justify-content:end;' href='https://deepnote.com?utm_source=created-in-deepnote-cell&projectId=23c8e36e-a74e-49fc-afb9-820cfed248b5' target=\"_blank\">\n<img alt='Created in deepnote.com' style='display:inline;max-height:16px;margin:0px;margin-right:7.5px;' src='data:image/svg+xml;base64,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' > </img>\nCreated in <span style='font-weight:600;margin-left:4px;'>Deepnote</span></a>",
   "metadata": {
    "tags": [],
    "created_in_deepnote_cell": true,
    "deepnote_cell_type": "markdown"
   }
  }
 ],
 "nbformat": 4,
 "nbformat_minor": 0,
 "metadata": {
  "colab": {
   "name": "data_preparation.ipynb",
   "provenance": [],
   "collapsed_sections": []
  },
  "kernelspec": {
   "name": "python3",
   "display_name": "Python 3"
  },
  "language_info": {
   "name": "python"
  },
  "deepnote_notebook_id": "c279bbbc-9f17-46c3-9362-4011dce7ac7d",
  "deepnote": {},
  "deepnote_execution_queue": []
 }
}